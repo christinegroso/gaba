{
 "cells": [
  {
   "cell_type": "code",
   "execution_count": 4,
   "metadata": {},
   "outputs": [],
   "source": [
    "import pandas as pd\n",
    "from Bio import SeqIO\n",
    "from Bio.ExPASy import ScanProsite"
   ]
  },
  {
   "cell_type": "markdown",
   "metadata": {},
   "source": [
    "So I dun goofed and forgot to have you you guys download sequences as well for this next step, below is a script you help you merge the two files automatically, you'll use a similar pattern for the next set of steps which invovles extracting protien domains. "
   ]
  },
  {
   "cell_type": "code",
   "execution_count": 6,
   "metadata": {},
   "outputs": [
    {
     "name": "stdout",
     "output_type": "stream",
     "text": [
      "                               Genome  Genome ID     Accession  \\\n",
      "0   Yokenella regensburgei ATCC 43003  1002368.3  AGCL01000039   \n",
      "1  Legionella massiliensis strain FF2  1034943.3  CCSB01000001   \n",
      "2        Legionella massiliensis LegA  1034943.4  CCVW01000001   \n",
      "3     Commensalibacter intestini A911  1088868.3  AGFR01000009   \n",
      "4          Budvicia aquatica DSM 5075  1111728.3  ATYS01000003   \n",
      "\n",
      "                PATRIC ID  RefSeq Locus Tag         Alt Locus Tag  \\\n",
      "0  fig|1002368.3.peg.2678  HMPREF0880_02939  VBIYokReg189340_2678   \n",
      "1   fig|1034943.3.peg.479        BN59_00473                   NaN   \n",
      "2   fig|1034943.4.peg.480      BN1094_00473                   NaN   \n",
      "3  fig|1088868.3.peg.1583         CIN_15750  VBIComInt214715_1583   \n",
      "4   fig|1111728.3.peg.736               NaN  VBIBudAqu220495_0736   \n",
      "\n",
      "                                          Feature ID Annotation Feature Type  \\\n",
      "0  PATRIC.1002368.3.AGCL01000039.CDS.216602.21691...     PATRIC          CDS   \n",
      "1  PATRIC.1034943.3.CCSB01000001.CDS.538658.53897...     PATRIC          CDS   \n",
      "2  PATRIC.1034943.4.CCVW01000001.CDS.538658.53897...     PATRIC          CDS   \n",
      "3  PATRIC.1088868.3.AGFR01000009.CDS.167924.16824...     PATRIC          CDS   \n",
      "4  PATRIC.1111728.3.ATYS01000003.CDS.73931.74248.rev     PATRIC          CDS   \n",
      "\n",
      "    Start  ...  Length  Strand    FIGfam ID  \\\n",
      "0  216602  ...     315       -  FIG00006742   \n",
      "1  538658  ...     321       -          NaN   \n",
      "2  538658  ...     321       -          NaN   \n",
      "3  167924  ...     321       +          NaN   \n",
      "4   73931  ...     318       -          NaN   \n",
      "\n",
      "  PATRIC genus-specific families (PLfams)  \\\n",
      "0                                     NaN   \n",
      "1                        PLF_445_00010559   \n",
      "2                        PLF_445_00010559   \n",
      "3                    PLF_1079922_00001725   \n",
      "4                                     NaN   \n",
      "\n",
      "  PATRIC cross-genus families (PGfams)  Protein ID AA Length  Gene Symbol  \\\n",
      "0                         PGF_00417422  EHM47193.1       104          NaN   \n",
      "1                         PGF_02057564  CDZ76206.1       106          NaN   \n",
      "2                         PGF_02057564  CEE11944.1       106          NaN   \n",
      "3                         PGF_11055739  EHD13383.1       106          NaN   \n",
      "4                                  NaN         NaN       105          NaN   \n",
      "\n",
      "                                     Product  GO  \n",
      "0                             Chaperone HdeA NaN  \n",
      "1                       hypothetical protein NaN  \n",
      "2                       hypothetical protein NaN  \n",
      "3                       hypothetical protein NaN  \n",
      "4  hns-dependent expression protein A (HdeA) NaN  \n",
      "\n",
      "[5 rows x 21 columns]\n",
      "                PATRIC ID                                          Sequences\n",
      "0   fig|1034943.3.peg.479  MRLIKIISLPLLLAFAGNLAAETDKTSSDSATKAKQANRMTCEEFL...\n",
      "1  fig|1002368.3.peg.2678  MKKVTGLILGSLLLIPALSQAAETQKPVNNWTCEDFLALDSSFQPT...\n",
      "2  fig|1088868.3.peg.1583  MKKAMLLFSACLFSISTMAAANAAEKTQAQKPINQWTCQDFLMLDE...\n",
      "3   fig|1034943.4.peg.480  MRLIKIISLPLLLAFAGNLAAETDKTSSDSATKAKQANRMTCEEFL...\n",
      "4  fig|1111728.3.peg.4346  MNKLIILATVCLIQFIAQSAEQYKEGVKPIVQWTCEDFLLVDESFQ...\n"
     ]
    }
   ],
   "source": [
    "#Read your blast results csv in\n",
    "df = pd.read_csv(\"C:\\\\Users\\\\cmgro\\\\Downloads\\\\hdeA_genome_feature (7).csv\")\n",
    "#Show the first 5 rows\n",
    "print(df.head())\n",
    "#Temp lists to attatch variables \n",
    "ids = []\n",
    "seqs = []\n",
    "#Seq.IO.parse is. an easy way to read through every gene/prot in a fasta file \n",
    "for record in SeqIO.parse(\"C:\\\\Users\\\\cmgro\\\\Downloads\\\\hdeA_genome_feature (7).fasta\", \"fasta\"):\n",
    "    # So the fasta ID line is fig|1240239.3.peg.2328|XFF4834R_chr22840|VBIXanFus78442_2328|\n",
    "    # but we only need the first two elements (\"fig and 1240239.3.peg.2328\") to make fig|1240239.3.peg.2328\n",
    "    # We then use this ID to merge back onto the original dataframe (basically we say if this row has this ID, add the sequence to that row)\n",
    "    \n",
    "    #Fancy way of extracting the ID\n",
    "    ids.append(\"|\".join(record.id.split(\"|\")[0:2]))\n",
    "    #Fancy way of extracting the sequence \n",
    "    seqs.append(str(record.seq))\n",
    "#making a new dataframe from this info \n",
    "seq_df = pd.DataFrame.from_dict({\"PATRIC ID\": ids, \"Sequences\":seqs})\n",
    "print(seq_df.head())\n",
    "#Mergine back and saving \n",
    "df = df.merge(seq_df, on=\"PATRIC ID\")\n",
    "df.to_csv(\"/Users/cmgro/Downloads/merged_hdeA.csv\")"
   ]
  },
  {
   "cell_type": "code",
   "execution_count": null,
   "metadata": {},
   "outputs": [],
   "source": [
    "import time\n",
    "sigs = []\n",
    "\n",
    "for i in df[\"Sequences\"].values:\n",
    "    handle = ScanProsite.scan(seq=i, mirror=\"https://prosite.expasy.org\")\n",
    "    result = ScanProsite.read(handle)\n",
    "    qq = []\n",
    "    for i in result:\n",
    "        print(i)\n",
    "        qq.append(i[\"signature_ac\"])\n",
    "    time.sleep(5)\n",
    "    qq = set(qq)\n",
    "    sigs.append(qq)\n",
    "    \n",
    "df[\"Prosite results\"] = sigs\n",
    "df.to_csv(\"/Users/christine/Downloads/hdeA_motifs.csv\")"
   ]
  },
  {
   "cell_type": "code",
   "execution_count": null,
   "metadata": {},
   "outputs": [],
   "source": [
    "df\n"
   ]
  },
  {
   "cell_type": "code",
   "execution_count": null,
   "metadata": {},
   "outputs": [],
   "source": []
  }
 ],
 "metadata": {
  "kernelspec": {
   "display_name": "Python 3",
   "language": "python",
   "name": "python3"
  },
  "language_info": {
   "codemirror_mode": {
    "name": "ipython",
    "version": 3
   },
   "file_extension": ".py",
   "mimetype": "text/x-python",
   "name": "python",
   "nbconvert_exporter": "python",
   "pygments_lexer": "ipython3",
   "version": "3.8.3"
  }
 },
 "nbformat": 4,
 "nbformat_minor": 4
}
