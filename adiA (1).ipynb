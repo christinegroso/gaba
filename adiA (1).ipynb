{
 "cells": [
  {
   "cell_type": "code",
   "execution_count": 5,
   "metadata": {},
   "outputs": [],
   "source": [
    "import pandas as pd\n",
    "from Bio import SeqIO"
   ]
  },
  {
   "cell_type": "code",
   "execution_count": 6,
   "metadata": {},
   "outputs": [
    {
     "name": "stdout",
     "output_type": "stream",
     "text": [
      "                      Genome  Genome ID              PATRIC ID  \\\n",
      "0            Shigella sp. D9   556266.3  fig|556266.3.peg.2565   \n",
      "1  Escherichia coli MS 145-7   679204.3  fig|679204.3.peg.3962   \n",
      "2  Escherichia coli MS 124-1   679205.4  fig|679205.4.peg.4493   \n",
      "3  Escherichia sp. 3_2_53FAA   469598.5  fig|469598.5.peg.3701   \n",
      "4       Citrobacter sp. 30_2   469595.3  fig|469595.3.peg.4477   \n",
      "\n",
      "     RefSeq Locus Tag Gene                                          Product  \\\n",
      "0  ShiD9_010100012650  NaN  Arginine decarboxylase, catabolic (EC 4.1.1.19)   \n",
      "1    HMPREF9348_04104  NaN  Arginine decarboxylase, catabolic (EC 4.1.1.19)   \n",
      "2    HMPREF9347_04658  NaN  Arginine decarboxylase, catabolic (EC 4.1.1.19)   \n",
      "3          ESAG_03588  NaN  Arginine decarboxylase, catabolic (EC 4.1.1.19)   \n",
      "4          CSAG_04484  NaN  Arginine decarboxylase, catabolic (EC 4.1.1.19)   \n",
      "\n",
      "   Length (NT)  Length (AA)  ALN Length  Identity  Query cover  Subject cover  \\\n",
      "0         2271          756         756       100          100            100   \n",
      "1         2271          756         756       100          100            100   \n",
      "2         2271          756         756       100          100            100   \n",
      "3         2271          756         756        99          100            100   \n",
      "4         2271          756         756        94          100            100   \n",
      "\n",
      "   Hit from  Hit to  Score  E value  \n",
      "0         2     756   1589      0.0  \n",
      "1         2     756   1587      0.0  \n",
      "2         2     756   1585      0.0  \n",
      "3         2     756   1585      0.0  \n",
      "4         2     756   1510      0.0  \n",
      "                PATRIC ID                                          Sequences\n",
      "0  fig|1073375.3.peg.3050  MKNLSQENAPIYEALERFRRMRIVPFDVPGHKHGRGNKELVELLGE...\n",
      "1  fig|1002369.4.peg.1711  MDSEFANAVELSYECAPLLESLKEYSEKDIACFDVPGHVKNRGVAI...\n",
      "2   fig|1002339.3.peg.123  MKIAVSDGIEYALNCNYRLTEVEATDFTNIAVIVVTMEDLPKAHAE...\n",
      "3  fig|1002369.4.peg.1107  MFIINELNKIVNEEVISFHMPGHKKGQVYKKLGYKDILKNLYKMDT...\n",
      "4  fig|1073375.3.peg.2902  MEYLYEKLEAYGKSDYYGFHMPGHKRNSDVTRANLPYGIDITEIEG...\n"
     ]
    }
   ],
   "source": [
    "#Read your blast results csv in\n",
    "df = pd.read_csv(\"C:\\\\Users\\\\cmgro\\\\Downloads\\\\adiA_blast.csv\")\n",
    "#Show the first  rows\n",
    "print(df.head())\n",
    "#Temp lists to attatch5 variables \n",
    "ids = []\n",
    "seqs = []\n",
    "#Seq.IO.parse is. an easy way to read through every gene/prot in a fasta file \n",
    "for record in SeqIO.parse(\"C:\\\\Users\\\\cmgro\\\\Downloads\\\\adiA.fasta\", \"fasta\"):\n",
    "    # So the fasta ID line is fig|1240239.3.peg.2328|XFF4834R_chr22840|VBIXanFus78442_2328|\n",
    "    # but we only need the first two elements (\"fig and 1240239.3.peg.2328\") to make fig|1240239.3.peg.2328\n",
    "    # We then use this ID to merge back onto the original dataframe (basically we say if this row has this ID, add the sequence to that row)\n",
    "    \n",
    "    #Fancy way of extracting the ID\n",
    "    ids.append(\"|\".join(record.id.split(\"|\")[0:2]))\n",
    "    #Fancy way of extracting the sequence \n",
    "    seqs.append(str(record.seq))\n",
    "#making a new dataframe from this info \n",
    "seq_df = pd.DataFrame.from_dict({\"PATRIC ID\": ids, \"Sequences\":seqs})\n",
    "print(seq_df.head())\n",
    "#Mergine back and saving \n",
    "df = df.merge(seq_df, on=\"PATRIC ID\")\n",
    "df.to_csv(\"/Users/cmgro/Downloads/merged_adiA.csv\")"
   ]
  },
  {
   "cell_type": "code",
   "execution_count": 7,
   "metadata": {},
   "outputs": [
    {
     "name": "stdout",
     "output_type": "stream",
     "text": [
      "<class 'pandas.core.frame.DataFrame'>\n",
      "Int64Index: 6 entries, 0 to 5\n",
      "Data columns (total 18 columns):\n",
      " #   Column            Non-Null Count  Dtype  \n",
      "---  ------            --------------  -----  \n",
      " 0   Unnamed: 0        6 non-null      int64  \n",
      " 1   Genome            6 non-null      object \n",
      " 2   Genome ID         6 non-null      float64\n",
      " 3   PATRIC ID         6 non-null      object \n",
      " 4   RefSeq Locus Tag  6 non-null      object \n",
      " 5   Gene              0 non-null      object \n",
      " 6   Product           6 non-null      object \n",
      " 7   Length (NT)       6 non-null      int64  \n",
      " 8   Length (AA)       6 non-null      int64  \n",
      " 9   ALN Length        6 non-null      int64  \n",
      " 10  Identity          6 non-null      int64  \n",
      " 11  Query cover       6 non-null      int64  \n",
      " 12  Subject cover     6 non-null      int64  \n",
      " 13  Hit from          6 non-null      int64  \n",
      " 14  Hit to            6 non-null      int64  \n",
      " 15  Score             6 non-null      int64  \n",
      " 16  E value           6 non-null      float64\n",
      " 17  Sequences         6 non-null      object \n",
      "dtypes: float64(2), int64(10), object(6)\n",
      "memory usage: 912.0+ bytes\n",
      "None\n",
      "{'Arginine decarboxylase, catabolic (EC 4.1.1.19)': 6, 'Arginine decarboxylase (EC 4.1.1.19)': 30, 'Lysine decarboxylase, inducible (EC 4.1.1.18)': 11, 'Arginine decarboxylase (EC 4.1.1.19); Ornithine decarboxylase (EC 4.1.1.17); Lysine decarboxylase (EC 4.1.1.18)': 4, 'Lysine decarboxylase 2, constitutive (EC 4.1.1.18)': 9, 'Ornithine decarboxylase (EC 4.1.1.17)': 33, 'Lysine decarboxylase (EC 4.1.1.18)': 2, 'Arginine decarboxylase (EC 4.1.1.19); Ornithine decarboxylase (EC 4.1.1.17) / Arginase (EC 3.5.3.1)': 4, 'Uncharacterized protein YaaO': 15, 'Arginine decarboxylase (EC 4.1.1.19); Lysine decarboxylase (EC 4.1.1.18); Ornithine decarboxylase (EC 4.1.1.17)': 6, 'Arginine decarboxylase (EC 4.1.1.19); Lysine decarboxylase (EC 4.1.1.18)': 3, '\\\\Arginine decarboxylase \\\\\"\"': 1, 'hypothetical protein': 7, 'O-acetylhomoserine sulfhydrylase (EC 2.5.1.49) @ O-succinylhomoserine sulfhydrylase (EC 2.5.1.48)': 1}\n",
      "{'Arginine decarboxylase, catabolic (EC 4.1.1.19)': 6}\n"
     ]
    }
   ],
   "source": [
    "# reads blast results\n",
    "df = pd.read_csv(\"C:\\\\Users\\\\cmgro\\\\Downloads\\\\merged_adiA.csv\")\n",
    "\n",
    "#print(df.info()) - counted 132 entries\n",
    "\n",
    "# filters out entries with query cover and identity values less than 50%\n",
    "df_filtered = df[(df[\"Identity\"] > 50) &(df[\"Query cover\"] > 50)]\n",
    "\n",
    "# prints info on the new dataframe \n",
    "print(df_filtered.info())\n",
    "\n",
    "def count_types(types):\n",
    "    types_counts = {}\n",
    "    for i in types:\n",
    "        if i in types_counts.keys():\n",
    "            types_counts[i] += 1\n",
    "        else: \n",
    "            types_counts[i] = 1\n",
    "    return types_counts\n",
    "print(count_types(df[\"Product\"]))\n",
    "print(count_types(df_filtered[\"Product\"]))"
   ]
  }
 ],
 "metadata": {
  "kernelspec": {
   "display_name": "Python 3",
   "language": "python",
   "name": "python3"
  },
  "language_info": {
   "codemirror_mode": {
    "name": "ipython",
    "version": 3
   },
   "file_extension": ".py",
   "mimetype": "text/x-python",
   "name": "python",
   "nbconvert_exporter": "python",
   "pygments_lexer": "ipython3",
   "version": "3.8.3"
  }
 },
 "nbformat": 4,
 "nbformat_minor": 4
}
