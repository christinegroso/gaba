{
 "cells": [
  {
   "cell_type": "code",
   "execution_count": 1,
   "metadata": {},
   "outputs": [],
   "source": [
    "import pandas as pd\n",
    "from Bio import SeqIO"
   ]
  },
  {
   "cell_type": "code",
   "execution_count": 2,
   "metadata": {},
   "outputs": [
    {
     "name": "stdout",
     "output_type": "stream",
     "text": [
      "                                      Genome  Genome ID  \\\n",
      "0  Escherichia coli str. K-12 substr. MG1655  511145.12   \n",
      "1          Shigella sonnei strain H140920393    624.361   \n",
      "2                            Shigella sp. D9   556266.3   \n",
      "3                      Shigella sonnei Ss046  300269.12   \n",
      "4                      Shigella boydii Sb227  300268.11   \n",
      "\n",
      "                PATRIC ID    RefSeq Locus Tag  Gene  \\\n",
      "0  fig|511145.12.peg.3625               b3516  gadX   \n",
      "1    fig|624.361.peg.3675     ERS432308_03589  gadX   \n",
      "2   fig|556266.3.peg.3704  ShiD9_010100018240   NaN   \n",
      "3  fig|300269.12.peg.4229           SSON_3570  yhiX   \n",
      "4  fig|300268.11.peg.4242            SBO_3515  yhiX   \n",
      "\n",
      "                                       Product Length (NT)  Length (AA)  \\\n",
      "0  Transcriptional regulator GadX, AraC family         825          274   \n",
      "1  Transcriptional regulator GadX, AraC family         825          274   \n",
      "2  Transcriptional regulator GadX, AraC family         825          274   \n",
      "3  Transcriptional regulator GadX, AraC family         825          274   \n",
      "4  Transcriptional regulator GadX, AraC family         825          274   \n",
      "\n",
      "   ALN Length  Identity  Query cover  Subject cover  Hit from  Hit to  Score  \\\n",
      "0         274        99          100            100         1     274    552   \n",
      "1         274        97          100            100         1     274    543   \n",
      "2         274        97          100            100         1     274    543   \n",
      "3         274        97          100            100         1     274    543   \n",
      "4         274        97          100            100         1     274    543   \n",
      "\n",
      "   E value  Unnamed: 16  \n",
      "0      0.0          NaN  \n",
      "1      0.0          NaN  \n",
      "2      0.0          NaN  \n",
      "3      0.0          NaN  \n",
      "4      0.0          NaN  \n",
      "                PATRIC ID                                          Sequences\n",
      "0  fig|1002368.3.peg.2677  MTEKDVDVKINDTTSLILPANHLNVISCNNNIIDFSYLDNALVAHM...\n",
      "1   fig|1000569.4.peg.791  MTITLSKETLVKRTVENILHDYAHATGIACVYVDIRGHERSTKYKF...\n",
      "2  fig|1005995.4.peg.1704  MPDYQTIEILQRHKARLLNSVALDNGVQLASWFNQCDRVHHQSNHH...\n",
      "3   fig|1028805.3.peg.961  MTALLQGIFMLIRPNFAEKSTIIQRHKLKLDKSYFTQPTVIWVLRG...\n",
      "4  fig|1030157.3.peg.1187  MKVSLSDLLQSVRIAKTDTAFIELAADAGARLTSVRNAFLHLVVEG...\n"
     ]
    }
   ],
   "source": [
    "#Read your blast results csv in\n",
    "df = pd.read_csv(\"C:\\\\Users\\\\cmgro\\\\Downloads\\\\gadX_blast.csv\")\n",
    "#Show the first 5 rows\n",
    "print(df.head())\n",
    "#Temp lists to attatch variables \n",
    "ids = []\n",
    "seqs = []\n",
    "#Seq.IO.parse is. an easy way to read through every gene/prot in a fasta file \n",
    "for record in SeqIO.parse(\"C:\\\\Users\\\\cmgro\\\\Downloads\\\\gadX_genome_feature (4).fasta\", \"fasta\"):\n",
    "    # So the fasta ID line is fig|1240239.3.peg.2328|XFF4834R_chr22840|VBIXanFus78442_2328|\n",
    "    # but we only need the first two elements (\"fig and 1240239.3.peg.2328\") to make fig|1240239.3.peg.2328\n",
    "    # We then use this ID to merge back onto the original dataframe (basically we say if this row has this ID, add the sequence to that row)\n",
    "    \n",
    "    #Fancy way of extracting the ID\n",
    "    ids.append(\"|\".join(record.id.split(\"|\")[0:2]))\n",
    "    #Fancy way of extracting the sequence \n",
    "    seqs.append(str(record.seq))\n",
    "#making a new dataframe from this info \n",
    "seq_df = pd.DataFrame.from_dict({\"PATRIC ID\": ids, \"Sequences\":seqs})\n",
    "print(seq_df.head())\n",
    "#Mergine back and saving \n",
    "df = df.merge(seq_df, on=\"PATRIC ID\")\n",
    "df.to_csv(\"/Users/cmgro/Downloads/merged_gadX.csv\")"
   ]
  },
  {
   "cell_type": "code",
   "execution_count": 3,
   "metadata": {},
   "outputs": [
    {
     "name": "stdout",
     "output_type": "stream",
     "text": [
      "<class 'pandas.core.frame.DataFrame'>\n",
      "Int64Index: 15 entries, 0 to 14\n",
      "Data columns (total 19 columns):\n",
      " #   Column            Non-Null Count  Dtype  \n",
      "---  ------            --------------  -----  \n",
      " 0   Unnamed: 0        15 non-null     int64  \n",
      " 1   Genome            15 non-null     object \n",
      " 2   Genome ID         15 non-null     float64\n",
      " 3   PATRIC ID         15 non-null     object \n",
      " 4   RefSeq Locus Tag  15 non-null     object \n",
      " 5   Gene              10 non-null     object \n",
      " 6   Product           15 non-null     object \n",
      " 7   Length (NT)       15 non-null     int64  \n",
      " 8   Length (AA)       15 non-null     int64  \n",
      " 9   ALN Length        15 non-null     int64  \n",
      " 10  Identity          15 non-null     int64  \n",
      " 11  Query cover       15 non-null     int64  \n",
      " 12  Subject cover     15 non-null     int64  \n",
      " 13  Hit from          15 non-null     int64  \n",
      " 14  Hit to            15 non-null     int64  \n",
      " 15  Score             15 non-null     int64  \n",
      " 16  E value           15 non-null     float64\n",
      " 17  Unnamed: 16       0 non-null      float64\n",
      " 18  Sequences         15 non-null     object \n",
      "dtypes: float64(3), int64(10), object(6)\n",
      "memory usage: 2.3+ KB\n",
      "None\n",
      "{'Transcriptional regulator GadX, AraC family': 17, 'hypothetical protein': 134, 'Porin thermoregulatory protein envY': 12, 'Transcriptional regulator of catabolic arginine decarboxylase (adiA)': 33, 'Transcriptional regulator YdeO, AraC family': 12, 'Transcriptional regulator, AraC family': 154, 'Transcriptional regulator GadW, AraC family': 15, 'Type III secretion and flagellar regulator RtsA': 7, 'Acid phosphatase transcriptional regulator AppY, AraC family': 2, 'Transcriptional regulator': 2, 'Type III secretion transcriptional regulator HilD': 6, 'Type III secretion transcriptional regulator HilC (= SirC)': 6, 'Two-component system sensor histidine kinase/response regulator hybrid': 10, 'DNA-binding response regulator, AraC family': 21, 'Two-component response regulator yesN': 20, 'Uncharacterized transcriptional regulator YbcM, AraC family': 1, 'Periplasmic ligand-binding sensor domain COG3292 / BaeS-type histidine kinase / OmpR-type DNA-binding response regulator': 22, 'Propanediol utilization transcriptional activator': 1, 'Two-component transcriptional response regulator, LuxR family': 7, 'Two-component response regulator TrxR': 3, 'Response regulator containing CheY-like receiver domain and AraC-type DNA-binding domain': 4, 'putative transcriptional regulator, AraC/XylS family': 1, 'Type III secretion thermoregulatory protein (LcrF,VirF,transcription regulation of virulence plasmid)': 2, 'TCP pilus virulence regulatory protein ToxT, transcription activator': 2}\n",
      "{'Transcriptional regulator GadX, AraC family': 15}\n"
     ]
    }
   ],
   "source": [
    "# reads blast results\n",
    "df = pd.read_csv(\"C:\\\\Users\\\\cmgro\\\\Downloads\\\\merged_gadX.csv\")\n",
    "\n",
    "#print(df.info()) - counted 500 entries\n",
    "\n",
    "# filters out entries with query cover and identity values less than 50%\n",
    "df_filtered = df[(df[\"Identity\"] > 50) &(df[\"Query cover\"] > 50)]\n",
    "\n",
    "# prints info on the new dataframe \n",
    "print(df_filtered.info())\n",
    "\n",
    "def count_types(types):\n",
    "    types_counts = {}\n",
    "    for i in types:\n",
    "        if i in types_counts.keys():\n",
    "            types_counts[i] += 1\n",
    "        else: \n",
    "            types_counts[i] = 1\n",
    "    return types_counts\n",
    "print(count_types(df[\"Product\"]))\n",
    "print(count_types(df_filtered[\"Product\"]))"
   ]
  }
 ],
 "metadata": {
  "kernelspec": {
   "display_name": "Python 3",
   "language": "python",
   "name": "python3"
  },
  "language_info": {
   "codemirror_mode": {
    "name": "ipython",
    "version": 3
   },
   "file_extension": ".py",
   "mimetype": "text/x-python",
   "name": "python",
   "nbconvert_exporter": "python",
   "pygments_lexer": "ipython3",
   "version": "3.8.3"
  }
 },
 "nbformat": 4,
 "nbformat_minor": 4
}
