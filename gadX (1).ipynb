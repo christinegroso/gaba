{
 "cells": [
  {
   "cell_type": "code",
   "execution_count": 1,
   "metadata": {},
   "outputs": [],
   "source": [
    "import pandas as pd\n",
    "from Bio import SeqIO"
   ]
  },
  {
   "cell_type": "code",
   "execution_count": 2,
   "metadata": {},
   "outputs": [
    {
     "name": "stdout",
     "output_type": "stream",
     "text": [
      "                      Genome  Genome ID              PATRIC ID  \\\n",
      "0  Escherichia coli MS 124-1   679205.4  fig|679205.4.peg.3322   \n",
      "1  Escherichia coli MS 145-7   679204.3  fig|679204.3.peg.4612   \n",
      "2            Shigella sp. D9   556266.3  fig|556266.3.peg.3704   \n",
      "3  Escherichia sp. 3_2_53FAA   469598.5  fig|469598.5.peg.4321   \n",
      "4       Citrobacter sp. 30_2   469595.3  fig|469595.3.peg.4476   \n",
      "\n",
      "     RefSeq Locus Tag  Gene  \\\n",
      "0    HMPREF9347_03462   NaN   \n",
      "1    HMPREF9348_04778   NaN   \n",
      "2  ShiD9_010100018240   NaN   \n",
      "3          ESAG_04518   NaN   \n",
      "4          CSAG_04483   NaN   \n",
      "\n",
      "                                             Product  Length (NT)  \\\n",
      "0        Transcriptional regulator GadX, AraC family          825   \n",
      "1        Transcriptional regulator GadX, AraC family          825   \n",
      "2        Transcriptional regulator GadX, AraC family          825   \n",
      "3        Transcriptional regulator GadX, AraC family          825   \n",
      "4  Transcriptional regulator of catabolic arginin...          762   \n",
      "\n",
      "   Length (AA)  ALN Length  Identity  Query cover  Subject cover  Hit from  \\\n",
      "0          274         274        99          100            100         1   \n",
      "1          274         274        99          100            100         1   \n",
      "2          274         274        99          100            100         1   \n",
      "3          274         274        93          100            100         1   \n",
      "4          253         253        36           77             88        22   \n",
      "\n",
      "   Hit to  Score       E value  \n",
      "0     274    561  0.000000e+00  \n",
      "1     274    561  0.000000e+00  \n",
      "2     274    561  0.000000e+00  \n",
      "3     274    527  0.000000e+00  \n",
      "4     243    136  1.000000e-36  \n",
      "                PATRIC ID                                          Sequences\n",
      "0  fig|1002369.4.peg.2273  MRQEERTVCFDRELKIEAYRFKGIMQKFPNHFHEHYVIGFIEKGQR...\n",
      "1  fig|1002339.3.peg.1950  MNNIPNPKRLFIRTYGQQPKGHIHSHPQITIPLTGTINMIMNNEVL...\n",
      "2  fig|1002369.4.peg.3577  MDNKIGYLNDNFKIFNIRDKKDIQFEYHNHDFNKIIIFINGNVTYF...\n",
      "3   fig|1054213.3.peg.850  MVEATPDKPYLCLYLDFDPAMLGQLALRVPPPEAPCPPIGKTVSDA...\n",
      "4  fig|1054213.3.peg.1776  MTPLLSCTAKHDPDQTDRPAVALRLDFRNYALEIPMHRHRKGQLVL...\n"
     ]
    }
   ],
   "source": [
    "#Read your blast results csv in\n",
    "df = pd.read_csv(\"C:\\\\Users\\\\cmgro\\\\Downloads\\\\gadX_blast.csv\")\n",
    "#Show the first 5 rows\n",
    "print(df.head())\n",
    "#Temp lists to attatch variables \n",
    "ids = []\n",
    "seqs = []\n",
    "#Seq.IO.parse is. an easy way to read through every gene/prot in a fasta file \n",
    "for record in SeqIO.parse(\"C:\\\\Users\\\\cmgro\\\\Downloads\\\\gadX.fasta\", \"fasta\"):\n",
    "    # So the fasta ID line is fig|1240239.3.peg.2328|XFF4834R_chr22840|VBIXanFus78442_2328|\n",
    "    # but we only need the first two elements (\"fig and 1240239.3.peg.2328\") to make fig|1240239.3.peg.2328\n",
    "    # We then use this ID to merge back onto the original dataframe (basically we say if this row has this ID, add the sequence to that row)\n",
    "    \n",
    "    #Fancy way of extracting the ID\n",
    "    ids.append(\"|\".join(record.id.split(\"|\")[0:2]))\n",
    "    #Fancy way of extracting the sequence \n",
    "    seqs.append(str(record.seq))\n",
    "#making a new dataframe from this info \n",
    "seq_df = pd.DataFrame.from_dict({\"PATRIC ID\": ids, \"Sequences\":seqs})\n",
    "print(seq_df.head())\n",
    "#Mergine back and saving \n",
    "df = df.merge(seq_df, on=\"PATRIC ID\")\n",
    "df.to_csv(\"/Users/cmgro/Downloads/merged_gadX.csv\")"
   ]
  },
  {
   "cell_type": "code",
   "execution_count": 3,
   "metadata": {},
   "outputs": [
    {
     "name": "stdout",
     "output_type": "stream",
     "text": [
      "<class 'pandas.core.frame.DataFrame'>\n",
      "Int64Index: 4 entries, 0 to 3\n",
      "Data columns (total 18 columns):\n",
      " #   Column            Non-Null Count  Dtype  \n",
      "---  ------            --------------  -----  \n",
      " 0   Unnamed: 0        4 non-null      int64  \n",
      " 1   Genome            4 non-null      object \n",
      " 2   Genome ID         4 non-null      float64\n",
      " 3   PATRIC ID         4 non-null      object \n",
      " 4   RefSeq Locus Tag  4 non-null      object \n",
      " 5   Gene              0 non-null      float64\n",
      " 6   Product           4 non-null      object \n",
      " 7   Length (NT)       4 non-null      int64  \n",
      " 8   Length (AA)       4 non-null      int64  \n",
      " 9   ALN Length        4 non-null      int64  \n",
      " 10  Identity          4 non-null      int64  \n",
      " 11  Query cover       4 non-null      int64  \n",
      " 12  Subject cover     4 non-null      int64  \n",
      " 13  Hit from          4 non-null      int64  \n",
      " 14  Hit to            4 non-null      int64  \n",
      " 15  Score             4 non-null      int64  \n",
      " 16  E value           4 non-null      float64\n",
      " 17  Sequences         4 non-null      object \n",
      "dtypes: float64(3), int64(10), object(5)\n",
      "memory usage: 608.0+ bytes\n",
      "None\n",
      "{'Transcriptional regulator GadX, AraC family': 4, 'Transcriptional regulator of catabolic arginine decarboxylase (adiA)': 5, 'Porin thermoregulatory protein envY': 3, 'Transcriptional regulator YdeO, AraC family': 4, 'Transcriptional regulator GadW, AraC family': 4, 'Transcriptional regulator, AraC family': 100, 'hypothetical protein': 133, 'Two-component system sensor histidine kinase/response regulator hybrid': 19, 'Uncharacterized transcriptional regulator YbcM, AraC family': 6, 'DNA-binding response regulator, AraC family': 20, 'Periplasmic ligand-binding sensor domain COG3292 / BaeS-type histidine kinase / OmpR-type DNA-binding response regulator': 70, 'Transcriptional regulator': 8, 'Two-component response regulator yesN': 8, 'Transcriptional regulator of rhamnose utilization, AraC family': 10, '2-isopropylmalate synthase (EC 2.3.3.13)': 4, 'Xylose activator XylR (AraC family)': 11, 'Xylose ABC transporter, ATP-binding component': 1, 'Two-component transcriptional response regulator, LuxR family': 4, 'Periplasmic solute-binding domain of two-component sensor kinase signaling system / Two-component system sensor histidine kinase/response regulator hybrid': 7, 'Uncharacterized transcriptional regulator YpdC, AraC family': 4, 'Two-component response regulator TrxR': 5, 'Transcriptional regulator of various polyols utilization, AraC family': 7, 'Two-component response regulator yesN, associated with MetSO reductase': 9, 'Two-component system sensor histidine kinase': 2, 'Uncharacterized transcriptional regulator YijO, AraC family': 4, 'Reactive-chlorine-species-specific transcriptional activator RclR, AraC family': 4, 'xylose operon regulator': 1, 'Arginine pathway regulatory protein ArgR, repressor of arg regulon': 3, 'Uncharacterized transcriptional regulator YeaM, AraC family': 1, 'AraC-family transcriptional regulator (partial)': 1, 'Transcriptional activator of 4-hydroxyphenylacetate 3-monooxygenase operon, XylS/AraC family': 3, 'Response regulator receiver protein': 3, 'Propanediol utilization transcriptional activator': 6, 'Uncharacterized transcriptional regulator YbfI, AraC family': 5, 'Transcriptional regulator of biofilm formation (AraC/XylS family)': 2, 'Two-component response regulator, associated with ferric iron transporter, SPy1062 homolog': 2, 'Transcriptional regulator YqhC, positively regulates YqhD and DkgA': 8, 'Arabinose operon regulatory protein AraC': 2, 'Helix-turn-helix, AraC type:Response regulator receiver': 1, 'MSM (multiple sugar metabolism) operon regulatory protein': 1, 'L-rhamnose operon transcriptional activator RhaR': 1, 'Adenylate cyclase (EC 4.6.1.1)': 1, 'Choline two-component response regulator Dred_3262': 1, 'two component transcriptional regulator, AraC family': 2}\n",
      "{'Transcriptional regulator GadX, AraC family': 4}\n"
     ]
    }
   ],
   "source": [
    "# reads blast results\n",
    "df = pd.read_csv(\"C:\\\\Users\\\\cmgro\\\\Downloads\\\\merged_gadX.csv\")\n",
    "\n",
    "#print(df.info()) - counted 500 entries\n",
    "\n",
    "# filters out entries with query cover and identity values less than 50%\n",
    "df_filtered = df[(df[\"Identity\"] > 50) &(df[\"Query cover\"] > 50)]\n",
    "\n",
    "# prints info on the new dataframe \n",
    "print(df_filtered.info())\n",
    "\n",
    "def count_types(types):\n",
    "    types_counts = {}\n",
    "    for i in types:\n",
    "        if i in types_counts.keys():\n",
    "            types_counts[i] += 1\n",
    "        else: \n",
    "            types_counts[i] = 1\n",
    "    return types_counts\n",
    "print(count_types(df[\"Product\"]))\n",
    "print(count_types(df_filtered[\"Product\"]))"
   ]
  }
 ],
 "metadata": {
  "kernelspec": {
   "display_name": "Python 3",
   "language": "python",
   "name": "python3"
  },
  "language_info": {
   "codemirror_mode": {
    "name": "ipython",
    "version": 3
   },
   "file_extension": ".py",
   "mimetype": "text/x-python",
   "name": "python",
   "nbconvert_exporter": "python",
   "pygments_lexer": "ipython3",
   "version": "3.8.3"
  }
 },
 "nbformat": 4,
 "nbformat_minor": 4
}
