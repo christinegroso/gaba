{
 "cells": [
  {
   "cell_type": "code",
   "execution_count": 1,
   "metadata": {
    "scrolled": true
   },
   "outputs": [
    {
     "name": "stderr",
     "output_type": "stream",
     "text": [
      "C:\\Users\\cmgro\\anaconda3\\lib\\site-packages\\ete3-3.1.2-py3.7.egg\\ete3\\evol\\parser\\codemlparser.py:221: SyntaxWarning: \"is\" with a literal. Did you mean \"==\"?\n",
      "C:\\Users\\cmgro\\anaconda3\\lib\\site-packages\\ete3-3.1.2-py3.7.egg\\ete3\\evol\\parser\\codemlparser.py:221: SyntaxWarning: \"is\" with a literal. Did you mean \"==\"?\n"
     ]
    }
   ],
   "source": [
    "import pandas as pd\n",
    "import numpy as np\n",
    "from ete3 import Tree, faces, AttrFace, TreeStyle, NodeStyle, NCBITaxa, random_color, TextFace, CircleFace, RectFace\n",
    "import random\n",
    "import glob"
   ]
  },
  {
   "cell_type": "code",
   "execution_count": 3,
   "metadata": {},
   "outputs": [],
   "source": [
    "####reference.csv is your genome group csv from patric \n",
    "df =pd.read_csv(\"C:\\\\Users\\\\cmgro\\\\Downloads\\\\genome_group_gi_strains.csv\", dtype={'Genome ID': str})"
   ]
  },
  {
   "cell_type": "code",
   "execution_count": 30,
   "metadata": {
    "scrolled": true
   },
   "outputs": [
    {
     "name": "stdout",
     "output_type": "stream",
     "text": [
      "{'665952.3', '585538.3'}\n"
     ]
    }
   ],
   "source": [
    "def parse_blast_results(file_path, cov=50, identity=30):\n",
    "    temp_df = pd.read_csv(file_path, dtype={'Genome ID': str})\n",
    "\n",
    "    temp_df = temp_df[(temp_df[\"Identity\"] > identity) &(temp_df[\"Query cover\"] > cov)]\n",
    "    return set(temp_df[\"Genome ID\"])\n",
    "#####Create one for each of your genes \n",
    "gadA_genomes = parse_blast_results(\"C:\\\\Users\\\\cmgro\\\\Downloads\\\\merged_gadA.csv\", identity=30, cov=50) \n",
    "gadB_genomes = parse_blast_results(\"C:\\\\Users\\\\cmgro\\\\Downloads\\\\merged_gadB.csv\", identity=30, cov=50)\n",
    "gadC_genomes = parse_blast_results(\"C:\\\\Users\\\\cmgro\\\\Downloads\\\\merged_gadC.csv\", identity=30, cov=50)\n",
    "gadE_genomes = parse_blast_results(\"C:\\\\Users\\\\cmgro\\\\Downloads\\\\merged_gadE.csv\", identity=20, cov=30)\n",
    "gadX_genomes = parse_blast_results(\"C:\\\\Users\\\\cmgro\\\\Downloads\\\\merged_gadX.csv\", identity=30, cov=50)\n",
    "gadW_genomes = parse_blast_results(\"C:\\\\Users\\\\cmgro\\\\Downloads\\\\merged_gadW.csv\", identity=30, cov=50)\n",
    "adiA_genomes = parse_blast_results(\"C:\\\\Users\\\\cmgro\\\\Downloads\\\\merged_adiA.csv\", identity=30, cov=50)\n",
    "adiC_genomes = parse_blast_results(\"C:\\\\Users\\\\cmgro\\\\Downloads\\\\merged_adiC.csv\", identity=30, cov=50)\n",
    "adiY_genomes = parse_blast_results(\"C:\\\\Users\\\\cmgro\\\\Downloads\\\\merged_adiY.csv\", identity=30, cov=50)\n",
    "CsrA_genomes = parse_blast_results(\"C:\\\\Users\\\\cmgro\\\\Downloads\\\\merged_CsrA.csv\", identity=40)\n",
    "CsrD_genomes = parse_blast_results(\"C:\\\\Users\\\\cmgro\\\\Downloads\\\\merged_CsrD.csv\", identity=20, cov=50)\n",
    "sdiA_genomes = parse_blast_results(\"C:\\\\Users\\\\cmgro\\\\Downloads\\\\merged_sdiA.csv\", identity=20, cov=30)\n",
    "#These parameters look funky and they are and are subject to change\n",
    "fliw_genomes = parse_blast_results(\"C:\\\\Users\\\\cmgro\\\\Downloads\\\\mark_ex3.csv\", identity=30, cov=30)\n",
    "print(fliw_genomes)"
   ]
  },
  {
   "cell_type": "code",
   "execution_count": 31,
   "metadata": {
    "scrolled": true
   },
   "outputs": [
    {
     "name": "stdout",
     "output_type": "stream",
     "text": [
      "Done\n"
     ]
    }
   ],
   "source": [
    "#Create an object and assign it to the variable \n",
    "ncbi = NCBITaxa()\n",
    "\n",
    "\n",
    "#Dataframes are cool becuase becuase you can take a spreadsheet and slice out a whole column - trust me this is super useful \n",
    "ids = set(df[\"NCBI Taxon ID\"]) #use set to remove duplicates\n",
    "\n",
    "#Strains\n",
    "patric_id = list(df[\"Genome ID\"])\n",
    "strain_name = list(df[\"Genome Name\"])\n",
    "#Extract the tree\n",
    "tree = ncbi.get_topology(ids, intermediate_nodes=True)\n",
    "tree.get_ascii(attributes=[\"sci_name\"])\n",
    "\n",
    "\n",
    "lineages = {}\n",
    "for i in tree.traverse():\n",
    "    if len(i.named_lineage) > 5:\n",
    "        if i.named_lineage[4] in lineages.keys():\n",
    "            lineages[i.named_lineage[4]].append(i.name)\n",
    "        else:\n",
    "            lineages[i.named_lineage[4]] = [i.name]\n",
    "\n",
    "\n",
    "node_groups = {}\n",
    "lineage_colors = {\"Firmicutes\":\"Aquamarine\", \"Bacteroidetes/Chlorobi group\":\"LightCyan\", \"delta/epsilon subdivisions\":\"LightPink\", \n",
    "\"Gammaproteobacteria\":\"Gold\",  \"Fusobacteriia\":\"Violet\", \"Actinobacteria\":\"MistyRose\", \"Betaproteobacteria\":\"Gainsboro\", \"Alphaproteobacteria\": \"red\",\n",
    "                 \"Spirochaetia\": \"orange\", \"Verrucomicrobia\": \"yellow\"}\n",
    "\n",
    "for j in lineages.keys():\n",
    "    node_groups[j] = tree.get_common_ancestor(lineages[j])\n",
    "    temp_nest = NodeStyle()\n",
    "    temp_nest[\"bgcolor\"] = lineage_colors[j]\n",
    "    node_groups[j].set_style(temp_nest)\n",
    "\n",
    "for position, i in enumerate(patric_id):\n",
    "\n",
    "    if len(tree.search_nodes(name=i.split(\".\")[0])) > 0:\n",
    "            node = tree.search_nodes(name=i.split(\".\")[0])[0]\n",
    "    node.add_child(name=i)\n",
    "    for j in tree.search_nodes(name=i):\n",
    "        j.add_features(label=\"sci_name\")\n",
    "        j.sci_name = strain_name[position]\n",
    "\n",
    "\n",
    "\n",
    "def layout(node):\n",
    "    if node.is_leaf():\n",
    "        N = AttrFace(\"sci_name\", fsize=30)\n",
    "        faces.add_face_to_node(N, node, 0, position=\"branch-right\")\n",
    "        #####add an if statement for each of your genes, each column needs to be one higher than the one before it and make sure to use inuqie colors\n",
    "        #####You can make a seperate tree for each \"block\" or operon you are looking at, just amke sure to include csrA and csrD\n",
    "        if node.name in gadA_genomes:\n",
    "            circle = RectFace(60, 60, \"black\",\"red\")\n",
    "            faces.add_face_to_node(circle, position=\"aligned\", column=1, node=node)\n",
    "        if node.name in gadB_genomes:\n",
    "            circle = RectFace(60, 60, \"black\",\"black\")\n",
    "            faces.add_face_to_node(circle, position=\"aligned\", column=2, node=node)\n",
    "        if node.name in gadC_genomes:\n",
    "            circle = RectFace(60, 60, \"black\",\"cyan\")\n",
    "            faces.add_face_to_node(circle, position=\"aligned\", column=3, node=node)\n",
    "        if node.name in gadE_genomes:\n",
    "            circle = RectFace(60, 60, \"black\",\"yellow\")\n",
    "            faces.add_face_to_node(circle, position=\"aligned\", column=4, node=node)\n",
    "        if node.name in gadW_genomes:\n",
    "            circle = RectFace(60, 60, \"lightgreen\",\"lightgreen\")\n",
    "            faces.add_face_to_node(circle, position=\"aligned\", column=5, node=node)\n",
    "        if node.name in gadX_genomes:\n",
    "            circle = RectFace(60, 60, \"purple\",\"purple\")\n",
    "            faces.add_face_to_node(circle, position=\"aligned\", column=6, node=node)\n",
    "        if node.name in adiA_genomes:\n",
    "            circle = RectFace(60, 60, \"gray\",\"gray\")\n",
    "            faces.add_face_to_node(circle, position=\"aligned\", column=7, node=node)\n",
    "        if node.name in adiC_genomes:\n",
    "            circle = RectFace(60, 60, \"black\",\"orange\")\n",
    "            faces.add_face_to_node(circle, position=\"aligned\", column=8, node=node)\n",
    "        if node.name in adiY_genomes:\n",
    "            circle = RectFace(60, 60, \"black\",\"lightblue\")\n",
    "            faces.add_face_to_node(circle, position=\"aligned\", column=9, node=node)\n",
    "        if node.name in CsrA_genomes:\n",
    "            circle = RectFace(60, 60, \"darkblue\",\"darkblue\")\n",
    "            faces.add_face_to_node(circle, position=\"aligned\", column=10, node=node)\n",
    "        if node.name in CsrD_genomes:\n",
    "            circle = RectFace(60, 60, \"darkgreen\",\"darkgreen\")\n",
    "            faces.add_face_to_node(circle, position=\"aligned\", column=11, node=node)\n",
    "        if node.name in sdiA_genomes:\n",
    "            circle = RectFace(60, 60, \"black\",\"darkred\")\n",
    "            faces.add_face_to_node(circle, position=\"aligned\", column=12, node=node)\n",
    "        # Adding Fliw since it implies if CsrA is present that it plays a different regulatory role than if csrD is present\n",
    "        if node.name in fliw_genomes:\n",
    "            circle = RectFace(60, 60, \"black\",\"pink\")\n",
    "            faces.add_face_to_node(circle, position=\"aligned\", column=13, node=node)\n",
    "                # Adding Fliw since it implies if CsrA is present that it plays a different regulatory role than if csrD is present\n",
    "       \n",
    "ts = TreeStyle()\n",
    "ts.branch_vertical_margin = 10\n",
    "ts.allow_face_overlap = False\n",
    "ts.show_scale = False\n",
    "ts.show_leaf_name = False\n",
    "ts.layout_fn = layout\n",
    "ts.mode = \"c\"\n",
    "ts.root_opening_factor = .25\n",
    "ts.optimal_scale_level = \"full\"\n",
    "ts.force_topology = True\n",
    "for i, j in enumerate(lineage_colors.keys()):\n",
    "    ts.legend.add_face(RectFace(500, 30, lineage_colors[j], lineage_colors[j]), column=i)\n",
    "    ts.legend.add_face(TextFace(j, fsize=30), column=i)\n",
    "tree.render(\"firsttree.pdf\", tree_style=ts)\n",
    "print(\"Done\")"
   ]
  },
  {
   "cell_type": "code",
   "execution_count": null,
   "metadata": {},
   "outputs": [],
   "source": []
  },
  {
   "cell_type": "code",
   "execution_count": null,
   "metadata": {},
   "outputs": [],
   "source": []
  }
 ],
 "metadata": {
  "kernelspec": {
   "display_name": "Python 3",
   "language": "python",
   "name": "python3"
  },
  "language_info": {
   "codemirror_mode": {
    "name": "ipython",
    "version": 3
   },
   "file_extension": ".py",
   "mimetype": "text/x-python",
   "name": "python",
   "nbconvert_exporter": "python",
   "pygments_lexer": "ipython3",
   "version": "3.8.3"
  }
 },
 "nbformat": 4,
 "nbformat_minor": 2
}
