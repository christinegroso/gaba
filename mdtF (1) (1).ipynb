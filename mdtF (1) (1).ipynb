{
 "cells": [
  {
   "cell_type": "code",
   "execution_count": 1,
   "metadata": {},
   "outputs": [],
   "source": [
    "import pandas as pd\n",
    "from Bio import SeqIO"
   ]
  },
  {
   "cell_type": "code",
   "execution_count": 2,
   "metadata": {},
   "outputs": [
    {
     "name": "stdout",
     "output_type": "stream",
     "text": [
      "                      Genome  Genome ID              PATRIC ID  \\\n",
      "0            Shigella sp. D9   556266.3  fig|556266.3.peg.3701   \n",
      "1  Escherichia coli MS 145-7   679204.3  fig|679204.3.peg.4608   \n",
      "2  Escherichia coli MS 124-1   679205.4  fig|679205.4.peg.3318   \n",
      "3  Escherichia sp. 3_2_53FAA   469598.5  fig|469598.5.peg.4318   \n",
      "4       Citrobacter sp. 30_2   469595.3  fig|469595.3.peg.2456   \n",
      "\n",
      "     RefSeq Locus Tag Gene                                            Product  \\\n",
      "0  ShiD9_010100018230  NaN  Multidrug efflux system MdtEF-TolC, inner-memb...   \n",
      "1    HMPREF9348_04775  NaN  Multidrug efflux system MdtEF-TolC, inner-memb...   \n",
      "2    HMPREF9347_03459  NaN  Multidrug efflux system MdtEF-TolC, inner-memb...   \n",
      "3          ESAG_04516  NaN  Multidrug efflux system MdtEF-TolC, inner-memb...   \n",
      "4          CSAG_02456  NaN  Multidrug efflux system MdtEF-TolC, inner-memb...   \n",
      "\n",
      "   Length (NT)  Length (AA)  ALN Length  Identity  Query cover  Subject cover  \\\n",
      "0         3114         1037        1037       100          100            100   \n",
      "1         3114         1037        1037       100          100            100   \n",
      "2         3114         1037        1037       100          100            100   \n",
      "3         3114         1037        1037        99          100            100   \n",
      "4         3117         1038        1038        87          100            100   \n",
      "\n",
      "   Hit from  Hit to  Score  E value  \n",
      "0         1    1037   2103      0.0  \n",
      "1         1    1037   2101      0.0  \n",
      "2         1    1037   2100      0.0  \n",
      "3         1    1037   2097      0.0  \n",
      "4         1    1035   1807      0.0  \n",
      "                PATRIC ID                                          Sequences\n",
      "0   fig|1002339.3.peg.414  MSRFFINRPIFAWVISILIMLLGVISVINLPIEQYPRIAPPTINVS...\n",
      "1  fig|1002369.4.peg.3307  MVFLVLIVFGGIGYKKMSINLMPDIEIPVVMVMTTWTGAGPQDVDE...\n",
      "2    fig|1054213.3.peg.50  MLSSVFVDRPRLAIVIAIVMTIAGALALTRIPVSQFPDIVPPQVQV...\n",
      "3  fig|1054213.3.peg.1554  MEERNHRNISAWAINNPVATIVLFLLLTVAGLFAYPQLRINNMPDI...\n",
      "4  fig|1054213.3.peg.2941  MRFAQFFISRPVFAAVISIAILLVGAIAGFRLPISEYPEIAPPTVT...\n"
     ]
    }
   ],
   "source": [
    "#Read your blast results csv in\n",
    "df = pd.read_csv(\"C:\\\\Users\\\\cmgro\\\\Downloads\\\\mdtF_blast.csv\")\n",
    "#Show the first  rows\n",
    "print(df.head())\n",
    "#Temp lists to attatch5 variables \n",
    "ids = []\n",
    "seqs = []\n",
    "#Seq.IO.parse is. an easy way to read through every gene/prot in a fasta file \n",
    "for record in SeqIO.parse(\"C:\\\\Users\\\\cmgro\\\\Downloads\\\\mdtF.fasta\", \"fasta\"):\n",
    "    # So the fasta ID line is fig|1240239.3.peg.2328|XFF4834R_chr22840|VBIXanFus78442_2328|\n",
    "    # but we only need the first two elements (\"fig and 1240239.3.peg.2328\") to make fig|1240239.3.peg.2328\n",
    "    # We then use this ID to merge back onto the original dataframe (basically we say if this row has this ID, add the sequence to that row)\n",
    "    \n",
    "    #Fancy way of extracting the ID\n",
    "    ids.append(\"|\".join(record.id.split(\"|\")[0:2]))\n",
    "    #Fancy way of extracting the sequence \n",
    "    seqs.append(str(record.seq))\n",
    "#making a new dataframe from this info \n",
    "seq_df = pd.DataFrame.from_dict({\"PATRIC ID\": ids, \"Sequences\":seqs})\n",
    "print(seq_df.head())\n",
    "#Mergine back and saving \n",
    "df = df.merge(seq_df, on=\"PATRIC ID\")\n",
    "df.to_csv(\"/Users/cmgro/Downloads/merged_mdtF.csv\")"
   ]
  },
  {
   "cell_type": "code",
   "execution_count": 3,
   "metadata": {
    "scrolled": true
   },
   "outputs": [
    {
     "name": "stdout",
     "output_type": "stream",
     "text": [
      "<class 'pandas.core.frame.DataFrame'>\n",
      "Int64Index: 56 entries, 0 to 58\n",
      "Data columns (total 18 columns):\n",
      " #   Column            Non-Null Count  Dtype  \n",
      "---  ------            --------------  -----  \n",
      " 0   Unnamed: 0        56 non-null     int64  \n",
      " 1   Genome            56 non-null     object \n",
      " 2   Genome ID         56 non-null     float64\n",
      " 3   PATRIC ID         56 non-null     object \n",
      " 4   RefSeq Locus Tag  54 non-null     object \n",
      " 5   Gene              2 non-null      object \n",
      " 6   Product           56 non-null     object \n",
      " 7   Length (NT)       56 non-null     int64  \n",
      " 8   Length (AA)       56 non-null     int64  \n",
      " 9   ALN Length        56 non-null     int64  \n",
      " 10  Identity          56 non-null     int64  \n",
      " 11  Query cover       56 non-null     int64  \n",
      " 12  Subject cover     56 non-null     int64  \n",
      " 13  Hit from          56 non-null     int64  \n",
      " 14  Hit to            56 non-null     int64  \n",
      " 15  Score             56 non-null     int64  \n",
      " 16  E value           56 non-null     float64\n",
      " 17  Sequences         56 non-null     object \n",
      "dtypes: float64(2), int64(10), object(6)\n",
      "memory usage: 8.3+ KB\n",
      "None\n",
      "{'Multidrug efflux system MdtEF-TolC, inner-membrane proton/drug antiporter MdtF (RND type)': 5, 'Multidrug efflux system AcrEF-TolC, inner-membrane proton/drug antiporter AcrF (RND type)': 9, 'Multidrug efflux system AcrAB-TolC, inner-membrane proton/drug antiporter AcrB (RND type)': 11, 'Multidrug efflux system, inner membrane proton/drug antiporter (RND type) => MexB of MexAB-OprM': 4, 'RND efflux system, inner membrane transporter': 254, 'Aminoglycosides efflux system AcrAD-TolC, inner-membrane proton/drug antiporter AcrD (RND type)': 9, 'Multidrug efflux system, inner membrane proton/drug antiporter (RND type) => MexY of MexXY/AxyXY': 4, 'Multidrug efflux system, inner membrane proton/drug antiporter (RND type) => MexD of MexCD-OprJ system': 2, 'Multidrug efflux system, inner membrane proton/drug antiporter (RND type) => CmeB': 5, 'Multidrug efflux system, inner membrane proton/drug antiporter (RND type) => MexQ of MexPQ-OpmE system': 3, 'Multidrug efflux system, inner membrane proton/drug antiporter (RND type) => MexF of MexEF-OprN system': 3, 'Multidrug efflux system, inner membrane proton/drug antiporter (RND type) => MexW of MexVW-OprM system': 2, 'Multidrug efflux system, inner membrane proton/drug antiporter (RND type) => MexI of MexHI-OpmD system': 4, 'RND multidrug efflux transporter; Acriflavin resistance protein': 23, 'Multidrug efflux system MdtABC-TolC, inner-membrane proton/drug antiporter MdtB (RND type)': 18, 'Multidrug efflux system MdtABC-TolC, inner-membrane proton/drug antiporter MdtC (RND type)': 18, 'Multidrug efflux system MdtABC-TolC, inner-membrane proton/drug antiporter MdtB-like': 2, 'Multidrug efflux system, inner membrane proton/drug antiporter (RND type) => CmeF': 4, 'hypothetical protein': 8, 'CzcABC family efflux RND transporter, transmembrane protein': 60, 'Acriflavin resistance protein': 10, 'Cobalt/zinc/cadmium efflux RND transporter, transmembrane protein CzcA': 7, 'Copper/silver efflux RND transporter, transmembrane protein CusA': 17, 'Swarming motility protein SwrC': 1, 'Multidrug efflux system, inner membrane proton/drug antiporter (RND type) => TriC of TriABC-OpmH system': 3, 'Putative heavy metal/multi-drug efflux protein, RND family': 3, 'Multidrug efflux system, inner membrane proton/drug antiporter (RND type) => MexK of MexJK-OprM/OpmH system': 2, 'FIG00898163: hypothetical protein': 3, 'RND efflux system, inner membrane transporter KPN_02144': 3, 'Cation/multidrug efflux pump': 1, 'putative cation efflux system': 1, 'AcrB/AcrD/AcrF family protein': 1}\n",
      "{'Multidrug efflux system MdtEF-TolC, inner-membrane proton/drug antiporter MdtF (RND type)': 5, 'Multidrug efflux system AcrEF-TolC, inner-membrane proton/drug antiporter AcrF (RND type)': 9, 'Multidrug efflux system AcrAB-TolC, inner-membrane proton/drug antiporter AcrB (RND type)': 11, 'Multidrug efflux system, inner membrane proton/drug antiporter (RND type) => MexB of MexAB-OprM': 3, 'RND efflux system, inner membrane transporter': 17, 'Aminoglycosides efflux system AcrAD-TolC, inner-membrane proton/drug antiporter AcrD (RND type)': 9, 'Multidrug efflux system, inner membrane proton/drug antiporter (RND type) => MexY of MexXY/AxyXY': 2}\n"
     ]
    }
   ],
   "source": [
    "# reads blast results\n",
    "df = pd.read_csv(\"C:\\\\Users\\\\cmgro\\\\Downloads\\\\merged_mdtF.csv\")\n",
    "\n",
    "#print(df.info()) - counted 500 entries\n",
    "\n",
    "# filters out entries with query cover and identity values less than 50%\n",
    "df_filtered = df[(df[\"Identity\"] > 50) &(df[\"Query cover\"] > 50)]\n",
    "\n",
    "# prints info on the new dataframe \n",
    "print(df_filtered.info())\n",
    "\n",
    "def count_types(types):\n",
    "    types_counts = {}\n",
    "    for i in types:\n",
    "        if i in types_counts.keys():\n",
    "            types_counts[i] += 1\n",
    "        else: \n",
    "            types_counts[i] = 1\n",
    "    return types_counts\n",
    "print(count_types(df[\"Product\"]))\n",
    "print(count_types(df_filtered[\"Product\"]))"
   ]
  }
 ],
 "metadata": {
  "kernelspec": {
   "display_name": "Python 3",
   "language": "python",
   "name": "python3"
  },
  "language_info": {
   "codemirror_mode": {
    "name": "ipython",
    "version": 3
   },
   "file_extension": ".py",
   "mimetype": "text/x-python",
   "name": "python",
   "nbconvert_exporter": "python",
   "pygments_lexer": "ipython3",
   "version": "3.8.3"
  }
 },
 "nbformat": 4,
 "nbformat_minor": 4
}
