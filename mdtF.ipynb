{
 "cells": [
  {
   "cell_type": "code",
   "execution_count": 1,
   "metadata": {},
   "outputs": [],
   "source": [
    "import pandas as pd\n",
    "from Bio import SeqIO"
   ]
  },
  {
   "cell_type": "code",
   "execution_count": 2,
   "metadata": {},
   "outputs": [
    {
     "name": "stdout",
     "output_type": "stream",
     "text": [
      "                                      Genome  Genome ID  \\\n",
      "0  Escherichia coli str. K-12 substr. MG1655  511145.12   \n",
      "1        Escherichia coli O157:H7 str. Sakai   386585.9   \n",
      "2          Shigella sonnei strain H140920393    624.361   \n",
      "3                            Shigella sp. D9   556266.3   \n",
      "4                      Shigella sonnei Ss046  300269.12   \n",
      "\n",
      "                PATRIC ID    RefSeq Locus Tag  Gene  \\\n",
      "0  fig|511145.12.peg.3622               b3514  mdtF   \n",
      "1   fig|386585.9.peg.4592             ECs4394   NaN   \n",
      "2    fig|624.361.peg.3673     ERS432308_03585  yhiV   \n",
      "3   fig|556266.3.peg.3701  ShiD9_010100018230   NaN   \n",
      "4  fig|300269.12.peg.4232           SSON_3572  yhiV   \n",
      "\n",
      "                                             Product Length (NT)  Length (AA)  \\\n",
      "0  Multidrug efflux system MdtEF-TolC, inner-memb...        3114         1037   \n",
      "1  Multidrug efflux system MdtEF-TolC, inner-memb...        3114         1037   \n",
      "2  Multidrug efflux system MdtEF-TolC, inner-memb...        3114         1037   \n",
      "3  Multidrug efflux system MdtEF-TolC, inner-memb...        3114         1037   \n",
      "4  Multidrug efflux system MdtEF-TolC, inner-memb...        3114         1037   \n",
      "\n",
      "   ALN Length  Identity  Query cover  Subject cover  Hit from  Hit to  Score  \\\n",
      "0        1037        98          100            100         1    1037   2032   \n",
      "1        1037        98          100            100         1    1037   2029   \n",
      "2        1037        98          100            100         1    1037   2028   \n",
      "3        1037        98          100            100         1    1037   2028   \n",
      "4        1037        98          100            100         1    1037   2028   \n",
      "\n",
      "   E value  Unnamed: 16  \n",
      "0        0          NaN  \n",
      "1        0          NaN  \n",
      "2        0          NaN  \n",
      "3        0          NaN  \n",
      "4        0          NaN  \n",
      "                PATRIC ID                                          Sequences\n",
      "0  fig|1002368.3.peg.1410  MSRFFIQRPIFAWVLAIILMIAGGLAILQLPVAQYPTIAPPAVAVT...\n",
      "1  fig|1005995.4.peg.3242  MAKFFIERPIFAWVLAIIVMLAGALSILKLPIEQYPDVAPPAVQIQ...\n",
      "2  fig|1002368.3.peg.2185  MAKFFIDRPIFAWVIAIIIMLAGALAILKLPVAQYPTIAPPAIAIT...\n",
      "3  fig|1005395.3.peg.3201  MSRFFIDRPIFAWVIALVIMLVGALSILKLPINQYPSIAPPAIAIA...\n",
      "4   fig|1006551.4.peg.831  MSKFFIHRPVFAWVLAIIMMIAGGLAIMQLPIAQYPTIAPPAVAIS...\n"
     ]
    }
   ],
   "source": [
    "#Read your blast results csv in\n",
    "df = pd.read_csv(\"C:\\\\Users\\\\cmgro\\\\Downloads\\\\mdtF_blast.csv\")\n",
    "#Show the first  rows\n",
    "print(df.head())\n",
    "#Temp lists to attatch5 variables \n",
    "ids = []\n",
    "seqs = []\n",
    "#Seq.IO.parse is. an easy way to read through every gene/prot in a fasta file \n",
    "for record in SeqIO.parse(\"C:\\\\Users\\\\cmgro\\\\Downloads\\\\mdtF_genome_feature (11).fasta\", \"fasta\"):\n",
    "    # So the fasta ID line is fig|1240239.3.peg.2328|XFF4834R_chr22840|VBIXanFus78442_2328|\n",
    "    # but we only need the first two elements (\"fig and 1240239.3.peg.2328\") to make fig|1240239.3.peg.2328\n",
    "    # We then use this ID to merge back onto the original dataframe (basically we say if this row has this ID, add the sequence to that row)\n",
    "    \n",
    "    #Fancy way of extracting the ID\n",
    "    ids.append(\"|\".join(record.id.split(\"|\")[0:2]))\n",
    "    #Fancy way of extracting the sequence \n",
    "    seqs.append(str(record.seq))\n",
    "#making a new dataframe from this info \n",
    "seq_df = pd.DataFrame.from_dict({\"PATRIC ID\": ids, \"Sequences\":seqs})\n",
    "print(seq_df.head())\n",
    "#Mergine back and saving \n",
    "df = df.merge(seq_df, on=\"PATRIC ID\")\n",
    "df.to_csv(\"/Users/cmgro/Downloads/merged_mdtF.csv\")"
   ]
  },
  {
   "cell_type": "code",
   "execution_count": 3,
   "metadata": {
    "scrolled": true
   },
   "outputs": [
    {
     "name": "stdout",
     "output_type": "stream",
     "text": [
      "<class 'pandas.core.frame.DataFrame'>\n",
      "Int64Index: 498 entries, 0 to 497\n",
      "Data columns (total 19 columns):\n",
      " #   Column            Non-Null Count  Dtype  \n",
      "---  ------            --------------  -----  \n",
      " 0   Unnamed: 0        498 non-null    int64  \n",
      " 1   Genome            498 non-null    object \n",
      " 2   Genome ID         498 non-null    float64\n",
      " 3   PATRIC ID         498 non-null    object \n",
      " 4   RefSeq Locus Tag  395 non-null    object \n",
      " 5   Gene              112 non-null    object \n",
      " 6   Product           498 non-null    object \n",
      " 7   Length (NT)       498 non-null    int64  \n",
      " 8   Length (AA)       498 non-null    int64  \n",
      " 9   ALN Length        498 non-null    int64  \n",
      " 10  Identity          498 non-null    int64  \n",
      " 11  Query cover       498 non-null    int64  \n",
      " 12  Subject cover     498 non-null    int64  \n",
      " 13  Hit from          498 non-null    int64  \n",
      " 14  Hit to            498 non-null    int64  \n",
      " 15  Score             498 non-null    int64  \n",
      " 16  E value           498 non-null    int64  \n",
      " 17  Unnamed: 16       0 non-null      float64\n",
      " 18  Sequences         498 non-null    object \n",
      "dtypes: float64(2), int64(11), object(6)\n",
      "memory usage: 77.8+ KB\n",
      "None\n",
      "{'Multidrug efflux system MdtEF-TolC, inner-membrane proton/drug antiporter MdtF (RND type)': 18, 'Multidrug efflux system AcrAB-TolC, inner-membrane proton/drug antiporter AcrB (RND type)': 186, 'RND efflux system, inner membrane transporter': 193, 'Multidrug efflux system AcrEF-TolC, inner-membrane proton/drug antiporter AcrF (RND type)': 53, 'Multidrug efflux system, inner membrane proton/drug antiporter (RND type) => MexB of MexAB-OprM': 32, 'Aminoglycosides efflux system AcrAD-TolC, inner-membrane proton/drug antiporter AcrD (RND type)': 16}\n",
      "{'Multidrug efflux system MdtEF-TolC, inner-membrane proton/drug antiporter MdtF (RND type)': 18, 'Multidrug efflux system AcrAB-TolC, inner-membrane proton/drug antiporter AcrB (RND type)': 186, 'RND efflux system, inner membrane transporter': 193, 'Multidrug efflux system AcrEF-TolC, inner-membrane proton/drug antiporter AcrF (RND type)': 53, 'Multidrug efflux system, inner membrane proton/drug antiporter (RND type) => MexB of MexAB-OprM': 32, 'Aminoglycosides efflux system AcrAD-TolC, inner-membrane proton/drug antiporter AcrD (RND type)': 16}\n"
     ]
    }
   ],
   "source": [
    "# reads blast results\n",
    "df = pd.read_csv(\"C:\\\\Users\\\\cmgro\\\\Downloads\\\\merged_mdtF.csv\")\n",
    "\n",
    "#print(df.info()) - counted 500 entries\n",
    "\n",
    "# filters out entries with query cover and identity values less than 50%\n",
    "df_filtered = df.loc[(df['Query cover']>=50) & (df['Identity']>=50)]\n",
    "\n",
    "# prints info on the new dataframe \n",
    "print(df_filtered.info())\n",
    "\n",
    "def count_types(types):\n",
    "    types_counts = {}\n",
    "    for i in types:\n",
    "        if i in types_counts.keys():\n",
    "            types_counts[i] += 1\n",
    "        else: \n",
    "            types_counts[i] = 1\n",
    "    return types_counts\n",
    "print(count_types(df[\"Product\"]))\n",
    "print(count_types(df_filtered[\"Product\"]))"
   ]
  }
 ],
 "metadata": {
  "kernelspec": {
   "display_name": "Python 3",
   "language": "python",
   "name": "python3"
  },
  "language_info": {
   "codemirror_mode": {
    "name": "ipython",
    "version": 3
   },
   "file_extension": ".py",
   "mimetype": "text/x-python",
   "name": "python",
   "nbconvert_exporter": "python",
   "pygments_lexer": "ipython3",
   "version": "3.8.3"
  }
 },
 "nbformat": 4,
 "nbformat_minor": 4
}
