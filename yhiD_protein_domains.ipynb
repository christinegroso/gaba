{
 "cells": [
  {
   "cell_type": "code",
   "execution_count": 2,
   "metadata": {},
   "outputs": [],
   "source": [
    "import pandas as pd\n",
    "from Bio import SeqIO\n",
    "from Bio.ExPASy import ScanProsite"
   ]
  },
  {
   "cell_type": "markdown",
   "metadata": {},
   "source": [
    "So I dun goofed and forgot to have you you guys download sequences as well for this next step, below is a script you help you merge the two files automatically, you'll use a similar pattern for the next set of steps which invovles extracting protien domains. "
   ]
  },
  {
   "cell_type": "code",
   "execution_count": 3,
   "metadata": {},
   "outputs": [
    {
     "name": "stdout",
     "output_type": "stream",
     "text": [
      "                                 Genome  Genome ID        Accession  \\\n",
      "0        Prevotella stercorea DSM 18206  1002367.3     AFZZ01000136   \n",
      "1               Paenibacillus elgii B69  1007103.3     AFHW01000170   \n",
      "2                 Bacillus sp. 10403023  1033734.3     CAET01000080   \n",
      "3     Lactobacillus kefiranofaciens ZW3  1033837.3        NC_015602   \n",
      "4  Brevibacillus laterosporus LMG 15441  1042163.3  NZ_AFRV01000008   \n",
      "\n",
      "                PATRIC ID  RefSeq Locus Tag         Alt Locus Tag  \\\n",
      "0  fig|1002367.3.peg.1265  HMPREF0673_01564  VBIPreSte187147_1265   \n",
      "1  fig|1007103.3.peg.6796               NaN  VBIPaeElg187263_6796   \n",
      "2  fig|1033734.3.peg.4466               NaN   VBIBacSp210989_4466   \n",
      "3  fig|1033837.3.peg.1858         WANG_1450  VBILacKef189943_1858   \n",
      "4  fig|1042163.3.peg.4641       BRLA_c48920  VBIBreLat201509_4641   \n",
      "\n",
      "                                          Feature ID Annotation Feature Type  \\\n",
      "0  PATRIC.1002367.3.AFZZ01000136.CDS.14973.15632.rev     PATRIC          CDS   \n",
      "1  PATRIC.1007103.3.AFHW01000170.CDS.16021.16716.fwd     PATRIC          CDS   \n",
      "2     PATRIC.1033734.3.CAET01000080.CDS.925.1626.fwd     PATRIC          CDS   \n",
      "3  PATRIC.1033837.3.NC_015602.CDS.1610519.1611229...     PATRIC          CDS   \n",
      "4  PATRIC.1042163.3.NZ_AFRV01000008.CDS.83107.837...     PATRIC          CDS   \n",
      "\n",
      "     Start  ...  Length  Strand    FIGfam ID  \\\n",
      "0    14973  ...     660       -  FIG00436510   \n",
      "1    16021  ...     696       +          NaN   \n",
      "2      925  ...     702       +          NaN   \n",
      "3  1610519  ...     711       +  FIG00031552   \n",
      "4    83107  ...     663       +          NaN   \n",
      "\n",
      "  PATRIC genus-specific families (PLfams)  \\\n",
      "0                        PLF_838_00088002   \n",
      "1                      PLF_44249_00046761   \n",
      "2                       PLF_1386_00040172   \n",
      "3                       PLF_1578_00002472   \n",
      "4                      PLF_55080_00004037   \n",
      "\n",
      "  PATRIC cross-genus families (PGfams)      Protein ID AA Length  Gene Symbol  \\\n",
      "0                         PGF_00021389      EHJ39674.1       219          NaN   \n",
      "1                         PGF_00021389             NaN       231          NaN   \n",
      "2                         PGF_00021389             NaN       233          NaN   \n",
      "3                         PGF_00021389  YP_004563247.1       236          NaN   \n",
      "4                         PGF_00021389   ZP_08643604.1       220          NaN   \n",
      "\n",
      "                                           Product  GO  \n",
      "0  Mg(2+)-transport-ATPase-associated protein MgtC NaN  \n",
      "1  Mg(2+)-transport-ATPase-associated protein MgtC NaN  \n",
      "2  Mg(2+)-transport-ATPase-associated protein MgtC NaN  \n",
      "3  Mg(2+)-transport-ATPase-associated protein MgtC NaN  \n",
      "4  Mg(2+)-transport-ATPase-associated protein MgtC NaN  \n",
      "\n",
      "[5 rows x 21 columns]\n",
      "                PATRIC ID                                          Sequences\n",
      "0  fig|1002367.3.peg.1265  MGTSYIELIVRLSLAFVLGGMIGLEREYRAKEAGFRTHFLVALGSA...\n",
      "1  fig|1033837.3.peg.1858  MQTLAPISTELDWLLRIVVAALCGGVIGYERAIQRKSAGIRTHIVV...\n",
      "2  fig|1033734.3.peg.4466  MTQFFASFQTQEFLTMSVRIFLAALLCGLVGLEREVHKHPAGFRTH...\n",
      "3  fig|1007103.3.peg.6796  MTHDPWTIDTLHITLRLVLSLLFGGLIGIEREQSSHAAGLRTHMLV...\n",
      "4  fig|1046597.4.peg.2755  MDQVELVIRLLVAAFCGFTIGFERKNRFKNAGIRTHMIVALGSALI...\n"
     ]
    }
   ],
   "source": [
    "#Read your blast results csv in\n",
    "df = pd.read_csv(\"C:\\\\Users\\\\cmgro\\\\Downloads\\\\yhiD_genome_feature (12).csv\")\n",
    "#Show the first 5 rows\n",
    "print(df.head())\n",
    "#Temp lists to attatch variables \n",
    "ids = []\n",
    "seqs = []\n",
    "#Seq.IO.parse is. an easy way to read through every gene/prot in a fasta file \n",
    "for record in SeqIO.parse(\"C:\\\\Users\\\\cmgro\\\\Downloads\\\\yhiD_genome_feature (12).fasta\", \"fasta\"):\n",
    "    # So the fasta ID line is fig|1240239.3.peg.2328|XFF4834R_chr22840|VBIXanFus78442_2328|\n",
    "    # but we only need the first two elements (\"fig and 1240239.3.peg.2328\") to make fig|1240239.3.peg.2328\n",
    "    # We then use this ID to merge back onto the original dataframe (basically we say if this row has this ID, add the sequence to that row)\n",
    "    \n",
    "    #Fancy way of extracting the ID\n",
    "    ids.append(\"|\".join(record.id.split(\"|\")[0:2]))\n",
    "    #Fancy way of extracting the sequence \n",
    "    seqs.append(str(record.seq))\n",
    "#making a new dataframe from this info \n",
    "seq_df = pd.DataFrame.from_dict({\"PATRIC ID\": ids, \"Sequences\":seqs})\n",
    "print(seq_df.head())\n",
    "#Mergine back and saving \n",
    "df = df.merge(seq_df, on=\"PATRIC ID\")\n",
    "df.to_csv(\"/Users/cmgro/Downloads/merged_yhiD.csv\")"
   ]
  },
  {
   "cell_type": "code",
   "execution_count": null,
   "metadata": {},
   "outputs": [],
   "source": [
    "import time\n",
    "sigs = []\n",
    "\n",
    "for i in df[\"Sequences\"].values:\n",
    "    handle = ScanProsite.scan(seq=i, mirror=\"https://prosite.expasy.org\")\n",
    "    result = ScanProsite.read(handle)\n",
    "    qq = []\n",
    "    for i in result:\n",
    "        print(i)\n",
    "        qq.append(i[\"signature_ac\"])\n",
    "    time.sleep(5)\n",
    "    qq = set(qq)\n",
    "    sigs.append(qq)\n",
    "    \n",
    "df[\"Prosite results\"] = sigs\n",
    "df.to_csv(\"/Users/christine/Downloads/yhiD_motifs.csv\")"
   ]
  },
  {
   "cell_type": "code",
   "execution_count": null,
   "metadata": {},
   "outputs": [],
   "source": [
    "df\n"
   ]
  },
  {
   "cell_type": "code",
   "execution_count": null,
   "metadata": {},
   "outputs": [],
   "source": []
  }
 ],
 "metadata": {
  "kernelspec": {
   "display_name": "Python 3",
   "language": "python",
   "name": "python3"
  },
  "language_info": {
   "codemirror_mode": {
    "name": "ipython",
    "version": 3
   },
   "file_extension": ".py",
   "mimetype": "text/x-python",
   "name": "python",
   "nbconvert_exporter": "python",
   "pygments_lexer": "ipython3",
   "version": "3.8.3"
  }
 },
 "nbformat": 4,
 "nbformat_minor": 4
}
