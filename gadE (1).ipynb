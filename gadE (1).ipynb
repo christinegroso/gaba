{
 "cells": [
  {
   "cell_type": "code",
   "execution_count": 1,
   "metadata": {},
   "outputs": [],
   "source": [
    "import pandas as pd\n",
    "from Bio import SeqIO"
   ]
  },
  {
   "cell_type": "code",
   "execution_count": 2,
   "metadata": {},
   "outputs": [
    {
     "name": "stdout",
     "output_type": "stream",
     "text": [
      "                                  Genome    Genome ID              PATRIC ID  \\\n",
      "0  Escherichia coli O83:H1 str. NRG 857C  685038.3000  fig|685038.3.peg.3562   \n",
      "1      Shigella sonnei strain H140920393     624.3610   fig|624.361.peg.3670   \n",
      "2                 Escherichia coli IAI39  585057.6000  fig|585057.6.peg.4153   \n",
      "3                Escherichia coli UMN026  585056.7000  fig|585056.7.peg.4185   \n",
      "4       Escherichia coli strain NCTC9001     562.7382   fig|562.7382.peg.527   \n",
      "\n",
      "  RefSeq Locus Tag  Gene                         Product  Length (NT)  \\\n",
      "0     NRG857_17445   NaN  Transcriptional activator GadE          528   \n",
      "1  ERS432308_03582  gadE  Transcriptional activator GadE          528   \n",
      "2     ECIAI39_4014  gadE  Transcriptional activator GadE          528   \n",
      "3       ECUMN_4012  gadE  Transcriptional activator GadE          528   \n",
      "4  ERS451419_00524  yhiE  Transcriptional activator GadE          528   \n",
      "\n",
      "   Length (AA)  ALN Length  Identity  Query cover  Subject cover  Hit from  \\\n",
      "0          175         175        99          100            100         1   \n",
      "1          175         175        99          100            100         1   \n",
      "2          175         175        99          100            100         1   \n",
      "3          175         175        99          100            100         1   \n",
      "4          175         175        99          100            100         1   \n",
      "\n",
      "   Hit to  Score        E value  \n",
      "0     175    345  5.000000e-119  \n",
      "1     175    345  5.000000e-119  \n",
      "2     175    345  5.000000e-119  \n",
      "3     175    345  5.000000e-119  \n",
      "4     175    345  5.000000e-119  \n",
      "                PATRIC ID                                          Sequences\n",
      "0   fig|1133852.3.peg.277  MIFLMTKDSFLLQGFWQLKDNHEMIKINSLSEIKKVGNKPFKVIID...\n",
      "1   fig|1133852.3.peg.282  MFLIITRDTMFFTAMKNILSKGNVVHIQNEEEIDVMLHQNAFVIID...\n",
      "2  fig|1002368.3.peg.2680  MILMVTKDEFLFQGVTHLLNNEKVIRAEGLSDIGKQIADPASKVII...\n",
      "3   fig|1218112.3.peg.722  MILMVTKDEFLFQGVAHLFNNENVIRLETIADIMRHATDANTKIII...\n",
      "4   fig|198214.7.peg.4170  MFFTAMKNILSKGNVVHIQNEEEIDVMLHQNAFVIIDTLMNNVFHS...\n"
     ]
    }
   ],
   "source": [
    "#Read your blast results csv in\n",
    "df = pd.read_csv(\"C:\\\\Users\\\\cmgro\\\\Downloads\\\\gadE_blast.csv\")\n",
    "#Show the first 5 rows\n",
    "print(df.head())\n",
    "#Temp lists to attatch variables \n",
    "ids = []\n",
    "seqs = []\n",
    "#Seq.IO.parse is. an easy way to read through every gene/prot in a fasta file \n",
    "for record in SeqIO.parse(\"C:\\\\Users\\\\cmgro\\\\Downloads\\\\gadE_genome_feature (3).fasta\", \"fasta\"):\n",
    "    # So the fasta ID line is fig|1240239.3.peg.2328|XFF4834R_chr22840|VBIXanFus78442_2328|\n",
    "    # but we only need the first two elements (\"fig and 1240239.3.peg.2328\") to make fig|1240239.3.peg.2328\n",
    "    # We then use this ID to merge back onto the original dataframe (basically we say if this row has this ID, add the sequence to that row)\n",
    "    \n",
    "    #Fancy way of extracting the ID\n",
    "    ids.append(\"|\".join(record.id.split(\"|\")[0:2]))\n",
    "    #Fancy way of extracting the sequence \n",
    "    seqs.append(str(record.seq))\n",
    "#making a new dataframe from this info \n",
    "seq_df = pd.DataFrame.from_dict({\"PATRIC ID\": ids, \"Sequences\":seqs})\n",
    "print(seq_df.head())\n",
    "#Mergine back and saving \n",
    "df = df.merge(seq_df, on=\"PATRIC ID\")\n",
    "df.to_csv(\"/Users/cmgro/Downloads/merged_gadE.csv\")"
   ]
  },
  {
   "cell_type": "code",
   "execution_count": 3,
   "metadata": {},
   "outputs": [
    {
     "name": "stdout",
     "output_type": "stream",
     "text": [
      "<class 'pandas.core.frame.DataFrame'>\n",
      "Int64Index: 15 entries, 0 to 14\n",
      "Data columns (total 18 columns):\n",
      " #   Column            Non-Null Count  Dtype  \n",
      "---  ------            --------------  -----  \n",
      " 0   Unnamed: 0        15 non-null     int64  \n",
      " 1   Genome            15 non-null     object \n",
      " 2   Genome ID         15 non-null     float64\n",
      " 3   PATRIC ID         15 non-null     object \n",
      " 4   RefSeq Locus Tag  15 non-null     object \n",
      " 5   Gene              11 non-null     object \n",
      " 6   Product           15 non-null     object \n",
      " 7   Length (NT)       15 non-null     int64  \n",
      " 8   Length (AA)       15 non-null     int64  \n",
      " 9   ALN Length        15 non-null     int64  \n",
      " 10  Identity          15 non-null     int64  \n",
      " 11  Query cover       15 non-null     int64  \n",
      " 12  Subject cover     15 non-null     int64  \n",
      " 13  Hit from          15 non-null     int64  \n",
      " 14  Hit to            15 non-null     int64  \n",
      " 15  Score             15 non-null     int64  \n",
      " 16  E value           15 non-null     float64\n",
      " 17  Sequences         15 non-null     object \n",
      "dtypes: float64(2), int64(10), object(6)\n",
      "memory usage: 2.2+ KB\n",
      "None\n",
      "{'Transcriptional activator GadE': 17, 'hypothetical protein': 1, 'Transcriptional regulator DctR, LuxR family': 16, 'Two-component transcriptional response regulator, NarL/FixJ family': 1}\n",
      "{'Transcriptional activator GadE': 15}\n"
     ]
    }
   ],
   "source": [
    "# reads blast results\n",
    "df = pd.read_csv(\"C:\\\\Users\\\\cmgro\\\\Downloads\\\\merged_gadE.csv\")\n",
    "\n",
    "#print(df.info()) - counted 35 entries\n",
    "\n",
    "# filters out entries with query cover and identity values less than 50%\n",
    "df_filtered = df[(df[\"Identity\"] > 50) &(df[\"Query cover\"] > 50)]\n",
    "\n",
    "# prints info on the new dataframe \n",
    "print(df_filtered.info())\n",
    "\n",
    "def count_types(types):\n",
    "    types_counts = {}\n",
    "    for i in types:\n",
    "        if i in types_counts.keys():\n",
    "            types_counts[i] += 1\n",
    "        else: \n",
    "            types_counts[i] = 1\n",
    "    return types_counts\n",
    "print(count_types(df[\"Product\"]))\n",
    "print(count_types(df_filtered[\"Product\"]))"
   ]
  },
  {
   "cell_type": "code",
   "execution_count": null,
   "metadata": {},
   "outputs": [],
   "source": []
  }
 ],
 "metadata": {
  "kernelspec": {
   "display_name": "Python 3",
   "language": "python",
   "name": "python3"
  },
  "language_info": {
   "codemirror_mode": {
    "name": "ipython",
    "version": 3
   },
   "file_extension": ".py",
   "mimetype": "text/x-python",
   "name": "python",
   "nbconvert_exporter": "python",
   "pygments_lexer": "ipython3",
   "version": "3.8.3"
  }
 },
 "nbformat": 4,
 "nbformat_minor": 4
}
