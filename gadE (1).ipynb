{
 "cells": [
  {
   "cell_type": "code",
   "execution_count": 1,
   "metadata": {},
   "outputs": [],
   "source": [
    "import pandas as pd\n",
    "from Bio import SeqIO"
   ]
  },
  {
   "cell_type": "code",
   "execution_count": 2,
   "metadata": {},
   "outputs": [
    {
     "name": "stdout",
     "output_type": "stream",
     "text": [
      "                      Genome  Genome ID              PATRIC ID  \\\n",
      "0  Escherichia coli MS 124-1   679205.4  fig|679205.4.peg.3315   \n",
      "1  Escherichia coli MS 145-7   679204.3  fig|679204.3.peg.4605   \n",
      "2            Shigella sp. D9   556266.3  fig|556266.3.peg.3698   \n",
      "3  Escherichia sp. 3_2_53FAA   469598.5  fig|469598.5.peg.4315   \n",
      "4  Escherichia sp. 3_2_53FAA   469598.5  fig|469598.5.peg.4299   \n",
      "\n",
      "     RefSeq Locus Tag  Gene                                      Product  \\\n",
      "0    HMPREF9347_03456   NaN               Transcriptional activator GadE   \n",
      "1    HMPREF9348_04772   NaN               Transcriptional activator GadE   \n",
      "2  ShiD9_010100018220   NaN               Transcriptional activator GadE   \n",
      "3          ESAG_04513   NaN               Transcriptional activator GadE   \n",
      "4          ESAG_04495   NaN  Transcriptional regulator DctR, LuxR family   \n",
      "\n",
      "   Length (NT)  Length (AA)  ALN Length  Identity  Query cover  Subject cover  \\\n",
      "0          528          175         175       100          100            100   \n",
      "1          528          175         175       100          100            100   \n",
      "2          528          175         175       100          100            100   \n",
      "3          528          175         175       100          100            100   \n",
      "4          504          167         167        27           71             75   \n",
      "\n",
      "   Hit from  Hit to  Score        E value  \n",
      "0         1     175    354  4.000000e-124  \n",
      "1         1     175    354  4.000000e-124  \n",
      "2         1     175    354  4.000000e-124  \n",
      "3         1     175    354  4.000000e-124  \n",
      "4        34     158     61   4.000000e-11  \n",
      "               PATRIC ID                                          Sequences\n",
      "0  fig|469598.5.peg.4315  MIFLMTKDSFLLQGFWQLKDNHEMIKINSLSEIKKVGNKPFKVIID...\n",
      "1  fig|556266.3.peg.3693  MFFTAMKNILSKGNVVHIQNEEEIDVMLHQNAFVIIDTLMNNVFHS...\n",
      "2  fig|469598.5.peg.4299  MFFTAMKNILSKGNVVHIQNEEEIDVMLHQNAFVIIDTLMNNVFHS...\n",
      "3  fig|556266.3.peg.3698  MIFLMTKDSFLLQGFWQLKDNHEMIKINSLSEIKKVGNKPFKVIID...\n",
      "4  fig|679205.4.peg.3310  MFFTAMKNILSKGNVVHIQNEEEIDVMLHQNAFVIIDTLMNNVFHS...\n"
     ]
    }
   ],
   "source": [
    "#Read your blast results csv in\n",
    "df = pd.read_csv(\"C:\\\\Users\\\\cmgro\\\\Downloads\\\\gadE_blast.csv\")\n",
    "#Show the first 5 rows\n",
    "print(df.head())\n",
    "#Temp lists to attatch variables \n",
    "ids = []\n",
    "seqs = []\n",
    "#Seq.IO.parse is. an easy way to read through every gene/prot in a fasta file \n",
    "for record in SeqIO.parse(\"C:\\\\Users\\\\cmgro\\\\Downloads\\\\gadE.fasta\", \"fasta\"):\n",
    "    # So the fasta ID line is fig|1240239.3.peg.2328|XFF4834R_chr22840|VBIXanFus78442_2328|\n",
    "    # but we only need the first two elements (\"fig and 1240239.3.peg.2328\") to make fig|1240239.3.peg.2328\n",
    "    # We then use this ID to merge back onto the original dataframe (basically we say if this row has this ID, add the sequence to that row)\n",
    "    \n",
    "    #Fancy way of extracting the ID\n",
    "    ids.append(\"|\".join(record.id.split(\"|\")[0:2]))\n",
    "    #Fancy way of extracting the sequence \n",
    "    seqs.append(str(record.seq))\n",
    "#making a new dataframe from this info \n",
    "seq_df = pd.DataFrame.from_dict({\"PATRIC ID\": ids, \"Sequences\":seqs})\n",
    "print(seq_df.head())\n",
    "#Mergine back and saving \n",
    "df = df.merge(seq_df, on=\"PATRIC ID\")\n",
    "df.to_csv(\"/Users/cmgro/Downloads/merged_gadE.csv\")"
   ]
  },
  {
   "cell_type": "code",
   "execution_count": 4,
   "metadata": {},
   "outputs": [
    {
     "name": "stdout",
     "output_type": "stream",
     "text": [
      "<class 'pandas.core.frame.DataFrame'>\n",
      "Int64Index: 4 entries, 0 to 3\n",
      "Data columns (total 18 columns):\n",
      " #   Column            Non-Null Count  Dtype  \n",
      "---  ------            --------------  -----  \n",
      " 0   Unnamed: 0        4 non-null      int64  \n",
      " 1   Genome            4 non-null      object \n",
      " 2   Genome ID         4 non-null      float64\n",
      " 3   PATRIC ID         4 non-null      object \n",
      " 4   RefSeq Locus Tag  4 non-null      object \n",
      " 5   Gene              0 non-null      float64\n",
      " 6   Product           4 non-null      object \n",
      " 7   Length (NT)       4 non-null      int64  \n",
      " 8   Length (AA)       4 non-null      int64  \n",
      " 9   ALN Length        4 non-null      int64  \n",
      " 10  Identity          4 non-null      int64  \n",
      " 11  Query cover       4 non-null      int64  \n",
      " 12  Subject cover     4 non-null      int64  \n",
      " 13  Hit from          4 non-null      int64  \n",
      " 14  Hit to            4 non-null      int64  \n",
      " 15  Score             4 non-null      int64  \n",
      " 16  E value           4 non-null      float64\n",
      " 17  Sequences         4 non-null      object \n",
      "dtypes: float64(3), int64(10), object(5)\n",
      "memory usage: 608.0+ bytes\n",
      "None\n",
      "{'Transcriptional activator GadE': 4, 'Transcriptional regulator DctR, LuxR family': 4}\n",
      "{'Transcriptional activator GadE': 4}\n"
     ]
    }
   ],
   "source": [
    "# reads blast results\n",
    "df = pd.read_csv(\"C:\\\\Users\\\\cmgro\\\\Downloads\\\\merged_gadE.csv\")\n",
    "\n",
    "#print(df.info()) - counted 35 entries\n",
    "\n",
    "# filters out entries with query cover and identity values less than 50%\n",
    "df_filtered = df[(df[\"Identity\"] > 50) &(df[\"Query cover\"] > 50)]\n",
    "\n",
    "# prints info on the new dataframe \n",
    "print(df_filtered.info())\n",
    "\n",
    "def count_types(types):\n",
    "    types_counts = {}\n",
    "    for i in types:\n",
    "        if i in types_counts.keys():\n",
    "            types_counts[i] += 1\n",
    "        else: \n",
    "            types_counts[i] = 1\n",
    "    return types_counts\n",
    "print(count_types(df[\"Product\"]))\n",
    "print(count_types(df_filtered[\"Product\"]))"
   ]
  },
  {
   "cell_type": "code",
   "execution_count": null,
   "metadata": {},
   "outputs": [],
   "source": []
  }
 ],
 "metadata": {
  "kernelspec": {
   "display_name": "Python 3",
   "language": "python",
   "name": "python3"
  },
  "language_info": {
   "codemirror_mode": {
    "name": "ipython",
    "version": 3
   },
   "file_extension": ".py",
   "mimetype": "text/x-python",
   "name": "python",
   "nbconvert_exporter": "python",
   "pygments_lexer": "ipython3",
   "version": "3.8.3"
  }
 },
 "nbformat": 4,
 "nbformat_minor": 4
}
