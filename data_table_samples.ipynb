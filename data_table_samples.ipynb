{
 "cells": [
  {
   "cell_type": "code",
   "execution_count": 29,
   "metadata": {},
   "outputs": [],
   "source": [
    "import pandas as pd"
   ]
  },
  {
   "cell_type": "code",
   "execution_count": 35,
   "metadata": {},
   "outputs": [
    {
     "data": {
      "text/html": [
       "<div>\n",
       "<style scoped>\n",
       "    .dataframe tbody tr th:only-of-type {\n",
       "        vertical-align: middle;\n",
       "    }\n",
       "\n",
       "    .dataframe tbody tr th {\n",
       "        vertical-align: top;\n",
       "    }\n",
       "\n",
       "    .dataframe thead th {\n",
       "        text-align: right;\n",
       "    }\n",
       "</style>\n",
       "<table border=\"1\" class=\"dataframe\">\n",
       "  <thead>\n",
       "    <tr style=\"text-align: right;\">\n",
       "      <th></th>\n",
       "      <th>Products</th>\n",
       "      <th>Number of Products</th>\n",
       "      <th>Number of Products When Filtered by Query Cover and Identity</th>\n",
       "    </tr>\n",
       "  </thead>\n",
       "  <tbody>\n",
       "    <tr>\n",
       "      <th>0</th>\n",
       "      <td>Glutamate decarboxylase</td>\n",
       "      <td>500</td>\n",
       "      <td>294</td>\n",
       "    </tr>\n",
       "  </tbody>\n",
       "</table>\n",
       "</div>"
      ],
      "text/plain": [
       "                  Products Number of Products  \\\n",
       "0  Glutamate decarboxylase                500   \n",
       "\n",
       "  Number of Products When Filtered by Query Cover and Identity  \n",
       "0                                                294            "
      ]
     },
     "execution_count": 35,
     "metadata": {},
     "output_type": "execute_result"
    }
   ],
   "source": [
    "gadA = {'Products': ['Glutamate decarboxylase'], \n",
    "        'Number of Products': ['500'],\n",
    "        'Number of Products When Filtered by Query Cover and Identity': ['294']}  \n",
    "new = pd.DataFrame.from_dict(gadA) \n",
    "  \n",
    "new "
   ]
  },
  {
   "cell_type": "code",
   "execution_count": 34,
   "metadata": {},
   "outputs": [
    {
     "data": {
      "text/html": [
       "<div>\n",
       "<style scoped>\n",
       "    .dataframe tbody tr th:only-of-type {\n",
       "        vertical-align: middle;\n",
       "    }\n",
       "\n",
       "    .dataframe tbody tr th {\n",
       "        vertical-align: top;\n",
       "    }\n",
       "\n",
       "    .dataframe thead th {\n",
       "        text-align: right;\n",
       "    }\n",
       "</style>\n",
       "<table border=\"1\" class=\"dataframe\">\n",
       "  <thead>\n",
       "    <tr style=\"text-align: right;\">\n",
       "      <th></th>\n",
       "      <th>Products</th>\n",
       "      <th>Number of Products</th>\n",
       "      <th>Number of Products When Filtered by Query Cover and Identity</th>\n",
       "    </tr>\n",
       "  </thead>\n",
       "  <tbody>\n",
       "    <tr>\n",
       "      <th>0</th>\n",
       "      <td>Glutamate decarboxylase</td>\n",
       "      <td>500</td>\n",
       "      <td>299</td>\n",
       "    </tr>\n",
       "  </tbody>\n",
       "</table>\n",
       "</div>"
      ],
      "text/plain": [
       "                  Products Number of Products  \\\n",
       "0  Glutamate decarboxylase                500   \n",
       "\n",
       "  Number of Products When Filtered by Query Cover and Identity  \n",
       "0                                                299            "
      ]
     },
     "execution_count": 34,
     "metadata": {},
     "output_type": "execute_result"
    }
   ],
   "source": [
    "gadB = {'Products': ['Glutamate decarboxylase'], \n",
    "        'Number of Products': ['500'],\n",
    "        'Number of Products When Filtered by Query Cover and Identity': ['299']}  \n",
    "new = pd.DataFrame.from_dict(gadB) \n",
    "  \n",
    "new "
   ]
  },
  {
   "cell_type": "code",
   "execution_count": 33,
   "metadata": {},
   "outputs": [
    {
     "data": {
      "text/html": [
       "<div>\n",
       "<style scoped>\n",
       "    .dataframe tbody tr th:only-of-type {\n",
       "        vertical-align: middle;\n",
       "    }\n",
       "\n",
       "    .dataframe tbody tr th {\n",
       "        vertical-align: top;\n",
       "    }\n",
       "\n",
       "    .dataframe thead th {\n",
       "        text-align: right;\n",
       "    }\n",
       "</style>\n",
       "<table border=\"1\" class=\"dataframe\">\n",
       "  <thead>\n",
       "    <tr style=\"text-align: right;\">\n",
       "      <th></th>\n",
       "      <th>Products</th>\n",
       "      <th>Number of Products</th>\n",
       "      <th>Number of Products When Filtered by Query Cover and Identity</th>\n",
       "    </tr>\n",
       "  </thead>\n",
       "  <tbody>\n",
       "    <tr>\n",
       "      <th>0</th>\n",
       "      <td>Probable glutamate/gamma-aminobutyrate antiporter</td>\n",
       "      <td>314</td>\n",
       "      <td>93</td>\n",
       "    </tr>\n",
       "    <tr>\n",
       "      <th>1</th>\n",
       "      <td>hypothetical protein</td>\n",
       "      <td>62</td>\n",
       "      <td>0</td>\n",
       "    </tr>\n",
       "    <tr>\n",
       "      <th>2</th>\n",
       "      <td>Uncharacterized amino acid permease, GabP family</td>\n",
       "      <td>47</td>\n",
       "      <td>0</td>\n",
       "    </tr>\n",
       "    <tr>\n",
       "      <th>3</th>\n",
       "      <td>Amino acid permease family protein</td>\n",
       "      <td>1</td>\n",
       "      <td>0</td>\n",
       "    </tr>\n",
       "    <tr>\n",
       "      <th>4</th>\n",
       "      <td>Glutamate/gamma-aminobutyrate antiporter</td>\n",
       "      <td>56</td>\n",
       "      <td>0</td>\n",
       "    </tr>\n",
       "    <tr>\n",
       "      <th>5</th>\n",
       "      <td>Amino acid transporter</td>\n",
       "      <td>6</td>\n",
       "      <td>0</td>\n",
       "    </tr>\n",
       "    <tr>\n",
       "      <th>6</th>\n",
       "      <td>amino acid antiporter</td>\n",
       "      <td>9</td>\n",
       "      <td>0</td>\n",
       "    </tr>\n",
       "    <tr>\n",
       "      <th>7</th>\n",
       "      <td>Putative amino acid transporter</td>\n",
       "      <td>5</td>\n",
       "      <td>0</td>\n",
       "    </tr>\n",
       "  </tbody>\n",
       "</table>\n",
       "</div>"
      ],
      "text/plain": [
       "                                            Products Number of Products  \\\n",
       "0  Probable glutamate/gamma-aminobutyrate antiporter                314   \n",
       "1                               hypothetical protein                 62   \n",
       "2   Uncharacterized amino acid permease, GabP family                 47   \n",
       "3                 Amino acid permease family protein                  1   \n",
       "4           Glutamate/gamma-aminobutyrate antiporter                 56   \n",
       "5                             Amino acid transporter                  6   \n",
       "6                              amino acid antiporter                  9   \n",
       "7                    Putative amino acid transporter                  5   \n",
       "\n",
       "  Number of Products When Filtered by Query Cover and Identity  \n",
       "0                                                 93            \n",
       "1                                                  0            \n",
       "2                                                  0            \n",
       "3                                                  0            \n",
       "4                                                  0            \n",
       "5                                                  0            \n",
       "6                                                  0            \n",
       "7                                                  0            "
      ]
     },
     "execution_count": 33,
     "metadata": {},
     "output_type": "execute_result"
    }
   ],
   "source": [
    "gadC = {'Products': ['Probable glutamate/gamma-aminobutyrate antiporter', 'hypothetical protein'\n",
    "                     , 'Uncharacterized amino acid permease, GabP family', \n",
    "                    'Amino acid permease family protein', 'Glutamate/gamma-aminobutyrate antiporter',\n",
    "                    'Amino acid transporter', 'amino acid antiporter', \n",
    "                    'Putative amino acid transporter'], \n",
    "        'Number of Products': ['314', '62', '47', '1', '56', '6', '9', '5'],\n",
    "        'Number of Products When Filtered by Query Cover and Identity': ['93', '0', '0', '0', '0', '0',\n",
    "                                                                   '0', '0']}  \n",
    "new = pd.DataFrame.from_dict(gadC) \n",
    "  \n",
    "new "
   ]
  }
 ],
 "metadata": {
  "kernelspec": {
   "display_name": "Python 3",
   "language": "python",
   "name": "python3"
  },
  "language_info": {
   "codemirror_mode": {
    "name": "ipython",
    "version": 3
   },
   "file_extension": ".py",
   "mimetype": "text/x-python",
   "name": "python",
   "nbconvert_exporter": "python",
   "pygments_lexer": "ipython3",
   "version": "3.8.3"
  }
 },
 "nbformat": 4,
 "nbformat_minor": 4
}
