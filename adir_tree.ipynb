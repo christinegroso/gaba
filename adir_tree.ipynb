{
 "cells": [
  {
   "cell_type": "code",
   "execution_count": 1,
   "metadata": {
    "scrolled": true
   },
   "outputs": [
    {
     "name": "stderr",
     "output_type": "stream",
     "text": [
      "C:\\Users\\cmgro\\anaconda3\\lib\\site-packages\\ete3-3.1.2-py3.7.egg\\ete3\\evol\\parser\\codemlparser.py:221: SyntaxWarning: \"is\" with a literal. Did you mean \"==\"?\n",
      "C:\\Users\\cmgro\\anaconda3\\lib\\site-packages\\ete3-3.1.2-py3.7.egg\\ete3\\evol\\parser\\codemlparser.py:221: SyntaxWarning: \"is\" with a literal. Did you mean \"==\"?\n"
     ]
    }
   ],
   "source": [
    "import pandas as pd\n",
    "import numpy as np\n",
    "from ete3 import Tree, faces, AttrFace, TreeStyle, NodeStyle, NCBITaxa, random_color, TextFace, CircleFace, RectFace\n",
    "import random\n",
    "import glob"
   ]
  },
  {
   "cell_type": "code",
   "execution_count": 2,
   "metadata": {},
   "outputs": [],
   "source": [
    "####reference.csv is your genome group csv from patric \n",
    "df =pd.read_csv(\"C:\\\\Users\\\\cmgro\\\\Downloads\\\\genome_group_gi_strains.csv\", dtype={'Genome ID': str})"
   ]
  },
  {
   "cell_type": "code",
   "execution_count": 3,
   "metadata": {
    "scrolled": true
   },
   "outputs": [
    {
     "name": "stdout",
     "output_type": "stream",
     "text": [
      "{'585538.3', '665952.3'}\n"
     ]
    }
   ],
   "source": [
    "def parse_blast_results(file_path, cov=50, identity=30):\n",
    "    temp_df = pd.read_csv(file_path, dtype={'Genome ID': str})\n",
    "\n",
    "    temp_df = temp_df[(temp_df[\"Identity\"] > identity) &(temp_df[\"Query cover\"] > cov)]\n",
    "    return set(temp_df[\"Genome ID\"])\n",
    "#####Create one for each of your genes \n",
    "\n",
    "adiA_genomes = parse_blast_results(\"C:\\\\Users\\\\cmgro\\\\Downloads\\\\merged_adiA.csv\", identity=30, cov=50)\n",
    "adiC_genomes = parse_blast_results(\"C:\\\\Users\\\\cmgro\\\\Downloads\\\\merged_adiC.csv\", identity=30, cov=50)\n",
    "adiY_genomes = parse_blast_results(\"C:\\\\Users\\\\cmgro\\\\Downloads\\\\merged_adiY.csv\", identity=30, cov=50)\n",
    "CsrA_genomes = parse_blast_results(\"C:\\\\Users\\\\cmgro\\\\Downloads\\\\merged_CsrA.csv\", identity=40)\n",
    "CsrD_genomes = parse_blast_results(\"C:\\\\Users\\\\cmgro\\\\Downloads\\\\merged_CsrD.csv\", identity=20, cov=50)\n",
    "sdiA_genomes = parse_blast_results(\"C:\\\\Users\\\\cmgro\\\\Downloads\\\\merged_sdiA.csv\", identity=20, cov=30)\n",
    "uvrY_genomes = parse_blast_results(\"C:\\\\Users\\\\cmgro\\\\Downloads\\\\merged_uvrY.csv\", identity=30, cov=50)\n",
    "#These parameters look funky and they are and are subject to change\n",
    "fliw_genomes = parse_blast_results(\"C:\\\\Users\\\\cmgro\\\\Downloads\\\\mark_ex3.csv\", identity=30, cov=30)\n",
    "print(fliw_genomes)"
   ]
  },
  {
   "cell_type": "code",
   "execution_count": 4,
   "metadata": {
    "scrolled": true
   },
   "outputs": [
    {
     "ename": "KeyError",
     "evalue": "7",
     "output_type": "error",
     "traceback": [
      "\u001b[1;31m---------------------------------------------------------------------------\u001b[0m",
      "\u001b[1;31mKeyError\u001b[0m                                  Traceback (most recent call last)",
      "\u001b[1;32m<ipython-input-4-609dc5b566b6>\u001b[0m in \u001b[0;36m<module>\u001b[1;34m\u001b[0m\n\u001b[0;32m     91\u001b[0m     \u001b[0mts\u001b[0m\u001b[1;33m.\u001b[0m\u001b[0mlegend\u001b[0m\u001b[1;33m.\u001b[0m\u001b[0madd_face\u001b[0m\u001b[1;33m(\u001b[0m\u001b[0mRectFace\u001b[0m\u001b[1;33m(\u001b[0m\u001b[1;36m500\u001b[0m\u001b[1;33m,\u001b[0m \u001b[1;36m30\u001b[0m\u001b[1;33m,\u001b[0m \u001b[0mlineage_colors\u001b[0m\u001b[1;33m[\u001b[0m\u001b[0mj\u001b[0m\u001b[1;33m]\u001b[0m\u001b[1;33m,\u001b[0m \u001b[0mlineage_colors\u001b[0m\u001b[1;33m[\u001b[0m\u001b[0mj\u001b[0m\u001b[1;33m]\u001b[0m\u001b[1;33m)\u001b[0m\u001b[1;33m,\u001b[0m \u001b[0mcolumn\u001b[0m\u001b[1;33m=\u001b[0m\u001b[0mi\u001b[0m\u001b[1;33m)\u001b[0m\u001b[1;33m\u001b[0m\u001b[1;33m\u001b[0m\u001b[0m\n\u001b[0;32m     92\u001b[0m     \u001b[0mts\u001b[0m\u001b[1;33m.\u001b[0m\u001b[0mlegend\u001b[0m\u001b[1;33m.\u001b[0m\u001b[0madd_face\u001b[0m\u001b[1;33m(\u001b[0m\u001b[0mTextFace\u001b[0m\u001b[1;33m(\u001b[0m\u001b[0mj\u001b[0m\u001b[1;33m,\u001b[0m \u001b[0mfsize\u001b[0m\u001b[1;33m=\u001b[0m\u001b[1;36m30\u001b[0m\u001b[1;33m)\u001b[0m\u001b[1;33m,\u001b[0m \u001b[0mcolumn\u001b[0m\u001b[1;33m=\u001b[0m\u001b[0mi\u001b[0m\u001b[1;33m)\u001b[0m\u001b[1;33m\u001b[0m\u001b[1;33m\u001b[0m\u001b[0m\n\u001b[1;32m---> 93\u001b[1;33m \u001b[0mtree\u001b[0m\u001b[1;33m.\u001b[0m\u001b[0mrender\u001b[0m\u001b[1;33m(\u001b[0m\u001b[1;34m\"adir_tree.pdf\"\u001b[0m\u001b[1;33m,\u001b[0m \u001b[0mtree_style\u001b[0m\u001b[1;33m=\u001b[0m\u001b[0mts\u001b[0m\u001b[1;33m)\u001b[0m\u001b[1;33m\u001b[0m\u001b[1;33m\u001b[0m\u001b[0m\n\u001b[0m\u001b[0;32m     94\u001b[0m \u001b[0mprint\u001b[0m\u001b[1;33m(\u001b[0m\u001b[1;34m\"Done\"\u001b[0m\u001b[1;33m)\u001b[0m\u001b[1;33m\u001b[0m\u001b[1;33m\u001b[0m\u001b[0m\n",
      "\u001b[1;32m~\\anaconda3\\lib\\site-packages\\ete3-3.1.2-py3.7.egg\\ete3\\coretype\\tree.py\u001b[0m in \u001b[0;36mrender\u001b[1;34m(self, file_name, layout, w, h, tree_style, units, dpi)\u001b[0m\n\u001b[0;32m   1390\u001b[0m                                   units=units, dpi=dpi, return_format=file_name)\n\u001b[0;32m   1391\u001b[0m         \u001b[1;32melse\u001b[0m\u001b[1;33m:\u001b[0m\u001b[1;33m\u001b[0m\u001b[1;33m\u001b[0m\u001b[0m\n\u001b[1;32m-> 1392\u001b[1;33m             return drawer.render_tree(self, file_name, w=w, h=h,\n\u001b[0m\u001b[0;32m   1393\u001b[0m                                     \u001b[0mlayout\u001b[0m\u001b[1;33m=\u001b[0m\u001b[0mlayout\u001b[0m\u001b[1;33m,\u001b[0m \u001b[0mtree_style\u001b[0m\u001b[1;33m=\u001b[0m\u001b[0mtree_style\u001b[0m\u001b[1;33m,\u001b[0m\u001b[1;33m\u001b[0m\u001b[1;33m\u001b[0m\u001b[0m\n\u001b[0;32m   1394\u001b[0m                                       units=units, dpi=dpi)\n",
      "\u001b[1;32m~\\anaconda3\\lib\\site-packages\\ete3-3.1.2-py3.7.egg\\ete3\\treeview\\drawer.py\u001b[0m in \u001b[0;36mrender_tree\u001b[1;34m(t, imgName, w, h, layout, tree_style, header, units, dpi)\u001b[0m\n\u001b[0;32m    102\u001b[0m         \u001b[0mn\u001b[0m\u001b[1;33m.\u001b[0m\u001b[0madd_feature\u001b[0m\u001b[1;33m(\u001b[0m\u001b[1;34m\"_nid\"\u001b[0m\u001b[1;33m,\u001b[0m \u001b[0mnid\u001b[0m\u001b[1;33m)\u001b[0m\u001b[1;33m\u001b[0m\u001b[1;33m\u001b[0m\u001b[0m\n\u001b[0;32m    103\u001b[0m     \u001b[0mscene\u001b[0m\u001b[1;33m,\u001b[0m \u001b[0mimg\u001b[0m \u001b[1;33m=\u001b[0m \u001b[0minit_scene\u001b[0m\u001b[1;33m(\u001b[0m\u001b[0mt\u001b[0m\u001b[1;33m,\u001b[0m \u001b[0mlayout\u001b[0m\u001b[1;33m,\u001b[0m \u001b[0mtree_style\u001b[0m\u001b[1;33m)\u001b[0m\u001b[1;33m\u001b[0m\u001b[1;33m\u001b[0m\u001b[0m\n\u001b[1;32m--> 104\u001b[1;33m     \u001b[0mtree_item\u001b[0m\u001b[1;33m,\u001b[0m \u001b[0mn2i\u001b[0m\u001b[1;33m,\u001b[0m \u001b[0mn2f\u001b[0m \u001b[1;33m=\u001b[0m \u001b[0mrender\u001b[0m\u001b[1;33m(\u001b[0m\u001b[0mt\u001b[0m\u001b[1;33m,\u001b[0m \u001b[0mimg\u001b[0m\u001b[1;33m)\u001b[0m\u001b[1;33m\u001b[0m\u001b[1;33m\u001b[0m\u001b[0m\n\u001b[0m\u001b[0;32m    105\u001b[0m \u001b[1;33m\u001b[0m\u001b[0m\n\u001b[0;32m    106\u001b[0m     \u001b[0mscene\u001b[0m\u001b[1;33m.\u001b[0m\u001b[0minit_values\u001b[0m\u001b[1;33m(\u001b[0m\u001b[0mt\u001b[0m\u001b[1;33m,\u001b[0m \u001b[0mimg\u001b[0m\u001b[1;33m,\u001b[0m \u001b[0mn2i\u001b[0m\u001b[1;33m,\u001b[0m \u001b[0mn2f\u001b[0m\u001b[1;33m)\u001b[0m\u001b[1;33m\u001b[0m\u001b[1;33m\u001b[0m\u001b[0m\n",
      "\u001b[1;32m~\\anaconda3\\lib\\site-packages\\ete3-3.1.2-py3.7.egg\\ete3\\treeview\\qt4_render.py\u001b[0m in \u001b[0;36mrender\u001b[1;34m(root_node, img, hide_root)\u001b[0m\n\u001b[0;32m    318\u001b[0m     \u001b[0mrender_floatings\u001b[0m\u001b[1;33m(\u001b[0m\u001b[0mn2i\u001b[0m\u001b[1;33m,\u001b[0m \u001b[0mn2f\u001b[0m\u001b[1;33m,\u001b[0m \u001b[0mimg\u001b[0m\u001b[1;33m,\u001b[0m \u001b[0mparent\u001b[0m\u001b[1;33m.\u001b[0m\u001b[0mfloat_layer\u001b[0m\u001b[1;33m,\u001b[0m \u001b[0mparent\u001b[0m\u001b[1;33m.\u001b[0m\u001b[0mfloat_behind_layer\u001b[0m\u001b[1;33m)\u001b[0m\u001b[1;33m\u001b[0m\u001b[1;33m\u001b[0m\u001b[0m\n\u001b[0;32m    319\u001b[0m \u001b[1;33m\u001b[0m\u001b[0m\n\u001b[1;32m--> 320\u001b[1;33m     \u001b[0maligned_region_width\u001b[0m \u001b[1;33m=\u001b[0m \u001b[0mrender_aligned_faces\u001b[0m\u001b[1;33m(\u001b[0m\u001b[0mimg\u001b[0m\u001b[1;33m,\u001b[0m \u001b[0mmainRect\u001b[0m\u001b[1;33m,\u001b[0m \u001b[0mparent\u001b[0m\u001b[1;33m.\u001b[0m\u001b[0mtree_layer\u001b[0m\u001b[1;33m,\u001b[0m \u001b[0mn2i\u001b[0m\u001b[1;33m,\u001b[0m \u001b[0mn2f\u001b[0m\u001b[1;33m)\u001b[0m\u001b[1;33m\u001b[0m\u001b[1;33m\u001b[0m\u001b[0m\n\u001b[0m\u001b[0;32m    321\u001b[0m \u001b[1;33m\u001b[0m\u001b[0m\n\u001b[0;32m    322\u001b[0m     \u001b[0mrender_backgrounds\u001b[0m\u001b[1;33m(\u001b[0m\u001b[0mimg\u001b[0m\u001b[1;33m,\u001b[0m \u001b[0mmainRect\u001b[0m\u001b[1;33m,\u001b[0m \u001b[0mparent\u001b[0m\u001b[1;33m.\u001b[0m\u001b[0mbg_layer\u001b[0m\u001b[1;33m,\u001b[0m \u001b[0mn2i\u001b[0m\u001b[1;33m,\u001b[0m \u001b[0mn2f\u001b[0m\u001b[1;33m)\u001b[0m\u001b[1;33m\u001b[0m\u001b[1;33m\u001b[0m\u001b[0m\n",
      "\u001b[1;32m~\\anaconda3\\lib\\site-packages\\ete3-3.1.2-py3.7.egg\\ete3\\treeview\\qt4_render.py\u001b[0m in \u001b[0;36mrender_aligned_faces\u001b[1;34m(img, mainRect, parent, n2i, n2f)\u001b[0m\n\u001b[0;32m    884\u001b[0m                 \u001b[0mfb\u001b[0m\u001b[1;33m.\u001b[0m\u001b[0msetup_grid\u001b[0m\u001b[1;33m(\u001b[0m\u001b[0mc2max_w\u001b[0m\u001b[1;33m,\u001b[0m \u001b[0mas_grid\u001b[0m\u001b[1;33m=\u001b[0m\u001b[1;32mFalse\u001b[0m\u001b[1;33m)\u001b[0m\u001b[1;33m\u001b[0m\u001b[1;33m\u001b[0m\u001b[0m\n\u001b[0;32m    885\u001b[0m \u001b[1;33m\u001b[0m\u001b[0m\n\u001b[1;32m--> 886\u001b[1;33m         \u001b[0mfb\u001b[0m\u001b[1;33m.\u001b[0m\u001b[0mrender\u001b[0m\u001b[1;33m(\u001b[0m\u001b[1;33m)\u001b[0m\u001b[1;33m\u001b[0m\u001b[1;33m\u001b[0m\u001b[0m\n\u001b[0m\u001b[0;32m    887\u001b[0m         \u001b[0mfb\u001b[0m\u001b[1;33m.\u001b[0m\u001b[0msetParentItem\u001b[0m\u001b[1;33m(\u001b[0m\u001b[0mitem\u001b[0m\u001b[1;33m.\u001b[0m\u001b[0mcontent\u001b[0m\u001b[1;33m)\u001b[0m\u001b[1;33m\u001b[0m\u001b[1;33m\u001b[0m\u001b[0m\n\u001b[0;32m    888\u001b[0m         \u001b[1;32mif\u001b[0m \u001b[0mimg\u001b[0m\u001b[1;33m.\u001b[0m\u001b[0mmode\u001b[0m \u001b[1;33m==\u001b[0m \u001b[1;34m\"c\"\u001b[0m\u001b[1;33m:\u001b[0m\u001b[1;33m\u001b[0m\u001b[1;33m\u001b[0m\u001b[0m\n",
      "\u001b[1;32m~\\anaconda3\\lib\\site-packages\\ete3-3.1.2-py3.7.egg\\ete3\\treeview\\qt4_face_render.py\u001b[0m in \u001b[0;36mrender\u001b[1;34m(self)\u001b[0m\n\u001b[0;32m    199\u001b[0m         \u001b[0mx\u001b[0m \u001b[1;33m=\u001b[0m \u001b[1;36m0\u001b[0m\u001b[1;33m\u001b[0m\u001b[1;33m\u001b[0m\u001b[0m\n\u001b[0;32m    200\u001b[0m         \u001b[1;32mfor\u001b[0m \u001b[0mc\u001b[0m \u001b[1;32min\u001b[0m \u001b[0mself\u001b[0m\u001b[1;33m.\u001b[0m\u001b[0mcolumns\u001b[0m\u001b[1;33m:\u001b[0m\u001b[1;33m\u001b[0m\u001b[1;33m\u001b[0m\u001b[0m\n\u001b[1;32m--> 201\u001b[1;33m             \u001b[0mmax_w\u001b[0m \u001b[1;33m=\u001b[0m \u001b[0mself\u001b[0m\u001b[1;33m.\u001b[0m\u001b[0mc2max_w\u001b[0m\u001b[1;33m[\u001b[0m\u001b[0mc\u001b[0m\u001b[1;33m]\u001b[0m\u001b[1;33m\u001b[0m\u001b[1;33m\u001b[0m\u001b[0m\n\u001b[0m\u001b[0;32m    202\u001b[0m             \u001b[0mfaces\u001b[0m \u001b[1;33m=\u001b[0m \u001b[0mself\u001b[0m\u001b[1;33m.\u001b[0m\u001b[0mcolumn2faces\u001b[0m\u001b[1;33m.\u001b[0m\u001b[0mget\u001b[0m\u001b[1;33m(\u001b[0m\u001b[0mc\u001b[0m\u001b[1;33m,\u001b[0m \u001b[1;33m[\u001b[0m\u001b[1;33m]\u001b[0m\u001b[1;33m)\u001b[0m\u001b[1;33m\u001b[0m\u001b[1;33m\u001b[0m\u001b[0m\n\u001b[0;32m    203\u001b[0m \u001b[1;33m\u001b[0m\u001b[0m\n",
      "\u001b[1;31mKeyError\u001b[0m: 7"
     ]
    }
   ],
   "source": [
    "#Create an object and assign it to the variable \n",
    "ncbi = NCBITaxa()\n",
    "\n",
    "\n",
    "#Dataframes are cool becuase becuase you can take a spreadsheet and slice out a whole column - trust me this is super useful \n",
    "ids = set(df[\"NCBI Taxon ID\"]) #use set to remove duplicates\n",
    "\n",
    "#Strains\n",
    "patric_id = list(df[\"Genome ID\"])\n",
    "strain_name = list(df[\"Genome Name\"])\n",
    "#Extract the tree\n",
    "tree = ncbi.get_topology(ids, intermediate_nodes=True)\n",
    "tree.get_ascii(attributes=[\"sci_name\"])\n",
    "\n",
    "\n",
    "lineages = {}\n",
    "for i in tree.traverse():\n",
    "    if len(i.named_lineage) > 5:\n",
    "        if i.named_lineage[4] in lineages.keys():\n",
    "            lineages[i.named_lineage[4]].append(i.name)\n",
    "        else:\n",
    "            lineages[i.named_lineage[4]] = [i.name]\n",
    "\n",
    "\n",
    "node_groups = {}\n",
    "lineage_colors = {\"Firmicutes\":\"Aquamarine\", \"Bacteroidetes/Chlorobi group\":\"LightCyan\", \"delta/epsilon subdivisions\":\"LightPink\", \n",
    "\"Gammaproteobacteria\":\"Gold\",  \"Fusobacteriia\":\"Violet\", \"Actinobacteria\":\"MistyRose\", \"Betaproteobacteria\":\"Gainsboro\", \"Alphaproteobacteria\": \"red\",\n",
    "                 \"Spirochaetia\": \"orange\", \"Verrucomicrobia\": \"yellow\"}\n",
    "\n",
    "for j in lineages.keys():\n",
    "    node_groups[j] = tree.get_common_ancestor(lineages[j])\n",
    "    temp_nest = NodeStyle()\n",
    "    temp_nest[\"bgcolor\"] = lineage_colors[j]\n",
    "    node_groups[j].set_style(temp_nest)\n",
    "\n",
    "for position, i in enumerate(patric_id):\n",
    "\n",
    "    if len(tree.search_nodes(name=i.split(\".\")[0])) > 0:\n",
    "            node = tree.search_nodes(name=i.split(\".\")[0])[0]\n",
    "    node.add_child(name=i)\n",
    "    for j in tree.search_nodes(name=i):\n",
    "        j.add_features(label=\"sci_name\")\n",
    "        j.sci_name = strain_name[position]\n",
    "\n",
    "\n",
    "\n",
    "def layout(node):\n",
    "    if node.is_leaf():\n",
    "        N = AttrFace(\"sci_name\", fsize=30)\n",
    "        faces.add_face_to_node(N, node, 0, position=\"branch-right\")\n",
    "        #####add an if statement for each of your genes, each column needs to be one higher than the one before it and make sure to use inuqie colors\n",
    "        #####You can make a seperate tree for each \"block\" or operon you are looking at, just amke sure to include csrA and csrD\n",
    "        if node.name in adiA_genomes:\n",
    "            circle = RectFace(60, 60, \"gray\",\"gray\")\n",
    "            faces.add_face_to_node(circle, position=\"aligned\", column=1, node=node)\n",
    "        if node.name in adiC_genomes:\n",
    "            circle = RectFace(60, 60, \"black\",\"orange\")\n",
    "            faces.add_face_to_node(circle, position=\"aligned\", column=2, node=node)\n",
    "        if node.name in adiY_genomes:\n",
    "            circle = RectFace(60, 60, \"black\",\"lightblue\")\n",
    "            faces.add_face_to_node(circle, position=\"aligned\", column=3, node=node)\n",
    "        if node.name in CsrA_genomes:\n",
    "            circle = RectFace(60, 60, \"darkblue\",\"darkblue\")\n",
    "            faces.add_face_to_node(circle, position=\"aligned\", column=4, node=node)\n",
    "        if node.name in CsrD_genomes:\n",
    "            circle = RectFace(60, 60, \"darkgreen\",\"darkgreen\")\n",
    "            faces.add_face_to_node(circle, position=\"aligned\", column=5, node=node)\n",
    "        if node.name in sdiA_genomes:\n",
    "            circle = RectFace(60, 60, \"black\",\"darkred\")\n",
    "            faces.add_face_to_node(circle, position=\"aligned\", column=6, node=node)\n",
    "        if node.name in uvrY_genomes:\n",
    "            circle = RectFace(60, 60, \"black\",\"yellow\")\n",
    "            faces.add_face_to_node(circle, position=\"aligned\", column=10, node=node)\n",
    "        # Adding Fliw since it implies if CsrA is present that it plays a different regulatory role than if csrD is present\n",
    "        if node.name in fliw_genomes:\n",
    "            circle = RectFace(60, 60, \"black\",\"pink\")\n",
    "            faces.add_face_to_node(circle, position=\"aligned\", column=13, node=node)\n",
    "                # Adding Fliw since it implies if CsrA is present that it plays a different regulatory role than if csrD is present\n",
    "       \n",
    "ts = TreeStyle()\n",
    "ts.branch_vertical_margin = 10\n",
    "ts.allow_face_overlap = False\n",
    "ts.show_scale = False\n",
    "ts.show_leaf_name = False\n",
    "ts.layout_fn = layout\n",
    "ts.mode = \"c\"\n",
    "ts.root_opening_factor = .25\n",
    "ts.optimal_scale_level = \"full\"\n",
    "ts.force_topology = True\n",
    "for i, j in enumerate(lineage_colors.keys()):\n",
    "    ts.legend.add_face(RectFace(500, 30, lineage_colors[j], lineage_colors[j]), column=i)\n",
    "    ts.legend.add_face(TextFace(j, fsize=30), column=i)\n",
    "tree.render(\"adir_tree.pdf\", tree_style=ts)\n",
    "print(\"Done\")"
   ]
  },
  {
   "cell_type": "code",
   "execution_count": null,
   "metadata": {},
   "outputs": [],
   "source": []
  },
  {
   "cell_type": "code",
   "execution_count": null,
   "metadata": {},
   "outputs": [],
   "source": []
  }
 ],
 "metadata": {
  "kernelspec": {
   "display_name": "Python 3",
   "language": "python",
   "name": "python3"
  },
  "language_info": {
   "codemirror_mode": {
    "name": "ipython",
    "version": 3
   },
   "file_extension": ".py",
   "mimetype": "text/x-python",
   "name": "python",
   "nbconvert_exporter": "python",
   "pygments_lexer": "ipython3",
   "version": "3.8.3"
  }
 },
 "nbformat": 4,
 "nbformat_minor": 2
}
