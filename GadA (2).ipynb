{
 "cells": [
  {
   "cell_type": "code",
   "execution_count": 1,
   "metadata": {},
   "outputs": [],
   "source": [
    "import pandas as pd\n",
    "from Bio import SeqIO"
   ]
  },
  {
   "cell_type": "code",
   "execution_count": 2,
   "metadata": {
    "scrolled": false
   },
   "outputs": [
    {
     "name": "stdout",
     "output_type": "stream",
     "text": [
      "                      Genome  Genome ID               PATRIC ID  \\\n",
      "0  Escherichia coli MS 145-7   679204.3   fig|679204.3.peg.3281   \n",
      "1  Escherichia coli MS 124-1   679205.4   fig|679205.4.peg.3324   \n",
      "2  Escherichia sp. 3_2_53FAA   469598.5   fig|469598.5.peg.4878   \n",
      "3    Akkermansia sp. KLE1605  1131336.3  fig|1131336.3.peg.3043   \n",
      "4  Escherichia coli MS 145-7   679204.3   fig|679204.3.peg.4613   \n",
      "\n",
      "   RefSeq Locus Tag  Gene                                Product  Length (NT)  \\\n",
      "0  HMPREF9348_03374   NaN  Glutamate decarboxylase (EC 4.1.1.15)         1401   \n",
      "1  HMPREF9347_03463   NaN  Glutamate decarboxylase (EC 4.1.1.15)         1401   \n",
      "2        ESAG_05076   NaN  Glutamate decarboxylase (EC 4.1.1.15)         1095   \n",
      "3  HMPREF1326_03106   NaN  Glutamate decarboxylase (EC 4.1.1.15)         1401   \n",
      "4  HMPREF9348_04779   NaN  Glutamate decarboxylase (EC 4.1.1.15)          879   \n",
      "\n",
      "   Length (AA)  ALN Length  Identity  Query cover  Subject cover  Hit from  \\\n",
      "0          466         466       100          100            100         1   \n",
      "1          466         466        99          100            100         1   \n",
      "2          364         364       100           78            100         1   \n",
      "3          466         466        63           97             97        15   \n",
      "4          292         292       100           63            100         1   \n",
      "\n",
      "   Hit to  Score  E value  \n",
      "0     466    974      0.0  \n",
      "1     466    965      0.0  \n",
      "2     364    762      0.0  \n",
      "3     466    619      0.0  \n",
      "4     292    606      0.0  \n",
      "                PATRIC ID                                          Sequences\n",
      "0  fig|1054213.3.peg.1269  MTDHPARMAAEEPEKMTPWDMFNMQVPTDHMPEKGVPARVAKAVVN...\n",
      "1  fig|1073351.3.peg.2213  MEDLNFRKGDAKTDVFGSNRMLQPSPVEKIPDGPTTPEIAYQMVKD...\n",
      "2  fig|1125694.3.peg.1349  MNKKTPSYSSLDDVYASVDLSQSLPKTHFPQQESHPRHVFDAVRDE...\n",
      "3  fig|1078086.3.peg.7608  MALHKGPQKPDERPMSVNPFFGEADPVAGMTEAPPRHRLPDAPMPS...\n",
      "4   fig|1203605.3.peg.285  MTPENQPSDPNSIELNPIFARPGEATALPKTRLPEEESLPETAYQI...\n"
     ]
    }
   ],
   "source": [
    "#Read your blast results csv in\n",
    "df = pd.read_csv(\"C:\\\\Users\\\\cmgro\\\\Downloads\\\\gadA_blast.csv\")\n",
    "#Show the first  rows\n",
    "print(df.head())\n",
    "#Temp lists to attatch5 variables \n",
    "ids = []\n",
    "seqs = []\n",
    "#Seq.IO.parse is. an easy way to read through every gene/prot in a fasta file \n",
    "for record in SeqIO.parse(\"C:\\\\Users\\\\cmgro\\\\Downloads\\\\gadA.fasta\", \"fasta\"):\n",
    "    # So the fasta ID line is fig|1240239.3.peg.2328|XFF4834R_chr22840|VBIXanFus78442_2328|\n",
    "    # but we only need the first two elements (\"fig and 1240239.3.peg.2328\") to make fig|1240239.3.peg.2328\n",
    "    # We then use this ID to merge back onto the original dataframe (basically we say if this row has this ID, add the sequence to that row)\n",
    "    \n",
    "    #Fancy way of extracting the ID\n",
    "    ids.append(\"|\".join(record.id.split(\"|\")[0:2]))\n",
    "    #Fancy way of extracting the sequence \n",
    "    seqs.append(str(record.seq))\n",
    "#making a new dataframe from this info \n",
    "seq_df = pd.DataFrame.from_dict({\"PATRIC ID\": ids, \"Sequences\":seqs})\n",
    "print(seq_df.head())\n",
    "#Mergine back and saving \n",
    "df = df.merge(seq_df, on=\"PATRIC ID\")\n",
    "df.to_csv(\"/Users/cmgro/Downloads/merged_gadA.csv\")"
   ]
  },
  {
   "cell_type": "code",
   "execution_count": 3,
   "metadata": {
    "scrolled": true
   },
   "outputs": [
    {
     "name": "stdout",
     "output_type": "stream",
     "text": [
      "<class 'pandas.core.frame.DataFrame'>\n",
      "Int64Index: 9 entries, 0 to 11\n",
      "Data columns (total 18 columns):\n",
      " #   Column            Non-Null Count  Dtype  \n",
      "---  ------            --------------  -----  \n",
      " 0   Unnamed: 0        9 non-null      int64  \n",
      " 1   Genome            9 non-null      object \n",
      " 2   Genome ID         9 non-null      float64\n",
      " 3   PATRIC ID         9 non-null      object \n",
      " 4   RefSeq Locus Tag  9 non-null      object \n",
      " 5   Gene              0 non-null      float64\n",
      " 6   Product           9 non-null      object \n",
      " 7   Length (NT)       9 non-null      int64  \n",
      " 8   Length (AA)       9 non-null      int64  \n",
      " 9   ALN Length        9 non-null      int64  \n",
      " 10  Identity          9 non-null      int64  \n",
      " 11  Query cover       9 non-null      int64  \n",
      " 12  Subject cover     9 non-null      int64  \n",
      " 13  Hit from          9 non-null      int64  \n",
      " 14  Hit to            9 non-null      int64  \n",
      " 15  Score             9 non-null      int64  \n",
      " 16  E value           9 non-null      float64\n",
      " 17  Sequences         9 non-null      object \n",
      "dtypes: float64(3), int64(10), object(5)\n",
      "memory usage: 1.3+ KB\n",
      "None\n",
      "{'Glutamate decarboxylase (EC 4.1.1.15)': 38, 'L-tyrosine decarboxylase (EC 4.1.1.25)': 1, 'glutamate decarboxylase': 1}\n",
      "{'Glutamate decarboxylase (EC 4.1.1.15)': 9}\n"
     ]
    }
   ],
   "source": [
    "# reads blast results\n",
    "df = pd.read_csv(\"C:\\\\Users\\\\cmgro\\\\Downloads\\\\merged_gadA.csv\")\n",
    "\n",
    "#print(df.info()) - counted 40 entries\n",
    "\n",
    "# filters out entries with query cover and identity values less than 50%\n",
    "df_filtered = df[(df[\"Identity\"] > 50) &(df[\"Query cover\"] > 50)]\n",
    "\n",
    "# prints info on the new dataframe \n",
    "print(df_filtered.info())\n",
    "\n",
    "def count_types(types):\n",
    "    types_counts = {}\n",
    "    for i in types:\n",
    "        if i in types_counts.keys():\n",
    "            types_counts[i] += 1\n",
    "        else: \n",
    "            types_counts[i] = 1\n",
    "    return types_counts\n",
    "print(count_types(df[\"Product\"]))\n",
    "print(count_types(df_filtered[\"Product\"]))"
   ]
  },
  {
   "cell_type": "code",
   "execution_count": null,
   "metadata": {},
   "outputs": [],
   "source": []
  }
 ],
 "metadata": {
  "kernelspec": {
   "display_name": "Python 3",
   "language": "python",
   "name": "python3"
  },
  "language_info": {
   "codemirror_mode": {
    "name": "ipython",
    "version": 3
   },
   "file_extension": ".py",
   "mimetype": "text/x-python",
   "name": "python",
   "nbconvert_exporter": "python",
   "pygments_lexer": "ipython3",
   "version": "3.8.3"
  }
 },
 "nbformat": 4,
 "nbformat_minor": 4
}
