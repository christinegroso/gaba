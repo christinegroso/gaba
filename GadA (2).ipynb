{
 "cells": [
  {
   "cell_type": "code",
   "execution_count": 2,
   "metadata": {},
   "outputs": [],
   "source": [
    "import pandas as pd\n",
    "from Bio import SeqIO"
   ]
  },
  {
   "cell_type": "code",
   "execution_count": 3,
   "metadata": {
    "scrolled": false
   },
   "outputs": [
    {
     "name": "stdout",
     "output_type": "stream",
     "text": [
      "                                      Genome  Genome ID  \\\n",
      "0  Escherichia coli str. K-12 substr. MG1655  511145.12   \n",
      "1                      Shigella sonnei Ss046  300269.12   \n",
      "2                      Shigella boydii Sb227  300268.11   \n",
      "3      Escherichia coli O83:H1 str. NRG 857C  685038.30   \n",
      "4                     Escherichia coli IAI39  585057.60   \n",
      "\n",
      "                PATRIC ID RefSeq Locus Tag  Gene  \\\n",
      "0  fig|511145.12.peg.3626            b3517  gadA   \n",
      "1  fig|300269.12.peg.4228        SSON_3569  gadA   \n",
      "2  fig|300268.11.peg.4243         SBO_3516  gadA   \n",
      "3   fig|685038.3.peg.3568     NRG857_17475   NaN   \n",
      "4   fig|585057.6.peg.4161     ECIAI39_4020  gadA   \n",
      "\n",
      "                                 Product  Length (NT)  Length (AA)  \\\n",
      "0  Glutamate decarboxylase (EC 4.1.1.15)         1401          466   \n",
      "1  Glutamate decarboxylase (EC 4.1.1.15)         1401          466   \n",
      "2  Glutamate decarboxylase (EC 4.1.1.15)         1401          466   \n",
      "3  Glutamate decarboxylase (EC 4.1.1.15)         1401          466   \n",
      "4  Glutamate decarboxylase (EC 4.1.1.15)         1401          466   \n",
      "\n",
      "   ALN Length  Identity  Query cover  Subject cover  Hit from  Hit to  Score  \\\n",
      "0         466        99          100            100         1     466    944   \n",
      "1         466        99          100            100         1     466    944   \n",
      "2         466        99          100            100         1     466    944   \n",
      "3         466        98          100            100         1     466    943   \n",
      "4         466        98          100            100         1     466    943   \n",
      "\n",
      "   E value  \n",
      "0      0.0  \n",
      "1      0.0  \n",
      "2      0.0  \n",
      "3      0.0  \n",
      "4      0.0  \n",
      "                 PATRIC ID                                          Sequences\n",
      "0  fig|1003195.29.peg.6962  MPLKHPHHQADHPGHGNRDIEVNPIFAREPLSVPRYALPSGEMEPE...\n",
      "1   fig|1003195.11.peg.556  MPLKHPHHQADHPGHGNRDIEVNPIFAREPLSVPRYALPSGEMEPE...\n",
      "2    fig|1001530.3.peg.267  MALHEVKRQNENDPIFGSDIINNVAATTKLPQHEQAPNVIYQMIRD...\n",
      "3   fig|101510.16.peg.6065  MSKHHHHHRDVISPAYTGRLSIDPFPALRLPDEETDPEAAYRFIHD...\n",
      "4    fig|102897.3.peg.3754  MALHGRAKGEHGDQTVAIRPHLAVPDADTTVPRFRLPRSSMPAATA...\n"
     ]
    }
   ],
   "source": [
    "#Read your blast results csv in\n",
    "df = pd.read_csv(\"C:\\\\Users\\\\cmgro\\\\Downloads\\\\gadA_blast.csv\")\n",
    "#Show the first  rows\n",
    "print(df.head())\n",
    "#Temp lists to attatch5 variables \n",
    "ids = []\n",
    "seqs = []\n",
    "#Seq.IO.parse is. an easy way to read through every gene/prot in a fasta file \n",
    "for record in SeqIO.parse(\"C:\\\\Users\\\\cmgro\\\\Downloads\\\\gadA_genome_feature.fasta\", \"fasta\"):\n",
    "    # So the fasta ID line is fig|1240239.3.peg.2328|XFF4834R_chr22840|VBIXanFus78442_2328|\n",
    "    # but we only need the first two elements (\"fig and 1240239.3.peg.2328\") to make fig|1240239.3.peg.2328\n",
    "    # We then use this ID to merge back onto the original dataframe (basically we say if this row has this ID, add the sequence to that row)\n",
    "    \n",
    "    #Fancy way of extracting the ID\n",
    "    ids.append(\"|\".join(record.id.split(\"|\")[0:2]))\n",
    "    #Fancy way of extracting the sequence \n",
    "    seqs.append(str(record.seq))\n",
    "#making a new dataframe from this info \n",
    "seq_df = pd.DataFrame.from_dict({\"PATRIC ID\": ids, \"Sequences\":seqs})\n",
    "print(seq_df.head())\n",
    "#Mergine back and saving \n",
    "df = df.merge(seq_df, on=\"PATRIC ID\")\n",
    "df.to_csv(\"/Users/cmgro/Downloads/merged_gadA.csv\")"
   ]
  },
  {
   "cell_type": "code",
   "execution_count": 5,
   "metadata": {
    "scrolled": true
   },
   "outputs": [
    {
     "name": "stdout",
     "output_type": "stream",
     "text": [
      "<class 'pandas.core.frame.DataFrame'>\n",
      "Int64Index: 294 entries, 0 to 492\n",
      "Data columns (total 18 columns):\n",
      " #   Column            Non-Null Count  Dtype  \n",
      "---  ------            --------------  -----  \n",
      " 0   Unnamed: 0        294 non-null    int64  \n",
      " 1   Genome            294 non-null    object \n",
      " 2   Genome ID         294 non-null    float64\n",
      " 3   PATRIC ID         294 non-null    object \n",
      " 4   RefSeq Locus Tag  187 non-null    object \n",
      " 5   Gene              41 non-null     object \n",
      " 6   Product           294 non-null    object \n",
      " 7   Length (NT)       294 non-null    int64  \n",
      " 8   Length (AA)       294 non-null    int64  \n",
      " 9   ALN Length        294 non-null    int64  \n",
      " 10  Identity          294 non-null    int64  \n",
      " 11  Query cover       294 non-null    int64  \n",
      " 12  Subject cover     294 non-null    int64  \n",
      " 13  Hit from          294 non-null    int64  \n",
      " 14  Hit to            294 non-null    int64  \n",
      " 15  Score             294 non-null    int64  \n",
      " 16  E value           294 non-null    float64\n",
      " 17  Sequences         294 non-null    object \n",
      "dtypes: float64(2), int64(10), object(6)\n",
      "memory usage: 43.6+ KB\n",
      "None\n",
      "{'Glutamate decarboxylase (EC 4.1.1.15)': 500}\n",
      "{'Glutamate decarboxylase (EC 4.1.1.15)': 294}\n"
     ]
    }
   ],
   "source": [
    "# reads blast results\n",
    "df = pd.read_csv(\"C:\\\\Users\\\\cmgro\\\\Downloads\\\\merged_gadA.csv\")\n",
    "\n",
    "#print(df.info()) - counted 500 entries\n",
    "\n",
    "# filters out entries with query cover and identity values less than 50%\n",
    "df_filtered = df[(df[\"Identity\"] > 50) &(df[\"Query cover\"] > 50)]\n",
    "\n",
    "# prints info on the new dataframe \n",
    "print(df_filtered.info())\n",
    "\n",
    "def count_types(types):\n",
    "    types_counts = {}\n",
    "    for i in types:\n",
    "        if i in types_counts.keys():\n",
    "            types_counts[i] += 1\n",
    "        else: \n",
    "            types_counts[i] = 1\n",
    "    return types_counts\n",
    "print(count_types(df[\"Product\"]))\n",
    "print(count_types(df_filtered[\"Product\"]))"
   ]
  },
  {
   "cell_type": "code",
   "execution_count": null,
   "metadata": {},
   "outputs": [],
   "source": []
  }
 ],
 "metadata": {
  "kernelspec": {
   "display_name": "Python 3",
   "language": "python",
   "name": "python3"
  },
  "language_info": {
   "codemirror_mode": {
    "name": "ipython",
    "version": 3
   },
   "file_extension": ".py",
   "mimetype": "text/x-python",
   "name": "python",
   "nbconvert_exporter": "python",
   "pygments_lexer": "ipython3",
   "version": "3.8.3"
  }
 },
 "nbformat": 4,
 "nbformat_minor": 4
}
