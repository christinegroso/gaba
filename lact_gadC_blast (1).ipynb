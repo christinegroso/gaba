{
 "cells": [
  {
   "cell_type": "code",
   "execution_count": 1,
   "metadata": {},
   "outputs": [],
   "source": [
    "import pandas as pd\n",
    "from Bio import SeqIO"
   ]
  },
  {
   "cell_type": "code",
   "execution_count": 2,
   "metadata": {},
   "outputs": [
    {
     "name": "stdout",
     "output_type": "stream",
     "text": [
      "<class 'pandas.core.frame.DataFrame'>\n",
      "RangeIndex: 12 entries, 0 to 11\n",
      "Data columns (total 16 columns):\n",
      " #   Column            Non-Null Count  Dtype  \n",
      "---  ------            --------------  -----  \n",
      " 0   Genome            12 non-null     object \n",
      " 1   Genome ID         12 non-null     float64\n",
      " 2   PATRIC ID         12 non-null     object \n",
      " 3   RefSeq Locus Tag  12 non-null     object \n",
      " 4   Gene              0 non-null      float64\n",
      " 5   Product           12 non-null     object \n",
      " 6   Length (NT)       12 non-null     int64  \n",
      " 7   Length (AA)       12 non-null     int64  \n",
      " 8   ALN Length        12 non-null     int64  \n",
      " 9   Identity          12 non-null     int64  \n",
      " 10  Query cover       12 non-null     int64  \n",
      " 11  Subject cover     12 non-null     int64  \n",
      " 12  Hit from          12 non-null     int64  \n",
      " 13  Hit to            12 non-null     int64  \n",
      " 14  Score             12 non-null     int64  \n",
      " 15  E value           12 non-null     float64\n",
      "dtypes: float64(3), int64(9), object(4)\n",
      "memory usage: 1.6+ KB\n",
      "None\n",
      "<class 'pandas.core.frame.DataFrame'>\n",
      "Int64Index: 0 entries\n",
      "Data columns (total 16 columns):\n",
      " #   Column            Non-Null Count  Dtype  \n",
      "---  ------            --------------  -----  \n",
      " 0   Genome            0 non-null      object \n",
      " 1   Genome ID         0 non-null      float64\n",
      " 2   PATRIC ID         0 non-null      object \n",
      " 3   RefSeq Locus Tag  0 non-null      object \n",
      " 4   Gene              0 non-null      float64\n",
      " 5   Product           0 non-null      object \n",
      " 6   Length (NT)       0 non-null      int64  \n",
      " 7   Length (AA)       0 non-null      int64  \n",
      " 8   ALN Length        0 non-null      int64  \n",
      " 9   Identity          0 non-null      int64  \n",
      " 10  Query cover       0 non-null      int64  \n",
      " 11  Subject cover     0 non-null      int64  \n",
      " 12  Hit from          0 non-null      int64  \n",
      " 13  Hit to            0 non-null      int64  \n",
      " 14  Score             0 non-null      int64  \n",
      " 15  E value           0 non-null      float64\n",
      "dtypes: float64(3), int64(9), object(4)\n",
      "memory usage: 0.0+ bytes\n",
      "None\n",
      "{'Probable glutamate/gamma-aminobutyrate antiporter': 1, 'Amino acid permease family protein': 1, 'Agmatine/putrescine antiporter, associated with agmatine catabolism': 1, 'Inner membrane transporter YjeM': 2, 'Amino acid permease-associated region': 1, 'Uncharacterized amino acid permease, GabP family': 2, 'Arginine/ornithine antiporter ArcD': 2, 'Lysine-specific permease': 1, 'Uncharacterized transporter YbxG': 1}\n",
      "{}\n"
     ]
    }
   ],
   "source": [
    "# reads blast results\n",
    "df = pd.read_csv(\"C:\\\\Users\\\\cmgro\\\\Downloads\\\\lact_gadC_blast.csv\")\n",
    "\n",
    "print(df.info())\n",
    "\n",
    "# filters out entries with query cover and identity values less than 50%\n",
    "df_filtered = df[(df[\"Identity\"] > 50) &(df[\"Query cover\"] > 50)]\n",
    "\n",
    "# prints info on the new dataframe \n",
    "print(df_filtered.info())\n",
    "\n",
    "def count_types(types):\n",
    "    types_counts = {}\n",
    "    for i in types:\n",
    "        if i in types_counts.keys():\n",
    "            types_counts[i] += 1\n",
    "        else: \n",
    "            types_counts[i] = 1\n",
    "    return types_counts\n",
    "print(count_types(df[\"Product\"]))\n",
    "print(count_types(df_filtered[\"Product\"]))"
   ]
  }
 ],
 "metadata": {
  "kernelspec": {
   "display_name": "Python 3",
   "language": "python",
   "name": "python3"
  },
  "language_info": {
   "codemirror_mode": {
    "name": "ipython",
    "version": 3
   },
   "file_extension": ".py",
   "mimetype": "text/x-python",
   "name": "python",
   "nbconvert_exporter": "python",
   "pygments_lexer": "ipython3",
   "version": "3.8.3"
  }
 },
 "nbformat": 4,
 "nbformat_minor": 4
}
