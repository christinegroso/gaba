{
 "cells": [
  {
   "cell_type": "code",
   "execution_count": 1,
   "metadata": {},
   "outputs": [],
   "source": [
    "import pandas as pd\n",
    "from Bio import SeqIO"
   ]
  },
  {
   "cell_type": "code",
   "execution_count": 2,
   "metadata": {},
   "outputs": [
    {
     "name": "stdout",
     "output_type": "stream",
     "text": [
      "                                      Genome  Genome ID  \\\n",
      "0      Escherichia coli O83:H1 str. NRG 857C   685038.3   \n",
      "1                     Escherichia coli IAI39   585057.6   \n",
      "2                    Escherichia coli UMN026   585056.7   \n",
      "3                            Shigella sp. D9   556266.3   \n",
      "4  Escherichia coli str. K-12 substr. MG1655  511145.12   \n",
      "\n",
      "                PATRIC ID    RefSeq Locus Tag  Gene  \\\n",
      "0   fig|685038.3.peg.4216        NRG857_20640   NaN   \n",
      "1   fig|585057.6.peg.4688        ECIAI39_4539  adiC   \n",
      "2   fig|585056.7.peg.4811          ECUMN_4647  adiC   \n",
      "3   fig|556266.3.peg.2563  ShiD9_010100012640   NaN   \n",
      "4  fig|511145.12.peg.4246               b4115  adiC   \n",
      "\n",
      "                        Product Length (NT)  Length (AA)  ALN Length  \\\n",
      "0  Arginine/agmatine antiporter        1338          445         445   \n",
      "1  Arginine/agmatine antiporter        1338          445         445   \n",
      "2  Arginine/agmatine antiporter        1338          445         445   \n",
      "3  Arginine/agmatine antiporter        1338          445         445   \n",
      "4  Arginine/agmatine antiporter        1338          445         445   \n",
      "\n",
      "   Identity  Query cover  Subject cover  Hit from  Hit to  Score  E value  \\\n",
      "0        98          100            100         1     445    851      0.0   \n",
      "1        98          100            100         1     445    851      0.0   \n",
      "2        98          100            100         1     445    851      0.0   \n",
      "3        98          100            100         1     445    851      0.0   \n",
      "4        98          100            100         1     445    851      0.0   \n",
      "\n",
      "   Unnamed: 16  \n",
      "0          NaN  \n",
      "1          NaN  \n",
      "2          NaN  \n",
      "3          NaN  \n",
      "4          NaN  \n",
      "                PATRIC ID                                          Sequences\n",
      "0  fig|1002368.3.peg.2244  MAIKKLSVVQLTMLTAINMLGSGIILLPTKLAQVGNISIVSWLVTA...\n",
      "1   fig|1001530.3.peg.788  MSSSSNKMGLMGLTTIVTVNMMGSGIILLPSSLAATGGIALLAWVI...\n",
      "2  fig|1002368.3.peg.1789  MSSAKKIGLFACTGVVAGNMMGSGIALLPANLASIGSIAIWGWVIA...\n",
      "3  fig|1001530.3.peg.2383  MSSDTSTKKMGLVGLTVLVAVNMMGSGIIMLPASLAQVGAISMLSW...\n",
      "4   fig|100480.3.peg.1369  MPEVIREQNKLGLWTSTSLVVGNMIGAGIFLMPAAMANFGSIGLLG...\n"
     ]
    }
   ],
   "source": [
    "#Read your blast results csv in\n",
    "df = pd.read_csv(\"C:\\\\Users\\\\cmgro\\\\Downloads\\\\adiC_blast.csv\")\n",
    "#Show the first  rows\n",
    "print(df.head())\n",
    "#Temp lists to attatch5 variables \n",
    "ids = []\n",
    "seqs = []\n",
    "#Seq.IO.parse is. an easy way to read through every gene/prot in a fasta file \n",
    "for record in SeqIO.parse(\"C:\\\\Users\\\\cmgro\\\\Downloads\\\\adiC.fasta\", \"fasta\"):\n",
    "    # So the fasta ID line is fig|1240239.3.peg.2328|XFF4834R_chr22840|VBIXanFus78442_2328|\n",
    "    # but we only need the first two elements (\"fig and 1240239.3.peg.2328\") to make fig|1240239.3.peg.2328\n",
    "    # We then use this ID to merge back onto the original dataframe (basically we say if this row has this ID, add the sequence to that row)\n",
    "    \n",
    "    #Fancy way of extracting the ID\n",
    "    ids.append(\"|\".join(record.id.split(\"|\")[0:2]))\n",
    "    #Fancy way of extracting the sequence \n",
    "    seqs.append(str(record.seq))\n",
    "#making a new dataframe from this info \n",
    "seq_df = pd.DataFrame.from_dict({\"PATRIC ID\": ids, \"Sequences\":seqs})\n",
    "print(seq_df.head())\n",
    "#Mergine back and saving \n",
    "df = df.merge(seq_df, on=\"PATRIC ID\")\n",
    "df.to_csv(\"/Users/cmgro/Downloads/merged_adiC.csv\")"
   ]
  },
  {
   "cell_type": "code",
   "execution_count": 3,
   "metadata": {},
   "outputs": [
    {
     "name": "stdout",
     "output_type": "stream",
     "text": [
      "<class 'pandas.core.frame.DataFrame'>\n",
      "Int64Index: 62 entries, 0 to 238\n",
      "Data columns (total 19 columns):\n",
      " #   Column            Non-Null Count  Dtype  \n",
      "---  ------            --------------  -----  \n",
      " 0   Unnamed: 0        62 non-null     int64  \n",
      " 1   Genome            62 non-null     object \n",
      " 2   Genome ID         62 non-null     float64\n",
      " 3   PATRIC ID         62 non-null     object \n",
      " 4   RefSeq Locus Tag  53 non-null     object \n",
      " 5   Gene              18 non-null     object \n",
      " 6   Product           62 non-null     object \n",
      " 7   Length (NT)       62 non-null     int64  \n",
      " 8   Length (AA)       62 non-null     int64  \n",
      " 9   ALN Length        62 non-null     int64  \n",
      " 10  Identity          62 non-null     int64  \n",
      " 11  Query cover       62 non-null     int64  \n",
      " 12  Subject cover     62 non-null     int64  \n",
      " 13  Hit from          62 non-null     int64  \n",
      " 14  Hit to            62 non-null     int64  \n",
      " 15  Score             62 non-null     int64  \n",
      " 16  E value           62 non-null     float64\n",
      " 17  Unnamed: 16       0 non-null      float64\n",
      " 18  Sequences         62 non-null     object \n",
      "dtypes: float64(3), int64(10), object(6)\n",
      "memory usage: 9.7+ KB\n",
      "None\n",
      "{'Arginine/agmatine antiporter': 84, 'Lysine/cadaverine antiporter membrane protein CadB': 173, 'hypothetical protein': 16, 'Putrescine/proton symporter, putrescine/ornithine antiporter PotE': 207, 'Uncharacterized amino acid permease, GabP family': 16, 'Arginine/ornithine antiporter ArcD': 1}\n",
      "{'Arginine/agmatine antiporter': 59, 'Lysine/cadaverine antiporter membrane protein CadB': 3}\n"
     ]
    }
   ],
   "source": [
    "# reads blast results\n",
    "df = pd.read_csv(\"C:\\\\Users\\\\cmgro\\\\Downloads\\\\merged_adiC.csv\")\n",
    "\n",
    "#print(df.info()) - counted 500 entries\n",
    "\n",
    "# filters out entries with query cover and identity values less than 50%\n",
    "df_filtered = df.loc[(df['Query cover']>=50) & (df['Identity']>=50)]\n",
    "\n",
    "# prints info on the new dataframe \n",
    "print(df_filtered.info())\n",
    "\n",
    "def count_types(types):\n",
    "    types_counts = {}\n",
    "    for i in types:\n",
    "        if i in types_counts.keys():\n",
    "            types_counts[i] += 1\n",
    "        else: \n",
    "            types_counts[i] = 1\n",
    "    return types_counts\n",
    "print(count_types(df[\"Product\"]))\n",
    "print(count_types(df_filtered[\"Product\"]))"
   ]
  }
 ],
 "metadata": {
  "kernelspec": {
   "display_name": "Python 3",
   "language": "python",
   "name": "python3"
  },
  "language_info": {
   "codemirror_mode": {
    "name": "ipython",
    "version": 3
   },
   "file_extension": ".py",
   "mimetype": "text/x-python",
   "name": "python",
   "nbconvert_exporter": "python",
   "pygments_lexer": "ipython3",
   "version": "3.8.3"
  }
 },
 "nbformat": 4,
 "nbformat_minor": 4
}
