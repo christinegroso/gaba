{
 "cells": [
  {
   "cell_type": "code",
   "execution_count": 1,
   "metadata": {},
   "outputs": [],
   "source": [
    "import pandas as pd\n",
    "from Bio import SeqIO"
   ]
  },
  {
   "cell_type": "code",
   "execution_count": 2,
   "metadata": {},
   "outputs": [
    {
     "name": "stdout",
     "output_type": "stream",
     "text": [
      "                              Genome Genome ID              PATRIC ID  \\\n",
      "0  Shigella sonnei strain H140920393   624.361   fig|624.361.peg.3672   \n",
      "1   Escherichia coli strain NCTC9001  562.7382   fig|562.7382.peg.528   \n",
      "2       Escherichia albertii TW07627  502347.3  fig|502347.3.peg.4188   \n",
      "3             Escherichia coli IAI39  585057.6  fig|585057.6.peg.4156   \n",
      "4                    Shigella sp. D9  556266.3  fig|556266.3.peg.3700   \n",
      "\n",
      "     RefSeq Locus Tag  Gene  \\\n",
      "0     ERS432308_03584  mdtE   \n",
      "1     ERS451419_00526  mdtE   \n",
      "2      ESCAB7627_4510  mdtE   \n",
      "3        ECIAI39_4015  mdtE   \n",
      "4  ShiD9_010100018225   NaN   \n",
      "\n",
      "                                             Product Length (NT)  Length (AA)  \\\n",
      "0  Multidrug efflux system MdtEF-TolC, membrane f...        1158          385   \n",
      "1  Multidrug efflux system MdtEF-TolC, membrane f...        1158          385   \n",
      "2  Multidrug efflux system MdtEF-TolC, membrane f...        1158          385   \n",
      "3  Multidrug efflux system MdtEF-TolC, membrane f...        1065          354   \n",
      "4  Multidrug efflux system MdtEF-TolC, membrane f...        1065          354   \n",
      "\n",
      "   ALN Length  Identity  Query cover  Subject cover  Hit from  Hit to  Score  \\\n",
      "0         385        98          100            100         1     385    752   \n",
      "1         385        98          100            100         1     385    750   \n",
      "2         385        95          100            100         1     385    735   \n",
      "3         354        98           92            100         1     354    684   \n",
      "4         354        98           92            100         1     354    684   \n",
      "\n",
      "   E value  Unnamed: 16  \n",
      "0      0.0          NaN  \n",
      "1      0.0          NaN  \n",
      "2      0.0          NaN  \n",
      "3      0.0          NaN  \n",
      "4      0.0          NaN  \n",
      "                PATRIC ID                                          Sequences\n",
      "0  fig|1002368.3.peg.1411  MTTELPGRTSAFRVAEVRPQVSGIILKRNFIEGSDIESGQSLYQID...\n",
      "1  fig|1002368.3.peg.2186  MNKNRGLTPLAIVLMLAGSVALTGCDDKSAQQGAHQMPEVGVVTLK...\n",
      "2  fig|1005995.4.peg.3241  MKKNRGLSPLAAILMFSGSVALTGCDNNKTQQSGQQQPPEVGVVTL...\n",
      "3  fig|1005395.3.peg.3200  MQLKPAVTALVSAVALATLLSGCKKEEAAPVAQAPQVGVVTLQPQS...\n",
      "4   fig|1006000.3.peg.456  MNKNRGLTPLAVVLMLSGSLALTGCDDKPAQQGGQHAPEVGVVTLK...\n"
     ]
    }
   ],
   "source": [
    "#Read your blast results csv in\n",
    "df = pd.read_csv(\"C:\\\\Users\\\\cmgro\\\\Downloads\\\\mdtE_blast.csv\")\n",
    "#Show the first  rows\n",
    "print(df.head())\n",
    "#Temp lists to attatch5 variables \n",
    "ids = []\n",
    "seqs = []\n",
    "#Seq.IO.parse is. an easy way to read through every gene/prot in a fasta file \n",
    "for record in SeqIO.parse(\"C:\\\\Users\\\\cmgro\\\\Downloads\\\\mdtE_genome_feature (10).fasta\", \"fasta\"):\n",
    "    # So the fasta ID line is fig|1240239.3.peg.2328|XFF4834R_chr22840|VBIXanFus78442_2328|\n",
    "    # but we only need the first two elements (\"fig and 1240239.3.peg.2328\") to make fig|1240239.3.peg.2328\n",
    "    # We then use this ID to merge back onto the original dataframe (basically we say if this row has this ID, add the sequence to that row)\n",
    "    \n",
    "    #Fancy way of extracting the ID\n",
    "    ids.append(\"|\".join(record.id.split(\"|\")[0:2]))\n",
    "    #Fancy way of extracting the sequence \n",
    "    seqs.append(str(record.seq))\n",
    "#making a new dataframe from this info \n",
    "seq_df = pd.DataFrame.from_dict({\"PATRIC ID\": ids, \"Sequences\":seqs})\n",
    "print(seq_df.head())\n",
    "#Mergine back and saving \n",
    "df = df.merge(seq_df, on=\"PATRIC ID\")\n",
    "df.to_csv(\"/Users/cmgro/Downloads/merged_mdtE.csv\")"
   ]
  },
  {
   "cell_type": "code",
   "execution_count": 3,
   "metadata": {},
   "outputs": [
    {
     "name": "stdout",
     "output_type": "stream",
     "text": [
      "<class 'pandas.core.frame.DataFrame'>\n",
      "Int64Index: 287 entries, 0 to 484\n",
      "Data columns (total 19 columns):\n",
      " #   Column            Non-Null Count  Dtype  \n",
      "---  ------            --------------  -----  \n",
      " 0   Unnamed: 0        287 non-null    int64  \n",
      " 1   Genome            287 non-null    object \n",
      " 2   Genome ID         287 non-null    float64\n",
      " 3   PATRIC ID         287 non-null    object \n",
      " 4   RefSeq Locus Tag  233 non-null    object \n",
      " 5   Gene              93 non-null     object \n",
      " 6   Product           287 non-null    object \n",
      " 7   Length (NT)       287 non-null    int64  \n",
      " 8   Length (AA)       287 non-null    int64  \n",
      " 9   ALN Length        287 non-null    int64  \n",
      " 10  Identity          287 non-null    int64  \n",
      " 11  Query cover       287 non-null    int64  \n",
      " 12  Subject cover     287 non-null    int64  \n",
      " 13  Hit from          287 non-null    int64  \n",
      " 14  Hit to            287 non-null    int64  \n",
      " 15  Score             287 non-null    int64  \n",
      " 16  E value           287 non-null    float64\n",
      " 17  Unnamed: 16       0 non-null      float64\n",
      " 18  Sequences         287 non-null    object \n",
      "dtypes: float64(3), int64(10), object(6)\n",
      "memory usage: 44.8+ KB\n",
      "None\n",
      "{'Multidrug efflux system MdtEF-TolC, membrane fusion component MdtE': 19, 'Multidrug efflux system AcrAB-TolC, membrane fusion component AcrA': 194, 'Multidrug efflux system AcrEF-TolC, membrane fusion component AcrE': 53, 'RND efflux system, membrane fusion protein': 198, 'Multidrug efflux system, membrane fusion component => MexA of MexAB-OprM': 34}\n",
      "{'Multidrug efflux system MdtEF-TolC, membrane fusion component MdtE': 19, 'Multidrug efflux system AcrAB-TolC, membrane fusion component AcrA': 189, 'Multidrug efflux system AcrEF-TolC, membrane fusion component AcrE': 36, 'RND efflux system, membrane fusion protein': 37, 'Multidrug efflux system, membrane fusion component => MexA of MexAB-OprM': 6}\n"
     ]
    }
   ],
   "source": [
    "# reads blast results\n",
    "df = pd.read_csv(\"C:\\\\Users\\\\cmgro\\\\Downloads\\\\merged_mdtE.csv\")\n",
    "\n",
    "#print(df.info()) - counted 500 entries\n",
    "\n",
    "# filters out entries with query cover and identity values less than 50%\n",
    "df_filtered = df.loc[(df['Query cover']>=50) & (df['Identity']>=50)]\n",
    "\n",
    "# prints info on the new dataframe \n",
    "print(df_filtered.info())\n",
    "\n",
    "def count_types(types):\n",
    "    types_counts = {}\n",
    "    for i in types:\n",
    "        if i in types_counts.keys():\n",
    "            types_counts[i] += 1\n",
    "        else: \n",
    "            types_counts[i] = 1\n",
    "    return types_counts\n",
    "print(count_types(df[\"Product\"]))\n",
    "print(count_types(df_filtered[\"Product\"]))"
   ]
  }
 ],
 "metadata": {
  "kernelspec": {
   "display_name": "Python 3",
   "language": "python",
   "name": "python3"
  },
  "language_info": {
   "codemirror_mode": {
    "name": "ipython",
    "version": 3
   },
   "file_extension": ".py",
   "mimetype": "text/x-python",
   "name": "python",
   "nbconvert_exporter": "python",
   "pygments_lexer": "ipython3",
   "version": "3.8.3"
  }
 },
 "nbformat": 4,
 "nbformat_minor": 4
}
