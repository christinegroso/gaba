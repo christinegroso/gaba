{
 "cells": [
  {
   "cell_type": "code",
   "execution_count": 2,
   "metadata": {},
   "outputs": [],
   "source": [
    "import pandas as pd\n",
    "from Bio import SeqIO"
   ]
  },
  {
   "cell_type": "code",
   "execution_count": 3,
   "metadata": {},
   "outputs": [
    {
     "name": "stdout",
     "output_type": "stream",
     "text": [
      "                      Genome  Genome ID              PATRIC ID  \\\n",
      "0  Escherichia coli MS 124-1   679205.4  fig|679205.4.peg.2775   \n",
      "1            Shigella sp. D9   556266.3  fig|556266.3.peg.1610   \n",
      "2  Escherichia coli MS 145-7   679204.3   fig|679204.3.peg.984   \n",
      "3  Escherichia sp. 3_2_53FAA   469598.5   fig|469598.5.peg.972   \n",
      "4       Citrobacter sp. 30_2   469595.3  fig|469595.3.peg.3048   \n",
      "\n",
      "     RefSeq Locus Tag  Gene                          Product  Length (NT)  \\\n",
      "0    HMPREF9347_02889   NaN  RNase E specificity factor CsrD         1941   \n",
      "1  ShiD9_010100007953   NaN  RNase E specificity factor CsrD         1941   \n",
      "2    HMPREF9348_00996   NaN  RNase E specificity factor CsrD         1941   \n",
      "3          ESAG_01012   NaN  RNase E specificity factor CsrD         1941   \n",
      "4          CSAG_03046   NaN  RNase E specificity factor CsrD         1941   \n",
      "\n",
      "   Length (AA)  ALN Length  Identity  Query cover  Subject cover  Hit from  \\\n",
      "0          646         646       100          100            100         1   \n",
      "1          646         646       100          100            100         1   \n",
      "2          646         646       100          100            100         1   \n",
      "3          646         646        98          100            100         1   \n",
      "4          646         646        84          100            100         1   \n",
      "\n",
      "   Hit to  Score  E value  \n",
      "0     646   1332      0.0  \n",
      "1     646   1332      0.0  \n",
      "2     646   1329      0.0  \n",
      "3     646   1314      0.0  \n",
      "4     646   1133      0.0  \n",
      "                PATRIC ID                                          Sequences\n",
      "0  fig|1002369.4.peg.1380  MENNTIQKQLRDLSKKIWHIYILNPEEENLKFIISLLDDNLALIGT...\n",
      "1   fig|1002369.4.peg.163  MKKKYDFLIYSAIWLVIIILFIFSLYHSIEHIKIISHTGTIRSETQ...\n",
      "2   fig|1002369.4.peg.241  MKAFKKHFLILSLIFLLIISCFNNILCFADESENSKKIRVGYCDDY...\n",
      "3  fig|1002369.4.peg.1415  MRNLQKKLMFFLFICIILQITYTTPVYSLCKLYKNNSINNFESIVS...\n",
      "4  fig|1002369.4.peg.1520  MKKREKVFDGLVFKHILILLILLVLIDLTSTIIYASNSMEITSRNM...\n"
     ]
    }
   ],
   "source": [
    "#Read your blast results csv in\n",
    "df = pd.read_csv(\"C:\\\\Users\\\\cmgro\\\\Downloads\\\\CsrD_blast.csv\")\n",
    "#Show the first  rows\n",
    "print(df.head())\n",
    "#Temp lists to attatch5 variables \n",
    "ids = []\n",
    "seqs = []\n",
    "#Seq.IO.parse is. an easy way to read through every gene/prot in a fasta file \n",
    "for record in SeqIO.parse(\"C:\\\\Users\\\\cmgro\\\\Downloads\\\\CsrD.fasta\", \"fasta\"):\n",
    "    # So the fasta ID line is fig|1240239.3.peg.2328|XFF4834R_chr22840|VBIXanFus78442_2328|\n",
    "    # but we only need the first two elements (\"fig and 1240239.3.peg.2328\") to make fig|1240239.3.peg.2328\n",
    "    # We then use this ID to merge back onto the original dataframe (basically we say if this row has this ID, add the sequence to that row)\n",
    "    \n",
    "    #Fancy way of extracting the ID\n",
    "    ids.append(\"|\".join(record.id.split(\"|\")[0:2]))\n",
    "    #Fancy way of extracting the sequence \n",
    "    seqs.append(str(record.seq))\n",
    "#making a new dataframe from this info \n",
    "seq_df = pd.DataFrame.from_dict({\"PATRIC ID\": ids, \"Sequences\":seqs})\n",
    "print(seq_df.head())\n",
    "#Mergine back and saving \n",
    "df = df.merge(seq_df, on=\"PATRIC ID\")\n",
    "df.to_csv(\"/Users/cmgro/Downloads/merged_CsrD.csv\")"
   ]
  },
  {
   "cell_type": "code",
   "execution_count": 4,
   "metadata": {},
   "outputs": [
    {
     "name": "stdout",
     "output_type": "stream",
     "text": [
      "<class 'pandas.core.frame.DataFrame'>\n",
      "Int64Index: 9 entries, 0 to 8\n",
      "Data columns (total 18 columns):\n",
      " #   Column            Non-Null Count  Dtype  \n",
      "---  ------            --------------  -----  \n",
      " 0   Unnamed: 0        9 non-null      int64  \n",
      " 1   Genome            9 non-null      object \n",
      " 2   Genome ID         9 non-null      float64\n",
      " 3   PATRIC ID         9 non-null      object \n",
      " 4   RefSeq Locus Tag  9 non-null      object \n",
      " 5   Gene              0 non-null      float64\n",
      " 6   Product           9 non-null      object \n",
      " 7   Length (NT)       9 non-null      int64  \n",
      " 8   Length (AA)       9 non-null      int64  \n",
      " 9   ALN Length        9 non-null      int64  \n",
      " 10  Identity          9 non-null      int64  \n",
      " 11  Query cover       9 non-null      int64  \n",
      " 12  Subject cover     9 non-null      int64  \n",
      " 13  Hit from          9 non-null      int64  \n",
      " 14  Hit to            9 non-null      int64  \n",
      " 15  Score             9 non-null      int64  \n",
      " 16  E value           9 non-null      float64\n",
      " 17  Sequences         9 non-null      object \n",
      "dtypes: float64(3), int64(10), object(5)\n",
      "memory usage: 1.3+ KB\n",
      "None\n",
      "{'RNase E specificity factor CsrD': 9, 'GGDEF and EAL domain proteins': 5, 'Sensory box/GGDEF family protein': 36, 'diguanylate cyclase/phosphodiesterase (GGDEF & EAL domains) with PAS/PAC sensor(s)': 45, 'Membrane bound c-di-GMP receptor LapD': 3, 'c-di-GMP phosphodiesterase (EC 3.1.4.52) => PdeR': 5, 'Sensory box protein': 3, 'FOG: PAS/PAC domain': 1, 'hypothetical protein': 110, 'Diguanylate cyclase/phosphodiesterase domain 2': 2, 'diguanylate cyclase/phosphodiesterase': 4, 'c-di-GMP phosphodiesterase (EC 3.1.4.52) => PdeA': 8, 'diguanylate cyclase/phosphodiesterase (GGDEF & EAL domains)': 1, 'Sensory box/GGDEF domain/EAL domain protein': 3, 'putative signaling protein': 7, 'Blue light- and temperature-regulated antirepressor BluF': 13, 'c-di-GMP phosphodiesterase (EC 3.1.4.52) => PdeF': 9, 'c-di-GMP phosphodiesterase (EC 3.1.4.52) => Heme-regulated, oxygen sensor PdeO': 5, 'putative membrane associated phophodiesterase': 1, 'diguanylate cyclase/phosphodiesterase with PAS/PAC sensor(s)': 2, 'c-di-GMP phosphodiesterase (EC 3.1.4.52) => PdeB': 8, 'putative phosphodiesterase': 1, 'c-di-GMP phosphodiesterase (EC 3.1.4.52) => PdeC': 9, 'GGDEF domain protein': 10, 'Diguanylate cyclase (EC 2.7.7.65) => DgcY': 2, 'Tn21 protein of unknown function Urf2': 1, 'Response regulator containing a CheY-like receiver domain and a GGDEF domain': 1, 'c-di-GMP phosphodiesterase (EC 3.1.4.52) => BifA': 3, 'diguanylate cyclase/phosphodiesterase with PAS/PAC and GAF sensor(s)': 1, 'Putative cyclic-di-GMP phosphodiesterase YlaB': 1, 'Diguanylate cyclase (EC 2.7.7.65) => DgcN': 3, 'EAL domain protein': 4, 'Rtn protein': 3, 'c-di-GMP phosphodiesterase (EC 3.1.4.52) => PdeD': 1, 'GAF/GGDEF domain protein': 1, 'Diguanylate cyclase (EC 2.7.7.65) => DgcE': 5, 'Diguanylate cyclase (EC 2.7.7.65) => DgcX': 4, 'Diguanylate cyclase': 1, 'diguanylate cyclase/phosphodiesterase with GAF sensor': 1, 'putative sensory box/GGDEF family protein': 1, 'Phytochrome-like protein; Cph2': 2, 'FIG066100: Diguanylate cyclase (GGDEF domain) with PAS/PAC sensor': 2, 'Two-component system sensor histidine kinase': 2, 'Diguanylate cyclase (EC 2.7.7.65) => DgcT': 2, 'Two-component transcriptional response regulator, LuxR family': 1, 'Response regulators consisting of a CheY-like receiver domain and an HD-GYP domain': 1, 'GGDEF domain': 3, 'Diguanylate cyclase (EC 2.7.7.65) => Globin-coupled heme-based oxygen sensor DgcO': 2, 'diguanylate cyclase (GGDEF domain) with PAS/PAC sensor': 1, 'c-di-GMP phosphodiesterase (EC 3.1.4.52) => PdeK': 1}\n",
      "{'RNase E specificity factor CsrD': 9}\n"
     ]
    }
   ],
   "source": [
    "# reads blast results\n",
    "df = pd.read_csv(\"C:\\\\Users\\\\cmgro\\\\Downloads\\\\merged_CsrD.csv\")\n",
    "\n",
    "#print(df.info()) - counted 350 entries\n",
    "\n",
    "# filters out entries with query cover and identity values less than 50%\n",
    "df_filtered = df[(df[\"Identity\"] > 50) &(df[\"Query cover\"] > 50)]\n",
    "\n",
    "# prints info on the new dataframe \n",
    "print(df_filtered.info())\n",
    "\n",
    "def count_types(types):\n",
    "    types_counts = {}\n",
    "    for i in types:\n",
    "        if i in types_counts.keys():\n",
    "            types_counts[i] += 1\n",
    "        else: \n",
    "            types_counts[i] = 1\n",
    "    return types_counts\n",
    "print(count_types(df[\"Product\"]))\n",
    "print(count_types(df_filtered[\"Product\"]))"
   ]
  }
 ],
 "metadata": {
  "kernelspec": {
   "display_name": "Python 3",
   "language": "python",
   "name": "python3"
  },
  "language_info": {
   "codemirror_mode": {
    "name": "ipython",
    "version": 3
   },
   "file_extension": ".py",
   "mimetype": "text/x-python",
   "name": "python",
   "nbconvert_exporter": "python",
   "pygments_lexer": "ipython3",
   "version": "3.8.3"
  }
 },
 "nbformat": 4,
 "nbformat_minor": 4
}
