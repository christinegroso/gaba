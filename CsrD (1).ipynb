{
 "cells": [
  {
   "cell_type": "code",
   "execution_count": 1,
   "metadata": {},
   "outputs": [],
   "source": [
    "import pandas as pd\n",
    "from Bio import SeqIO"
   ]
  },
  {
   "cell_type": "code",
   "execution_count": 2,
   "metadata": {},
   "outputs": [
    {
     "name": "stdout",
     "output_type": "stream",
     "text": [
      "                                      Genome  Genome ID  \\\n",
      "0  Escherichia coli str. K-12 substr. MG1655  511145.12   \n",
      "1                            Shigella sp. D9   556266.3   \n",
      "2        Escherichia coli O157:H7 str. Sakai   386585.9   \n",
      "3          Shigella sonnei strain H140920393    624.361   \n",
      "4                      Shigella sonnei Ss046  300269.12   \n",
      "\n",
      "                PATRIC ID    RefSeq Locus Tag  Gene  \\\n",
      "0  fig|511145.12.peg.3349               b3252  csrD   \n",
      "1   fig|556266.3.peg.1610  ShiD9_010100007953   NaN   \n",
      "2   fig|386585.9.peg.4305             ECs4124   NaN   \n",
      "3    fig|624.361.peg.1898     ERS432308_01871  csrD   \n",
      "4  fig|300269.12.peg.4024           SSON_3393  yhdA   \n",
      "\n",
      "                           Product Length (NT)  Length (AA)  ALN Length  \\\n",
      "0  RNase E specificity factor CsrD        1941          646         646   \n",
      "1  RNase E specificity factor CsrD        1941          646         646   \n",
      "2  RNase E specificity factor CsrD        1941          646         646   \n",
      "3  RNase E specificity factor CsrD        1941          646         646   \n",
      "4  RNase E specificity factor CsrD        1941          646         646   \n",
      "\n",
      "   Identity  Query cover  Subject cover  Hit from  Hit to  Score  E value  \\\n",
      "0        98          100            100         1     646   1291      0.0   \n",
      "1        98          100            100         1     646   1290      0.0   \n",
      "2        98          100            100         1     646   1288      0.0   \n",
      "3        98          100            100         1     646   1288      0.0   \n",
      "4        98          100            100         1     646   1288      0.0   \n",
      "\n",
      "   Unnamed: 16  \n",
      "0          NaN  \n",
      "1          NaN  \n",
      "2          NaN  \n",
      "3          NaN  \n",
      "4          NaN  \n",
      "                PATRIC ID                                          Sequences\n",
      "0  fig|1001886.3.peg.1307  MPCLFKRIGQEYIHQSLAGIAEVVDKEMEDPDAAYSMQRWIPKMLQ...\n",
      "1  fig|1001530.3.peg.1943  MRKASGMKLTNRLVAFVTMIVICAIFIIFIGGALSFRKLGQDYLTH...\n",
      "2  fig|1004326.3.peg.3447  MRYTPTLKLSTRLVAFVTVIVISAMFILFIGGTLSIKRIGHDYLNH...\n",
      "3  fig|1002368.3.peg.1426  MRLTTKFSAFVTLLVGLAIFVTLVGCSLSFYNGIQLKLQKRVQAVA...\n",
      "4   fig|1005995.4.peg.317  MRSTTRLTALITFVSMLAMLLMLFGCIASFLWLNKQRIEHQFNTLA...\n"
     ]
    }
   ],
   "source": [
    "#Read your blast results csv in\n",
    "df = pd.read_csv(\"C:\\\\Users\\\\cmgro\\\\Downloads\\\\CsrD_blast.csv\")\n",
    "#Show the first  rows\n",
    "print(df.head())\n",
    "#Temp lists to attatch5 variables \n",
    "ids = []\n",
    "seqs = []\n",
    "#Seq.IO.parse is. an easy way to read through every gene/prot in a fasta file \n",
    "for record in SeqIO.parse(\"C:\\\\Users\\\\cmgro\\\\Downloads\\\\CsrD.fasta\", \"fasta\"):\n",
    "    # So the fasta ID line is fig|1240239.3.peg.2328|XFF4834R_chr22840|VBIXanFus78442_2328|\n",
    "    # but we only need the first two elements (\"fig and 1240239.3.peg.2328\") to make fig|1240239.3.peg.2328\n",
    "    # We then use this ID to merge back onto the original dataframe (basically we say if this row has this ID, add the sequence to that row)\n",
    "    \n",
    "    #Fancy way of extracting the ID\n",
    "    ids.append(\"|\".join(record.id.split(\"|\")[0:2]))\n",
    "    #Fancy way of extracting the sequence \n",
    "    seqs.append(str(record.seq))\n",
    "#making a new dataframe from this info \n",
    "seq_df = pd.DataFrame.from_dict({\"PATRIC ID\": ids, \"Sequences\":seqs})\n",
    "print(seq_df.head())\n",
    "#Mergine back and saving \n",
    "df = df.merge(seq_df, on=\"PATRIC ID\")\n",
    "df.to_csv(\"/Users/cmgro/Downloads/merged_CsrD.csv\")"
   ]
  },
  {
   "cell_type": "code",
   "execution_count": 3,
   "metadata": {},
   "outputs": [
    {
     "name": "stdout",
     "output_type": "stream",
     "text": [
      "<class 'pandas.core.frame.DataFrame'>\n",
      "Int64Index: 135 entries, 0 to 150\n",
      "Data columns (total 19 columns):\n",
      " #   Column            Non-Null Count  Dtype  \n",
      "---  ------            --------------  -----  \n",
      " 0   Unnamed: 0        135 non-null    int64  \n",
      " 1   Genome            135 non-null    object \n",
      " 2   Genome ID         135 non-null    float64\n",
      " 3   PATRIC ID         135 non-null    object \n",
      " 4   RefSeq Locus Tag  106 non-null    object \n",
      " 5   Gene              33 non-null     object \n",
      " 6   Product           135 non-null    object \n",
      " 7   Length (NT)       135 non-null    int64  \n",
      " 8   Length (AA)       135 non-null    int64  \n",
      " 9   ALN Length        135 non-null    int64  \n",
      " 10  Identity          135 non-null    int64  \n",
      " 11  Query cover       135 non-null    int64  \n",
      " 12  Subject cover     135 non-null    int64  \n",
      " 13  Hit from          135 non-null    int64  \n",
      " 14  Hit to            135 non-null    int64  \n",
      " 15  Score             135 non-null    int64  \n",
      " 16  E value           135 non-null    float64\n",
      " 17  Unnamed: 16       0 non-null      float64\n",
      " 18  Sequences         135 non-null    object \n",
      "dtypes: float64(3), int64(10), object(6)\n",
      "memory usage: 21.1+ KB\n",
      "None\n",
      "{'RNase E specificity factor CsrD': 162, 'MSHA biogenesis protein MshH': 161, 'hypothetical protein': 49, 'GGDEF and EAL domain proteins': 27, 'GGDEF domain protein': 22, 'diguanylate cyclase/phosphodiesterase (GGDEF & EAL domains) with PAS/PAC sensor(s)': 13, 'Membrane bound c-di-GMP receptor LapD': 24, 'putative diguanylate phosphodiesterase (EAL domain)': 3, 'diguanylate cyclase/phosphodiesterase (GGDEF & EAL domains)': 23, 'GGDEF': 10, 'Sensory box/GGDEF family protein': 3, 'Sensory box/GGDEF domain/EAL domain protein': 1, 'GAF domain/GGDEF domain/EAL domain protein': 1}\n",
      "{'RNase E specificity factor CsrD': 135}\n"
     ]
    }
   ],
   "source": [
    "# reads blast results\n",
    "df = pd.read_csv(\"C:\\\\Users\\\\cmgro\\\\Downloads\\\\merged_CsrD.csv\")\n",
    "\n",
    "#print(df.info()) - counted 500 entries\n",
    "\n",
    "# filters out entries with query cover and identity values less than 50%\n",
    "df_filtered = df[(df[\"Identity\"] > 50) &(df[\"Query cover\"] > 50)]\n",
    "\n",
    "# prints info on the new dataframe \n",
    "print(df_filtered.info())\n",
    "\n",
    "def count_types(types):\n",
    "    types_counts = {}\n",
    "    for i in types:\n",
    "        if i in types_counts.keys():\n",
    "            types_counts[i] += 1\n",
    "        else: \n",
    "            types_counts[i] = 1\n",
    "    return types_counts\n",
    "print(count_types(df[\"Product\"]))\n",
    "print(count_types(df_filtered[\"Product\"]))"
   ]
  }
 ],
 "metadata": {
  "kernelspec": {
   "display_name": "Python 3",
   "language": "python",
   "name": "python3"
  },
  "language_info": {
   "codemirror_mode": {
    "name": "ipython",
    "version": 3
   },
   "file_extension": ".py",
   "mimetype": "text/x-python",
   "name": "python",
   "nbconvert_exporter": "python",
   "pygments_lexer": "ipython3",
   "version": "3.8.3"
  }
 },
 "nbformat": 4,
 "nbformat_minor": 4
}
