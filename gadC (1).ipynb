{
 "cells": [
  {
   "cell_type": "code",
   "execution_count": 1,
   "metadata": {},
   "outputs": [],
   "source": [
    "import pandas as pd\n",
    "from Bio import SeqIO"
   ]
  },
  {
   "cell_type": "code",
   "execution_count": 2,
   "metadata": {},
   "outputs": [
    {
     "name": "stdout",
     "output_type": "stream",
     "text": [
      "                      Genome  Genome ID               PATRIC ID  \\\n",
      "0  Escherichia coli MS 124-1   679205.4   fig|679205.4.peg.4586   \n",
      "1  Escherichia coli MS 145-7   679204.3   fig|679204.3.peg.3280   \n",
      "2            Shigella sp. D9   556266.3    fig|556266.3.peg.304   \n",
      "3  Escherichia sp. 3_2_53FAA   469598.5   fig|469598.5.peg.1788   \n",
      "4    Proteus mirabilis WGLW6  1125694.3  fig|1125694.3.peg.1348   \n",
      "\n",
      "     RefSeq Locus Tag Gene                                            Product  \\\n",
      "0    HMPREF9347_04755  NaN  Probable glutamate/gamma-aminobutyrate antiporter   \n",
      "1    HMPREF9348_03373  NaN  Probable glutamate/gamma-aminobutyrate antiporter   \n",
      "2  ShiD9_010100005202  NaN  Probable glutamate/gamma-aminobutyrate antiporter   \n",
      "3          ESAG_02196  NaN  Probable glutamate/gamma-aminobutyrate antiporter   \n",
      "4    HMPREF1311_01381  NaN  Probable glutamate/gamma-aminobutyrate antiporter   \n",
      "\n",
      "   Length (NT)  Length (AA)  ALN Length  Identity  Query cover  Subject cover  \\\n",
      "0         1536          511         511       100          100            100   \n",
      "1         1536          511         511       100          100            100   \n",
      "2         1536          511         511       100          100            100   \n",
      "3         1221          406         406       100           79            100   \n",
      "4         1554          517         517        77          100             98   \n",
      "\n",
      "   Hit from  Hit to  Score  E value  \n",
      "0         1     511   1022      0.0  \n",
      "1         1     511   1022      0.0  \n",
      "2         1     511   1022      0.0  \n",
      "3         1     406    808      0.0  \n",
      "4         1     508    752      0.0  \n",
      "                PATRIC ID                                          Sequences\n",
      "0   fig|1002369.4.peg.417  MEKAKKLGLFSMILLGINSIIGSGIFLLPGKVYNLAGQNSMFIYIF...\n",
      "1  fig|1002369.4.peg.1501  MGSNELKKTLGVSAALSTVVGSVIGAGVFFKPQAVYTLTGGAPGLG...\n",
      "2  fig|1002369.4.peg.3071  MEKGIKLGFWSIVLLGINAIIGSGIFGLPGDAYTDIGPASILVLVF...\n",
      "3  fig|1002369.4.peg.2160  MNEKNKMGLISIILLGINAVVGAGVFLLPGDAMKSFGVASIFVYIF...\n",
      "4  fig|1002369.4.peg.3369  MHTQLQKTIGLSAALSTVVGMVIGSGVFFKPQAIYTTTNGAPGLGI...\n"
     ]
    }
   ],
   "source": [
    "#Read your blast results csv in\n",
    "df = pd.read_csv(\"C:\\\\Users\\\\cmgro\\\\Downloads\\\\gadC_blast.csv\")\n",
    "#Show the first 5 rows\n",
    "print(df.head())\n",
    "#Temp lists to attatch variables \n",
    "ids = []\n",
    "seqs = []\n",
    "#Seq.IO.parse is. an easy way to read through every gene/prot in a fasta file \n",
    "for record in SeqIO.parse(\"C:\\\\Users\\\\cmgro\\\\Downloads\\\\gadC.fasta\", \"fasta\"):\n",
    "    # So the fasta ID line is fig|1240239.3.peg.2328|XFF4834R_chr22840|VBIXanFus78442_2328|\n",
    "    # but we only need the first two elements (\"fig and 1240239.3.peg.2328\") to make fig|1240239.3.peg.2328\n",
    "    # We then use this ID to merge back onto the original dataframe (basically we say if this row has this ID, add the sequence to that row)\n",
    "    \n",
    "    #Fancy way of extracting the ID\n",
    "    ids.append(\"|\".join(record.id.split(\"|\")[0:2]))\n",
    "    #Fancy way of extracting the sequence \n",
    "    seqs.append(str(record.seq))\n",
    "#making a new dataframe from this info \n",
    "seq_df = pd.DataFrame.from_dict({\"PATRIC ID\": ids, \"Sequences\":seqs})\n",
    "print(seq_df.head())\n",
    "#Mergine back and saving \n",
    "df = df.merge(seq_df, on=\"PATRIC ID\")\n",
    "df.to_csv(\"/Users/cmgro/Downloads/merged_gadC.csv\")"
   ]
  },
  {
   "cell_type": "code",
   "execution_count": 4,
   "metadata": {},
   "outputs": [
    {
     "name": "stdout",
     "output_type": "stream",
     "text": [
      "<class 'pandas.core.frame.DataFrame'>\n",
      "Int64Index: 8 entries, 0 to 7\n",
      "Data columns (total 18 columns):\n",
      " #   Column            Non-Null Count  Dtype  \n",
      "---  ------            --------------  -----  \n",
      " 0   Unnamed: 0        8 non-null      int64  \n",
      " 1   Genome            8 non-null      object \n",
      " 2   Genome ID         8 non-null      float64\n",
      " 3   PATRIC ID         8 non-null      object \n",
      " 4   RefSeq Locus Tag  8 non-null      object \n",
      " 5   Gene              1 non-null      object \n",
      " 6   Product           8 non-null      object \n",
      " 7   Length (NT)       8 non-null      int64  \n",
      " 8   Length (AA)       8 non-null      int64  \n",
      " 9   ALN Length        8 non-null      int64  \n",
      " 10  Identity          8 non-null      int64  \n",
      " 11  Query cover       8 non-null      int64  \n",
      " 12  Subject cover     8 non-null      int64  \n",
      " 13  Hit from          8 non-null      int64  \n",
      " 14  Hit to            8 non-null      int64  \n",
      " 15  Score             8 non-null      int64  \n",
      " 16  E value           8 non-null      float64\n",
      " 17  Sequences         8 non-null      object \n",
      "dtypes: float64(2), int64(10), object(6)\n",
      "memory usage: 1.2+ KB\n",
      "None\n",
      "{'Probable glutamate/gamma-aminobutyrate antiporter': 17, 'Glutamate/gamma-aminobutyrate antiporter': 14, 'hypothetical protein': 3, 'Putative amino acid transporter': 1, 'Agmatine/putrescine antiporter, associated with agmatine catabolism': 11, 'Amino acid permease family protein': 6, 'Inner membrane permease YgjI, clustered with evolved beta-galactosidase': 10, 'Inner membrane transporter YjeM': 19, 'Inner membrane permease YcaM': 34, 'Arginine/agmatine antiporter': 6, 'Uncharacterized amino acid permease, GabP family': 51, 'Uncharacterized GabP-family amino acid permease LBA0995': 4, 'Putrescine/proton symporter, putrescine/ornithine antiporter PotE': 15, 'Amino acid permease-associated region precursor': 7, 'D-serine/D-alanine/glycine transporter': 44, 'Ethanolamine permease': 2, 'Lysine/cadaverine antiporter membrane protein CadB': 14, 'Aromatic amino acid transport protein AroP': 4, 'Uncharacterized amino acid permease YvbW': 1, 'Serine/threonine exchanger SteT': 13, 'Lysine-specific permease': 18, 'Small molecule diffusion facilitator (permease)': 1, 'Urea carboxylase-related amino acid permease': 1, 'Uncharacterized transporter YbxG': 4, 'Phenylalanine-specific permease': 1, 'S-methylmethionine permease': 6, 'Arginine/ornithine antiporter ArcD': 5, 'Histidine transport protein (permease)': 2, 'Cationic amino acid transporter - APC Superfamily': 1, 'Proline-specific permease ProY': 5, 'Arginine permease RocE': 1, 'Uncharacterized amino acid permease MSMEG_6727, GabP family': 1, 'gamma-aminobutyrate (GABA) permease': 1}\n",
      "{'Probable glutamate/gamma-aminobutyrate antiporter': 8}\n"
     ]
    }
   ],
   "source": [
    "# reads blast results\n",
    "df = pd.read_csv(\"C:\\\\Users\\\\cmgro\\\\Downloads\\\\merged_gadC.csv\")\n",
    "\n",
    "#print(df.info()) - counted 323 entries\n",
    "\n",
    "# filters out entries with query cover and identity values less than 50%\n",
    "df_filtered = df[(df[\"Identity\"] > 50) &(df[\"Query cover\"] > 50)]\n",
    "\n",
    "# prints info on the new dataframe \n",
    "print(df_filtered.info())\n",
    "\n",
    "def count_types(types):\n",
    "    types_counts = {}\n",
    "    for i in types:\n",
    "        if i in types_counts.keys():\n",
    "            types_counts[i] += 1\n",
    "        else: \n",
    "            types_counts[i] = 1\n",
    "    return types_counts\n",
    "print(count_types(df[\"Product\"]))\n",
    "print(count_types(df_filtered[\"Product\"]))"
   ]
  },
  {
   "cell_type": "code",
   "execution_count": null,
   "metadata": {},
   "outputs": [],
   "source": []
  }
 ],
 "metadata": {
  "kernelspec": {
   "display_name": "Python 3",
   "language": "python",
   "name": "python3"
  },
  "language_info": {
   "codemirror_mode": {
    "name": "ipython",
    "version": 3
   },
   "file_extension": ".py",
   "mimetype": "text/x-python",
   "name": "python",
   "nbconvert_exporter": "python",
   "pygments_lexer": "ipython3",
   "version": "3.8.3"
  }
 },
 "nbformat": 4,
 "nbformat_minor": 4
}
