{
 "cells": [
  {
   "cell_type": "code",
   "execution_count": 1,
   "metadata": {},
   "outputs": [],
   "source": [
    "import pandas as pd\n",
    "from Bio import SeqIO"
   ]
  },
  {
   "cell_type": "code",
   "execution_count": 2,
   "metadata": {},
   "outputs": [
    {
     "name": "stdout",
     "output_type": "stream",
     "text": [
      "                                      Genome    Genome ID  \\\n",
      "0          Shigella sonnei strain H140920393      624.361   \n",
      "1                            Shigella sp. D9   556266.300   \n",
      "2  Escherichia coli str. K-12 substr. MG1655   511145.120   \n",
      "3                      Shigella boydii Sb227   300268.110   \n",
      "4   Escherichia coli O104:H4 str. 2011C-3493  1133852.300   \n",
      "\n",
      "                PATRIC ID    RefSeq Locus Tag  Gene  \\\n",
      "0    fig|624.361.peg.3420     ERS432308_03332  gadC   \n",
      "1    fig|556266.3.peg.304  ShiD9_010100005202   NaN   \n",
      "2  fig|511145.12.peg.1559               b1492  gadC   \n",
      "3  fig|300268.11.peg.2015            SBO_1564  xasA   \n",
      "4  fig|1133852.3.peg.2704           O3K_13035   NaN   \n",
      "\n",
      "                                             Product  Length (NT)  \\\n",
      "0  Probable glutamate/gamma-aminobutyrate antiporter         1536   \n",
      "1  Probable glutamate/gamma-aminobutyrate antiporter         1536   \n",
      "2  Probable glutamate/gamma-aminobutyrate antiporter         1536   \n",
      "3  Probable glutamate/gamma-aminobutyrate antiporter         1536   \n",
      "4  Probable glutamate/gamma-aminobutyrate antiporter         1536   \n",
      "\n",
      "   Length (AA)  ALN Length  Identity  Query cover  Subject cover  Hit from  \\\n",
      "0          511         511        98          100            100         1   \n",
      "1          511         511        98          100            100         1   \n",
      "2          511         511        98          100            100         1   \n",
      "3          511         511        98          100            100         1   \n",
      "4          511         511        98          100            100         1   \n",
      "\n",
      "   Hit to  Score  E value  \n",
      "0     511    987      0.0  \n",
      "1     511    987      0.0  \n",
      "2     511    987      0.0  \n",
      "3     511    987      0.0  \n",
      "4     511    986      0.0  \n",
      "                PATRIC ID                                          Sequences\n",
      "0  fig|1033732.3.peg.1401  MTLAIMNVTAVVSLRGLPAEAVYGLSSAFYYLFAAIVFLIPTAMVA...\n",
      "1   fig|1001530.3.peg.269  MLNIVAVVSLRGLPAEAEYGLSSIFYYIFAAIVFLIPVSLVAAELA...\n",
      "2   fig|1034943.3.peg.174  MSSNKHALTIFSLTMITVGSVDSIRNLPATALFGSQLISFFIMGAL...\n",
      "3   fig|1034943.4.peg.174  MSSNKHALTIFSLTMITVGSVDSIRNLPATALFGSQLISFFIMGAL...\n",
      "4  fig|1034943.3.peg.3442  MHSSKKVLSVFSLVMINVIAVDSLRTLPMSAKLGLPLVSYYLVAAI...\n"
     ]
    }
   ],
   "source": [
    "#Read your blast results csv in\n",
    "df = pd.read_csv(\"C:\\\\Users\\\\cmgro\\\\Downloads\\\\gadC_blast.csv\")\n",
    "#Show the first 5 rows\n",
    "print(df.head())\n",
    "#Temp lists to attatch variables \n",
    "ids = []\n",
    "seqs = []\n",
    "#Seq.IO.parse is. an easy way to read through every gene/prot in a fasta file \n",
    "for record in SeqIO.parse(\"C:\\\\Users\\\\cmgro\\\\Downloads\\\\gadC_genome_feature (2).fasta\", \"fasta\"):\n",
    "    # So the fasta ID line is fig|1240239.3.peg.2328|XFF4834R_chr22840|VBIXanFus78442_2328|\n",
    "    # but we only need the first two elements (\"fig and 1240239.3.peg.2328\") to make fig|1240239.3.peg.2328\n",
    "    # We then use this ID to merge back onto the original dataframe (basically we say if this row has this ID, add the sequence to that row)\n",
    "    \n",
    "    #Fancy way of extracting the ID\n",
    "    ids.append(\"|\".join(record.id.split(\"|\")[0:2]))\n",
    "    #Fancy way of extracting the sequence \n",
    "    seqs.append(str(record.seq))\n",
    "#making a new dataframe from this info \n",
    "seq_df = pd.DataFrame.from_dict({\"PATRIC ID\": ids, \"Sequences\":seqs})\n",
    "print(seq_df.head())\n",
    "#Mergine back and saving \n",
    "df = df.merge(seq_df, on=\"PATRIC ID\")\n",
    "df.to_csv(\"/Users/cmgro/Downloads/merged_gadC.csv\")"
   ]
  },
  {
   "cell_type": "code",
   "execution_count": 3,
   "metadata": {},
   "outputs": [
    {
     "name": "stdout",
     "output_type": "stream",
     "text": [
      "<class 'pandas.core.frame.DataFrame'>\n",
      "Int64Index: 93 entries, 0 to 142\n",
      "Data columns (total 18 columns):\n",
      " #   Column            Non-Null Count  Dtype  \n",
      "---  ------            --------------  -----  \n",
      " 0   Unnamed: 0        93 non-null     int64  \n",
      " 1   Genome            93 non-null     object \n",
      " 2   Genome ID         93 non-null     float64\n",
      " 3   PATRIC ID         93 non-null     object \n",
      " 4   RefSeq Locus Tag  80 non-null     object \n",
      " 5   Gene              16 non-null     object \n",
      " 6   Product           93 non-null     object \n",
      " 7   Length (NT)       93 non-null     int64  \n",
      " 8   Length (AA)       93 non-null     int64  \n",
      " 9   ALN Length        93 non-null     int64  \n",
      " 10  Identity          93 non-null     int64  \n",
      " 11  Query cover       93 non-null     int64  \n",
      " 12  Subject cover     93 non-null     int64  \n",
      " 13  Hit from          93 non-null     int64  \n",
      " 14  Hit to            93 non-null     int64  \n",
      " 15  Score             93 non-null     int64  \n",
      " 16  E value           93 non-null     float64\n",
      " 17  Sequences         93 non-null     object \n",
      "dtypes: float64(2), int64(10), object(6)\n",
      "memory usage: 13.8+ KB\n",
      "None\n",
      "{'Probable glutamate/gamma-aminobutyrate antiporter': 314, 'hypothetical protein': 62, 'Uncharacterized amino acid permease, GabP family': 47, 'Amino acid permease family protein': 1, 'Glutamate/gamma-aminobutyrate antiporter': 56, 'Amino acid transporter': 6, 'amino acid antiporter': 9, 'Putative amino acid transporter': 5}\n",
      "{'Probable glutamate/gamma-aminobutyrate antiporter': 93}\n"
     ]
    }
   ],
   "source": [
    "# reads blast results\n",
    "df = pd.read_csv(\"C:\\\\Users\\\\cmgro\\\\Downloads\\\\merged_gadC.csv\")\n",
    "\n",
    "#print(df.info()) - counted 500 entries\n",
    "\n",
    "# filters out entries with query cover and identity values less than 50%\n",
    "df_filtered = df[(df[\"Identity\"] > 50) &(df[\"Query cover\"] > 50)]\n",
    "\n",
    "# prints info on the new dataframe \n",
    "print(df_filtered.info())\n",
    "\n",
    "def count_types(types):\n",
    "    types_counts = {}\n",
    "    for i in types:\n",
    "        if i in types_counts.keys():\n",
    "            types_counts[i] += 1\n",
    "        else: \n",
    "            types_counts[i] = 1\n",
    "    return types_counts\n",
    "print(count_types(df[\"Product\"]))\n",
    "print(count_types(df_filtered[\"Product\"]))"
   ]
  },
  {
   "cell_type": "code",
   "execution_count": null,
   "metadata": {},
   "outputs": [],
   "source": []
  }
 ],
 "metadata": {
  "kernelspec": {
   "display_name": "Python 3",
   "language": "python",
   "name": "python3"
  },
  "language_info": {
   "codemirror_mode": {
    "name": "ipython",
    "version": 3
   },
   "file_extension": ".py",
   "mimetype": "text/x-python",
   "name": "python",
   "nbconvert_exporter": "python",
   "pygments_lexer": "ipython3",
   "version": "3.8.3"
  }
 },
 "nbformat": 4,
 "nbformat_minor": 4
}
