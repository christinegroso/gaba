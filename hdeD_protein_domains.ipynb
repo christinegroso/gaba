{
 "cells": [
  {
   "cell_type": "code",
   "execution_count": 3,
   "metadata": {},
   "outputs": [],
   "source": [
    "import pandas as pd\n",
    "from Bio import SeqIO\n",
    "from Bio.ExPASy import ScanProsite"
   ]
  },
  {
   "cell_type": "markdown",
   "metadata": {},
   "source": [
    "So I dun goofed and forgot to have you you guys download sequences as well for this next step, below is a script you help you merge the two files automatically, you'll use a similar pattern for the next set of steps which invovles extracting protien domains. "
   ]
  },
  {
   "cell_type": "code",
   "execution_count": 4,
   "metadata": {},
   "outputs": [
    {
     "name": "stdout",
     "output_type": "stream",
     "text": [
      "                              Genome  Genome ID     Accession  \\\n",
      "0  Yokenella regensburgei ATCC 43003  1002368.3  AGCL01000039   \n",
      "1    Bradyrhizobium japonicum USDA 6  1037409.3      AP012206   \n",
      "2     Bradyrhizobium elkanii WSM1741  1038859.3  AXAU01000001   \n",
      "3         Bradyrhizobium sp. WSM3983  1038867.3  AXAY01000006   \n",
      "4          Mesorhizobium sp. WSM4349  1040988.3  ARDH01000011   \n",
      "\n",
      "                PATRIC ID  RefSeq Locus Tag         Alt Locus Tag  \\\n",
      "0  fig|1002368.3.peg.2679  HMPREF0880_02940  VBIYokReg189340_2679   \n",
      "1  fig|1037409.3.peg.5438        BJ6T_54170  VBIBraJap202769_5438   \n",
      "2   fig|1038859.3.peg.922               NaN  VBIBraElk247588_0922   \n",
      "3  fig|1038867.3.peg.2509               NaN   VBIBraSp248367_2509   \n",
      "4  fig|1040988.3.peg.4335               NaN   VBIMesSp242480_4335   \n",
      "\n",
      "                                          Feature ID Annotation Feature Type  \\\n",
      "0  PATRIC.1002368.3.AGCL01000039.CDS.217161.21773...     PATRIC          CDS   \n",
      "1  PATRIC.1037409.3.AP012206.CDS.5489399.5490022.fwd     PATRIC          CDS   \n",
      "2  PATRIC.1038859.3.AXAU01000001.CDS.896362.89694...     PATRIC          CDS   \n",
      "3  PATRIC.1038867.3.AXAY01000006.CDS.259231.25980...     PATRIC          CDS   \n",
      "4  PATRIC.1040988.3.ARDH01000011.CDS.15237.15815.fwd     PATRIC          CDS   \n",
      "\n",
      "     Start  ...  Length  Strand    FIGfam ID  \\\n",
      "0   217161  ...     576       +  FIG00006237   \n",
      "1  5489399  ...     624       +  FIG01004781   \n",
      "2   896362  ...     579       +  FIG01004781   \n",
      "3   259231  ...     579       -  FIG01004781   \n",
      "4    15237  ...     579       +  FIG01004781   \n",
      "\n",
      "  PATRIC genus-specific families (PLfams)  \\\n",
      "0                                     NaN   \n",
      "1                        PLF_374_00001195   \n",
      "2                        PLF_374_00001195   \n",
      "3                        PLF_374_00001195   \n",
      "4                        PLF_374_00001195   \n",
      "\n",
      "  PATRIC cross-genus families (PGfams)  Protein ID AA Length  Gene Symbol  \\\n",
      "0                                  NaN  EHM47194.1       191          NaN   \n",
      "1                         PGF_08225224  BAL10672.1       207          NaN   \n",
      "2                         PGF_08225224         NaN       192          NaN   \n",
      "3                         PGF_08225224         NaN       192          NaN   \n",
      "4                         PGF_08225224         NaN       192          NaN   \n",
      "\n",
      "                                     Product  GO  \n",
      "0  Membrane transporter HdeD, H-NS repressed NaN  \n",
      "1                       hypothetical protein NaN  \n",
      "2                       hypothetical protein NaN  \n",
      "3                       hypothetical protein NaN  \n",
      "4                       hypothetical protein NaN  \n",
      "\n",
      "[5 rows x 21 columns]\n",
      "                PATRIC ID                                          Sequences\n",
      "0  fig|1002368.3.peg.2679  MLNINQSIISKLDVKVLEKQKNLLRLIAALMLIAGVLFIAFPFISG...\n",
      "1  fig|1038867.3.peg.2509  MTSPEEFSRLQSAMSQAVKAHWKAFLFEGILLAVLGIAALILPPLA...\n",
      "2  fig|1037409.3.peg.5438  MHIRLSTRLSIWSLPMTSREDFSRLQSAMSQTVKAHWKAFLFEGIL...\n",
      "3   fig|1038859.3.peg.922  MTQDIPPDIGKLQSEMNAAVKAHWKAFLFEGIVLALLGLAAMIVPP...\n",
      "4    fig|1076.23.peg.3234  MTLPDHTVSPGDTAKIQAQLETAIQGHWKAFLFEGIMLVIFGLAAI...\n"
     ]
    }
   ],
   "source": [
    "#Read your blast results csv in\n",
    "df = pd.read_csv(\"C:\\\\Users\\\\cmgro\\\\Downloads\\\\hdeD_genome_feature (9).csv\")\n",
    "#Show the first 5 rows\n",
    "print(df.head())\n",
    "#Temp lists to attatch variables \n",
    "ids = []\n",
    "seqs = []\n",
    "#Seq.IO.parse is. an easy way to read through every gene/prot in a fasta file \n",
    "for record in SeqIO.parse(\"C:\\\\Users\\\\cmgro\\\\Downloads\\\\hdeD_genome_feature (9).fasta\", \"fasta\"):\n",
    "    # So the fasta ID line is fig|1240239.3.peg.2328|XFF4834R_chr22840|VBIXanFus78442_2328|\n",
    "    # but we only need the first two elements (\"fig and 1240239.3.peg.2328\") to make fig|1240239.3.peg.2328\n",
    "    # We then use this ID to merge back onto the original dataframe (basically we say if this row has this ID, add the sequence to that row)\n",
    "    \n",
    "    #Fancy way of extracting the ID\n",
    "    ids.append(\"|\".join(record.id.split(\"|\")[0:2]))\n",
    "    #Fancy way of extracting the sequence \n",
    "    seqs.append(str(record.seq))\n",
    "#making a new dataframe from this info \n",
    "seq_df = pd.DataFrame.from_dict({\"PATRIC ID\": ids, \"Sequences\":seqs})\n",
    "print(seq_df.head())\n",
    "#Mergine back and saving \n",
    "df = df.merge(seq_df, on=\"PATRIC ID\")\n",
    "df.to_csv(\"/Users/cmgro/Downloads/merged_hdeD.csv\")"
   ]
  },
  {
   "cell_type": "code",
   "execution_count": null,
   "metadata": {},
   "outputs": [
    {
     "name": "stdout",
     "output_type": "stream",
     "text": [
      "{'sequence_ac': 'USERSEQ1', 'start': 128, 'stop': 139, 'signature_ac': 'PS00213', 'level_tag': '(-1)'}\n"
     ]
    }
   ],
   "source": [
    "import time\n",
    "sigs = []\n",
    "\n",
    "for i in df[\"Sequences\"].values:\n",
    "    handle = ScanProsite.scan(seq=i, mirror=\"https://prosite.expasy.org\")\n",
    "    result = ScanProsite.read(handle)\n",
    "    qq = []\n",
    "    for i in result:\n",
    "        print(i)\n",
    "        qq.append(i[\"signature_ac\"])\n",
    "    time.sleep(5)\n",
    "    qq = set(qq)\n",
    "    sigs.append(qq)\n",
    "    \n",
    "df[\"Prosite results\"] = sigs\n",
    "df.to_csv(\"/Users/christine/Downloads/hdeD_motifs.csv\")"
   ]
  },
  {
   "cell_type": "code",
   "execution_count": null,
   "metadata": {},
   "outputs": [],
   "source": [
    "df\n"
   ]
  },
  {
   "cell_type": "code",
   "execution_count": null,
   "metadata": {},
   "outputs": [],
   "source": []
  }
 ],
 "metadata": {
  "kernelspec": {
   "display_name": "Python 3",
   "language": "python",
   "name": "python3"
  },
  "language_info": {
   "codemirror_mode": {
    "name": "ipython",
    "version": 3
   },
   "file_extension": ".py",
   "mimetype": "text/x-python",
   "name": "python",
   "nbconvert_exporter": "python",
   "pygments_lexer": "ipython3",
   "version": "3.8.3"
  }
 },
 "nbformat": 4,
 "nbformat_minor": 4
}
