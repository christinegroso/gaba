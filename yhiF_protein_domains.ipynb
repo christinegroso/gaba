{
 "cells": [
  {
   "cell_type": "code",
   "execution_count": 1,
   "metadata": {},
   "outputs": [],
   "source": [
    "import pandas as pd\n",
    "from Bio import SeqIO\n",
    "from Bio.ExPASy import ScanProsite"
   ]
  },
  {
   "cell_type": "markdown",
   "metadata": {},
   "source": [
    "So I dun goofed and forgot to have you you guys download sequences as well for this next step, below is a script you help you merge the two files automatically, you'll use a similar pattern for the next set of steps which invovles extracting protien domains. "
   ]
  },
  {
   "cell_type": "code",
   "execution_count": 2,
   "metadata": {},
   "outputs": [
    {
     "name": "stdout",
     "output_type": "stream",
     "text": [
      "                                     Genome  Genome ID     Accession  \\\n",
      "0         Yokenella regensburgei ATCC 43003  1002368.3  AGCL01000039   \n",
      "1             Aquimarina latercula DSM 2041  1121006.3  AUMK01000008   \n",
      "2         Paenibacillus dendritiformis C454  1131935.3  AHKH01000019   \n",
      "3  Escherichia coli O104:H4 str. 2011C-3493  1133852.3      CP003289   \n",
      "4  Escherichia coli O104:H4 str. 2011C-3493  1133852.3      CP003289   \n",
      "\n",
      "                PATRIC ID  RefSeq Locus Tag         Alt Locus Tag  \\\n",
      "0  fig|1002368.3.peg.2680  HMPREF0880_02941  VBIYokReg189340_2680   \n",
      "1  fig|1121006.3.peg.3509               NaN  VBIAquLat268023_3509   \n",
      "2  fig|1131935.3.peg.1967   PDENDC454_09560  VBIPaeDen219249_1967   \n",
      "3   fig|1133852.3.peg.277         O3K_01350  VBIEscCol234630_0277   \n",
      "4   fig|1133852.3.peg.282         O3K_01375  VBIEscCol234630_0282   \n",
      "\n",
      "                                          Feature ID Annotation Feature Type  \\\n",
      "0  PATRIC.1002368.3.AGCL01000039.CDS.217786.21831...     PATRIC          CDS   \n",
      "1  PATRIC.1121006.3.AUMK01000008.CDS.26630.27232.fwd     PATRIC          CDS   \n",
      "2  PATRIC.1131935.3.AHKH01000019.CDS.39449.40117.rev     PATRIC          CDS   \n",
      "3    PATRIC.1133852.3.CP003289.CDS.279958.280485.rev     PATRIC          CDS   \n",
      "4    PATRIC.1133852.3.CP003289.CDS.283638.284168.rev     PATRIC          CDS   \n",
      "\n",
      "    Start  ...  Length  Strand    FIGfam ID  \\\n",
      "0  217786  ...     531       -  FIG00006380   \n",
      "1   26630  ...     603       +          NaN   \n",
      "2   39449  ...     669       -  FIG01304429   \n",
      "3  279958  ...     528       -  FIG00006380   \n",
      "4  283638  ...     531       -  FIG00003845   \n",
      "\n",
      "  PATRIC genus-specific families (PLfams)  \\\n",
      "0                                     NaN   \n",
      "1                     PLF_290174_00020791   \n",
      "2                      PLF_44249_00001176   \n",
      "3                        PLF_561_00003078   \n",
      "4                        PLF_561_00002873   \n",
      "\n",
      "  PATRIC cross-genus families (PGfams)  Protein ID AA Length  Gene Symbol  \\\n",
      "0                                  NaN  EHM47195.1       176          NaN   \n",
      "1                         PGF_10521592         NaN       200          NaN   \n",
      "2                         PGF_06705703  EHQ62542.1       222          NaN   \n",
      "3                         PGF_00057508  AFS72201.1       175          NaN   \n",
      "4                         PGF_00010716  AFS72206.1       176          NaN   \n",
      "\n",
      "                                             Product  GO  \n",
      "0                     Transcriptional activator GadE NaN  \n",
      "1                               hypothetical protein NaN  \n",
      "2  Cell envelope stress response system LiaFSR, r... NaN  \n",
      "3                     Transcriptional activator GadE NaN  \n",
      "4        Transcriptional regulator DctR, LuxR family NaN  \n",
      "\n",
      "[5 rows x 21 columns]\n",
      "                PATRIC ID                                          Sequences\n",
      "0  fig|1002368.3.peg.2680  MILMVTKDEFLFQGVTHLLNNEKVIRAEGLSDIGKQIADPASKVII...\n",
      "1  fig|1131935.3.peg.1967  MEQTVMTVFLVDDHEMVRMGLKTYLMLDPEIEVIGEAGGGLEAIQS...\n",
      "2  fig|1121006.3.peg.3509  MIIEGLESMLKLETEISVINSFTHKANCYDFFEKETPDVLLLDINL...\n",
      "3   fig|1133852.3.peg.277  MIFLMTKDSFLLQGFWQLKDNHEMIKINSLSEIKKVGNKPFKVIID...\n",
      "4   fig|1133852.3.peg.282  MFLIITRDTMFFTAMKNILSKGNVVHIQNEEEIDVMLHQNAFVIID...\n"
     ]
    }
   ],
   "source": [
    "#Read your blast results csv in\n",
    "df = pd.read_csv(\"C:\\\\Users\\\\cmgro\\\\Downloads\\\\yhiF_genome_feature (13).csv\")\n",
    "#Show the first 5 rows\n",
    "print(df.head())\n",
    "#Temp lists to attatch variables \n",
    "ids = []\n",
    "seqs = []\n",
    "#Seq.IO.parse is. an easy way to read through every gene/prot in a fasta file \n",
    "for record in SeqIO.parse(\"C:\\\\Users\\\\cmgro\\\\Downloads\\\\yhiF_genome_feature (13).fasta\", \"fasta\"):\n",
    "    # So the fasta ID line is fig|1240239.3.peg.2328|XFF4834R_chr22840|VBIXanFus78442_2328|\n",
    "    # but we only need the first two elements (\"fig and 1240239.3.peg.2328\") to make fig|1240239.3.peg.2328\n",
    "    # We then use this ID to merge back onto the original dataframe (basically we say if this row has this ID, add the sequence to that row)\n",
    "    \n",
    "    #Fancy way of extracting the ID\n",
    "    ids.append(\"|\".join(record.id.split(\"|\")[0:2]))\n",
    "    #Fancy way of extracting the sequence \n",
    "    seqs.append(str(record.seq))\n",
    "#making a new dataframe from this info \n",
    "seq_df = pd.DataFrame.from_dict({\"PATRIC ID\": ids, \"Sequences\":seqs})\n",
    "print(seq_df.head())\n",
    "#Mergine back and saving \n",
    "df = df.merge(seq_df, on=\"PATRIC ID\")\n",
    "df.to_csv(\"/Users/cmgro/Downloads/merged_yhiF.csv\")"
   ]
  },
  {
   "cell_type": "code",
   "execution_count": null,
   "metadata": {},
   "outputs": [
    {
     "name": "stdout",
     "output_type": "stream",
     "text": [
      "{'sequence_ac': 'USERSEQ1', 'start': 110, 'stop': 175, 'signature_ac': 'PS50043', 'score': '13.775', 'level': '0'}\n",
      "{'sequence_ac': 'USERSEQ1', 'start': 1, 'stop': 108, 'signature_ac': 'PS50110', 'score': '22.421', 'level': '0'}\n",
      "{'sequence_ac': 'USERSEQ1', 'start': 132, 'stop': 197, 'signature_ac': 'PS50043', 'score': '25.495', 'level': '0'}\n",
      "{'sequence_ac': 'USERSEQ1', 'start': 7, 'stop': 129, 'signature_ac': 'PS50110', 'score': '40.617', 'level': '0'}\n",
      "{'sequence_ac': 'USERSEQ1', 'start': 152, 'stop': 217, 'signature_ac': 'PS50043', 'score': '33.337', 'level': '0'}\n",
      "{'sequence_ac': 'USERSEQ1', 'start': 173, 'stop': 200, 'signature_ac': 'PS00622', 'level_tag': '(0)'}\n",
      "{'sequence_ac': 'USERSEQ1', 'start': 109, 'stop': 174, 'signature_ac': 'PS50043', 'score': '20.766', 'level': '0'}\n",
      "{'sequence_ac': 'USERSEQ1', 'start': 109, 'stop': 174, 'signature_ac': 'PS50043', 'score': '25.818', 'level': '0'}\n",
      "{'sequence_ac': 'USERSEQ1', 'start': 7, 'stop': 129, 'signature_ac': 'PS50110', 'score': '41.947', 'level': '0'}\n",
      "{'sequence_ac': 'USERSEQ1', 'start': 152, 'stop': 217, 'signature_ac': 'PS50043', 'score': '33.337', 'level': '0'}\n",
      "{'sequence_ac': 'USERSEQ1', 'start': 173, 'stop': 200, 'signature_ac': 'PS00622', 'level_tag': '(0)'}\n",
      "{'sequence_ac': 'USERSEQ1', 'start': 110, 'stop': 175, 'signature_ac': 'PS50043', 'score': '14.686', 'level': '0'}\n",
      "{'sequence_ac': 'USERSEQ1', 'start': 1, 'stop': 59, 'signature_ac': 'PS50043', 'score': '29.401', 'level': '0'}\n",
      "{'sequence_ac': 'USERSEQ1', 'start': 100, 'stop': 165, 'signature_ac': 'PS50043', 'score': '25.994', 'level': '0'}\n",
      "{'sequence_ac': 'USERSEQ1', 'start': 109, 'stop': 174, 'signature_ac': 'PS50043', 'score': '20.766', 'level': '0'}\n",
      "{'sequence_ac': 'USERSEQ1', 'start': 4, 'stop': 121, 'signature_ac': 'PS50110', 'score': '40.697', 'level': '0'}\n",
      "{'sequence_ac': 'USERSEQ1', 'start': 148, 'stop': 213, 'signature_ac': 'PS50043', 'score': '30.664', 'level': '0'}\n",
      "{'sequence_ac': 'USERSEQ1', 'start': 169, 'stop': 196, 'signature_ac': 'PS00622', 'level_tag': '(0)'}\n"
     ]
    }
   ],
   "source": [
    "import time\n",
    "sigs = []\n",
    "\n",
    "for i in df[\"Sequences\"].values:\n",
    "    handle = ScanProsite.scan(seq=i, mirror=\"https://prosite.expasy.org\")\n",
    "    result = ScanProsite.read(handle)\n",
    "    qq = []\n",
    "    for i in result:\n",
    "        print(i)\n",
    "        qq.append(i[\"signature_ac\"])\n",
    "    time.sleep(5)\n",
    "    qq = set(qq)\n",
    "    sigs.append(qq)\n",
    "    \n",
    "df[\"Prosite results\"] = sigs\n",
    "df.to_csv(\"/Users/christine/Downloads/yhiF_motifs.csv\")"
   ]
  },
  {
   "cell_type": "code",
   "execution_count": null,
   "metadata": {},
   "outputs": [],
   "source": [
    "df\n"
   ]
  },
  {
   "cell_type": "code",
   "execution_count": null,
   "metadata": {},
   "outputs": [],
   "source": []
  }
 ],
 "metadata": {
  "kernelspec": {
   "display_name": "Python 3",
   "language": "python",
   "name": "python3"
  },
  "language_info": {
   "codemirror_mode": {
    "name": "ipython",
    "version": 3
   },
   "file_extension": ".py",
   "mimetype": "text/x-python",
   "name": "python",
   "nbconvert_exporter": "python",
   "pygments_lexer": "ipython3",
   "version": "3.8.3"
  }
 },
 "nbformat": 4,
 "nbformat_minor": 4
}
