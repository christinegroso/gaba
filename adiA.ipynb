{
 "cells": [
  {
   "cell_type": "code",
   "execution_count": 1,
   "metadata": {},
   "outputs": [],
   "source": [
    "import pandas as pd\n",
    "from Bio import SeqIO"
   ]
  },
  {
   "cell_type": "code",
   "execution_count": 2,
   "metadata": {},
   "outputs": [
    {
     "name": "stdout",
     "output_type": "stream",
     "text": [
      "                                      Genome  Genome ID  \\\n",
      "0                    Escherichia coli UMN026   585056.7   \n",
      "1                            Shigella sp. D9   556266.3   \n",
      "2  Escherichia coli str. K-12 substr. MG1655  511145.12   \n",
      "3        Escherichia coli O157:H7 str. Sakai   386585.9   \n",
      "4   Escherichia coli O104:H4 str. 2011C-3493  1133852.3   \n",
      "\n",
      "                PATRIC ID    RefSeq Locus Tag  Gene  \\\n",
      "0   fig|585056.7.peg.4813          ECUMN_4649  adiA   \n",
      "1   fig|556266.3.peg.2565  ShiD9_010100012650   NaN   \n",
      "2  fig|511145.12.peg.4248               b4117  adiA   \n",
      "3   fig|386585.9.peg.5329             ECs5099   NaN   \n",
      "4  fig|1133852.3.peg.4870           O3K_23290   NaN   \n",
      "\n",
      "                                           Product Length (NT)  Length (AA)  \\\n",
      "0  Arginine decarboxylase, catabolic (EC 4.1.1.19)        2271          756   \n",
      "1  Arginine decarboxylase, catabolic (EC 4.1.1.19)        2271          756   \n",
      "2  Arginine decarboxylase, catabolic (EC 4.1.1.19)        2271          756   \n",
      "3  Arginine decarboxylase, catabolic (EC 4.1.1.19)        2271          756   \n",
      "4  Arginine decarboxylase, catabolic (EC 4.1.1.19)        2271          756   \n",
      "\n",
      "   ALN Length  Identity  Query cover  Subject cover  Hit from  Hit to  Score  \\\n",
      "0         756        98          100            100         2     756   1537   \n",
      "1         756        98          100            100         2     756   1537   \n",
      "2         756        98          100            100         2     756   1537   \n",
      "3         756        98          100            100         2     756   1535   \n",
      "4         756        98          100            100         2     756   1535   \n",
      "\n",
      "   E value  Unnamed: 16  \n",
      "0      0.0          NaN  \n",
      "1      0.0          NaN  \n",
      "2      0.0          NaN  \n",
      "3      0.0          NaN  \n",
      "4      0.0          NaN  \n",
      "                PATRIC ID                                          Sequences\n",
      "0  fig|1000565.3.peg.2789  MRFEFPVIIIDEDFRSENASGLGIRALAEAIEKEGLGVLGVTSYGD...\n",
      "1  fig|1001530.3.peg.2384  MNNSTNKMRALVIEHQNIIPNSYADRATKSLIKELSDRTIEIVTAT...\n",
      "2   fig|1001530.3.peg.789  MLNYGKHKRVLIFDNSQQTGVIANAIDRLIEEFKKESINVLTASSY...\n",
      "3  fig|1002368.3.peg.2243  MEVRSERLISLKALVVHNSASHVGVVNDSITRLIDALNHKGIITVV...\n",
      "4  fig|1005395.3.peg.2872  MYKDLKFPVLIVHRDIKSDTVAGDRVRGIAQELAQDGFTILSAIDY...\n"
     ]
    }
   ],
   "source": [
    "#Read your blast results csv in\n",
    "df = pd.read_csv(\"C:\\\\Users\\\\cmgro\\\\Downloads\\\\adiA_blast.csv\")\n",
    "#Show the first  rows\n",
    "print(df.head())\n",
    "#Temp lists to attatch5 variables \n",
    "ids = []\n",
    "seqs = []\n",
    "#Seq.IO.parse is. an easy way to read through every gene/prot in a fasta file \n",
    "for record in SeqIO.parse(\"C:\\\\Users\\\\cmgro\\\\Downloads\\\\adiA.fasta\", \"fasta\"):\n",
    "    # So the fasta ID line is fig|1240239.3.peg.2328|XFF4834R_chr22840|VBIXanFus78442_2328|\n",
    "    # but we only need the first two elements (\"fig and 1240239.3.peg.2328\") to make fig|1240239.3.peg.2328\n",
    "    # We then use this ID to merge back onto the original dataframe (basically we say if this row has this ID, add the sequence to that row)\n",
    "    \n",
    "    #Fancy way of extracting the ID\n",
    "    ids.append(\"|\".join(record.id.split(\"|\")[0:2]))\n",
    "    #Fancy way of extracting the sequence \n",
    "    seqs.append(str(record.seq))\n",
    "#making a new dataframe from this info \n",
    "seq_df = pd.DataFrame.from_dict({\"PATRIC ID\": ids, \"Sequences\":seqs})\n",
    "print(seq_df.head())\n",
    "#Mergine back and saving \n",
    "df = df.merge(seq_df, on=\"PATRIC ID\")\n",
    "df.to_csv(\"/Users/cmgro/Downloads/merged_adiA.csv\")"
   ]
  },
  {
   "cell_type": "code",
   "execution_count": 3,
   "metadata": {},
   "outputs": [
    {
     "name": "stdout",
     "output_type": "stream",
     "text": [
      "<class 'pandas.core.frame.DataFrame'>\n",
      "Int64Index: 109 entries, 0 to 267\n",
      "Data columns (total 19 columns):\n",
      " #   Column            Non-Null Count  Dtype  \n",
      "---  ------            --------------  -----  \n",
      " 0   Unnamed: 0        109 non-null    int64  \n",
      " 1   Genome            109 non-null    object \n",
      " 2   Genome ID         109 non-null    float64\n",
      " 3   PATRIC ID         109 non-null    object \n",
      " 4   RefSeq Locus Tag  86 non-null     object \n",
      " 5   Gene              32 non-null     object \n",
      " 6   Product           109 non-null    object \n",
      " 7   Length (NT)       109 non-null    int64  \n",
      " 8   Length (AA)       109 non-null    int64  \n",
      " 9   ALN Length        109 non-null    int64  \n",
      " 10  Identity          109 non-null    int64  \n",
      " 11  Query cover       109 non-null    int64  \n",
      " 12  Subject cover     109 non-null    int64  \n",
      " 13  Hit from          109 non-null    int64  \n",
      " 14  Hit to            109 non-null    int64  \n",
      " 15  Score             109 non-null    int64  \n",
      " 16  E value           109 non-null    float64\n",
      " 17  Unnamed: 16       0 non-null      float64\n",
      " 18  Sequences         109 non-null    object \n",
      "dtypes: float64(3), int64(10), object(6)\n",
      "memory usage: 17.0+ KB\n",
      "None\n",
      "{'Arginine decarboxylase, catabolic (EC 4.1.1.19)': 123, 'Arginine decarboxylase (EC 4.1.1.19) / Ornithine decarboxylase (EC 4.1.1.17)': 72, 'Lysine decarboxylase, inducible (EC 4.1.1.18)': 78, 'Arginine decarboxylase (EC 4.1.1.19); Ornithine decarboxylase (EC 4.1.1.17); Lysine decarboxylase (EC 4.1.1.18)': 196, 'Arginine decarboxylase (EC 4.1.1.19)': 24, 'hypothetical protein': 5, 'Lysine decarboxylase': 1}\n",
      "{'Arginine decarboxylase, catabolic (EC 4.1.1.19)': 105, 'Arginine decarboxylase (EC 4.1.1.19) / Ornithine decarboxylase (EC 4.1.1.17)': 3, 'Lysine decarboxylase, inducible (EC 4.1.1.18)': 1}\n"
     ]
    }
   ],
   "source": [
    "# reads blast results\n",
    "df = pd.read_csv(\"C:\\\\Users\\\\cmgro\\\\Downloads\\\\merged_adiA.csv\")\n",
    "\n",
    "#print(df.info()) - counted 500 entries\n",
    "\n",
    "# filters out entries with query cover and identity values less than 50%\n",
    "df_filtered = df.loc[(df['Query cover']>=50) & (df['Identity']>=50)]\n",
    "\n",
    "# prints info on the new dataframe \n",
    "print(df_filtered.info())\n",
    "\n",
    "def count_types(types):\n",
    "    types_counts = {}\n",
    "    for i in types:\n",
    "        if i in types_counts.keys():\n",
    "            types_counts[i] += 1\n",
    "        else: \n",
    "            types_counts[i] = 1\n",
    "    return types_counts\n",
    "print(count_types(df[\"Product\"]))\n",
    "print(count_types(df_filtered[\"Product\"]))"
   ]
  }
 ],
 "metadata": {
  "kernelspec": {
   "display_name": "Python 3",
   "language": "python",
   "name": "python3"
  },
  "language_info": {
   "codemirror_mode": {
    "name": "ipython",
    "version": 3
   },
   "file_extension": ".py",
   "mimetype": "text/x-python",
   "name": "python",
   "nbconvert_exporter": "python",
   "pygments_lexer": "ipython3",
   "version": "3.8.3"
  }
 },
 "nbformat": 4,
 "nbformat_minor": 4
}
