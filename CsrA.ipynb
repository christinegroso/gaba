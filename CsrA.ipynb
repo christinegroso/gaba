{
 "cells": [
  {
   "cell_type": "code",
   "execution_count": 1,
   "metadata": {},
   "outputs": [],
   "source": [
    "import pandas as pd\n",
    "from Bio import SeqIO"
   ]
  },
  {
   "cell_type": "code",
   "execution_count": 2,
   "metadata": {},
   "outputs": [
    {
     "name": "stdout",
     "output_type": "stream",
     "text": [
      "                                              Genome  Genome ID  \\\n",
      "0  Salmonella enterica subsp. enterica serovar Ty...   99287.12   \n",
      "1                        Enterobacter mori LMG 25706  980518.30   \n",
      "2  Leclercia adecarboxylata ATCC 23216 = NBRC 102595  911008.30   \n",
      "3                 Enterobacter hormaechei ATCC 49162  888063.30   \n",
      "4  Leclercia adecarboxylata strain USDA-ARS-USMAR...   83655.10   \n",
      "\n",
      "               PATRIC ID RefSeq Locus Tag  Gene                   Product  \\\n",
      "0  fig|99287.12.peg.2980          STM2826  csrA  Carbon storage regulator   \n",
      "1  fig|980518.3.peg.3594              NaN   NaN  Carbon storage regulator   \n",
      "2  fig|911008.3.peg.1375       GLAD_01409  csrA  Carbon storage regulator   \n",
      "3  fig|888063.3.peg.3416  HMPREF9086_3578  csrA  Carbon storage regulator   \n",
      "4   fig|83655.10.peg.964      APT61_04870   NaN  Carbon storage regulator   \n",
      "\n",
      "   Length (NT)  Length (AA)  ALN Length  Identity  Query cover  Subject cover  \\\n",
      "0          186           61          61       100           97             98   \n",
      "1          186           61          61       100           97             98   \n",
      "2          186           61          61       100           97             98   \n",
      "3          186           61          61       100           97             98   \n",
      "4          186           61          61       100           97             98   \n",
      "\n",
      "   Hit from  Hit to  Score       E value  \n",
      "0         1      60    120  8.000000e-34  \n",
      "1         1      60    120  8.000000e-34  \n",
      "2         1      60    120  8.000000e-34  \n",
      "3         1      60    120  8.000000e-34  \n",
      "4         1      60    120  8.000000e-34  \n",
      "                PATRIC ID                                          Sequences\n",
      "0   fig|1005057.4.peg.367  MLILTRRIGETLIIGDEITVTVLGVKGNQVRIGVNAPKEVSVHREE...\n",
      "1  fig|1001530.3.peg.2141  MLILTRRVGETLMIGDEVTVTVLGVKGNQVRIGVNAPKEVSVHREE...\n",
      "2  fig|1001886.3.peg.1418  MLILTRRVGETLMIGDEVTVTVLGVKGNQVRIGVNAPKEVSVHREE...\n",
      "3  fig|1004326.3.peg.1582  MLILTRRVGETLMIGDEVTVTVLGVKGNQVRIGVNAPKEVSVHREE...\n",
      "4  fig|1005995.4.peg.3360  MLILTRRVGETLMIGDEVTVTVLGVKGNQVRIGVNAPKEVSVHREE...\n"
     ]
    }
   ],
   "source": [
    "#Read your blast results csv in\n",
    "df = pd.read_csv(\"C:\\\\Users\\\\cmgro\\\\Downloads\\\\CsrA_blast.csv\")\n",
    "#Show the first  rows\n",
    "print(df.head())\n",
    "#Temp lists to attatch5 variables \n",
    "ids = []\n",
    "seqs = []\n",
    "#Seq.IO.parse is. an easy way to read through every gene/prot in a fasta file \n",
    "for record in SeqIO.parse(\"C:\\\\Users\\\\cmgro\\\\Downloads\\\\CsrA.fasta\", \"fasta\"):\n",
    "    # So the fasta ID line is fig|1240239.3.peg.2328|XFF4834R_chr22840|VBIXanFus78442_2328|\n",
    "    # but we only need the first two elements (\"fig and 1240239.3.peg.2328\") to make fig|1240239.3.peg.2328\n",
    "    # We then use this ID to merge back onto the original dataframe (basically we say if this row has this ID, add the sequence to that row)\n",
    "    \n",
    "    #Fancy way of extracting the ID\n",
    "    ids.append(\"|\".join(record.id.split(\"|\")[0:2]))\n",
    "    #Fancy way of extracting the sequence \n",
    "    seqs.append(str(record.seq))\n",
    "#making a new dataframe from this info \n",
    "seq_df = pd.DataFrame.from_dict({\"PATRIC ID\": ids, \"Sequences\":seqs})\n",
    "print(seq_df.head())\n",
    "#Mergine back and saving \n",
    "df = df.merge(seq_df, on=\"PATRIC ID\")\n",
    "df.to_csv(\"/Users/cmgro/Downloads/merged_CsrA.csv\")"
   ]
  },
  {
   "cell_type": "code",
   "execution_count": 3,
   "metadata": {},
   "outputs": [
    {
     "name": "stdout",
     "output_type": "stream",
     "text": [
      "<class 'pandas.core.frame.DataFrame'>\n",
      "Int64Index: 500 entries, 0 to 499\n",
      "Data columns (total 18 columns):\n",
      " #   Column            Non-Null Count  Dtype  \n",
      "---  ------            --------------  -----  \n",
      " 0   Unnamed: 0        500 non-null    int64  \n",
      " 1   Genome            500 non-null    object \n",
      " 2   Genome ID         500 non-null    float64\n",
      " 3   PATRIC ID         500 non-null    object \n",
      " 4   RefSeq Locus Tag  365 non-null    object \n",
      " 5   Gene              104 non-null    object \n",
      " 6   Product           500 non-null    object \n",
      " 7   Length (NT)       500 non-null    int64  \n",
      " 8   Length (AA)       500 non-null    int64  \n",
      " 9   ALN Length        500 non-null    int64  \n",
      " 10  Identity          500 non-null    int64  \n",
      " 11  Query cover       500 non-null    int64  \n",
      " 12  Subject cover     500 non-null    int64  \n",
      " 13  Hit from          500 non-null    int64  \n",
      " 14  Hit to            500 non-null    int64  \n",
      " 15  Score             500 non-null    int64  \n",
      " 16  E value           500 non-null    float64\n",
      " 17  Sequences         500 non-null    object \n",
      "dtypes: float64(2), int64(10), object(6)\n",
      "memory usage: 74.2+ KB\n",
      "None\n",
      "{'Carbon storage regulator': 500}\n",
      "{'Carbon storage regulator': 500}\n"
     ]
    }
   ],
   "source": [
    "# reads blast results\n",
    "df = pd.read_csv(\"C:\\\\Users\\\\cmgro\\\\Downloads\\\\merged_CsrA.csv\")\n",
    "\n",
    "#print(df.info()) - counted 500 entries\n",
    "\n",
    "# filters out entries with query cover and identity values less than 50%\n",
    "df_filtered = df[(df[\"Identity\"] > 50) &(df[\"Query cover\"] > 50)]\n",
    "\n",
    "# prints info on the new dataframe \n",
    "print(df_filtered.info())\n",
    "\n",
    "def count_types(types):\n",
    "    types_counts = {}\n",
    "    for i in types:\n",
    "        if i in types_counts.keys():\n",
    "            types_counts[i] += 1\n",
    "        else: \n",
    "            types_counts[i] = 1\n",
    "    return types_counts\n",
    "print(count_types(df[\"Product\"]))\n",
    "print(count_types(df_filtered[\"Product\"]))"
   ]
  }
 ],
 "metadata": {
  "kernelspec": {
   "display_name": "Python 3",
   "language": "python",
   "name": "python3"
  },
  "language_info": {
   "codemirror_mode": {
    "name": "ipython",
    "version": 3
   },
   "file_extension": ".py",
   "mimetype": "text/x-python",
   "name": "python",
   "nbconvert_exporter": "python",
   "pygments_lexer": "ipython3",
   "version": "3.8.3"
  }
 },
 "nbformat": 4,
 "nbformat_minor": 4
}
