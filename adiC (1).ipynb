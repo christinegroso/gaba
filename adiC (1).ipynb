{
 "cells": [
  {
   "cell_type": "code",
   "execution_count": 2,
   "metadata": {},
   "outputs": [],
   "source": [
    "import pandas as pd\n",
    "from Bio import SeqIO"
   ]
  },
  {
   "cell_type": "code",
   "execution_count": 3,
   "metadata": {},
   "outputs": [
    {
     "name": "stdout",
     "output_type": "stream",
     "text": [
      "                      Genome  Genome ID              PATRIC ID  \\\n",
      "0  Escherichia coli MS 124-1   679205.4  fig|679205.4.peg.4490   \n",
      "1  Escherichia coli MS 145-7   679204.3  fig|679204.3.peg.3965   \n",
      "2            Shigella sp. D9   556266.3  fig|556266.3.peg.2563   \n",
      "3  Escherichia sp. 3_2_53FAA   469598.5  fig|469598.5.peg.3699   \n",
      "4       Citrobacter sp. 30_2   469595.3  fig|469595.3.peg.4475   \n",
      "\n",
      "     RefSeq Locus Tag Gene                       Product  Length (NT)  \\\n",
      "0    HMPREF9347_04656  NaN  Arginine/agmatine antiporter         1338   \n",
      "1    HMPREF9348_04106  NaN  Arginine/agmatine antiporter         1338   \n",
      "2  ShiD9_010100012640  NaN  Arginine/agmatine antiporter         1338   \n",
      "3          ESAG_03586  NaN  Arginine/agmatine antiporter         1338   \n",
      "4          CSAG_04482  NaN  Arginine/agmatine antiporter         1338   \n",
      "\n",
      "   Length (AA)  ALN Length  Identity  Query cover  Subject cover  Hit from  \\\n",
      "0          445         445       100          100            100         1   \n",
      "1          445         445       100          100            100         1   \n",
      "2          445         445       100          100            100         1   \n",
      "3          445         445       100          100            100         1   \n",
      "4          445         445        95          100            100         1   \n",
      "\n",
      "   Hit to  Score  E value  \n",
      "0     445    881      0.0  \n",
      "1     445    881      0.0  \n",
      "2     445    881      0.0  \n",
      "3     445    881      0.0  \n",
      "4     445    845      0.0  \n",
      "                PATRIC ID                                          Sequences\n",
      "0  fig|1002369.4.peg.2160  MNEKNKMGLISIILLGINAVVGAGVFLLPGDAMKSFGVASIFVYIF...\n",
      "1  fig|1002369.4.peg.3071  MEKGIKLGFWSIVLLGINAIIGSGIFGLPGDAYTDIGPASILVLVF...\n",
      "2  fig|1002369.4.peg.1501  MGSNELKKTLGVSAALSTVVGSVIGAGVFFKPQAVYTLTGGAPGLG...\n",
      "3  fig|1002369.4.peg.3369  MHTQLQKTIGLSAALSTVVGMVIGSGVFFKPQAIYTTTNGAPGLGI...\n",
      "4   fig|1002369.4.peg.417  MEKAKKLGLFSMILLGINSIIGSGIFLLPGKVYNLAGQNSMFIYIF...\n"
     ]
    }
   ],
   "source": [
    "#Read your blast results csv in\n",
    "df = pd.read_csv(\"C:\\\\Users\\\\cmgro\\\\Downloads\\\\adiC_blast.csv\")\n",
    "#Show the first  rows\n",
    "print(df.head())\n",
    "#Temp lists to attatch5 variables \n",
    "ids = []\n",
    "seqs = []\n",
    "#Seq.IO.parse is. an easy way to read through every gene/prot in a fasta file \n",
    "for record in SeqIO.parse(\"C:\\\\Users\\\\cmgro\\\\Downloads\\\\adiC.fasta\", \"fasta\"):\n",
    "    # So the fasta ID line is fig|1240239.3.peg.2328|XFF4834R_chr22840|VBIXanFus78442_2328|\n",
    "    # but we only need the first two elements (\"fig and 1240239.3.peg.2328\") to make fig|1240239.3.peg.2328\n",
    "    # We then use this ID to merge back onto the original dataframe (basically we say if this row has this ID, add the sequence to that row)\n",
    "    \n",
    "    #Fancy way of extracting the ID\n",
    "    ids.append(\"|\".join(record.id.split(\"|\")[0:2]))\n",
    "    #Fancy way of extracting the sequence \n",
    "    seqs.append(str(record.seq))\n",
    "#making a new dataframe from this info \n",
    "seq_df = pd.DataFrame.from_dict({\"PATRIC ID\": ids, \"Sequences\":seqs})\n",
    "print(seq_df.head())\n",
    "#Mergine back and saving \n",
    "df = df.merge(seq_df, on=\"PATRIC ID\")\n",
    "df.to_csv(\"/Users/cmgro/Downloads/merged_adiC.csv\")"
   ]
  },
  {
   "cell_type": "code",
   "execution_count": 4,
   "metadata": {},
   "outputs": [
    {
     "name": "stdout",
     "output_type": "stream",
     "text": [
      "<class 'pandas.core.frame.DataFrame'>\n",
      "Int64Index: 5 entries, 0 to 4\n",
      "Data columns (total 18 columns):\n",
      " #   Column            Non-Null Count  Dtype  \n",
      "---  ------            --------------  -----  \n",
      " 0   Unnamed: 0        5 non-null      int64  \n",
      " 1   Genome            5 non-null      object \n",
      " 2   Genome ID         5 non-null      float64\n",
      " 3   PATRIC ID         5 non-null      object \n",
      " 4   RefSeq Locus Tag  5 non-null      object \n",
      " 5   Gene              0 non-null      object \n",
      " 6   Product           5 non-null      object \n",
      " 7   Length (NT)       5 non-null      int64  \n",
      " 8   Length (AA)       5 non-null      int64  \n",
      " 9   ALN Length        5 non-null      int64  \n",
      " 10  Identity          5 non-null      int64  \n",
      " 11  Query cover       5 non-null      int64  \n",
      " 12  Subject cover     5 non-null      int64  \n",
      " 13  Hit from          5 non-null      int64  \n",
      " 14  Hit to            5 non-null      int64  \n",
      " 15  Score             5 non-null      int64  \n",
      " 16  E value           5 non-null      float64\n",
      " 17  Sequences         5 non-null      object \n",
      "dtypes: float64(2), int64(10), object(6)\n",
      "memory usage: 760.0+ bytes\n",
      "None\n",
      "{'Arginine/agmatine antiporter': 6, 'Lysine/cadaverine antiporter membrane protein CadB': 14, 'Putrescine/proton symporter, putrescine/ornithine antiporter PotE': 21, 'Arginine/ornithine antiporter ArcD': 50, 'Uncharacterized amino acid permease, GabP family': 99, 'Amino acid permease family protein': 1, 'Serine/threonine exchanger SteT': 24, 'Fructoselysine/psicoselysine transporter FrlA': 4, 'S-methylmethionine permease': 13, 'gamma-aminobutyrate (GABA) permease': 4, 'Putative amino acid transporter': 1, 'D-serine/D-alanine/glycine transporter': 46, 'Probable transport protein YifK': 9, 'Amino acid-proton symporter YbeC': 9, 'Arginine permease RocE': 5, 'Ethanolamine permease': 8, 'Probable glutamate/gamma-aminobutyrate antiporter': 16, 'Aromatic amino acid transport protein AroP': 23, 'hypothetical protein': 9, 'Uncharacterized amino acid permease YtnA': 5, 'Uncharacterized transporter YbxG': 13, 'Phenylalanine-specific permease': 10, 'Agmatine/putrescine antiporter, associated with agmatine catabolism': 8, 'Cationic amino acid transporter - APC Superfamily': 8, 'Arginine permease': 5, 'Amino-acid permease AapA': 5, 'Uncharacterized amino acid permease YhdG': 5, 'Lysine-specific permease': 13, 'Histidine transport protein (permease)': 13, 'Glutamate/gamma-aminobutyrate antiporter': 12, 'Amino acid permease-associated region precursor': 6, 'Amino acid permease in 4-hydroxyproline catabolic gene cluster': 2, 'Small molecule diffusion facilitator (permease)': 2, 'Uncharacterized amino acid permease MSMEG_6727, GabP family': 1, 'Putative amino acid permease': 2, 'Urea carboxylase-related amino acid permease': 1, 'L-asparagine permease': 7, 'L-methionine and branched-chain amino acid export protein YjeH': 6, 'Proline-specific permease ProY': 9, 'Putrescine importer': 1, 'Inner membrane protein YjeH': 1, 'Uncharacterized GabP-family amino acid permease SAV1333': 2, 'Amino acid permease in hypothetical Actinobacterial gene cluster': 1}\n",
      "{'Arginine/agmatine antiporter': 5}\n"
     ]
    }
   ],
   "source": [
    "# reads blast results\n",
    "df = pd.read_csv(\"C:\\\\Users\\\\cmgro\\\\Downloads\\\\merged_adiC.csv\")\n",
    "\n",
    "#print(df.info()) - counted 500 entries\n",
    "\n",
    "# filters out entries with query cover and identity values less than 50%\n",
    "df_filtered = df[(df[\"Identity\"] > 50) &(df[\"Query cover\"] > 50)]\n",
    "\n",
    "# prints info on the new dataframe \n",
    "print(df_filtered.info())\n",
    "\n",
    "def count_types(types):\n",
    "    types_counts = {}\n",
    "    for i in types:\n",
    "        if i in types_counts.keys():\n",
    "            types_counts[i] += 1\n",
    "        else: \n",
    "            types_counts[i] = 1\n",
    "    return types_counts\n",
    "print(count_types(df[\"Product\"]))\n",
    "print(count_types(df_filtered[\"Product\"]))"
   ]
  }
 ],
 "metadata": {
  "kernelspec": {
   "display_name": "Python 3",
   "language": "python",
   "name": "python3"
  },
  "language_info": {
   "codemirror_mode": {
    "name": "ipython",
    "version": 3
   },
   "file_extension": ".py",
   "mimetype": "text/x-python",
   "name": "python",
   "nbconvert_exporter": "python",
   "pygments_lexer": "ipython3",
   "version": "3.8.3"
  }
 },
 "nbformat": 4,
 "nbformat_minor": 4
}
