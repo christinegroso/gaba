{
 "cells": [
  {
   "cell_type": "code",
   "execution_count": null,
   "metadata": {},
   "outputs": [],
   "source": [
    "import pandas as pd\n",
    "from Bio import SeqIO\n",
    "from Bio.ExPASy import ScanProsite"
   ]
  },
  {
   "cell_type": "markdown",
   "metadata": {},
   "source": [
    "So I dun goofed and forgot to have you you guys download sequences as well for this next step, below is a script you help you merge the two files automatically, you'll use a similar pattern for the next set of steps which invovles extracting protien domains. "
   ]
  },
  {
   "cell_type": "code",
   "execution_count": null,
   "metadata": {},
   "outputs": [],
   "source": [
    "#Read your blast results csv in\n",
    "df = pd.read_csv(\"C:\\\\Users\\\\cmgro\\\\Downloads\\\\mdtF_genome_feature (11).csv\")\n",
    "#Show the first 5 rows\n",
    "print(df.head())\n",
    "#Temp lists to attatch variables \n",
    "ids = []\n",
    "seqs = []\n",
    "#Seq.IO.parse is. an easy way to read through every gene/prot in a fasta file \n",
    "for record in SeqIO.parse(\"C:\\\\Users\\\\cmgro\\\\Downloads\\\\mdtF_genome_feature (11).fasta\", \"fasta\"):\n",
    "    # So the fasta ID line is fig|1240239.3.peg.2328|XFF4834R_chr22840|VBIXanFus78442_2328|\n",
    "    # but we only need the first two elements (\"fig and 1240239.3.peg.2328\") to make fig|1240239.3.peg.2328\n",
    "    # We then use this ID to merge back onto the original dataframe (basically we say if this row has this ID, add the sequence to that row)\n",
    "    \n",
    "    #Fancy way of extracting the ID\n",
    "    ids.append(\"|\".join(record.id.split(\"|\")[0:2]))\n",
    "    #Fancy way of extracting the sequence \n",
    "    seqs.append(str(record.seq))\n",
    "#making a new dataframe from this info \n",
    "seq_df = pd.DataFrame.from_dict({\"PATRIC ID\": ids, \"Sequences\":seqs})\n",
    "print(seq_df.head())\n",
    "#Mergine back and saving \n",
    "df = df.merge(seq_df, on=\"PATRIC ID\")\n",
    "df.to_csv(\"/Users/cmgro/Downloads/merged_mdtF.csv\")"
   ]
  },
  {
   "cell_type": "code",
   "execution_count": null,
   "metadata": {},
   "outputs": [],
   "source": [
    "import time\n",
    "sigs = []\n",
    "\n",
    "for i in df[\"Sequences\"].values:\n",
    "    handle = ScanProsite.scan(seq=i, mirror=\"https://prosite.expasy.org\")\n",
    "    result = ScanProsite.read(handle)\n",
    "    qq = []\n",
    "    for i in result:\n",
    "        print(i)\n",
    "        qq.append(i[\"signature_ac\"])\n",
    "    time.sleep(5)\n",
    "    qq = set(qq)\n",
    "    sigs.append(qq)\n",
    "    \n",
    "df[\"Prosite results\"] = sigs\n",
    "df.to_csv(\"/Users/christine/Downloads/mdtF_motifs.csv\")"
   ]
  },
  {
   "cell_type": "code",
   "execution_count": null,
   "metadata": {},
   "outputs": [],
   "source": [
    "df\n"
   ]
  },
  {
   "cell_type": "code",
   "execution_count": null,
   "metadata": {},
   "outputs": [],
   "source": []
  }
 ],
 "metadata": {
  "kernelspec": {
   "display_name": "Python 3",
   "language": "python",
   "name": "python3"
  },
  "language_info": {
   "codemirror_mode": {
    "name": "ipython",
    "version": 3
   },
   "file_extension": ".py",
   "mimetype": "text/x-python",
   "name": "python",
   "nbconvert_exporter": "python",
   "pygments_lexer": "ipython3",
   "version": "3.8.3"
  }
 },
 "nbformat": 4,
 "nbformat_minor": 4
}
