{
 "cells": [
  {
   "cell_type": "code",
   "execution_count": 15,
   "metadata": {},
   "outputs": [],
   "source": [
    "import pandas as pd\n",
    "from Bio import SeqIO\n",
    "from Bio.ExPASy import ScanProsite"
   ]
  },
  {
   "cell_type": "markdown",
   "metadata": {},
   "source": [
    "So I dun goofed and forgot to have you you guys download sequences as well for this next step, below is a script you help you merge the two files automatically, you'll use a similar pattern for the next set of steps which invovles extracting protien domains. "
   ]
  },
  {
   "cell_type": "code",
   "execution_count": 17,
   "metadata": {},
   "outputs": [
    {
     "name": "stdout",
     "output_type": "stream",
     "text": [
      "                                              Genome  Genome ID     Accession  \\\n",
      "0  Photobacterium leiognathi subsp. mandapamensis...  1001530.3  BACE01000007   \n",
      "1                        Alistipes senegalensis JC50  1033732.3  CAHI01000018   \n",
      "2                 Legionella massiliensis strain FF2  1034943.3  CCSB01000001   \n",
      "3                 Legionella massiliensis strain FF2  1034943.3  CCSB01000004   \n",
      "4                       Legionella massiliensis LegA  1034943.4  CCVW01000001   \n",
      "\n",
      "                PATRIC ID RefSeq Locus Tag         Alt Locus Tag  \\\n",
      "0   fig|1001530.3.peg.269              NaN  VBIPhoLei187005_0269   \n",
      "1  fig|1033732.3.peg.1401              NaN   VBIAliSp213631_1401   \n",
      "2   fig|1034943.3.peg.174       BN59_00171                   NaN   \n",
      "3  fig|1034943.3.peg.3442       BN59_03417                   NaN   \n",
      "4   fig|1034943.4.peg.174     BN1094_00171                   NaN   \n",
      "\n",
      "                                          Feature ID Annotation Feature Type  \\\n",
      "0    PATRIC.1001530.3.BACE01000007.CDS.5998.7461.rev     PATRIC          CDS   \n",
      "1    PATRIC.1033732.3.CAHI01000018.CDS.4591.6072.fwd     PATRIC          CDS   \n",
      "2  PATRIC.1034943.3.CCSB01000001.CDS.189859.19128...     PATRIC          CDS   \n",
      "3  PATRIC.1034943.3.CCSB01000004.CDS.415013.41645...     PATRIC          CDS   \n",
      "4  PATRIC.1034943.4.CCVW01000001.CDS.189859.19128...     PATRIC          CDS   \n",
      "\n",
      "    Start  ...  Length  Strand    FIGfam ID  \\\n",
      "0    5998  ...    1464       -  FIG01321404   \n",
      "1    4591  ...    1482       +  FIG01321404   \n",
      "2  189859  ...    1425       -  FIG00759320   \n",
      "3  415013  ...    1440       -  FIG00757991   \n",
      "4  189859  ...    1425       -  FIG00759320   \n",
      "\n",
      "  PATRIC genus-specific families (PLfams)  \\\n",
      "0                        PLF_657_00020030   \n",
      "1                     PLF_239759_00000899   \n",
      "2                        PLF_445_00000028   \n",
      "3                        PLF_445_00000080   \n",
      "4                        PLF_445_00000028   \n",
      "\n",
      "  PATRIC cross-genus families (PGfams)  Protein ID AA Length  Gene Symbol  \\\n",
      "0                         PGF_03769852         NaN       487          NaN   \n",
      "1                         PGF_00008182         NaN       493          NaN   \n",
      "2                         PGF_01529147  CDZ75911.1       474          NaN   \n",
      "3                         PGF_00389177  CDZ79100.1       479          NaN   \n",
      "4                         PGF_01529147  CEE11649.1       474          NaN   \n",
      "\n",
      "                                             Product  \\\n",
      "0  Probable glutamate/gamma-aminobutyrate antiporter   \n",
      "1           Glutamate/gamma-aminobutyrate antiporter   \n",
      "2   Uncharacterized amino acid permease, GabP family   \n",
      "3                               hypothetical protein   \n",
      "4   Uncharacterized amino acid permease, GabP family   \n",
      "\n",
      "                                         GO  \n",
      "0  GO:0006810|transport;GO:0016020|membrane  \n",
      "1                                       NaN  \n",
      "2                                       NaN  \n",
      "3                                       NaN  \n",
      "4                                       NaN  \n",
      "\n",
      "[5 rows x 21 columns]\n",
      "                PATRIC ID                                          Sequences\n",
      "0  fig|1033732.3.peg.1401  MTLAIMNVTAVVSLRGLPAEAVYGLSSAFYYLFAAIVFLIPTAMVA...\n",
      "1   fig|1001530.3.peg.269  MLNIVAVVSLRGLPAEAEYGLSSIFYYIFAAIVFLIPVSLVAAELA...\n",
      "2   fig|1034943.3.peg.174  MSSNKHALTIFSLTMITVGSVDSIRNLPATALFGSQLISFFIMGAL...\n",
      "3   fig|1034943.4.peg.174  MSSNKHALTIFSLTMITVGSVDSIRNLPATALFGSQLISFFIMGAL...\n",
      "4  fig|1034943.3.peg.3442  MHSSKKVLSVFSLVMINVIAVDSLRTLPMSAKLGLPLVSYYLVAAI...\n"
     ]
    }
   ],
   "source": [
    "#Read your blast results csv in\n",
    "df = pd.read_csv(\"C:\\\\Users\\\\cmgro\\\\Downloads\\\\gadC_genome_feature (2).csv\")\n",
    "#Show the first 5 rows\n",
    "print(df.head())\n",
    "#Temp lists to attatch variables \n",
    "ids = []\n",
    "seqs = []\n",
    "#Seq.IO.parse is. an easy way to read through every gene/prot in a fasta file \n",
    "for record in SeqIO.parse(\"C:\\\\Users\\\\cmgro\\\\Downloads\\\\gadC_genome_feature (2).fasta\", \"fasta\"):\n",
    "    # So the fasta ID line is fig|1240239.3.peg.2328|XFF4834R_chr22840|VBIXanFus78442_2328|\n",
    "    # but we only need the first two elements (\"fig and 1240239.3.peg.2328\") to make fig|1240239.3.peg.2328\n",
    "    # We then use this ID to merge back onto the original dataframe (basically we say if this row has this ID, add the sequence to that row)\n",
    "    \n",
    "    #Fancy way of extracting the ID\n",
    "    ids.append(\"|\".join(record.id.split(\"|\")[0:2]))\n",
    "    #Fancy way of extracting the sequence \n",
    "    seqs.append(str(record.seq))\n",
    "#making a new dataframe from this info \n",
    "seq_df = pd.DataFrame.from_dict({\"PATRIC ID\": ids, \"Sequences\":seqs})\n",
    "print(seq_df.head())\n",
    "#Mergine back and saving \n",
    "df = df.merge(seq_df, on=\"PATRIC ID\")\n",
    "df.to_csv(\"C:/Users/cmgro/Downloads/merged_gadC.csv\")"
   ]
  },
  {
   "cell_type": "code",
   "execution_count": null,
   "metadata": {},
   "outputs": [
    {
     "name": "stdout",
     "output_type": "stream",
     "text": [
      "{'sequence_ac': 'USERSEQ1', 'start': 87, 'stop': 92, 'signature_ac': 'PS00539', 'level_tag': '(-1)'}\n",
      "{'sequence_ac': 'USERSEQ1', 'start': 1, 'stop': 15, 'signature_ac': 'PS00211', 'level_tag': '(-1)'}\n"
     ]
    }
   ],
   "source": [
    "import time\n",
    "sigs = []\n",
    "\n",
    "for i in df[\"Sequences\"].values:\n",
    "    handle = ScanProsite.scan(seq=i, mirror=\"https://prosite.expasy.org\")\n",
    "    result = ScanProsite.read(handle)\n",
    "    qq = []\n",
    "    for i in result:\n",
    "        print(i)\n",
    "        qq.append(i[\"signature_ac\"])\n",
    "    time.sleep(5)\n",
    "    qq = set(qq)\n",
    "    sigs.append(qq)\n",
    "    \n",
    "df[\"Prosite results\"] = sigs\n",
    "df.to_csv(\"/Users/christine/Downloads/gadC_motifs.csv\")"
   ]
  },
  {
   "cell_type": "code",
   "execution_count": null,
   "metadata": {},
   "outputs": [],
   "source": [
    "df\n"
   ]
  },
  {
   "cell_type": "code",
   "execution_count": null,
   "metadata": {},
   "outputs": [],
   "source": []
  }
 ],
 "metadata": {
  "kernelspec": {
   "display_name": "Python 3",
   "language": "python",
   "name": "python3"
  },
  "language_info": {
   "codemirror_mode": {
    "name": "ipython",
    "version": 3
   },
   "file_extension": ".py",
   "mimetype": "text/x-python",
   "name": "python",
   "nbconvert_exporter": "python",
   "pygments_lexer": "ipython3",
   "version": "3.8.3"
  }
 },
 "nbformat": 4,
 "nbformat_minor": 4
}
