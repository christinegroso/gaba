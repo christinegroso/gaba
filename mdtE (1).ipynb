{
 "cells": [
  {
   "cell_type": "code",
   "execution_count": 2,
   "metadata": {},
   "outputs": [],
   "source": [
    "import pandas as pd\n",
    "from Bio import SeqIO"
   ]
  },
  {
   "cell_type": "code",
   "execution_count": 3,
   "metadata": {},
   "outputs": [
    {
     "name": "stdout",
     "output_type": "stream",
     "text": [
      "                      Genome  Genome ID              PATRIC ID  \\\n",
      "0  Escherichia coli MS 124-1   679205.4  fig|679205.4.peg.3317   \n",
      "1  Escherichia coli MS 145-7   679204.3  fig|679204.3.peg.4607   \n",
      "2            Shigella sp. D9   556266.3  fig|556266.3.peg.3700   \n",
      "3  Escherichia sp. 3_2_53FAA   469598.5  fig|469598.5.peg.4317   \n",
      "4       Citrobacter sp. 30_2   469595.3  fig|469595.3.peg.2455   \n",
      "\n",
      "     RefSeq Locus Tag Gene                                            Product  \\\n",
      "0    HMPREF9347_03458  NaN  Multidrug efflux system MdtEF-TolC, membrane f...   \n",
      "1    HMPREF9348_04774  NaN  Multidrug efflux system MdtEF-TolC, membrane f...   \n",
      "2  ShiD9_010100018225  NaN  Multidrug efflux system MdtEF-TolC, membrane f...   \n",
      "3          ESAG_04515  NaN  Multidrug efflux system MdtEF-TolC, membrane f...   \n",
      "4          CSAG_02455  NaN  Multidrug efflux system MdtEF-TolC, membrane f...   \n",
      "\n",
      "   Length (NT)  Length (AA)  ALN Length  Identity  Query cover  Subject cover  \\\n",
      "0         1065          354         354       100           92            100   \n",
      "1         1065          354         354       100           92            100   \n",
      "2         1065          354         354       100           92            100   \n",
      "3         1065          354         354       100           92            100   \n",
      "4         1065          354         354        76           92            100   \n",
      "\n",
      "   Hit from  Hit to  Score  E value  \n",
      "0         1     354    711      0.0  \n",
      "1         1     354    711      0.0  \n",
      "2         1     354    711      0.0  \n",
      "3         1     354    709      0.0  \n",
      "4         1     354    559      0.0  \n",
      "                PATRIC ID                                          Sequences\n",
      "0  fig|1002339.3.peg.1375  MTSNSDPNQKTPIETSTPSTTDESYTPYIADEVKSKPNWLWLLPLL...\n",
      "1   fig|1002339.3.peg.413  MKHSHLFIAISLAVSGLFIAGCDKKEDQADAAAAQQQMPPAVVNVM...\n",
      "2  fig|1002369.4.peg.3306  MKRYLIVFLMCSSLFLVGCGKTEESEPEKPIAVSVQKAIGGEIENT...\n",
      "3    fig|1054213.3.peg.51  MPLSPRHGLARLGLLAILGLTTVPALAQQQGGPPPAVGVTPATLRA...\n",
      "4  fig|1054213.3.peg.1668  MHRRHALPLFLLLAACGDTAAPAEPAPAPTKVGVVEARPRPTPVAF...\n"
     ]
    }
   ],
   "source": [
    "#Read your blast results csv in\n",
    "df = pd.read_csv(\"C:\\\\Users\\\\cmgro\\\\Downloads\\\\mdtE_blast.csv\")\n",
    "#Show the first  rows\n",
    "print(df.head())\n",
    "#Temp lists to attatch5 variables \n",
    "ids = []\n",
    "seqs = []\n",
    "#Seq.IO.parse is. an easy way to read through every gene/prot in a fasta file \n",
    "for record in SeqIO.parse(\"C:\\\\Users\\\\cmgro\\\\Downloads\\\\mdtE.fasta\", \"fasta\"):\n",
    "    # So the fasta ID line is fig|1240239.3.peg.2328|XFF4834R_chr22840|VBIXanFus78442_2328|\n",
    "    # but we only need the first two elements (\"fig and 1240239.3.peg.2328\") to make fig|1240239.3.peg.2328\n",
    "    # We then use this ID to merge back onto the original dataframe (basically we say if this row has this ID, add the sequence to that row)\n",
    "    \n",
    "    #Fancy way of extracting the ID\n",
    "    ids.append(\"|\".join(record.id.split(\"|\")[0:2]))\n",
    "    #Fancy way of extracting the sequence \n",
    "    seqs.append(str(record.seq))\n",
    "#making a new dataframe from this info \n",
    "seq_df = pd.DataFrame.from_dict({\"PATRIC ID\": ids, \"Sequences\":seqs})\n",
    "print(seq_df.head())\n",
    "#Mergine back and saving \n",
    "df = df.merge(seq_df, on=\"PATRIC ID\")\n",
    "df.to_csv(\"/Users/cmgro/Downloads/merged_mdtE.csv\")"
   ]
  },
  {
   "cell_type": "code",
   "execution_count": 4,
   "metadata": {},
   "outputs": [
    {
     "name": "stdout",
     "output_type": "stream",
     "text": [
      "<class 'pandas.core.frame.DataFrame'>\n",
      "Int64Index: 20 entries, 0 to 26\n",
      "Data columns (total 18 columns):\n",
      " #   Column            Non-Null Count  Dtype  \n",
      "---  ------            --------------  -----  \n",
      " 0   Unnamed: 0        20 non-null     int64  \n",
      " 1   Genome            20 non-null     object \n",
      " 2   Genome ID         20 non-null     float64\n",
      " 3   PATRIC ID         20 non-null     object \n",
      " 4   RefSeq Locus Tag  20 non-null     object \n",
      " 5   Gene              0 non-null      object \n",
      " 6   Product           20 non-null     object \n",
      " 7   Length (NT)       20 non-null     int64  \n",
      " 8   Length (AA)       20 non-null     int64  \n",
      " 9   ALN Length        20 non-null     int64  \n",
      " 10  Identity          20 non-null     int64  \n",
      " 11  Query cover       20 non-null     int64  \n",
      " 12  Subject cover     20 non-null     int64  \n",
      " 13  Hit from          20 non-null     int64  \n",
      " 14  Hit to            20 non-null     int64  \n",
      " 15  Score             20 non-null     int64  \n",
      " 16  E value           20 non-null     float64\n",
      " 17  Sequences         20 non-null     object \n",
      "dtypes: float64(2), int64(10), object(6)\n",
      "memory usage: 3.0+ KB\n",
      "None\n",
      "{'Multidrug efflux system MdtEF-TolC, membrane fusion component MdtE': 5, 'Multidrug efflux system AcrAB-TolC, membrane fusion component AcrA': 10, 'Multidrug efflux system AcrEF-TolC, membrane fusion component AcrE': 9, 'RND efflux system, membrane fusion protein': 184, 'Multidrug efflux system, membrane fusion component => MexA of MexAB-OprM': 3, 'Multidrug efflux system, membrane fusion component => MexC of MexCD-OprJ system': 2, 'Multidrug efflux system, membrane fusion component => MexX of of MexXY/AxyXY': 5, 'Multidrug efflux system, membrane fusion component => CmeA': 4, 'Multidrug efflux system, membrane fusion component => MexE of MexEF-OprN system': 3, 'Multidrug efflux system, membrane fusion component => MexP of MexPQ-OpmE system': 3, 'Multidrug efflux system MdtABC-TolC, membrane fusion component MdtA': 18, 'Multidrug resistance protein': 12, 'hypothetical protein': 42, 'multidrug efflux protein': 1, 'Secretion protein HlyD': 4, 'HlyD family secretion protein': 1, 'CzcABC family efflux RND transporter, membrane fusion protein': 30, 'AcrA/AcrE family multidrug resistance protein': 2, 'Multidrug efflux system, membrane fusion component => TriA of TriABC-OpmH system': 3, 'ABC transporter, RND-adapter-like protein': 29, 'Macrolide-specific efflux protein MacA': 32, 'Multidrug efflux system, membrane fusion component => MexH of MexHI-OpmD system': 4, 'Multidrug efflux system, membrane fusion component => TriB of TriABC-OpmH system': 2, 'Probable Co/Zn/Cd efflux system membrane fusion protein': 7, 'Multidrug efflux system, membrane fusion component => MexV of MexVW-OprM system': 2, 'Multidrug efflux system, membrane fusion component => MexJ of MexJK-OprM/OpmH system': 2, 'Tetrapartite efflux system, membrane fusion component FusE-like': 8, 'ABC transporter, permease protein': 4, 'ABC export system, membrane fusion protein BT1213': 15, 'Cobalt/zinc/cadmium efflux RND transporter, membrane fusion protein CzcB': 5, 'putative cation efflux system protein': 2, 'Copper/silver efflux RND transporter, membrane fusion protein CusB': 3, 'Membrane-fusion protein': 1, 'Cation efflux system protein': 14, 'Multidrug efflux system EmrAB-OMF, membrane fusion component EmrA': 4, 'Inner membrane component MdtN of tripartite multidrug resistance system': 8, 'Membrane fusion component of MSF-type tripartite multidrug efflux system': 6, 'putative secretion protein': 5, 'RND efflux system, inner membrane transporter': 1, 'Periplasmic component of efflux system': 4, 'ABC-type efflux pump membrane fusion component YbhG': 1}\n",
      "{'Multidrug efflux system MdtEF-TolC, membrane fusion component MdtE': 5, 'Multidrug efflux system AcrAB-TolC, membrane fusion component AcrA': 10, 'Multidrug efflux system AcrEF-TolC, membrane fusion component AcrE': 5}\n"
     ]
    }
   ],
   "source": [
    "# reads blast results\n",
    "df = pd.read_csv(\"C:\\\\Users\\\\cmgro\\\\Downloads\\\\merged_mdtE.csv\")\n",
    "\n",
    "#print(df.info()) - counted 500 entries\n",
    "\n",
    "# filters out entries with query cover and identity values less than 50%\n",
    "df_filtered = df[(df[\"Identity\"] > 50) &(df[\"Query cover\"] > 50)]\n",
    "\n",
    "# prints info on the new dataframe \n",
    "print(df_filtered.info())\n",
    "\n",
    "def count_types(types):\n",
    "    types_counts = {}\n",
    "    for i in types:\n",
    "        if i in types_counts.keys():\n",
    "            types_counts[i] += 1\n",
    "        else: \n",
    "            types_counts[i] = 1\n",
    "    return types_counts\n",
    "print(count_types(df[\"Product\"]))\n",
    "print(count_types(df_filtered[\"Product\"]))"
   ]
  }
 ],
 "metadata": {
  "kernelspec": {
   "display_name": "Python 3",
   "language": "python",
   "name": "python3"
  },
  "language_info": {
   "codemirror_mode": {
    "name": "ipython",
    "version": 3
   },
   "file_extension": ".py",
   "mimetype": "text/x-python",
   "name": "python",
   "nbconvert_exporter": "python",
   "pygments_lexer": "ipython3",
   "version": "3.8.3"
  }
 },
 "nbformat": 4,
 "nbformat_minor": 4
}
