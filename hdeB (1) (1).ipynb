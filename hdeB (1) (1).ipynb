{
 "cells": [
  {
   "cell_type": "code",
   "execution_count": 1,
   "metadata": {},
   "outputs": [],
   "source": [
    "import pandas as pd\n",
    "from Bio import SeqIO"
   ]
  },
  {
   "cell_type": "code",
   "execution_count": 2,
   "metadata": {},
   "outputs": [
    {
     "name": "stdout",
     "output_type": "stream",
     "text": [
      "                      Genome  Genome ID              PATRIC ID  \\\n",
      "0  Escherichia coli MS 124-1   679205.4  fig|679205.4.peg.3312   \n",
      "1  Escherichia coli MS 145-7   679204.3  fig|679204.3.peg.4602   \n",
      "2            Shigella sp. D9   556266.3  fig|556266.3.peg.3695   \n",
      "3  Escherichia sp. 3_2_53FAA   469598.5  fig|469598.5.peg.4312   \n",
      "4       Citrobacter sp. 30_2   469595.3  fig|469595.3.peg.2190   \n",
      "\n",
      "     RefSeq Locus Tag  Gene                    Product  Length (NT)  \\\n",
      "0    HMPREF9347_03453   NaN             Chaperone HdeB          339   \n",
      "1    HMPREF9348_04769   NaN             Chaperone HdeB          339   \n",
      "2  ShiD9_010100018205  hdeB             Chaperone HdeB          339   \n",
      "3          ESAG_04510   NaN             Chaperone HdeB          339   \n",
      "4          CSAG_01330   NaN  putative secreted protein          330   \n",
      "\n",
      "   Length (AA)  ALN Length  Identity  Query cover  Subject cover  Hit from  \\\n",
      "0          112         112       100          100             96         5   \n",
      "1          112         112       100          100             96         5   \n",
      "2          112         112       100          100             96         5   \n",
      "3          112         112       100          100             96         5   \n",
      "4          109         109        46           98             98         1   \n",
      "\n",
      "   Hit to  Score       E value  \n",
      "0     112    226  7.000000e-76  \n",
      "1     112    226  7.000000e-76  \n",
      "2     112    226  7.000000e-76  \n",
      "3     112    226  7.000000e-76  \n",
      "4     107     92  1.000000e-23  \n",
      "                PATRIC ID                                          Sequences\n",
      "0  fig|1203545.3.peg.4106  MAKEKRAFWRKWVWKHLMAGITVLAMSSAAVGKDVVPDEARTRDMM...\n",
      "1   fig|469595.3.peg.2457  MNIKMMVSAAILVTSVMAPMTRALATQATEAAPQDMTCKEFVDMSQ...\n",
      "2  fig|1203545.3.peg.4111  MNLPKALVLTVAATTFCLMTSPAFAVEETTPQNMTCQEFMDMNPKS...\n",
      "3   fig|469595.3.peg.2190  MNKFSLSTAGILVAALLTSVSVNAATDNAKTEVTPKGMNCQEFIDL...\n",
      "4   fig|469598.5.peg.4312  MGYKMNISSLRKAFIFMGAVAALSLVNAQSALAANESAKDMTCQEF...\n"
     ]
    }
   ],
   "source": [
    "#Read your blast results csv in\n",
    "df = pd.read_csv(\"C:\\\\Users\\\\cmgro\\\\Downloads\\\\hdeB_blast.csv\")\n",
    "#Show the first  rows\n",
    "print(df.head())\n",
    "#Temp lists to attatch5 variables \n",
    "ids = []\n",
    "seqs = []\n",
    "#Seq.IO.parse is. an easy way to read through every gene/prot in a fasta file \n",
    "for record in SeqIO.parse(\"C:\\\\Users\\\\cmgro\\\\Downloads\\\\hdeB.fasta\", \"fasta\"):\n",
    "    # So the fasta ID line is fig|1240239.3.peg.2328|XFF4834R_chr22840|VBIXanFus78442_2328|\n",
    "    # but we only need the first two elements (\"fig and 1240239.3.peg.2328\") to make fig|1240239.3.peg.2328\n",
    "    # We then use this ID to merge back onto the original dataframe (basically we say if this row has this ID, add the sequence to that row)\n",
    "    \n",
    "    #Fancy way of extracting the ID\n",
    "    ids.append(\"|\".join(record.id.split(\"|\")[0:2]))\n",
    "    #Fancy way of extracting the sequence \n",
    "    seqs.append(str(record.seq))\n",
    "#making a new dataframe from this info \n",
    "seq_df = pd.DataFrame.from_dict({\"PATRIC ID\": ids, \"Sequences\":seqs})\n",
    "print(seq_df.head())\n",
    "#Mergine back and saving \n",
    "df = df.merge(seq_df, on=\"PATRIC ID\")\n",
    "df.to_csv(\"/Users/cmgro/Downloads/merged_hdeB.csv\")"
   ]
  },
  {
   "cell_type": "code",
   "execution_count": 3,
   "metadata": {},
   "outputs": [
    {
     "name": "stdout",
     "output_type": "stream",
     "text": [
      "<class 'pandas.core.frame.DataFrame'>\n",
      "Int64Index: 4 entries, 0 to 3\n",
      "Data columns (total 18 columns):\n",
      " #   Column            Non-Null Count  Dtype  \n",
      "---  ------            --------------  -----  \n",
      " 0   Unnamed: 0        4 non-null      int64  \n",
      " 1   Genome            4 non-null      object \n",
      " 2   Genome ID         4 non-null      float64\n",
      " 3   PATRIC ID         4 non-null      object \n",
      " 4   RefSeq Locus Tag  4 non-null      object \n",
      " 5   Gene              1 non-null      object \n",
      " 6   Product           4 non-null      object \n",
      " 7   Length (NT)       4 non-null      int64  \n",
      " 8   Length (AA)       4 non-null      int64  \n",
      " 9   ALN Length        4 non-null      int64  \n",
      " 10  Identity          4 non-null      int64  \n",
      " 11  Query cover       4 non-null      int64  \n",
      " 12  Subject cover     4 non-null      int64  \n",
      " 13  Hit from          4 non-null      int64  \n",
      " 14  Hit to            4 non-null      int64  \n",
      " 15  Score             4 non-null      int64  \n",
      " 16  E value           4 non-null      float64\n",
      " 17  Sequences         4 non-null      object \n",
      "dtypes: float64(2), int64(10), object(6)\n",
      "memory usage: 608.0+ bytes\n",
      "None\n",
      "{'Chaperone HdeB': 4, 'putative secreted protein': 1, 'hypothetical protein': 6}\n",
      "{'Chaperone HdeB': 4}\n"
     ]
    }
   ],
   "source": [
    "# reads blast results\n",
    "df = pd.read_csv(\"C:\\\\Users\\\\cmgro\\\\Downloads\\\\merged_hdeB.csv\")\n",
    "\n",
    "#print(df.info()) - counted 11 entries\n",
    "\n",
    "# filters out entries with query cover and identity values less than 50%\n",
    "df_filtered = df[(df[\"Identity\"] > 50) &(df[\"Query cover\"] > 50)]\n",
    "\n",
    "# prints info on the new dataframe \n",
    "print(df_filtered.info())\n",
    "\n",
    "def count_types(types):\n",
    "    types_counts = {}\n",
    "    for i in types:\n",
    "        if i in types_counts.keys():\n",
    "            types_counts[i] += 1\n",
    "        else: \n",
    "            types_counts[i] = 1\n",
    "    return types_counts\n",
    "print(count_types(df[\"Product\"]))\n",
    "print(count_types(df_filtered[\"Product\"]))"
   ]
  },
  {
   "cell_type": "code",
   "execution_count": null,
   "metadata": {},
   "outputs": [],
   "source": []
  }
 ],
 "metadata": {
  "kernelspec": {
   "display_name": "Python 3",
   "language": "python",
   "name": "python3"
  },
  "language_info": {
   "codemirror_mode": {
    "name": "ipython",
    "version": 3
   },
   "file_extension": ".py",
   "mimetype": "text/x-python",
   "name": "python",
   "nbconvert_exporter": "python",
   "pygments_lexer": "ipython3",
   "version": "3.8.3"
  }
 },
 "nbformat": 4,
 "nbformat_minor": 4
}
