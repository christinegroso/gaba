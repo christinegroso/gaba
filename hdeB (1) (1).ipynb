{
 "cells": [
  {
   "cell_type": "code",
   "execution_count": 1,
   "metadata": {},
   "outputs": [],
   "source": [
    "import pandas as pd\n",
    "from Bio import SeqIO"
   ]
  },
  {
   "cell_type": "code",
   "execution_count": 2,
   "metadata": {},
   "outputs": [
    {
     "name": "stdout",
     "output_type": "stream",
     "text": [
      "                                  Genome Genome ID              PATRIC ID  \\\n",
      "0              Shigella flexneri 1235-66  766154.3  fig|766154.3.peg.8553   \n",
      "1          Shigella flexneri 2a str. 301  198214.7  fig|198214.7.peg.4173   \n",
      "2  Escherichia coli O83:H1 str. NRG 857C  685038.3  fig|685038.3.peg.3559   \n",
      "3      Shigella sonnei strain H140920393   624.361   fig|624.361.peg.3667   \n",
      "4                Escherichia coli UMN026  585056.7  fig|585056.7.peg.4182   \n",
      "\n",
      "  RefSeq Locus Tag  Gene         Product Length (NT)  Length (AA)  ALN Length  \\\n",
      "0    SF123566_6970   NaN  Chaperone HdeB         327          108         108   \n",
      "1           SF3543  hdeB  Chaperone HdeB         327          108         108   \n",
      "2     NRG857_17430  hdeB  Chaperone HdeB         339          112         112   \n",
      "3  ERS432308_03579  hdeB  Chaperone HdeB         339          112         112   \n",
      "4       ECUMN_4009  hdeB  Chaperone HdeB         339          112         112   \n",
      "\n",
      "   Identity  Query cover  Subject cover  Hit from  Hit to  Score  \\\n",
      "0        99          100            100         1     108    221   \n",
      "1        99          100            100         1     108    221   \n",
      "2        99          100             96         5     112    221   \n",
      "3        99          100             96         5     112    221   \n",
      "4        99          100             96         5     112    221   \n",
      "\n",
      "        E value  Unnamed: 16  \n",
      "0  2.000000e-72          NaN  \n",
      "1  2.000000e-72          NaN  \n",
      "2  2.000000e-72          NaN  \n",
      "3  2.000000e-72          NaN  \n",
      "4  2.000000e-72          NaN  \n",
      "                PATRIC ID                                          Sequences\n",
      "0  fig|1002368.3.peg.2675  MINKFTLSTVGIFATAILATASVSAVAKDVTPNNMSCQEYIDLNPQ...\n",
      "1   fig|1034943.4.peg.480  MRLIKIISLPLLLAFAGNLAAETDKTSSDSATKAKQANRMTCEEFL...\n",
      "2   fig|1034943.3.peg.479  MRLIKIISLPLLLAFAGNLAAETDKTSSDSATKAKQANRMTCEEFL...\n",
      "3   fig|1111728.3.peg.986  MLYKSIRNMAMAGILLAVAGTSFAATTPDGMTCKQFINLDPQAATP...\n",
      "4  fig|1124991.3.peg.1563  MKKYFVTACLVAASAFSSVALAEPADIQVPDKMTCKEFVNLNPQSW...\n"
     ]
    }
   ],
   "source": [
    "#Read your blast results csv in\n",
    "df = pd.read_csv(\"C:\\\\Users\\\\cmgro\\\\Downloads\\\\hdeB_blast.csv\")\n",
    "#Show the first  rows\n",
    "print(df.head())\n",
    "#Temp lists to attatch5 variables \n",
    "ids = []\n",
    "seqs = []\n",
    "#Seq.IO.parse is. an easy way to read through every gene/prot in a fasta file \n",
    "for record in SeqIO.parse(\"C:\\\\Users\\\\cmgro\\\\Downloads\\\\hdeB.fasta\", \"fasta\"):\n",
    "    # So the fasta ID line is fig|1240239.3.peg.2328|XFF4834R_chr22840|VBIXanFus78442_2328|\n",
    "    # but we only need the first two elements (\"fig and 1240239.3.peg.2328\") to make fig|1240239.3.peg.2328\n",
    "    # We then use this ID to merge back onto the original dataframe (basically we say if this row has this ID, add the sequence to that row)\n",
    "    \n",
    "    #Fancy way of extracting the ID\n",
    "    ids.append(\"|\".join(record.id.split(\"|\")[0:2]))\n",
    "    #Fancy way of extracting the sequence \n",
    "    seqs.append(str(record.seq))\n",
    "#making a new dataframe from this info \n",
    "seq_df = pd.DataFrame.from_dict({\"PATRIC ID\": ids, \"Sequences\":seqs})\n",
    "print(seq_df.head())\n",
    "#Mergine back and saving \n",
    "df = df.merge(seq_df, on=\"PATRIC ID\")\n",
    "df.to_csv(\"/Users/cmgro/Downloads/merged_hdeB.csv\")"
   ]
  },
  {
   "cell_type": "code",
   "execution_count": 3,
   "metadata": {},
   "outputs": [
    {
     "name": "stdout",
     "output_type": "stream",
     "text": [
      "<class 'pandas.core.frame.DataFrame'>\n",
      "Int64Index: 33 entries, 0 to 61\n",
      "Data columns (total 19 columns):\n",
      " #   Column            Non-Null Count  Dtype  \n",
      "---  ------            --------------  -----  \n",
      " 0   Unnamed: 0        33 non-null     int64  \n",
      " 1   Genome            33 non-null     object \n",
      " 2   Genome ID         33 non-null     float64\n",
      " 3   PATRIC ID         33 non-null     object \n",
      " 4   RefSeq Locus Tag  33 non-null     object \n",
      " 5   Gene              21 non-null     object \n",
      " 6   Product           33 non-null     object \n",
      " 7   Length (NT)       33 non-null     int64  \n",
      " 8   Length (AA)       33 non-null     int64  \n",
      " 9   ALN Length        33 non-null     int64  \n",
      " 10  Identity          33 non-null     int64  \n",
      " 11  Query cover       33 non-null     int64  \n",
      " 12  Subject cover     33 non-null     int64  \n",
      " 13  Hit from          33 non-null     int64  \n",
      " 14  Hit to            33 non-null     int64  \n",
      " 15  Score             33 non-null     int64  \n",
      " 16  E value           33 non-null     float64\n",
      " 17  Unnamed: 16       0 non-null      float64\n",
      " 18  Sequences         33 non-null     object \n",
      "dtypes: float64(3), int64(10), object(6)\n",
      "memory usage: 5.2+ KB\n",
      "None\n",
      "{'Chaperone HdeB': 18, 'putative secreted protein': 20, 'hypothetical protein': 31, 'Protein hdeB precursor': 6, 'Putative exported protein precursor': 16, 'Putative secreted protein': 1}\n",
      "{'Chaperone HdeB': 16, 'hypothetical protein': 4, 'Putative exported protein precursor': 13}\n"
     ]
    }
   ],
   "source": [
    "# reads blast results\n",
    "df = pd.read_csv(\"C:\\\\Users\\\\cmgro\\\\Downloads\\\\merged_hdeB.csv\")\n",
    "\n",
    "#print(df.info()) - counted 71 entries\n",
    "\n",
    "# filters out entries with query cover and identity values less than 50%\n",
    "df_filtered = df[(df[\"Identity\"] > 50) &(df[\"Query cover\"] > 50)]\n",
    "\n",
    "# prints info on the new dataframe \n",
    "print(df_filtered.info())\n",
    "\n",
    "def count_types(types):\n",
    "    types_counts = {}\n",
    "    for i in types:\n",
    "        if i in types_counts.keys():\n",
    "            types_counts[i] += 1\n",
    "        else: \n",
    "            types_counts[i] = 1\n",
    "    return types_counts\n",
    "print(count_types(df[\"Product\"]))\n",
    "print(count_types(df_filtered[\"Product\"]))"
   ]
  },
  {
   "cell_type": "code",
   "execution_count": null,
   "metadata": {},
   "outputs": [],
   "source": []
  }
 ],
 "metadata": {
  "kernelspec": {
   "display_name": "Python 3",
   "language": "python",
   "name": "python3"
  },
  "language_info": {
   "codemirror_mode": {
    "name": "ipython",
    "version": 3
   },
   "file_extension": ".py",
   "mimetype": "text/x-python",
   "name": "python",
   "nbconvert_exporter": "python",
   "pygments_lexer": "ipython3",
   "version": "3.8.3"
  }
 },
 "nbformat": 4,
 "nbformat_minor": 4
}
