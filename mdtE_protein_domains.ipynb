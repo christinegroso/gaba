{
 "cells": [
  {
   "cell_type": "code",
   "execution_count": 3,
   "metadata": {},
   "outputs": [],
   "source": [
    "import pandas as pd\n",
    "from Bio import SeqIO\n",
    "from Bio.ExPASy import ScanProsite"
   ]
  },
  {
   "cell_type": "markdown",
   "metadata": {},
   "source": [
    "So I dun goofed and forgot to have you you guys download sequences as well for this next step, below is a script you help you merge the two files automatically, you'll use a similar pattern for the next set of steps which invovles extracting protien domains. "
   ]
  },
  {
   "cell_type": "code",
   "execution_count": 4,
   "metadata": {},
   "outputs": [
    {
     "name": "stdout",
     "output_type": "stream",
     "text": [
      "                              Genome  Genome ID     Accession  \\\n",
      "0  Yokenella regensburgei ATCC 43003  1002368.3  AGCL01000025   \n",
      "1  Yokenella regensburgei ATCC 43003  1002368.3  AGCL01000034   \n",
      "2           Pseudomonas putida CSV86  1005395.3  AMWJ01000110   \n",
      "3       Tatumella ptyseos ATCC 33301  1005995.4  JMPR01000045   \n",
      "4      Kluyvera ascorbata ATCC 33433  1006000.3  JMPL01000001   \n",
      "\n",
      "                PATRIC ID  RefSeq Locus Tag         Alt Locus Tag  \\\n",
      "0  fig|1002368.3.peg.1411  HMPREF0880_01540  VBIYokReg189340_1411   \n",
      "1  fig|1002368.3.peg.2186  HMPREF0880_02387  VBIYokReg189340_2186   \n",
      "2  fig|1005395.3.peg.3200       CSV86_16640  VBIPsePut188794_3200   \n",
      "3  fig|1005995.4.peg.3241         GTPT_2952                   NaN   \n",
      "4   fig|1006000.3.peg.136        GKAS_00136                   NaN   \n",
      "\n",
      "                                          Feature ID Annotation Feature Type  \\\n",
      "0    PATRIC.1002368.3.AGCL01000025.CDS.8478.9470.rev     PATRIC          CDS   \n",
      "1    PATRIC.1002368.3.AGCL01000034.CDS.8514.9707.rev     PATRIC          CDS   \n",
      "2  PATRIC.1005395.3.AMWJ01000110.CDS.78899.80050.fwd     PATRIC          CDS   \n",
      "3  PATRIC.1005995.4.JMPR01000045.CDS.27157.28326.fwd     PATRIC          CDS   \n",
      "4  PATRIC.1006000.3.JMPL01000001.CDS.139147.14018...     PATRIC          CDS   \n",
      "\n",
      "    Start  ...  Length  Strand    FIGfam ID  \\\n",
      "0    8478  ...     993       -  FIG00207095   \n",
      "1    8514  ...    1194       -  FIG00207095   \n",
      "2   78899  ...    1152       +  FIG01304998   \n",
      "3   27157  ...    1170       +  FIG00207095   \n",
      "4  139147  ...    1038       +  FIG01304998   \n",
      "\n",
      "  PATRIC genus-specific families (PLfams)  \\\n",
      "0                                     NaN   \n",
      "1                                     NaN   \n",
      "2                        PLF_286_00008177   \n",
      "3                      PLF_82986_00000566   \n",
      "4                        PLF_579_00003283   \n",
      "\n",
      "  PATRIC cross-genus families (PGfams)  Protein ID AA Length  Gene Symbol  \\\n",
      "0                         PGF_00029699  EHM49612.1       330          NaN   \n",
      "1                         PGF_00945778  EHM48290.1       397          NaN   \n",
      "2                         PGF_00023110  EKX84089.1       383          NaN   \n",
      "3                         PGF_00945778         NaN       389         acrA   \n",
      "4                         PGF_00029699  KFD09260.1       345         acrE   \n",
      "\n",
      "                                             Product  GO  \n",
      "0  Multidrug efflux system AcrEF-TolC, membrane f... NaN  \n",
      "1  Multidrug efflux system AcrAB-TolC, membrane f... NaN  \n",
      "2  Multidrug efflux system, membrane fusion compo... NaN  \n",
      "3  Multidrug efflux system AcrAB-TolC, membrane f... NaN  \n",
      "4  Multidrug efflux system AcrEF-TolC, membrane f... NaN  \n",
      "\n",
      "[5 rows x 21 columns]\n",
      "                PATRIC ID                                          Sequences\n",
      "0  fig|1002368.3.peg.1411  MTTELPGRTSAFRVAEVRPQVSGIILKRNFIEGSDIESGQSLYQID...\n",
      "1  fig|1002368.3.peg.2186  MNKNRGLTPLAIVLMLAGSVALTGCDDKSAQQGAHQMPEVGVVTLK...\n",
      "2  fig|1005995.4.peg.3241  MKKNRGLSPLAAILMFSGSVALTGCDNNKTQQSGQQQPPEVGVVTL...\n",
      "3  fig|1005395.3.peg.3200  MQLKPAVTALVSAVALATLLSGCKKEEAAPVAQAPQVGVVTLQPQS...\n",
      "4   fig|1006000.3.peg.456  MNKNRGLTPLAVVLMLSGSLALTGCDDKPAQQGGQHAPEVGVVTLK...\n"
     ]
    }
   ],
   "source": [
    "#Read your blast results csv in\n",
    "df = pd.read_csv(\"C:\\\\Users\\\\cmgro\\\\Downloads\\\\mdtE_genome_feature (10).csv\")\n",
    "#Show the first 5 rows\n",
    "print(df.head())\n",
    "#Temp lists to attatch variables \n",
    "ids = []\n",
    "seqs = []\n",
    "#Seq.IO.parse is. an easy way to read through every gene/prot in a fasta file \n",
    "for record in SeqIO.parse(\"C:\\\\Users\\\\cmgro\\\\Downloads\\\\mdtE_genome_feature (10).fasta\", \"fasta\"):\n",
    "    # So the fasta ID line is fig|1240239.3.peg.2328|XFF4834R_chr22840|VBIXanFus78442_2328|\n",
    "    # but we only need the first two elements (\"fig and 1240239.3.peg.2328\") to make fig|1240239.3.peg.2328\n",
    "    # We then use this ID to merge back onto the original dataframe (basically we say if this row has this ID, add the sequence to that row)\n",
    "    \n",
    "    #Fancy way of extracting the ID\n",
    "    ids.append(\"|\".join(record.id.split(\"|\")[0:2]))\n",
    "    #Fancy way of extracting the sequence \n",
    "    seqs.append(str(record.seq))\n",
    "#making a new dataframe from this info \n",
    "seq_df = pd.DataFrame.from_dict({\"PATRIC ID\": ids, \"Sequences\":seqs})\n",
    "print(seq_df.head())\n",
    "#Mergine back and saving \n",
    "df = df.merge(seq_df, on=\"PATRIC ID\")\n",
    "df.to_csv(\"/Users/cmgro/Downloads/merged_mdtE.csv\")"
   ]
  },
  {
   "cell_type": "code",
   "execution_count": null,
   "metadata": {},
   "outputs": [
    {
     "name": "stdout",
     "output_type": "stream",
     "text": [
      "{'sequence_ac': 'USERSEQ1', 'start': 1, 'stop': 25, 'signature_ac': 'PS51257', 'score': '6.000', 'level': '0'}\n",
      "{'sequence_ac': 'USERSEQ1', 'start': 1, 'stop': 23, 'signature_ac': 'PS51257', 'score': '5.000', 'level': '0'}\n",
      "{'sequence_ac': 'USERSEQ1', 'start': 1, 'stop': 25, 'signature_ac': 'PS51257', 'score': '7.000', 'level': '0'}\n",
      "{'sequence_ac': 'USERSEQ1', 'start': 1, 'stop': 25, 'signature_ac': 'PS51257', 'score': '6.000', 'level': '0'}\n",
      "{'sequence_ac': 'USERSEQ1', 'start': 1, 'stop': 23, 'signature_ac': 'PS51257', 'score': '5.000', 'level': '0'}\n",
      "{'sequence_ac': 'USERSEQ1', 'start': 1, 'stop': 23, 'signature_ac': 'PS51257', 'score': '5.000', 'level': '0'}\n",
      "{'sequence_ac': 'USERSEQ1', 'start': 1, 'stop': 24, 'signature_ac': 'PS51257', 'score': '5.000', 'level': '0'}\n",
      "{'sequence_ac': 'USERSEQ1', 'start': 1, 'stop': 25, 'signature_ac': 'PS51257', 'score': '5.000', 'level': '0'}\n",
      "{'sequence_ac': 'USERSEQ1', 'start': 1, 'stop': 25, 'signature_ac': 'PS51257', 'score': '5.000', 'level': '0'}\n",
      "{'sequence_ac': 'USERSEQ1', 'start': 1, 'stop': 29, 'signature_ac': 'PS51257', 'score': '6.000', 'level': '0'}\n",
      "{'sequence_ac': 'USERSEQ1', 'start': 1, 'stop': 25, 'signature_ac': 'PS51257', 'score': '6.000', 'level': '0'}\n",
      "{'sequence_ac': 'USERSEQ1', 'start': 1, 'stop': 25, 'signature_ac': 'PS51257', 'score': '7.000', 'level': '0'}\n",
      "{'sequence_ac': 'USERSEQ1', 'start': 1, 'stop': 24, 'signature_ac': 'PS51257', 'score': '5.000', 'level': '0'}\n",
      "{'sequence_ac': 'USERSEQ1', 'start': 1, 'stop': 25, 'signature_ac': 'PS51257', 'score': '6.000', 'level': '0'}\n",
      "{'sequence_ac': 'USERSEQ1', 'start': 1, 'stop': 25, 'signature_ac': 'PS51257', 'score': '6.000', 'level': '0'}\n",
      "{'sequence_ac': 'USERSEQ1', 'start': 1, 'stop': 23, 'signature_ac': 'PS51257', 'score': '6.000', 'level': '0'}\n",
      "{'sequence_ac': 'USERSEQ1', 'start': 1, 'stop': 25, 'signature_ac': 'PS51257', 'score': '5.000', 'level': '0'}\n"
     ]
    }
   ],
   "source": [
    "import time\n",
    "sigs = []\n",
    "\n",
    "for i in df[\"Sequences\"].values:\n",
    "    handle = ScanProsite.scan(seq=i, mirror=\"https://prosite.expasy.org\")\n",
    "    result = ScanProsite.read(handle)\n",
    "    qq = []\n",
    "    for i in result:\n",
    "        print(i)\n",
    "        qq.append(i[\"signature_ac\"])\n",
    "    time.sleep(5)\n",
    "    qq = set(qq)\n",
    "    sigs.append(qq)\n",
    "    \n",
    "df[\"Prosite results\"] = sigs\n",
    "df.to_csv(\"/Users/christine/Downloads/mdtE_motifs.csv\")"
   ]
  },
  {
   "cell_type": "code",
   "execution_count": null,
   "metadata": {},
   "outputs": [],
   "source": [
    "df\n"
   ]
  },
  {
   "cell_type": "code",
   "execution_count": null,
   "metadata": {},
   "outputs": [],
   "source": []
  }
 ],
 "metadata": {
  "kernelspec": {
   "display_name": "Python 3",
   "language": "python",
   "name": "python3"
  },
  "language_info": {
   "codemirror_mode": {
    "name": "ipython",
    "version": 3
   },
   "file_extension": ".py",
   "mimetype": "text/x-python",
   "name": "python",
   "nbconvert_exporter": "python",
   "pygments_lexer": "ipython3",
   "version": "3.8.3"
  }
 },
 "nbformat": 4,
 "nbformat_minor": 4
}
