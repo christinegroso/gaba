{
 "cells": [
  {
   "cell_type": "code",
   "execution_count": 4,
   "metadata": {},
   "outputs": [],
   "source": [
    "import pandas as pd\n",
    "from Bio import SeqIO"
   ]
  },
  {
   "cell_type": "code",
   "execution_count": 5,
   "metadata": {},
   "outputs": [
    {
     "name": "stdout",
     "output_type": "stream",
     "text": [
      "                                      Genome  Genome ID  \\\n",
      "0  Escherichia coli str. K-12 substr. MG1655  511145.12   \n",
      "1                  Shigella flexneri 1235-66   766154.3   \n",
      "2          Shigella sonnei strain H140920393    624.361   \n",
      "3                    Escherichia coli UMN026   585056.7   \n",
      "4                            Shigella sp. D9   556266.3   \n",
      "\n",
      "                PATRIC ID    RefSeq Locus Tag  Gene  \\\n",
      "0  fig|511145.12.peg.4247               b4116  adiY   \n",
      "1   fig|766154.3.peg.7558       SF123566_5798   NaN   \n",
      "2     fig|624.361.peg.706     ERS432308_00693  adiY   \n",
      "3   fig|585056.7.peg.4812          ECUMN_4648  adiY   \n",
      "4   fig|556266.3.peg.2564  ShiD9_010100012645   NaN   \n",
      "\n",
      "                                             Product Length (NT)  Length (AA)  \\\n",
      "0  Transcriptional regulator of catabolic arginin...         762          253   \n",
      "1  Transcriptional regulator of catabolic arginin...         762          253   \n",
      "2  Transcriptional regulator of catabolic arginin...         762          253   \n",
      "3  Transcriptional regulator of catabolic arginin...         762          253   \n",
      "4  Transcriptional regulator of catabolic arginin...         762          253   \n",
      "\n",
      "   ALN Length  Identity  Query cover  Subject cover  Hit from  Hit to  Score  \\\n",
      "0         253        98          100            100         1     253    510   \n",
      "1         253        98          100            100         1     253    508   \n",
      "2         253        98          100            100         1     253    508   \n",
      "3         253        98          100            100         1     253    508   \n",
      "4         253        98          100            100         1     253    508   \n",
      "\n",
      "         E value  Unnamed: 16  \n",
      "0   0.000000e+00          NaN  \n",
      "1  1.000000e-180          NaN  \n",
      "2  1.000000e-180          NaN  \n",
      "3  1.000000e-180          NaN  \n",
      "4  1.000000e-180          NaN  \n",
      "                PATRIC ID                                          Sequences\n",
      "0  fig|1002368.3.peg.2661  MQNVQLQHKHLTAAEVTSGQMHRLHRVKLFSAAICHITQGSKVIIQ...\n",
      "1  fig|1006551.4.peg.3266  MRNIHFHHNALTAAEITTRRLCKLHRVTLFSPAICRVNRGSKVIVQ...\n",
      "2  fig|1002368.3.peg.2677  MTEKDVDVKINDTTSLILPANHLNVISCNNNIIDFSYLDNALVAHM...\n",
      "3   fig|1001530.3.peg.839  MKYKRILSQSHVVLKEFYVDHHLIVKLSNVQGDVHINGHAIELKNN...\n",
      "4    fig|1017273.3.peg.49  MYKKTILLVDDEPNTRRGITKTLESWSEGRFSILSAENGREALDYA...\n"
     ]
    }
   ],
   "source": [
    "#Read your blast results csv in\n",
    "df = pd.read_csv(\"C:\\\\Users\\\\cmgro\\\\Downloads\\\\adiY_blast.csv\")\n",
    "#Show the first  rows\n",
    "print(df.head())\n",
    "#Temp lists to attatch5 variables \n",
    "ids = []\n",
    "seqs = []\n",
    "#Seq.IO.parse is. an easy way to read through every gene/prot in a fasta file \n",
    "for record in SeqIO.parse(\"C:\\\\Users\\\\cmgro\\\\Downloads\\\\adiY.fasta\", \"fasta\"):\n",
    "    # So the fasta ID line is fig|1240239.3.peg.2328|XFF4834R_chr22840|VBIXanFus78442_2328|\n",
    "    # but we only need the first two elements (\"fig and 1240239.3.peg.2328\") to make fig|1240239.3.peg.2328\n",
    "    # We then use this ID to merge back onto the original dataframe (basically we say if this row has this ID, add the sequence to that row)\n",
    "    \n",
    "    #Fancy way of extracting the ID\n",
    "    ids.append(\"|\".join(record.id.split(\"|\")[0:2]))\n",
    "    #Fancy way of extracting the sequence \n",
    "    seqs.append(str(record.seq))\n",
    "#making a new dataframe from this info \n",
    "seq_df = pd.DataFrame.from_dict({\"PATRIC ID\": ids, \"Sequences\":seqs})\n",
    "print(seq_df.head())\n",
    "#Mergine back and saving \n",
    "df = df.merge(seq_df, on=\"PATRIC ID\")\n",
    "df.to_csv(\"/Users/cmgro/Downloads/merged_adiY.csv\")"
   ]
  },
  {
   "cell_type": "code",
   "execution_count": 6,
   "metadata": {},
   "outputs": [
    {
     "name": "stdout",
     "output_type": "stream",
     "text": [
      "<class 'pandas.core.frame.DataFrame'>\n",
      "Int64Index: 43 entries, 0 to 43\n",
      "Data columns (total 19 columns):\n",
      " #   Column            Non-Null Count  Dtype  \n",
      "---  ------            --------------  -----  \n",
      " 0   Unnamed: 0        43 non-null     int64  \n",
      " 1   Genome            43 non-null     object \n",
      " 2   Genome ID         43 non-null     float64\n",
      " 3   PATRIC ID         43 non-null     object \n",
      " 4   RefSeq Locus Tag  40 non-null     object \n",
      " 5   Gene              23 non-null     object \n",
      " 6   Product           43 non-null     object \n",
      " 7   Length (NT)       43 non-null     int64  \n",
      " 8   Length (AA)       43 non-null     int64  \n",
      " 9   ALN Length        43 non-null     int64  \n",
      " 10  Identity          43 non-null     int64  \n",
      " 11  Query cover       43 non-null     int64  \n",
      " 12  Subject cover     43 non-null     int64  \n",
      " 13  Hit from          43 non-null     int64  \n",
      " 14  Hit to            43 non-null     int64  \n",
      " 15  Score             43 non-null     int64  \n",
      " 16  E value           43 non-null     float64\n",
      " 17  Unnamed: 16       0 non-null      float64\n",
      " 18  Sequences         43 non-null     object \n",
      "dtypes: float64(3), int64(10), object(6)\n",
      "memory usage: 6.7+ KB\n",
      "None\n",
      "{'Transcriptional regulator of catabolic arginine decarboxylase (adiA)': 33, 'hypothetical protein': 121, 'Porin thermoregulatory protein envY': 14, 'Transcriptional regulator GadX, AraC family': 16, 'Acid phosphatase transcriptional regulator AppY, AraC family': 2, 'Transcriptional regulator YdeO, AraC family': 12, 'Transcriptional regulator GadW, AraC family': 15, 'Type III secretion and flagellar regulator RtsA': 9, 'Type III secretion transcriptional regulator HilC (= SirC)': 6, 'Transcriptional regulator': 6, 'Transcriptional regulator, AraC family': 184, 'Type III secretion transcriptional regulator HilD': 6, 'Uncharacterized transcriptional regulator YbcM, AraC family': 22, 'Two-component response regulator yesN': 18, 'Signal transduction response regulator': 2, 'DNA-binding response regulator, AraC family': 6, 'Two-component transcriptional response regulator, LuxR family': 2, 'Periplasmic ligand-binding sensor domain COG3292 / BaeS-type histidine kinase / OmpR-type DNA-binding response regulator': 12, 'Helix-turn-helix, AraC type:Response regulator receiver': 1, 'Two-component response regulator': 1, 'Two-component response regulator TrxR': 3, 'Methylphosphotriester-DNA--protein-cysteine S-methyltransferase (EC 2.1.1.n11) / ADA regulatory protein / Methylated-DNA--protein-cysteine methyltransferase (EC 2.1.1.63)': 1, 'two component transcriptional regulator, AraC family': 1, 'Two-component system sensor histidine kinase/response regulator hybrid': 1, 'Periplasmic solute-binding domain of two-component sensor kinase signaling system / Two-component system sensor histidine kinase/response regulator hybrid': 1, 'Probable transcriptional regulator': 1}\n",
      "{'Transcriptional regulator of catabolic arginine decarboxylase (adiA)': 30, 'hypothetical protein': 1, 'Porin thermoregulatory protein envY': 12}\n"
     ]
    }
   ],
   "source": [
    "# reads blast results\n",
    "df = pd.read_csv(\"C:\\\\Users\\\\cmgro\\\\Downloads\\\\merged_adiY.csv\")\n",
    "\n",
    "#print(df.info()) - counted 500 entries\n",
    "\n",
    "# filters out entries with query cover and identity values less than 50%\n",
    "df_filtered = df.loc[(df['Query cover']>=50) & (df['Identity']>=50)]\n",
    "\n",
    "# prints info on the new dataframe \n",
    "print(df_filtered.info())\n",
    "\n",
    "def count_types(types):\n",
    "    types_counts = {}\n",
    "    for i in types:\n",
    "        if i in types_counts.keys():\n",
    "            types_counts[i] += 1\n",
    "        else: \n",
    "            types_counts[i] = 1\n",
    "    return types_counts\n",
    "print(count_types(df[\"Product\"]))\n",
    "print(count_types(df_filtered[\"Product\"]))"
   ]
  }
 ],
 "metadata": {
  "kernelspec": {
   "display_name": "Python 3",
   "language": "python",
   "name": "python3"
  },
  "language_info": {
   "codemirror_mode": {
    "name": "ipython",
    "version": 3
   },
   "file_extension": ".py",
   "mimetype": "text/x-python",
   "name": "python",
   "nbconvert_exporter": "python",
   "pygments_lexer": "ipython3",
   "version": "3.8.3"
  }
 },
 "nbformat": 4,
 "nbformat_minor": 4
}
