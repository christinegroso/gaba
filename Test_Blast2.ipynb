{
 "cells": [
  {
   "cell_type": "code",
   "execution_count": 9,
   "metadata": {},
   "outputs": [],
   "source": [
    "import pandas as pd"
   ]
  },
  {
   "cell_type": "code",
   "execution_count": 35,
   "metadata": {},
   "outputs": [
    {
     "name": "stdout",
     "output_type": "stream",
     "text": [
      "<class 'pandas.core.frame.DataFrame'>\n",
      "Int64Index: 16 entries, 0 to 15\n",
      "Data columns (total 16 columns):\n",
      " #   Column            Non-Null Count  Dtype  \n",
      "---  ------            --------------  -----  \n",
      " 0   Genome            16 non-null     object \n",
      " 1   Genome ID         16 non-null     float64\n",
      " 2   PATRIC ID         16 non-null     object \n",
      " 3   RefSeq Locus Tag  16 non-null     object \n",
      " 4   Gene              11 non-null     object \n",
      " 5   Product           16 non-null     object \n",
      " 6   Length (NT)       16 non-null     int64  \n",
      " 7   Length (AA)       16 non-null     int64  \n",
      " 8   ALN Length        16 non-null     int64  \n",
      " 9   Identity          16 non-null     int64  \n",
      " 10  Query cover       16 non-null     int64  \n",
      " 11  Subject cover     16 non-null     int64  \n",
      " 12  Hit from          16 non-null     int64  \n",
      " 13  Hit to            16 non-null     int64  \n",
      " 14  Score             16 non-null     int64  \n",
      " 15  E value           16 non-null     float64\n",
      "dtypes: float64(2), int64(9), object(5)\n",
      "memory usage: 2.1+ KB\n",
      "None\n",
      "{'Transcriptional regulator DctR, LuxR family': 16, 'Transcriptional activator GadE': 17, 'hypothetical protein': 3, 'Two-component transcriptional response regulator, NarL/FixJ family': 3, 'Two-component transcriptional response regulator, LuxR family': 3, 'Cell envelope stress response system LiaFSR, response regulator LiaR(VraR)': 3}\n",
      "{'Transcriptional regulator DctR, LuxR family': 16}\n"
     ]
    }
   ],
   "source": [
    "# reads blast results\n",
    "df = pd.read_csv(\"C:\\\\Users\\\\cmgro\\\\Downloads\\\\PATRIC_blast.csv\")\n",
    "\n",
    "#print(df.info()) - counted 45 entries\n",
    "\n",
    "# filters out entries with query cover and identity values less than 50%\n",
    "df_filtered = df.loc[(df['Query cover']>=50) & (df['Identity']>=50)]\n",
    "\n",
    "# prints info on the new dataframe \n",
    "print(df_filtered.info())\n",
    "\n",
    "def count_types(types):\n",
    "    types_counts = {}\n",
    "    for i in types:\n",
    "        if i in types_counts.keys():\n",
    "            types_counts[i] += 1\n",
    "        else: \n",
    "            types_counts[i] = 1\n",
    "    return types_counts\n",
    "print(count_types(df[\"Product\"]))\n",
    "print(count_types(df_filtered[\"Product\"]))"
   ]
  },
  {
   "cell_type": "code",
   "execution_count": null,
   "metadata": {},
   "outputs": [],
   "source": []
  }
 ],
 "metadata": {
  "kernelspec": {
   "display_name": "Python 3",
   "language": "python",
   "name": "python3"
  },
  "language_info": {
   "codemirror_mode": {
    "name": "ipython",
    "version": 3
   },
   "file_extension": ".py",
   "mimetype": "text/x-python",
   "name": "python",
   "nbconvert_exporter": "python",
   "pygments_lexer": "ipython3",
   "version": "3.8.3"
  }
 },
 "nbformat": 4,
 "nbformat_minor": 4
}
