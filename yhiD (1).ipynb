{
 "cells": [
  {
   "cell_type": "code",
   "execution_count": 1,
   "metadata": {},
   "outputs": [],
   "source": [
    "import pandas as pd\n",
    "from Bio import SeqIO"
   ]
  },
  {
   "cell_type": "code",
   "execution_count": 2,
   "metadata": {},
   "outputs": [
    {
     "name": "stdout",
     "output_type": "stream",
     "text": [
      "                                      Genome    Genome ID  \\\n",
      "0                            Shigella sp. D9   556266.300   \n",
      "1  Escherichia coli str. K-12 substr. MG1655   511145.120   \n",
      "2          Shigella sonnei strain H140920393      624.361   \n",
      "3        Escherichia coli O157:H7 str. Sakai   386585.900   \n",
      "4   Escherichia coli O104:H4 str. 2011C-3493  1133852.300   \n",
      "\n",
      "                PATRIC ID    RefSeq Locus Tag    Gene  \\\n",
      "0   fig|556266.3.peg.3694  ShiD9_010100018200     NaN   \n",
      "1  fig|511145.12.peg.3615               b3508    yhiD   \n",
      "2    fig|624.361.peg.3666     ERS432308_03578  sapB_2   \n",
      "3   fig|386585.9.peg.4585             ECs4388     NaN   \n",
      "4   fig|1133852.3.peg.281           O3K_01370     NaN   \n",
      "\n",
      "                               Product  Length (NT)  Length (AA)  ALN Length  \\\n",
      "0  Putative magnesium transporter YhiD          648          215         215   \n",
      "1  Putative magnesium transporter YhiD          648          215         215   \n",
      "2  Putative magnesium transporter YhiD          648          215         215   \n",
      "3  Putative magnesium transporter YhiD          576          191         191   \n",
      "4  Putative magnesium transporter YhiD          576          191         191   \n",
      "\n",
      "   Identity  Query cover  Subject cover  Hit from  Hit to  Score  \\\n",
      "0        99          100            100         1     215    418   \n",
      "1        99          100            100         1     215    418   \n",
      "2        98          100            100         1     215    416   \n",
      "3        98           89            100         1     191    370   \n",
      "4        98           89            100         1     191    368   \n",
      "\n",
      "         E value  \n",
      "0  2.000000e-146  \n",
      "1  2.000000e-146  \n",
      "2  2.000000e-145  \n",
      "3  9.000000e-128  \n",
      "4  3.000000e-127  \n",
      "                PATRIC ID                                          Sequences\n",
      "0  fig|1002367.3.peg.1265  MGTSYIELIVRLSLAFVLGGMIGLEREYRAKEAGFRTHFLVALGSA...\n",
      "1  fig|1033837.3.peg.1858  MQTLAPISTELDWLLRIVVAALCGGVIGYERAIQRKSAGIRTHIVV...\n",
      "2  fig|1033734.3.peg.4466  MTQFFASFQTQEFLTMSVRIFLAALLCGLVGLEREVHKHPAGFRTH...\n",
      "3  fig|1007103.3.peg.6796  MTHDPWTIDTLHITLRLVLSLLFGGLIGIEREQSSHAAGLRTHMLV...\n",
      "4  fig|1046597.4.peg.2755  MDQVELVIRLLVAAFCGFTIGFERKNRFKNAGIRTHMIVALGSALI...\n"
     ]
    }
   ],
   "source": [
    "#Read your blast results csv in\n",
    "df = pd.read_csv(\"C:\\\\Users\\\\cmgro\\\\Downloads\\\\yhiD_blast.csv\")\n",
    "#Show the first  rows\n",
    "print(df.head())\n",
    "#Temp lists to attatch5 variables \n",
    "ids = []\n",
    "seqs = []\n",
    "#Seq.IO.parse is. an easy way to read through every gene/prot in a fasta file \n",
    "for record in SeqIO.parse(\"C:\\\\Users\\\\cmgro\\\\Downloads\\\\yhiD_genome_feature (12).fasta\", \"fasta\"):\n",
    "    # So the fasta ID line is fig|1240239.3.peg.2328|XFF4834R_chr22840|VBIXanFus78442_2328|\n",
    "    # but we only need the first two elements (\"fig and 1240239.3.peg.2328\") to make fig|1240239.3.peg.2328\n",
    "    # We then use this ID to merge back onto the original dataframe (basically we say if this row has this ID, add the sequence to that row)\n",
    "    \n",
    "    #Fancy way of extracting the ID\n",
    "    ids.append(\"|\".join(record.id.split(\"|\")[0:2]))\n",
    "    #Fancy way of extracting the sequence \n",
    "    seqs.append(str(record.seq))\n",
    "#making a new dataframe from this info \n",
    "seq_df = pd.DataFrame.from_dict({\"PATRIC ID\": ids, \"Sequences\":seqs})\n",
    "print(seq_df.head())\n",
    "#Mergine back and saving \n",
    "df = df.merge(seq_df, on=\"PATRIC ID\")\n",
    "df.to_csv(\"/Users/cmgro/Downloads/merged_yhiD.csv\")"
   ]
  },
  {
   "cell_type": "code",
   "execution_count": 3,
   "metadata": {},
   "outputs": [
    {
     "name": "stdout",
     "output_type": "stream",
     "text": [
      "<class 'pandas.core.frame.DataFrame'>\n",
      "Int64Index: 122 entries, 0 to 489\n",
      "Data columns (total 18 columns):\n",
      " #   Column            Non-Null Count  Dtype  \n",
      "---  ------            --------------  -----  \n",
      " 0   Unnamed: 0        122 non-null    int64  \n",
      " 1   Genome            122 non-null    object \n",
      " 2   Genome ID         122 non-null    float64\n",
      " 3   PATRIC ID         122 non-null    object \n",
      " 4   RefSeq Locus Tag  96 non-null     object \n",
      " 5   Gene              12 non-null     object \n",
      " 6   Product           122 non-null    object \n",
      " 7   Length (NT)       122 non-null    int64  \n",
      " 8   Length (AA)       122 non-null    int64  \n",
      " 9   ALN Length        122 non-null    int64  \n",
      " 10  Identity          122 non-null    int64  \n",
      " 11  Query cover       122 non-null    int64  \n",
      " 12  Subject cover     122 non-null    int64  \n",
      " 13  Hit from          122 non-null    int64  \n",
      " 14  Hit to            122 non-null    int64  \n",
      " 15  Score             122 non-null    int64  \n",
      " 16  E value           122 non-null    float64\n",
      " 17  Sequences         122 non-null    object \n",
      "dtypes: float64(2), int64(10), object(6)\n",
      "memory usage: 18.1+ KB\n",
      "None\n",
      "{'Putative magnesium transporter YhiD': 50, 'Peptide transport system permease protein sapB (TC 3.A.1.5.5)': 11, 'Mg(2+)-transport-ATPase-associated protein MgtC': 408, 'hypothetical protein': 24, 'Membrane protein, MgtC/SapB family': 7}\n",
      "{'Putative magnesium transporter YhiD': 15, 'Peptide transport system permease protein sapB (TC 3.A.1.5.5)': 3, 'Mg(2+)-transport-ATPase-associated protein MgtC': 94, 'Membrane protein, MgtC/SapB family': 4, 'hypothetical protein': 6}\n"
     ]
    }
   ],
   "source": [
    "# reads blast results\n",
    "df = pd.read_csv(\"C:\\\\Users\\\\cmgro\\\\Downloads\\\\merged_yhiD.csv\")\n",
    "\n",
    "#print(df.info()) - counted 500 entries\n",
    "\n",
    "# filters out entries with query cover and identity values less than 50%\n",
    "df_filtered = df[(df[\"Identity\"] > 50) &(df[\"Query cover\"] > 50)]\n",
    "\n",
    "# prints info on the new dataframe \n",
    "print(df_filtered.info())\n",
    "\n",
    "def count_types(types):\n",
    "    types_counts = {}\n",
    "    for i in types:\n",
    "        if i in types_counts.keys():\n",
    "            types_counts[i] += 1\n",
    "        else: \n",
    "            types_counts[i] = 1\n",
    "    return types_counts\n",
    "print(count_types(df[\"Product\"]))\n",
    "print(count_types(df_filtered[\"Product\"]))"
   ]
  },
  {
   "cell_type": "code",
   "execution_count": null,
   "metadata": {},
   "outputs": [],
   "source": []
  }
 ],
 "metadata": {
  "kernelspec": {
   "display_name": "Python 3",
   "language": "python",
   "name": "python3"
  },
  "language_info": {
   "codemirror_mode": {
    "name": "ipython",
    "version": 3
   },
   "file_extension": ".py",
   "mimetype": "text/x-python",
   "name": "python",
   "nbconvert_exporter": "python",
   "pygments_lexer": "ipython3",
   "version": "3.8.3"
  }
 },
 "nbformat": 4,
 "nbformat_minor": 4
}
