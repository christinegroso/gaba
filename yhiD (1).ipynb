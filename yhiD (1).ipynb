{
 "cells": [
  {
   "cell_type": "code",
   "execution_count": 1,
   "metadata": {},
   "outputs": [],
   "source": [
    "import pandas as pd\n",
    "from Bio import SeqIO"
   ]
  },
  {
   "cell_type": "code",
   "execution_count": 2,
   "metadata": {},
   "outputs": [
    {
     "name": "stdout",
     "output_type": "stream",
     "text": [
      "                      Genome  Genome ID              PATRIC ID  \\\n",
      "0  Escherichia coli MS 124-1   679205.4  fig|679205.4.peg.3311   \n",
      "1            Shigella sp. D9   556266.3  fig|556266.3.peg.3694   \n",
      "2  Escherichia coli MS 145-7   679204.3  fig|679204.3.peg.4601   \n",
      "3  Escherichia sp. 3_2_53FAA   469598.5  fig|469598.5.peg.4311   \n",
      "4       Clostridium sp. HGF2   908340.3  fig|908340.3.peg.2232   \n",
      "\n",
      "     RefSeq Locus Tag Gene                                          Product  \\\n",
      "0    HMPREF9347_03452  NaN              Putative magnesium transporter YhiD   \n",
      "1  ShiD9_010100018200  NaN              Putative magnesium transporter YhiD   \n",
      "2    HMPREF9348_04768  NaN              Putative magnesium transporter YhiD   \n",
      "3          ESAG_04509  NaN              Putative magnesium transporter YhiD   \n",
      "4     HMPREF9406_0431  NaN  Mg(2+)-transport-ATPase-associated protein MgtC   \n",
      "\n",
      "   Length (NT)  Length (AA)  ALN Length  Identity  Query cover  Subject cover  \\\n",
      "0          648          215         215       100          100            100   \n",
      "1          648          215         215       100          100            100   \n",
      "2          576          191         191       100           89            100   \n",
      "3          576          191         191        99           89            100   \n",
      "4          678          225         225        45           86             83   \n",
      "\n",
      "   Hit from  Hit to  Score        E value  \n",
      "0         1     215    431  1.000000e-153  \n",
      "1         1     215    431  1.000000e-153  \n",
      "2         1     191    383  9.000000e-135  \n",
      "3         1     191    380  1.000000e-133  \n",
      "4        12     197    166   5.000000e-49  \n",
      "                PATRIC ID                                          Sequences\n",
      "0  fig|1054213.3.peg.3888  MHRYGAMESTFENFTALELLERLGAAALLGMVLGLDRELRGFAAGI...\n",
      "1   fig|1002339.3.peg.139  MEFDINFQLMGYHLIQLVIAFLLSLPIALNREMKDSGAGLRTFPLV...\n",
      "2  fig|1002369.4.peg.2413  MNHHILIQFEYIARIITAGFCGALIGYERKNRLKEAGIRTHFIVAL...\n",
      "3   fig|1002369.4.peg.930  MIDIGSKEIAIRLLLALIIGGIIGLEREKIRQFAGFRTHILIAIGS...\n",
      "4  fig|1125694.3.peg.1626  MAMTPYILNLVVAMCLGALIGAERQWRQRMAGLRTNALVATGAAVF...\n"
     ]
    }
   ],
   "source": [
    "#Read your blast results csv in\n",
    "df = pd.read_csv(\"C:\\\\Users\\\\cmgro\\\\Downloads\\\\yhiD_blast.csv\")\n",
    "#Show the first  rows\n",
    "print(df.head())\n",
    "#Temp lists to attatch5 variables \n",
    "ids = []\n",
    "seqs = []\n",
    "#Seq.IO.parse is. an easy way to read through every gene/prot in a fasta file \n",
    "for record in SeqIO.parse(\"C:\\\\Users\\\\cmgro\\\\Downloads\\\\yhiD.fasta\", \"fasta\"):\n",
    "    # So the fasta ID line is fig|1240239.3.peg.2328|XFF4834R_chr22840|VBIXanFus78442_2328|\n",
    "    # but we only need the first two elements (\"fig and 1240239.3.peg.2328\") to make fig|1240239.3.peg.2328\n",
    "    # We then use this ID to merge back onto the original dataframe (basically we say if this row has this ID, add the sequence to that row)\n",
    "    \n",
    "    #Fancy way of extracting the ID\n",
    "    ids.append(\"|\".join(record.id.split(\"|\")[0:2]))\n",
    "    #Fancy way of extracting the sequence \n",
    "    seqs.append(str(record.seq))\n",
    "#making a new dataframe from this info \n",
    "seq_df = pd.DataFrame.from_dict({\"PATRIC ID\": ids, \"Sequences\":seqs})\n",
    "print(seq_df.head())\n",
    "#Mergine back and saving \n",
    "df = df.merge(seq_df, on=\"PATRIC ID\")\n",
    "df.to_csv(\"/Users/cmgro/Downloads/merged_yhiD.csv\")"
   ]
  },
  {
   "cell_type": "code",
   "execution_count": 3,
   "metadata": {},
   "outputs": [
    {
     "name": "stdout",
     "output_type": "stream",
     "text": [
      "<class 'pandas.core.frame.DataFrame'>\n",
      "Int64Index: 17 entries, 0 to 41\n",
      "Data columns (total 18 columns):\n",
      " #   Column            Non-Null Count  Dtype  \n",
      "---  ------            --------------  -----  \n",
      " 0   Unnamed: 0        17 non-null     int64  \n",
      " 1   Genome            17 non-null     object \n",
      " 2   Genome ID         17 non-null     float64\n",
      " 3   PATRIC ID         17 non-null     object \n",
      " 4   RefSeq Locus Tag  15 non-null     object \n",
      " 5   Gene              0 non-null      object \n",
      " 6   Product           17 non-null     object \n",
      " 7   Length (NT)       17 non-null     int64  \n",
      " 8   Length (AA)       17 non-null     int64  \n",
      " 9   ALN Length        17 non-null     int64  \n",
      " 10  Identity          17 non-null     int64  \n",
      " 11  Query cover       17 non-null     int64  \n",
      " 12  Subject cover     17 non-null     int64  \n",
      " 13  Hit from          17 non-null     int64  \n",
      " 14  Hit to            17 non-null     int64  \n",
      " 15  Score             17 non-null     int64  \n",
      " 16  E value           17 non-null     float64\n",
      " 17  Sequences         17 non-null     object \n",
      "dtypes: float64(2), int64(10), object(6)\n",
      "memory usage: 2.5+ KB\n",
      "None\n",
      "{'Putative magnesium transporter YhiD': 4, 'Mg(2+)-transport-ATPase-associated protein MgtC': 104, 'hypothetical protein': 3, 'Peptide transport system permease protein sapB (TC 3.A.1.5.5)': 2}\n",
      "{'Putative magnesium transporter YhiD': 4, 'Mg(2+)-transport-ATPase-associated protein MgtC': 12, 'hypothetical protein': 1}\n"
     ]
    }
   ],
   "source": [
    "# reads blast results\n",
    "df = pd.read_csv(\"C:\\\\Users\\\\cmgro\\\\Downloads\\\\merged_yhiD.csv\")\n",
    "\n",
    "#print(df.info()) - counted 113 entries\n",
    "\n",
    "# filters out entries with query cover and identity values less than 50%\n",
    "df_filtered = df[(df[\"Identity\"] > 50) &(df[\"Query cover\"] > 50)]\n",
    "\n",
    "# prints info on the new dataframe \n",
    "print(df_filtered.info())\n",
    "\n",
    "def count_types(types):\n",
    "    types_counts = {}\n",
    "    for i in types:\n",
    "        if i in types_counts.keys():\n",
    "            types_counts[i] += 1\n",
    "        else: \n",
    "            types_counts[i] = 1\n",
    "    return types_counts\n",
    "print(count_types(df[\"Product\"]))\n",
    "print(count_types(df_filtered[\"Product\"]))"
   ]
  },
  {
   "cell_type": "code",
   "execution_count": null,
   "metadata": {},
   "outputs": [],
   "source": []
  }
 ],
 "metadata": {
  "kernelspec": {
   "display_name": "Python 3",
   "language": "python",
   "name": "python3"
  },
  "language_info": {
   "codemirror_mode": {
    "name": "ipython",
    "version": 3
   },
   "file_extension": ".py",
   "mimetype": "text/x-python",
   "name": "python",
   "nbconvert_exporter": "python",
   "pygments_lexer": "ipython3",
   "version": "3.8.3"
  }
 },
 "nbformat": 4,
 "nbformat_minor": 4
}
