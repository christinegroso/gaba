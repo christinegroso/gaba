{
 "cells": [
  {
   "cell_type": "code",
   "execution_count": 4,
   "metadata": {},
   "outputs": [],
   "source": [
    "import pandas as pd\n",
    "from Bio import SeqIO\n",
    "from Bio.ExPASy import ScanProsite"
   ]
  },
  {
   "cell_type": "markdown",
   "metadata": {},
   "source": [
    "So I dun goofed and forgot to have you you guys download sequences as well for this next step, below is a script you help you merge the two files automatically, you'll use a similar pattern for the next set of steps which invovles extracting protien domains. "
   ]
  },
  {
   "cell_type": "code",
   "execution_count": 5,
   "metadata": {},
   "outputs": [
    {
     "name": "stdout",
     "output_type": "stream",
     "text": [
      "                                     Genome  Genome ID     Accession  \\\n",
      "0         Yokenella regensburgei ATCC 43003  1002368.3  AGCL01000039   \n",
      "1  Escherichia coli O104:H4 str. 2011C-3493  1133852.3      CP003289   \n",
      "2  Escherichia coli O104:H4 str. 2011C-3493  1133852.3      CP003289   \n",
      "3         Kluyvera cryocrescens NBRC 102467  1218112.3  BCTM01000004   \n",
      "4             Shigella flexneri 2a str. 301   198214.7     NC_004337   \n",
      "\n",
      "                PATRIC ID  RefSeq Locus Tag         Alt Locus Tag  \\\n",
      "0  fig|1002368.3.peg.2680  HMPREF0880_02941  VBIYokReg189340_2680   \n",
      "1   fig|1133852.3.peg.277         O3K_01350  VBIEscCol234630_0277   \n",
      "2   fig|1133852.3.peg.282         O3K_01375  VBIEscCol234630_0282   \n",
      "3   fig|1218112.3.peg.722               NaN                   NaN   \n",
      "4   fig|198214.7.peg.4170            SF3541   VBIShiFle86970_4170   \n",
      "\n",
      "                                          Feature ID Annotation Feature Type  \\\n",
      "0  PATRIC.1002368.3.AGCL01000039.CDS.217786.21831...     PATRIC          CDS   \n",
      "1    PATRIC.1133852.3.CP003289.CDS.279958.280485.rev     PATRIC          CDS   \n",
      "2    PATRIC.1133852.3.CP003289.CDS.283638.284168.rev     PATRIC          CDS   \n",
      "3    PATRIC.1218112.3.BCTM01000004.CDS.4459.4989.rev     PATRIC          CDS   \n",
      "4  PATRIC.198214.7.NC_004337.CDS.3631768.3632271.fwd     PATRIC          CDS   \n",
      "\n",
      "     Start  ...  Length  Strand    FIGfam ID  \\\n",
      "0   217786  ...     531       -  FIG00006380   \n",
      "1   279958  ...     528       -  FIG00006380   \n",
      "2   283638  ...     531       -  FIG00003845   \n",
      "3     4459  ...     531       -  FIG00006380   \n",
      "4  3631768  ...     504       +  FIG00003845   \n",
      "\n",
      "  PATRIC genus-specific families (PLfams)  \\\n",
      "0                                     NaN   \n",
      "1                        PLF_561_00003078   \n",
      "2                        PLF_561_00002873   \n",
      "3                        PLF_579_00004866   \n",
      "4                        PLF_620_00002491   \n",
      "\n",
      "  PATRIC cross-genus families (PGfams)   Protein ID AA Length  Gene Symbol  \\\n",
      "0                                  NaN   EHM47195.1       176          NaN   \n",
      "1                         PGF_00057508   AFS72201.1       175          NaN   \n",
      "2                         PGF_00010716   AFS72206.1       176          NaN   \n",
      "3                         PGF_04398354          NaN       176          NaN   \n",
      "4                         PGF_00010716  NP_709290.2       167         yhiF   \n",
      "\n",
      "                                       Product  GO  \n",
      "0               Transcriptional activator GadE NaN  \n",
      "1               Transcriptional activator GadE NaN  \n",
      "2  Transcriptional regulator DctR, LuxR family NaN  \n",
      "3                         hypothetical protein NaN  \n",
      "4  Transcriptional regulator DctR, LuxR family NaN  \n",
      "\n",
      "[5 rows x 21 columns]\n",
      "                PATRIC ID                                          Sequences\n",
      "0   fig|1133852.3.peg.277  MIFLMTKDSFLLQGFWQLKDNHEMIKINSLSEIKKVGNKPFKVIID...\n",
      "1   fig|1133852.3.peg.282  MFLIITRDTMFFTAMKNILSKGNVVHIQNEEEIDVMLHQNAFVIID...\n",
      "2  fig|1002368.3.peg.2680  MILMVTKDEFLFQGVTHLLNNEKVIRAEGLSDIGKQIADPASKVII...\n",
      "3   fig|1218112.3.peg.722  MILMVTKDEFLFQGVAHLFNNENVIRLETIADIMRHATDANTKIII...\n",
      "4   fig|198214.7.peg.4170  MFFTAMKNILSKGNVVHIQNEEEIDVMLHQNAFVIIDTLMNNVFHS...\n"
     ]
    }
   ],
   "source": [
    "#Read your blast results csv in\n",
    "df = pd.read_csv(\"C:\\\\Users\\\\cmgro\\\\Downloads\\\\gadE_genome_feature (3).csv\")\n",
    "#Show the first 5 rows\n",
    "print(df.head())\n",
    "#Temp lists to attatch variables \n",
    "ids = []\n",
    "seqs = []\n",
    "#Seq.IO.parse is. an easy way to read through every gene/prot in a fasta file \n",
    "for record in SeqIO.parse(\"C:\\\\Users\\\\cmgro\\\\Downloads\\\\gadE_genome_feature (3).fasta\", \"fasta\"):\n",
    "    # So the fasta ID line is fig|1240239.3.peg.2328|XFF4834R_chr22840|VBIXanFus78442_2328|\n",
    "    # but we only need the first two elements (\"fig and 1240239.3.peg.2328\") to make fig|1240239.3.peg.2328\n",
    "    # We then use this ID to merge back onto the original dataframe (basically we say if this row has this ID, add the sequence to that row)\n",
    "    \n",
    "    #Fancy way of extracting the ID\n",
    "    ids.append(\"|\".join(record.id.split(\"|\")[0:2]))\n",
    "    #Fancy way of extracting the sequence \n",
    "    seqs.append(str(record.seq))\n",
    "#making a new dataframe from this info \n",
    "seq_df = pd.DataFrame.from_dict({\"PATRIC ID\": ids, \"Sequences\":seqs})\n",
    "print(seq_df.head())\n",
    "#Mergine back and saving \n",
    "df = df.merge(seq_df, on=\"PATRIC ID\")\n",
    "df.to_csv(\"/Users/cmgro/Downloads/merged_gadE.csv\")"
   ]
  },
  {
   "cell_type": "code",
   "execution_count": 6,
   "metadata": {},
   "outputs": [
    {
     "name": "stdout",
     "output_type": "stream",
     "text": [
      "{'sequence_ac': 'USERSEQ1', 'start': 110, 'stop': 175, 'signature_ac': 'PS50043', 'score': '13.775', 'level': '0'}\n",
      "{'sequence_ac': 'USERSEQ1', 'start': 109, 'stop': 174, 'signature_ac': 'PS50043', 'score': '20.766', 'level': '0'}\n",
      "{'sequence_ac': 'USERSEQ1', 'start': 109, 'stop': 174, 'signature_ac': 'PS50043', 'score': '25.818', 'level': '0'}\n",
      "{'sequence_ac': 'USERSEQ1', 'start': 110, 'stop': 175, 'signature_ac': 'PS50043', 'score': '14.686', 'level': '0'}\n",
      "{'sequence_ac': 'USERSEQ1', 'start': 100, 'stop': 165, 'signature_ac': 'PS50043', 'score': '25.994', 'level': '0'}\n",
      "{'sequence_ac': 'USERSEQ1', 'start': 109, 'stop': 174, 'signature_ac': 'PS50043', 'score': '20.766', 'level': '0'}\n",
      "{'sequence_ac': 'USERSEQ1', 'start': 109, 'stop': 174, 'signature_ac': 'PS50043', 'score': '19.767', 'level': '0'}\n",
      "{'sequence_ac': 'USERSEQ1', 'start': 100, 'stop': 165, 'signature_ac': 'PS50043', 'score': '25.994', 'level': '0'}\n",
      "{'sequence_ac': 'USERSEQ1', 'start': 100, 'stop': 165, 'signature_ac': 'PS50043', 'score': '24.936', 'level': '0'}\n",
      "{'sequence_ac': 'USERSEQ1', 'start': 109, 'stop': 174, 'signature_ac': 'PS50043', 'score': '19.503', 'level': '0'}\n",
      "{'sequence_ac': 'USERSEQ1', 'start': 109, 'stop': 174, 'signature_ac': 'PS50043', 'score': '20.766', 'level': '0'}\n",
      "{'sequence_ac': 'USERSEQ1', 'start': 100, 'stop': 165, 'signature_ac': 'PS50043', 'score': '25.994', 'level': '0'}\n",
      "{'sequence_ac': 'USERSEQ1', 'start': 109, 'stop': 174, 'signature_ac': 'PS50043', 'score': '25.994', 'level': '0'}\n",
      "{'sequence_ac': 'USERSEQ1', 'start': 109, 'stop': 174, 'signature_ac': 'PS50043', 'score': '20.766', 'level': '0'}\n",
      "{'sequence_ac': 'USERSEQ1', 'start': 109, 'stop': 174, 'signature_ac': 'PS50043', 'score': '23.350', 'level': '0'}\n",
      "{'sequence_ac': 'USERSEQ1', 'start': 109, 'stop': 174, 'signature_ac': 'PS50043', 'score': '20.913', 'level': '0'}\n",
      "{'sequence_ac': 'USERSEQ1', 'start': 109, 'stop': 174, 'signature_ac': 'PS50043', 'score': '25.818', 'level': '0'}\n",
      "{'sequence_ac': 'USERSEQ1', 'start': 109, 'stop': 174, 'signature_ac': 'PS50043', 'score': '20.766', 'level': '0'}\n",
      "{'sequence_ac': 'USERSEQ1', 'start': 100, 'stop': 165, 'signature_ac': 'PS50043', 'score': '25.818', 'level': '0'}\n",
      "{'sequence_ac': 'USERSEQ1', 'start': 109, 'stop': 174, 'signature_ac': 'PS50043', 'score': '20.766', 'level': '0'}\n",
      "{'sequence_ac': 'USERSEQ1', 'start': 109, 'stop': 174, 'signature_ac': 'PS50043', 'score': '26.434', 'level': '0'}\n",
      "{'sequence_ac': 'USERSEQ1', 'start': 109, 'stop': 174, 'signature_ac': 'PS50043', 'score': '20.766', 'level': '0'}\n",
      "{'sequence_ac': 'USERSEQ1', 'start': 5, 'stop': 121, 'signature_ac': 'PS50110', 'score': '36.655', 'level': '0'}\n",
      "{'sequence_ac': 'USERSEQ1', 'start': 150, 'stop': 215, 'signature_ac': 'PS50043', 'score': '33.278', 'level': '0'}\n",
      "{'sequence_ac': 'USERSEQ1', 'start': 171, 'stop': 198, 'signature_ac': 'PS00622', 'level_tag': '(0)'}\n",
      "{'sequence_ac': 'USERSEQ1', 'start': 109, 'stop': 174, 'signature_ac': 'PS50043', 'score': '22.029', 'level': '0'}\n",
      "{'sequence_ac': 'USERSEQ1', 'start': 109, 'stop': 174, 'signature_ac': 'PS50043', 'score': '21.294', 'level': '0'}\n",
      "{'sequence_ac': 'USERSEQ1', 'start': 109, 'stop': 174, 'signature_ac': 'PS50043', 'score': '25.994', 'level': '0'}\n",
      "{'sequence_ac': 'USERSEQ1', 'start': 109, 'stop': 174, 'signature_ac': 'PS50043', 'score': '20.766', 'level': '0'}\n",
      "{'sequence_ac': 'USERSEQ1', 'start': 109, 'stop': 174, 'signature_ac': 'PS50043', 'score': '25.994', 'level': '0'}\n",
      "{'sequence_ac': 'USERSEQ1', 'start': 109, 'stop': 174, 'signature_ac': 'PS50043', 'score': '20.766', 'level': '0'}\n",
      "{'sequence_ac': 'USERSEQ1', 'start': 109, 'stop': 174, 'signature_ac': 'PS50043', 'score': '20.766', 'level': '0'}\n",
      "{'sequence_ac': 'USERSEQ1', 'start': 109, 'stop': 174, 'signature_ac': 'PS50043', 'score': '25.994', 'level': '0'}\n",
      "{'sequence_ac': 'USERSEQ1', 'start': 109, 'stop': 174, 'signature_ac': 'PS50043', 'score': '26.434', 'level': '0'}\n",
      "{'sequence_ac': 'USERSEQ1', 'start': 109, 'stop': 174, 'signature_ac': 'PS50043', 'score': '20.766', 'level': '0'}\n",
      "{'sequence_ac': 'USERSEQ1', 'start': 100, 'stop': 165, 'signature_ac': 'PS50043', 'score': '24.026', 'level': '0'}\n"
     ]
    },
    {
     "ename": "FileNotFoundError",
     "evalue": "[Errno 2] No such file or directory: '/Users/christine/Downloads/gadE_motifs.csv'",
     "output_type": "error",
     "traceback": [
      "\u001b[1;31m---------------------------------------------------------------------------\u001b[0m",
      "\u001b[1;31mFileNotFoundError\u001b[0m                         Traceback (most recent call last)",
      "\u001b[1;32m<ipython-input-6-af7d105cb225>\u001b[0m in \u001b[0;36m<module>\u001b[1;34m\u001b[0m\n\u001b[0;32m     14\u001b[0m \u001b[1;33m\u001b[0m\u001b[0m\n\u001b[0;32m     15\u001b[0m \u001b[0mdf\u001b[0m\u001b[1;33m[\u001b[0m\u001b[1;34m\"Prosite results\"\u001b[0m\u001b[1;33m]\u001b[0m \u001b[1;33m=\u001b[0m \u001b[0msigs\u001b[0m\u001b[1;33m\u001b[0m\u001b[1;33m\u001b[0m\u001b[0m\n\u001b[1;32m---> 16\u001b[1;33m \u001b[0mdf\u001b[0m\u001b[1;33m.\u001b[0m\u001b[0mto_csv\u001b[0m\u001b[1;33m(\u001b[0m\u001b[1;34m\"/Users/christine/Downloads/gadE_motifs.csv\"\u001b[0m\u001b[1;33m)\u001b[0m\u001b[1;33m\u001b[0m\u001b[1;33m\u001b[0m\u001b[0m\n\u001b[0m",
      "\u001b[1;32m~\\anaconda3\\lib\\site-packages\\pandas\\core\\generic.py\u001b[0m in \u001b[0;36mto_csv\u001b[1;34m(self, path_or_buf, sep, na_rep, float_format, columns, header, index, index_label, mode, encoding, compression, quoting, quotechar, line_terminator, chunksize, date_format, doublequote, escapechar, decimal)\u001b[0m\n\u001b[0;32m   3202\u001b[0m             \u001b[0mdecimal\u001b[0m\u001b[1;33m=\u001b[0m\u001b[0mdecimal\u001b[0m\u001b[1;33m,\u001b[0m\u001b[1;33m\u001b[0m\u001b[1;33m\u001b[0m\u001b[0m\n\u001b[0;32m   3203\u001b[0m         )\n\u001b[1;32m-> 3204\u001b[1;33m         \u001b[0mformatter\u001b[0m\u001b[1;33m.\u001b[0m\u001b[0msave\u001b[0m\u001b[1;33m(\u001b[0m\u001b[1;33m)\u001b[0m\u001b[1;33m\u001b[0m\u001b[1;33m\u001b[0m\u001b[0m\n\u001b[0m\u001b[0;32m   3205\u001b[0m \u001b[1;33m\u001b[0m\u001b[0m\n\u001b[0;32m   3206\u001b[0m         \u001b[1;32mif\u001b[0m \u001b[0mpath_or_buf\u001b[0m \u001b[1;32mis\u001b[0m \u001b[1;32mNone\u001b[0m\u001b[1;33m:\u001b[0m\u001b[1;33m\u001b[0m\u001b[1;33m\u001b[0m\u001b[0m\n",
      "\u001b[1;32m~\\anaconda3\\lib\\site-packages\\pandas\\io\\formats\\csvs.py\u001b[0m in \u001b[0;36msave\u001b[1;34m(self)\u001b[0m\n\u001b[0;32m    182\u001b[0m             \u001b[0mclose\u001b[0m \u001b[1;33m=\u001b[0m \u001b[1;32mFalse\u001b[0m\u001b[1;33m\u001b[0m\u001b[1;33m\u001b[0m\u001b[0m\n\u001b[0;32m    183\u001b[0m         \u001b[1;32melse\u001b[0m\u001b[1;33m:\u001b[0m\u001b[1;33m\u001b[0m\u001b[1;33m\u001b[0m\u001b[0m\n\u001b[1;32m--> 184\u001b[1;33m             f, handles = get_handle(\n\u001b[0m\u001b[0;32m    185\u001b[0m                 \u001b[0mself\u001b[0m\u001b[1;33m.\u001b[0m\u001b[0mpath_or_buf\u001b[0m\u001b[1;33m,\u001b[0m\u001b[1;33m\u001b[0m\u001b[1;33m\u001b[0m\u001b[0m\n\u001b[0;32m    186\u001b[0m                 \u001b[0mself\u001b[0m\u001b[1;33m.\u001b[0m\u001b[0mmode\u001b[0m\u001b[1;33m,\u001b[0m\u001b[1;33m\u001b[0m\u001b[1;33m\u001b[0m\u001b[0m\n",
      "\u001b[1;32m~\\anaconda3\\lib\\site-packages\\pandas\\io\\common.py\u001b[0m in \u001b[0;36mget_handle\u001b[1;34m(path_or_buf, mode, encoding, compression, memory_map, is_text)\u001b[0m\n\u001b[0;32m    426\u001b[0m         \u001b[1;32mif\u001b[0m \u001b[0mencoding\u001b[0m\u001b[1;33m:\u001b[0m\u001b[1;33m\u001b[0m\u001b[1;33m\u001b[0m\u001b[0m\n\u001b[0;32m    427\u001b[0m             \u001b[1;31m# Encoding\u001b[0m\u001b[1;33m\u001b[0m\u001b[1;33m\u001b[0m\u001b[1;33m\u001b[0m\u001b[0m\n\u001b[1;32m--> 428\u001b[1;33m             \u001b[0mf\u001b[0m \u001b[1;33m=\u001b[0m \u001b[0mopen\u001b[0m\u001b[1;33m(\u001b[0m\u001b[0mpath_or_buf\u001b[0m\u001b[1;33m,\u001b[0m \u001b[0mmode\u001b[0m\u001b[1;33m,\u001b[0m \u001b[0mencoding\u001b[0m\u001b[1;33m=\u001b[0m\u001b[0mencoding\u001b[0m\u001b[1;33m,\u001b[0m \u001b[0mnewline\u001b[0m\u001b[1;33m=\u001b[0m\u001b[1;34m\"\"\u001b[0m\u001b[1;33m)\u001b[0m\u001b[1;33m\u001b[0m\u001b[1;33m\u001b[0m\u001b[0m\n\u001b[0m\u001b[0;32m    429\u001b[0m         \u001b[1;32melif\u001b[0m \u001b[0mis_text\u001b[0m\u001b[1;33m:\u001b[0m\u001b[1;33m\u001b[0m\u001b[1;33m\u001b[0m\u001b[0m\n\u001b[0;32m    430\u001b[0m             \u001b[1;31m# No explicit encoding\u001b[0m\u001b[1;33m\u001b[0m\u001b[1;33m\u001b[0m\u001b[1;33m\u001b[0m\u001b[0m\n",
      "\u001b[1;31mFileNotFoundError\u001b[0m: [Errno 2] No such file or directory: '/Users/christine/Downloads/gadE_motifs.csv'"
     ]
    }
   ],
   "source": [
    "import time\n",
    "sigs = []\n",
    "\n",
    "for i in df[\"Sequences\"].values:\n",
    "    handle = ScanProsite.scan(seq=i, mirror=\"https://prosite.expasy.org\")\n",
    "    result = ScanProsite.read(handle)\n",
    "    qq = []\n",
    "    for i in result:\n",
    "        print(i)\n",
    "        qq.append(i[\"signature_ac\"])\n",
    "    time.sleep(5)\n",
    "    qq = set(qq)\n",
    "    sigs.append(qq)\n",
    "    \n",
    "df[\"Prosite results\"] = sigs\n",
    "df.to_csv(\"/Users/christine/Downloads/gadE_motifs.csv\")"
   ]
  },
  {
   "cell_type": "code",
   "execution_count": null,
   "metadata": {},
   "outputs": [],
   "source": [
    "df\n"
   ]
  },
  {
   "cell_type": "code",
   "execution_count": null,
   "metadata": {},
   "outputs": [],
   "source": []
  }
 ],
 "metadata": {
  "kernelspec": {
   "display_name": "Python 3",
   "language": "python",
   "name": "python3"
  },
  "language_info": {
   "codemirror_mode": {
    "name": "ipython",
    "version": 3
   },
   "file_extension": ".py",
   "mimetype": "text/x-python",
   "name": "python",
   "nbconvert_exporter": "python",
   "pygments_lexer": "ipython3",
   "version": "3.8.3"
  }
 },
 "nbformat": 4,
 "nbformat_minor": 4
}
