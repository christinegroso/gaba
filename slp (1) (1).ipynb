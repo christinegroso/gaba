{
 "cells": [
  {
   "cell_type": "code",
   "execution_count": 1,
   "metadata": {},
   "outputs": [],
   "source": [
    "import pandas as pd\n",
    "from Bio import SeqIO"
   ]
  },
  {
   "cell_type": "code",
   "execution_count": 2,
   "metadata": {},
   "outputs": [
    {
     "name": "stdout",
     "output_type": "stream",
     "text": [
      "                      Genome  Genome ID              PATRIC ID  \\\n",
      "0  Escherichia coli MS 124-1   679205.4  fig|679205.4.peg.3309   \n",
      "1  Escherichia coli MS 145-7   679204.3  fig|679204.3.peg.4599   \n",
      "2            Shigella sp. D9   556266.3  fig|556266.3.peg.3692   \n",
      "3  Escherichia sp. 3_2_53FAA   469598.5  fig|469598.5.peg.4298   \n",
      "4       Citrobacter sp. 30_2   469595.3  fig|469595.3.peg.2454   \n",
      "\n",
      "     RefSeq Locus Tag  Gene                     Product  Length (NT)  \\\n",
      "0    HMPREF9347_03450   NaN  Starvation lipoprotein Slp          723   \n",
      "1    HMPREF9348_04766   NaN  Starvation lipoprotein Slp          723   \n",
      "2  ShiD9_010100018190   NaN  Starvation lipoprotein Slp          567   \n",
      "3          ESAG_04493   NaN  Starvation lipoprotein Slp          567   \n",
      "4          CSAG_02454   NaN  Starvation lipoprotein Slp          567   \n",
      "\n",
      "   Length (AA)  ALN Length  Identity  Query cover  Subject cover  Hit from  \\\n",
      "0          240         240        99          100             78        53   \n",
      "1          240         240        99          100             78        53   \n",
      "2          188         188        99          100            100         1   \n",
      "3          188         188        99          100            100         1   \n",
      "4          188         188        78          100            100         1   \n",
      "\n",
      "   Hit to  Score        E value  \n",
      "0     240    389  7.000000e-137  \n",
      "1     240    389  7.000000e-137  \n",
      "2     188    386  1.000000e-136  \n",
      "3     188    386  1.000000e-136  \n",
      "4     188    321  6.000000e-111  \n",
      "                PATRIC ID                                          Sequences\n",
      "0  fig|1203545.3.peg.2942  MAGQKQGVRWLLAAAVAVALSGCVSVPDAIKGTSPTPQQDLVRVMN...\n",
      "1    fig|469595.3.peg.233  MAVQKQLLKGVLAGALALMLSGCVTIPDAIKGSSPMPQQDLVRVMN...\n",
      "2   fig|469598.5.peg.4298  MNMTKGALILSLSFLLAACSSIPQNIKGNNQPDIQKSFVAVHNQPG...\n",
      "3   fig|469598.5.peg.2069  MAVQKNVIKGILAGTFALMLSGCVTVPDAIKGSSPTPQQDLVRVMS...\n",
      "4   fig|469595.3.peg.2454  MKNTKGLMIIALAFTLASCASIPENIKGNNQPDIQKNFISVHNQPG...\n"
     ]
    }
   ],
   "source": [
    "#Read your blast results csv in\n",
    "df = pd.read_csv(\"C:\\\\Users\\\\cmgro\\\\Downloads\\\\slp_blast.csv\")\n",
    "#Show the first 5 rows\n",
    "print(df.head())\n",
    "#Temp lists to attatch variables \n",
    "ids = []\n",
    "seqs = []\n",
    "#Seq.IO.parse is. an easy way to read through every gene/prot in a fasta file \n",
    "for record in SeqIO.parse(\"C:\\\\Users\\\\cmgro\\\\Downloads\\\\slp.fasta\", \"fasta\"):\n",
    "    # So the fasta ID line is fig|1240239.3.peg.2328|XFF4834R_chr22840|VBIXanFus78442_2328|\n",
    "    # but we only need the first two elements (\"fig and 1240239.3.peg.2328\") to make fig|1240239.3.peg.2328\n",
    "    # We then use this ID to merge back onto the original dataframe (basically we say if this row has this ID, add the sequence to that row)\n",
    "    \n",
    "    #Fancy way of extracting the ID\n",
    "    ids.append(\"|\".join(record.id.split(\"|\")[0:2]))\n",
    "    #Fancy way of extracting the sequence \n",
    "    seqs.append(str(record.seq))\n",
    "#making a new dataframe from this info \n",
    "seq_df = pd.DataFrame.from_dict({\"PATRIC ID\": ids, \"Sequences\":seqs})\n",
    "print(seq_df.head())\n",
    "#Mergine back and saving \n",
    "df = df.merge(seq_df, on=\"PATRIC ID\")\n",
    "df.to_csv(\"/Users/cmgro/Downloads/merged_slp.csv\")"
   ]
  },
  {
   "cell_type": "code",
   "execution_count": 3,
   "metadata": {
    "scrolled": true
   },
   "outputs": [
    {
     "name": "stdout",
     "output_type": "stream",
     "text": [
      "<class 'pandas.core.frame.DataFrame'>\n",
      "RangeIndex: 17 entries, 0 to 16\n",
      "Data columns (total 18 columns):\n",
      " #   Column            Non-Null Count  Dtype  \n",
      "---  ------            --------------  -----  \n",
      " 0   Unnamed: 0        17 non-null     int64  \n",
      " 1   Genome            17 non-null     object \n",
      " 2   Genome ID         17 non-null     float64\n",
      " 3   PATRIC ID         17 non-null     object \n",
      " 4   RefSeq Locus Tag  17 non-null     object \n",
      " 5   Gene              0 non-null      float64\n",
      " 6   Product           17 non-null     object \n",
      " 7   Length (NT)       17 non-null     int64  \n",
      " 8   Length (AA)       17 non-null     int64  \n",
      " 9   ALN Length        17 non-null     int64  \n",
      " 10  Identity          17 non-null     int64  \n",
      " 11  Query cover       17 non-null     int64  \n",
      " 12  Subject cover     17 non-null     int64  \n",
      " 13  Hit from          17 non-null     int64  \n",
      " 14  Hit to            17 non-null     int64  \n",
      " 15  Score             17 non-null     int64  \n",
      " 16  E value           17 non-null     float64\n",
      " 17  Sequences         17 non-null     object \n",
      "dtypes: float64(3), int64(10), object(5)\n",
      "memory usage: 2.5+ KB\n",
      "None\n",
      "<class 'pandas.core.frame.DataFrame'>\n",
      "Int64Index: 5 entries, 0 to 4\n",
      "Data columns (total 18 columns):\n",
      " #   Column            Non-Null Count  Dtype  \n",
      "---  ------            --------------  -----  \n",
      " 0   Unnamed: 0        5 non-null      int64  \n",
      " 1   Genome            5 non-null      object \n",
      " 2   Genome ID         5 non-null      float64\n",
      " 3   PATRIC ID         5 non-null      object \n",
      " 4   RefSeq Locus Tag  5 non-null      object \n",
      " 5   Gene              0 non-null      float64\n",
      " 6   Product           5 non-null      object \n",
      " 7   Length (NT)       5 non-null      int64  \n",
      " 8   Length (AA)       5 non-null      int64  \n",
      " 9   ALN Length        5 non-null      int64  \n",
      " 10  Identity          5 non-null      int64  \n",
      " 11  Query cover       5 non-null      int64  \n",
      " 12  Subject cover     5 non-null      int64  \n",
      " 13  Hit from          5 non-null      int64  \n",
      " 14  Hit to            5 non-null      int64  \n",
      " 15  Score             5 non-null      int64  \n",
      " 16  E value           5 non-null      float64\n",
      " 17  Sequences         5 non-null      object \n",
      "dtypes: float64(3), int64(10), object(5)\n",
      "memory usage: 760.0+ bytes\n",
      "None\n",
      "{'Starvation lipoprotein Slp': 5, 'Uncharacterized lipoprotein YeaY': 10, 'Starvation lipoprotein Slp paralog': 2}\n",
      "{'Starvation lipoprotein Slp': 5}\n"
     ]
    }
   ],
   "source": [
    "# reads blast results\n",
    "df = pd.read_csv(\"C:\\\\Users\\\\cmgro\\\\Downloads\\\\merged_slp.csv\")\n",
    "\n",
    "print(df.info())\n",
    "\n",
    "# filters out entries with query cover and identity values less than 50%\n",
    "df_filtered = df[(df[\"Identity\"] > 50) &(df[\"Query cover\"] > 50)]\n",
    "\n",
    "# prints info on the new dataframe \n",
    "print(df_filtered.info())\n",
    "\n",
    "def count_types(types):\n",
    "    types_counts = {}\n",
    "    for i in types:\n",
    "        if i in types_counts.keys():\n",
    "            types_counts[i] += 1\n",
    "        else: \n",
    "            types_counts[i] = 1\n",
    "    return types_counts\n",
    "print(count_types(df[\"Product\"]))\n",
    "print(count_types(df_filtered[\"Product\"]))"
   ]
  },
  {
   "cell_type": "code",
   "execution_count": null,
   "metadata": {},
   "outputs": [],
   "source": []
  }
 ],
 "metadata": {
  "kernelspec": {
   "display_name": "Python 3",
   "language": "python",
   "name": "python3"
  },
  "language_info": {
   "codemirror_mode": {
    "name": "ipython",
    "version": 3
   },
   "file_extension": ".py",
   "mimetype": "text/x-python",
   "name": "python",
   "nbconvert_exporter": "python",
   "pygments_lexer": "ipython3",
   "version": "3.8.3"
  }
 },
 "nbformat": 4,
 "nbformat_minor": 4
}
