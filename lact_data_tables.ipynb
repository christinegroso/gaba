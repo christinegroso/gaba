{
 "cells": [
  {
   "cell_type": "code",
   "execution_count": 1,
   "metadata": {},
   "outputs": [],
   "source": [
    "import pandas as pd"
   ]
  },
  {
   "cell_type": "code",
   "execution_count": 2,
   "metadata": {},
   "outputs": [
    {
     "data": {
      "text/html": [
       "<div>\n",
       "<style scoped>\n",
       "    .dataframe tbody tr th:only-of-type {\n",
       "        vertical-align: middle;\n",
       "    }\n",
       "\n",
       "    .dataframe tbody tr th {\n",
       "        vertical-align: top;\n",
       "    }\n",
       "\n",
       "    .dataframe thead th {\n",
       "        text-align: right;\n",
       "    }\n",
       "</style>\n",
       "<table border=\"1\" class=\"dataframe\">\n",
       "  <thead>\n",
       "    <tr style=\"text-align: right;\">\n",
       "      <th></th>\n",
       "      <th>Products</th>\n",
       "      <th>Number of Products</th>\n",
       "      <th>Number of Products When Filtered by Query Cover and Identity</th>\n",
       "    </tr>\n",
       "  </thead>\n",
       "  <tbody>\n",
       "    <tr>\n",
       "      <th>0</th>\n",
       "      <td>Glutamate decarboxylase (EC 4.1.1.15)</td>\n",
       "      <td>2</td>\n",
       "      <td>0</td>\n",
       "    </tr>\n",
       "  </tbody>\n",
       "</table>\n",
       "</div>"
      ],
      "text/plain": [
       "                                Products Number of Products  \\\n",
       "0  Glutamate decarboxylase (EC 4.1.1.15)                  2   \n",
       "\n",
       "  Number of Products When Filtered by Query Cover and Identity  \n",
       "0                                                  0            "
      ]
     },
     "execution_count": 2,
     "metadata": {},
     "output_type": "execute_result"
    }
   ],
   "source": [
    "gadA_lact = {'Products': ['Glutamate decarboxylase (EC 4.1.1.15)'], \n",
    "        'Number of Products': ['2'],\n",
    "        'Number of Products When Filtered by Query Cover and Identity': ['0']}  \n",
    "new = pd.DataFrame.from_dict(gadA_lact) \n",
    "  \n",
    "new"
   ]
  },
  {
   "cell_type": "code",
   "execution_count": 3,
   "metadata": {},
   "outputs": [
    {
     "data": {
      "text/html": [
       "<div>\n",
       "<style scoped>\n",
       "    .dataframe tbody tr th:only-of-type {\n",
       "        vertical-align: middle;\n",
       "    }\n",
       "\n",
       "    .dataframe tbody tr th {\n",
       "        vertical-align: top;\n",
       "    }\n",
       "\n",
       "    .dataframe thead th {\n",
       "        text-align: right;\n",
       "    }\n",
       "</style>\n",
       "<table border=\"1\" class=\"dataframe\">\n",
       "  <thead>\n",
       "    <tr style=\"text-align: right;\">\n",
       "      <th></th>\n",
       "      <th>Products</th>\n",
       "      <th>Number of Products</th>\n",
       "      <th>Number of Products When Filtered by Query Cover and Identity</th>\n",
       "    </tr>\n",
       "  </thead>\n",
       "  <tbody>\n",
       "    <tr>\n",
       "      <th>0</th>\n",
       "      <td>Glutamate decarboxylase (EC 4.1.1.15)</td>\n",
       "      <td>2</td>\n",
       "      <td>0</td>\n",
       "    </tr>\n",
       "  </tbody>\n",
       "</table>\n",
       "</div>"
      ],
      "text/plain": [
       "                                Products Number of Products  \\\n",
       "0  Glutamate decarboxylase (EC 4.1.1.15)                  2   \n",
       "\n",
       "  Number of Products When Filtered by Query Cover and Identity  \n",
       "0                                                  0            "
      ]
     },
     "execution_count": 3,
     "metadata": {},
     "output_type": "execute_result"
    }
   ],
   "source": [
    "gadB_lact = {'Products': ['Glutamate decarboxylase (EC 4.1.1.15)'], \n",
    "        'Number of Products': ['2'],\n",
    "        'Number of Products When Filtered by Query Cover and Identity': ['0']}  \n",
    "new = pd.DataFrame.from_dict(gadB_lact) \n",
    "  \n",
    "new"
   ]
  },
  {
   "cell_type": "code",
   "execution_count": 4,
   "metadata": {},
   "outputs": [
    {
     "data": {
      "text/html": [
       "<div>\n",
       "<style scoped>\n",
       "    .dataframe tbody tr th:only-of-type {\n",
       "        vertical-align: middle;\n",
       "    }\n",
       "\n",
       "    .dataframe tbody tr th {\n",
       "        vertical-align: top;\n",
       "    }\n",
       "\n",
       "    .dataframe thead th {\n",
       "        text-align: right;\n",
       "    }\n",
       "</style>\n",
       "<table border=\"1\" class=\"dataframe\">\n",
       "  <thead>\n",
       "    <tr style=\"text-align: right;\">\n",
       "      <th></th>\n",
       "      <th>Products</th>\n",
       "      <th>Number of Products</th>\n",
       "      <th>Number of Products When Filtered by Query Cover and Identity</th>\n",
       "    </tr>\n",
       "  </thead>\n",
       "  <tbody>\n",
       "    <tr>\n",
       "      <th>0</th>\n",
       "      <td>Probable glutamate/gamma-aminobutyrate antiporter</td>\n",
       "      <td>1</td>\n",
       "      <td>0</td>\n",
       "    </tr>\n",
       "    <tr>\n",
       "      <th>1</th>\n",
       "      <td>Amino acid permease family protein</td>\n",
       "      <td>1</td>\n",
       "      <td>0</td>\n",
       "    </tr>\n",
       "    <tr>\n",
       "      <th>2</th>\n",
       "      <td>Agmatine/putrescine antiporter, associated wit...</td>\n",
       "      <td>1</td>\n",
       "      <td>0</td>\n",
       "    </tr>\n",
       "    <tr>\n",
       "      <th>3</th>\n",
       "      <td>Inner membrane transporter YjeM</td>\n",
       "      <td>2</td>\n",
       "      <td>0</td>\n",
       "    </tr>\n",
       "    <tr>\n",
       "      <th>4</th>\n",
       "      <td>Amino acid permease-associated region</td>\n",
       "      <td>1</td>\n",
       "      <td>0</td>\n",
       "    </tr>\n",
       "    <tr>\n",
       "      <th>5</th>\n",
       "      <td>Uncharacterized amino acid permease, GabP family</td>\n",
       "      <td>2</td>\n",
       "      <td>0</td>\n",
       "    </tr>\n",
       "    <tr>\n",
       "      <th>6</th>\n",
       "      <td>Arginine/ornithine antiporter ArcD</td>\n",
       "      <td>2</td>\n",
       "      <td>0</td>\n",
       "    </tr>\n",
       "    <tr>\n",
       "      <th>7</th>\n",
       "      <td>Lysine-specific permease</td>\n",
       "      <td>1</td>\n",
       "      <td>0</td>\n",
       "    </tr>\n",
       "    <tr>\n",
       "      <th>8</th>\n",
       "      <td>Uncharacterized transporter YbxG</td>\n",
       "      <td>1</td>\n",
       "      <td>0</td>\n",
       "    </tr>\n",
       "  </tbody>\n",
       "</table>\n",
       "</div>"
      ],
      "text/plain": [
       "                                            Products Number of Products  \\\n",
       "0  Probable glutamate/gamma-aminobutyrate antiporter                  1   \n",
       "1                 Amino acid permease family protein                  1   \n",
       "2  Agmatine/putrescine antiporter, associated wit...                  1   \n",
       "3                    Inner membrane transporter YjeM                  2   \n",
       "4              Amino acid permease-associated region                  1   \n",
       "5   Uncharacterized amino acid permease, GabP family                  2   \n",
       "6                 Arginine/ornithine antiporter ArcD                  2   \n",
       "7                           Lysine-specific permease                  1   \n",
       "8                   Uncharacterized transporter YbxG                  1   \n",
       "\n",
       "  Number of Products When Filtered by Query Cover and Identity  \n",
       "0                                                  0            \n",
       "1                                                  0            \n",
       "2                                                  0            \n",
       "3                                                  0            \n",
       "4                                                  0            \n",
       "5                                                  0            \n",
       "6                                                  0            \n",
       "7                                                  0            \n",
       "8                                                  0            "
      ]
     },
     "execution_count": 4,
     "metadata": {},
     "output_type": "execute_result"
    }
   ],
   "source": [
    "gadC_lact = {'Products': ['Probable glutamate/gamma-aminobutyrate antiporter', \n",
    "        'Amino acid permease family protein', \n",
    "        'Agmatine/putrescine antiporter, associated with agmatine catabolism', \n",
    "        'Inner membrane transporter YjeM', 'Amino acid permease-associated region', \n",
    "        'Uncharacterized amino acid permease, GabP family', \n",
    "        'Arginine/ornithine antiporter ArcD', 'Lysine-specific permease', \n",
    "        'Uncharacterized transporter YbxG'], \n",
    "        'Number of Products': ['1', '1', '1', '2', '1', '2', '2', '1', '1'],\n",
    "        'Number of Products When Filtered by Query Cover and Identity': ['0', '0', '0', '0', '0', '0', '0', '0', '0']}  \n",
    "new = pd.DataFrame.from_dict(gadC_lact) \n",
    "  \n",
    "new"
   ]
  }
 ],
 "metadata": {
  "kernelspec": {
   "display_name": "Python 3",
   "language": "python",
   "name": "python3"
  },
  "language_info": {
   "codemirror_mode": {
    "name": "ipython",
    "version": 3
   },
   "file_extension": ".py",
   "mimetype": "text/x-python",
   "name": "python",
   "nbconvert_exporter": "python",
   "pygments_lexer": "ipython3",
   "version": "3.8.3"
  }
 },
 "nbformat": 4,
 "nbformat_minor": 4
}
