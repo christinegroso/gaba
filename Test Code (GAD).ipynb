{
 "cells": [
  {
   "cell_type": "code",
   "execution_count": 53,
   "metadata": {},
   "outputs": [],
   "source": [
    "import pandas as pd"
   ]
  },
  {
   "cell_type": "code",
   "execution_count": 63,
   "metadata": {},
   "outputs": [
    {
     "name": "stdout",
     "output_type": "stream",
     "text": [
      "No. of unique entries: 6\n",
      "<class 'pandas.core.frame.DataFrame'>\n",
      "Int64Index: 16 entries, 0 to 15\n",
      "Data columns (total 16 columns):\n",
      " #   Column            Non-Null Count  Dtype  \n",
      "---  ------            --------------  -----  \n",
      " 0   Genome            16 non-null     object \n",
      " 1   Genome ID         16 non-null     float64\n",
      " 2   PATRIC ID         16 non-null     object \n",
      " 3   RefSeq Locus Tag  16 non-null     object \n",
      " 4   Gene              11 non-null     object \n",
      " 5   Product           16 non-null     object \n",
      " 6   Length (NT)       16 non-null     int64  \n",
      " 7   Length (AA)       16 non-null     int64  \n",
      " 8   ALN Length        16 non-null     int64  \n",
      " 9   Identity          16 non-null     int64  \n",
      " 10  Query cover       16 non-null     int64  \n",
      " 11  Subject cover     16 non-null     int64  \n",
      " 12  Hit from          16 non-null     int64  \n",
      " 13  Hit to            16 non-null     int64  \n",
      " 14  Score             16 non-null     int64  \n",
      " 15  E value           16 non-null     float64\n",
      "dtypes: float64(2), int64(9), object(5)\n",
      "memory usage: 2.1+ KB\n",
      "None\n",
      "No. of unique entries: 6\n"
     ]
    }
   ],
   "source": [
    "# reads blast results\n",
    "df = pd.read_csv(\"C:\\\\Users\\\\cmgro\\\\Downloads\\\\PATRIC_blast.csv\")\n",
    "#print(df.info()) - counted 45 entries\n",
    "\n",
    "# for loop to count unique entries in dataframe\n",
    "cnt = 0\n",
    "visited = []\n",
    "for i in range(0, len(df['Product'])):\n",
    "    if df['Product'][i] not in visited:\n",
    "        visited.append(df['Product'][i])\n",
    "        cnt += 1\n",
    "print(\"No. of unique entries:\", cnt)\n",
    "\n",
    "# filters out entries with query cover and identity values less than 50%\n",
    "df_filtered = df.loc[(df['Query cover']>=50) & (df['Identity']>=50)]\n",
    "  \n",
    "# prints info on the new dataframe \n",
    "print(df_filtered.info())\n",
    "\n",
    "# for loop to count unique entries in new dataframe\n",
    "for i in range(0, len(df_filtered['Product'])):\n",
    "    try:\n",
    "        if df_filtered['Product'][i] not in visited:\n",
    "            visited.append(df_filtered['Product'][i])\n",
    "            cnt += 1\n",
    "    except KeyError as e:\n",
    "        pass\n",
    "print(\"No. of unique entries:\", cnt)"
   ]
  },
  {
   "cell_type": "code",
   "execution_count": null,
   "metadata": {},
   "outputs": [],
   "source": []
  }
 ],
 "metadata": {
  "kernelspec": {
   "display_name": "Python 3",
   "language": "python",
   "name": "python3"
  },
  "language_info": {
   "codemirror_mode": {
    "name": "ipython",
    "version": 3
   },
   "file_extension": ".py",
   "mimetype": "text/x-python",
   "name": "python",
   "nbconvert_exporter": "python",
   "pygments_lexer": "ipython3",
   "version": "3.8.3"
  }
 },
 "nbformat": 4,
 "nbformat_minor": 4
}
