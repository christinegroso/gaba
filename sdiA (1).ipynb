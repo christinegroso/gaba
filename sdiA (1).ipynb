{
 "cells": [
  {
   "cell_type": "code",
   "execution_count": 4,
   "metadata": {},
   "outputs": [],
   "source": [
    "import pandas as pd\n",
    "from Bio import SeqIO"
   ]
  },
  {
   "cell_type": "code",
   "execution_count": 5,
   "metadata": {},
   "outputs": [
    {
     "name": "stdout",
     "output_type": "stream",
     "text": [
      "                                      Genome  Genome ID  \\\n",
      "0  Escherichia coli str. K-12 substr. MG1655  511145.12   \n",
      "1        Escherichia coli O157:H7 str. Sakai   386585.9   \n",
      "2                            Shigella sp. D9   556266.3   \n",
      "3   Escherichia coli O104:H4 str. 2011C-3493  1133852.3   \n",
      "4                    Escherichia coli UMN026   585056.7   \n",
      "\n",
      "                PATRIC ID    RefSeq Locus Tag  Gene  \\\n",
      "0  fig|511145.12.peg.1998               b1916  sdiA   \n",
      "1   fig|386585.9.peg.2781             ECs2654   NaN   \n",
      "2   fig|556266.3.peg.1454  ShiD9_010100003147   NaN   \n",
      "3  fig|1133852.3.peg.2092           O3K_10050   NaN   \n",
      "4   fig|585056.7.peg.2397          ECUMN_2208  sdiA   \n",
      "\n",
      "                                             Product Length (NT)  Length (AA)  \\\n",
      "0  N-(3-oxohexanoyl)-L-homoserine lactone-binding...         723          240   \n",
      "1  N-(3-oxohexanoyl)-L-homoserine lactone-binding...         723          240   \n",
      "2  N-(3-oxohexanoyl)-L-homoserine lactone-binding...         723          240   \n",
      "3  N-(3-oxohexanoyl)-L-homoserine lactone-binding...         723          240   \n",
      "4  N-(3-oxohexanoyl)-L-homoserine lactone-binding...         723          240   \n",
      "\n",
      "   ALN Length  Identity  Query cover  Subject cover  Hit from  Hit to  Score  \\\n",
      "0         240        99          100            100         1     240    491   \n",
      "1         240        98          100            100         1     240    487   \n",
      "2         240        97          100            100         1     240    485   \n",
      "3         240        97          100            100         1     240    483   \n",
      "4         240        97          100            100         1     240    482   \n",
      "\n",
      "         E value  Unnamed: 16  \n",
      "0  2.000000e-174          NaN  \n",
      "1  6.000000e-173          NaN  \n",
      "2  4.000000e-172          NaN  \n",
      "3  3.000000e-171          NaN  \n",
      "4  5.000000e-171          NaN  \n",
      "                PATRIC ID                                          Sequences\n",
      "0  fig|1002368.3.peg.3680  MLQHFQTLTSSEQIYKLLQQQTELLEYDYFSLCVRHPVPFTRPKVS...\n",
      "1  fig|1005048.3.peg.2029  MLSAKSAPVLFNALSGVAKQLGFDYCAYDMRLPWPVAEPKVVSLNN...\n",
      "2   fig|1005395.3.peg.210  MHWWLEANARFDDCHTPDELFEETARLTRALDFQRFAWGRRRPLPF...\n",
      "3  fig|1005395.3.peg.2357  MAHWKQEQLESLIAEQEPERIFESALSLAQQLDMEYLSLVVQSQAS...\n",
      "4  fig|1006000.3.peg.2070  MGDDDFFSWRREMLQLFQAASASDQIYALLQQQTEYLEYDFFALCV...\n"
     ]
    }
   ],
   "source": [
    "#Read your blast results csv in\n",
    "df = pd.read_csv(\"C:\\\\Users\\\\cmgro\\\\Downloads\\\\sdiA_blast.csv\")\n",
    "#Show the first  rows\n",
    "print(df.head())\n",
    "#Temp lists to attatch5 variables \n",
    "ids = []\n",
    "seqs = []\n",
    "#Seq.IO.parse is. an easy way to read through every gene/prot in a fasta file \n",
    "for record in SeqIO.parse(\"C:\\\\Users\\\\cmgro\\\\Downloads\\\\sdiA.fasta\", \"fasta\"):\n",
    "    # So the fasta ID line is fig|1240239.3.peg.2328|XFF4834R_chr22840|VBIXanFus78442_2328|\n",
    "    # but we only need the first two elements (\"fig and 1240239.3.peg.2328\") to make fig|1240239.3.peg.2328\n",
    "    # We then use this ID to merge back onto the original dataframe (basically we say if this row has this ID, add the sequence to that row)\n",
    "    \n",
    "    #Fancy way of extracting the ID\n",
    "    ids.append(\"|\".join(record.id.split(\"|\")[0:2]))\n",
    "    #Fancy way of extracting the sequence \n",
    "    seqs.append(str(record.seq))\n",
    "#making a new dataframe from this info \n",
    "seq_df = pd.DataFrame.from_dict({\"PATRIC ID\": ids, \"Sequences\":seqs})\n",
    "print(seq_df.head())\n",
    "#Mergine back and saving \n",
    "df = df.merge(seq_df, on=\"PATRIC ID\")\n",
    "df.to_csv(\"/Users/cmgro/Downloads/merged_sdiA.csv\")"
   ]
  },
  {
   "cell_type": "code",
   "execution_count": 6,
   "metadata": {},
   "outputs": [
    {
     "name": "stdout",
     "output_type": "stream",
     "text": [
      "<class 'pandas.core.frame.DataFrame'>\n",
      "Int64Index: 72 entries, 0 to 87\n",
      "Data columns (total 19 columns):\n",
      " #   Column            Non-Null Count  Dtype  \n",
      "---  ------            --------------  -----  \n",
      " 0   Unnamed: 0        72 non-null     int64  \n",
      " 1   Genome            72 non-null     object \n",
      " 2   Genome ID         72 non-null     float64\n",
      " 3   PATRIC ID         72 non-null     object \n",
      " 4   RefSeq Locus Tag  56 non-null     object \n",
      " 5   Gene              22 non-null     object \n",
      " 6   Product           72 non-null     object \n",
      " 7   Length (NT)       72 non-null     int64  \n",
      " 8   Length (AA)       72 non-null     int64  \n",
      " 9   ALN Length        72 non-null     int64  \n",
      " 10  Identity          72 non-null     int64  \n",
      " 11  Query cover       72 non-null     int64  \n",
      " 12  Subject cover     72 non-null     int64  \n",
      " 13  Hit from          72 non-null     int64  \n",
      " 14  Hit to            72 non-null     int64  \n",
      " 15  Score             72 non-null     int64  \n",
      " 16  E value           72 non-null     float64\n",
      " 17  Unnamed: 16       0 non-null      float64\n",
      " 18  Sequences         72 non-null     object \n",
      "dtypes: float64(3), int64(10), object(6)\n",
      "memory usage: 11.2+ KB\n",
      "None\n",
      "{'N-(3-oxohexanoyl)-L-homoserine lactone-binding transcriptional activator @ N-(3-oxooctanoyl)-L-homoserine lactone-binding transcriptional activator': 104, 'N-butanoyl-L-homoserine lactone-binding transcriptional activator @ Acyl-homoserine lactone-binding transcriptional activator, LuxR family @ Transcriptional regulator RhlR': 4, 'Acyl-homoserine lactone-binding transcriptional activator, LuxR family': 207, 'N-octanoyl-homoserine lactone-binding transcriptional activator @ Acyl-homoserine lactone-binding transcriptional activator, LuxR family': 21, 'hypothetical protein': 105, 'N-octanoyl-homoserine lactone-binding transcriptional activator @ N-hexanoyl-homoserine lactone-binding transcriptional activator @ Acyl-homoserine lactone-binding transcriptional activator, LuxR family': 1, 'transcriptional regulator RhlR': 2, 'QscR quorum-sensing control repressor': 1, 'transcriptional regulator, LuxR autoinducer regulated family': 1, 'Autoinducer-binding transcriptional regulator, LuxR family': 1, 'Transcriptional activator protein SolR': 1, 'N-(7,8-cis-tetradecenoyl)-L-homoserine lactone-binding transcriptional activator @ Acyl-homoserine lactone-binding transcriptional activator, LuxR family': 18, 'Transcriptional regulator': 1, 'N-butanoyl-L-homoserine lactone-binding transcriptional activator @ Acyl-homoserine lactone-binding transcriptional activator, LuxR family': 12, 'N-(3-oxohexanoyl)-L-homoserine lactone-binding transcriptional activator @ Acyl-homoserine lactone-binding transcriptional activator, LuxR family': 8, 'regulatory protein, LuxR': 1, 'PUTATIVE TRANSCRIPTION REGULATOR PROTEIN': 1, 'N-(3-hydroxydecanoyl)-L-homoserine lactone-binding transcriptional activator @ Acyl-homoserine lactone-binding transcriptional activator, LuxR family': 1, 'N-(3-oxodecanoyl)-L-homoserine lactone-binding transcriptional activator @ Acyl-homoserine lactone-binding transcriptional activator, LuxR family': 5, 'transcriptional regulator, LuxR family': 1, 'Transcriptional activator protein LuxR': 3}\n",
      "{'N-(3-oxohexanoyl)-L-homoserine lactone-binding transcriptional activator @ N-(3-oxooctanoyl)-L-homoserine lactone-binding transcriptional activator': 72}\n"
     ]
    }
   ],
   "source": [
    "# reads blast results\n",
    "df = pd.read_csv(\"C:\\\\Users\\\\cmgro\\\\Downloads\\\\merged_sdiA.csv\")\n",
    "\n",
    "#print(df.info()) - counted 500 entries\n",
    "\n",
    "# filters out entries with query cover and identity values less than 50%\n",
    "df_filtered = df[(df[\"Identity\"] > 50) &(df[\"Query cover\"] > 50)]\n",
    "\n",
    "# prints info on the new dataframe \n",
    "print(df_filtered.info())\n",
    "\n",
    "def count_types(types):\n",
    "    types_counts = {}\n",
    "    for i in types:\n",
    "        if i in types_counts.keys():\n",
    "            types_counts[i] += 1\n",
    "        else: \n",
    "            types_counts[i] = 1\n",
    "    return types_counts\n",
    "print(count_types(df[\"Product\"]))\n",
    "print(count_types(df_filtered[\"Product\"]))"
   ]
  }
 ],
 "metadata": {
  "kernelspec": {
   "display_name": "Python 3",
   "language": "python",
   "name": "python3"
  },
  "language_info": {
   "codemirror_mode": {
    "name": "ipython",
    "version": 3
   },
   "file_extension": ".py",
   "mimetype": "text/x-python",
   "name": "python",
   "nbconvert_exporter": "python",
   "pygments_lexer": "ipython3",
   "version": "3.8.3"
  }
 },
 "nbformat": 4,
 "nbformat_minor": 4
}
