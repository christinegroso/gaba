{
 "cells": [
  {
   "cell_type": "code",
   "execution_count": 1,
   "metadata": {},
   "outputs": [],
   "source": [
    "import pandas as pd\n",
    "from Bio import SeqIO"
   ]
  },
  {
   "cell_type": "code",
   "execution_count": 2,
   "metadata": {},
   "outputs": [
    {
     "name": "stdout",
     "output_type": "stream",
     "text": [
      "                      Genome  Genome ID              PATRIC ID  \\\n",
      "0  Escherichia coli MS 145-7   679204.3  fig|679204.3.peg.3098   \n",
      "1            Shigella sp. D9   556266.3  fig|556266.3.peg.1454   \n",
      "2  Escherichia sp. 3_2_53FAA   469598.5  fig|469598.5.peg.2184   \n",
      "3  Escherichia coli MS 124-1   679205.4  fig|679205.4.peg.3731   \n",
      "4     Klebsiella sp. MS 92-3   749535.4  fig|749535.4.peg.1301   \n",
      "\n",
      "     RefSeq Locus Tag Gene                                            Product  \\\n",
      "0    HMPREF9348_03192  NaN  N-(3-oxohexanoyl)-L-homoserine lactone-binding...   \n",
      "1  ShiD9_010100003147  NaN  N-(3-oxohexanoyl)-L-homoserine lactone-binding...   \n",
      "2          ESAG_02600  NaN  N-(3-oxohexanoyl)-L-homoserine lactone-binding...   \n",
      "3    HMPREF9347_03875  NaN  N-(3-oxohexanoyl)-L-homoserine lactone-binding...   \n",
      "4    HMPREF9538_01531  NaN  N-(3-oxohexanoyl)-L-homoserine lactone-binding...   \n",
      "\n",
      "   Length (NT)  Length (AA)  ALN Length  Identity  Query cover  Subject cover  \\\n",
      "0          723          240         240        98          100            100   \n",
      "1          723          240         240        98          100            100   \n",
      "2          723          240         240        98          100            100   \n",
      "3          681          226         226        98           93             98   \n",
      "4          723          240         240        66          100            100   \n",
      "\n",
      "   Hit from  Hit to  Score        E value  \n",
      "0         1     240    498  6.000000e-179  \n",
      "1         1     240    498  6.000000e-179  \n",
      "2         1     240    494  3.000000e-177  \n",
      "3         1     222    458  2.000000e-163  \n",
      "4         1     240    322  1.000000e-109  \n",
      "                PATRIC ID                                          Sequences\n",
      "0  fig|1054213.3.peg.4510  MERRDIVLVVDDAPGTLGLLNDTLEGAGYMVLVAQSAMAAMTVIER...\n",
      "1   fig|1002339.3.peg.570  MSNVVYTSTSPAKILLVDDHPMLRRGMADLLSLEPDFNVVADVSSG...\n",
      "2  fig|1054213.3.peg.1274  MPKEPAPLRILLADDHDVVRHGLRALLEAHEGWQVCAEALNGRDAV...\n",
      "3    fig|1073351.3.peg.50  MATNKITPEELWARQQISPLDVDYDLWNERRASIQTFSRMSQSCIF...\n",
      "4   fig|1073351.3.peg.913  MKERDIRILLVDDHDLVLQGLKRIVECSLPEIKNVCTASSGQEALH...\n"
     ]
    }
   ],
   "source": [
    "#Read your blast results csv in\n",
    "df = pd.read_csv(\"C:\\\\Users\\\\cmgro\\\\Downloads\\\\sdiA_blast.csv\")\n",
    "#Show the first  rows\n",
    "print(df.head())\n",
    "#Temp lists to attatch5 variables \n",
    "ids = []\n",
    "seqs = []\n",
    "#Seq.IO.parse is. an easy way to read through every gene/prot in a fasta file \n",
    "for record in SeqIO.parse(\"C:\\\\Users\\\\cmgro\\\\Downloads\\\\sdiA.fasta\", \"fasta\"):\n",
    "    # So the fasta ID line is fig|1240239.3.peg.2328|XFF4834R_chr22840|VBIXanFus78442_2328|\n",
    "    # but we only need the first two elements (\"fig and 1240239.3.peg.2328\") to make fig|1240239.3.peg.2328\n",
    "    # We then use this ID to merge back onto the original dataframe (basically we say if this row has this ID, add the sequence to that row)\n",
    "    \n",
    "    #Fancy way of extracting the ID\n",
    "    ids.append(\"|\".join(record.id.split(\"|\")[0:2]))\n",
    "    #Fancy way of extracting the sequence \n",
    "    seqs.append(str(record.seq))\n",
    "#making a new dataframe from this info \n",
    "seq_df = pd.DataFrame.from_dict({\"PATRIC ID\": ids, \"Sequences\":seqs})\n",
    "print(seq_df.head())\n",
    "#Mergine back and saving \n",
    "df = df.merge(seq_df, on=\"PATRIC ID\")\n",
    "df.to_csv(\"/Users/cmgro/Downloads/merged_sdiA.csv\")"
   ]
  },
  {
   "cell_type": "code",
   "execution_count": 3,
   "metadata": {},
   "outputs": [
    {
     "name": "stdout",
     "output_type": "stream",
     "text": [
      "<class 'pandas.core.frame.DataFrame'>\n",
      "Int64Index: 8 entries, 0 to 7\n",
      "Data columns (total 18 columns):\n",
      " #   Column            Non-Null Count  Dtype  \n",
      "---  ------            --------------  -----  \n",
      " 0   Unnamed: 0        8 non-null      int64  \n",
      " 1   Genome            8 non-null      object \n",
      " 2   Genome ID         8 non-null      float64\n",
      " 3   PATRIC ID         8 non-null      object \n",
      " 4   RefSeq Locus Tag  8 non-null      object \n",
      " 5   Gene              0 non-null      object \n",
      " 6   Product           8 non-null      object \n",
      " 7   Length (NT)       8 non-null      int64  \n",
      " 8   Length (AA)       8 non-null      int64  \n",
      " 9   ALN Length        8 non-null      int64  \n",
      " 10  Identity          8 non-null      int64  \n",
      " 11  Query cover       8 non-null      int64  \n",
      " 12  Subject cover     8 non-null      int64  \n",
      " 13  Hit from          8 non-null      int64  \n",
      " 14  Hit to            8 non-null      int64  \n",
      " 15  Score             8 non-null      int64  \n",
      " 16  E value           8 non-null      float64\n",
      " 17  Sequences         8 non-null      object \n",
      "dtypes: float64(2), int64(10), object(6)\n",
      "memory usage: 1.2+ KB\n",
      "None\n",
      "{'N-(3-oxohexanoyl)-L-homoserine lactone-binding transcriptional activator @ N-(3-oxooctanoyl)-L-homoserine lactone-binding transcriptional activator': 9, 'N-butanoyl-L-homoserine lactone-binding transcriptional activator @ Acyl-homoserine lactone-binding transcriptional activator, LuxR family @ Transcriptional regulator RhlR': 2, 'hypothetical protein': 44, 'QscR quorum-sensing control repressor': 2, 'N-(3-oxododecanoyl)-L-homoserine lactone-binding transcriptional activator @ Acyl-homoserine lactone-binding transcriptional activator, LuxR family @ Transcriptional regulator LasR': 2, 'Two-component transcriptional response regulator, LuxR family': 98, 'Transcriptional regulator': 32, 'Nitrate/nitrite response regulator protein': 8, 'Two-component transcriptional response regulator, NarL/FixJ family': 17, 'Cell envelope stress response system LiaFSR, response regulator LiaR(VraR)': 7, 'Transcriptional regulator, LuxR family': 10, 'Repair of Iron Centers di-iron protein / Transcriptional regulator, LuxR family': 13, 'Acyl-homoserine lactone-binding transcriptional activator, LuxR family': 2, 'Uncharacterized response regulator YhcZ': 1, 'Hemoglobin-dependent two component system response regulator HrrA': 1, 'Transcriptional regulator CsgD for 2nd curli operon': 6, 'Two-component transcriptional response regulator DegU, LuxR family': 2, 'PAS domain with LuxR-type DNA-binding domain': 1, 'Transcriptional regulator, LuxA family': 1, 'Hypothetical response regulatory protein ygeK': 2, 'response regulator, NarL-family': 1, 'Nitrate/nitrite response regulator protein NarP': 6, 'two-component regulator': 1, 'Response regulator receiver protein': 3, 'Two-component system response regulator protein': 2, 'Hexose-phosphate uptake two-component transcriptional response regulator UhpA': 6, 'Major transcriptional regulator of spore coat formation GerE': 1, 'Repair of Iron Centers di-iron protein': 1}\n",
      "{'N-(3-oxohexanoyl)-L-homoserine lactone-binding transcriptional activator @ N-(3-oxooctanoyl)-L-homoserine lactone-binding transcriptional activator': 8}\n"
     ]
    }
   ],
   "source": [
    "# reads blast results\n",
    "df = pd.read_csv(\"C:\\\\Users\\\\cmgro\\\\Downloads\\\\merged_sdiA.csv\")\n",
    "\n",
    "#print(df.info()) - counted 281 entries\n",
    "\n",
    "# filters out entries with query cover and identity values less than 50%\n",
    "df_filtered = df[(df[\"Identity\"] > 50) &(df[\"Query cover\"] > 50)]\n",
    "\n",
    "# prints info on the new dataframe \n",
    "print(df_filtered.info())\n",
    "\n",
    "def count_types(types):\n",
    "    types_counts = {}\n",
    "    for i in types:\n",
    "        if i in types_counts.keys():\n",
    "            types_counts[i] += 1\n",
    "        else: \n",
    "            types_counts[i] = 1\n",
    "    return types_counts\n",
    "print(count_types(df[\"Product\"]))\n",
    "print(count_types(df_filtered[\"Product\"]))"
   ]
  }
 ],
 "metadata": {
  "kernelspec": {
   "display_name": "Python 3",
   "language": "python",
   "name": "python3"
  },
  "language_info": {
   "codemirror_mode": {
    "name": "ipython",
    "version": 3
   },
   "file_extension": ".py",
   "mimetype": "text/x-python",
   "name": "python",
   "nbconvert_exporter": "python",
   "pygments_lexer": "ipython3",
   "version": "3.8.3"
  }
 },
 "nbformat": 4,
 "nbformat_minor": 4
}
