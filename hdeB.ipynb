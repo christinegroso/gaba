{
 "cells": [
  {
   "cell_type": "code",
   "execution_count": 1,
   "metadata": {},
   "outputs": [],
   "source": [
    "import pandas as pd\n",
    "from Bio import SeqIO"
   ]
  },
  {
   "cell_type": "code",
   "execution_count": 2,
   "metadata": {},
   "outputs": [
    {
     "name": "stdout",
     "output_type": "stream",
     "text": [
      "                                      Genome   Genome ID  \\\n",
      "0          Shigella sonnei strain H140920393     624.361   \n",
      "1                    Escherichia coli UMN026  585056.700   \n",
      "2                            Shigella sp. D9  556266.300   \n",
      "3  Escherichia coli str. K-12 substr. MG1655  511145.120   \n",
      "4        Escherichia coli O157:H7 str. Sakai  386585.900   \n",
      "\n",
      "                PATRIC ID    RefSeq Locus Tag  Gene         Product  \\\n",
      "0    fig|624.361.peg.3668     ERS432308_03580  hdeA  Chaperone HdeA   \n",
      "1   fig|585056.7.peg.4183          ECUMN_4010  hdeA  Chaperone HdeA   \n",
      "2   fig|556266.3.peg.3696  ShiD9_010100018210   NaN  Chaperone HdeA   \n",
      "3  fig|511145.12.peg.3617               b3510  hdeA  Chaperone HdeA   \n",
      "4   fig|386585.9.peg.4587             ECs4390   NaN  Chaperone HdeA   \n",
      "\n",
      "   Length (NT)  Length (AA)  ALN Length  Identity  Query cover  Subject cover  \\\n",
      "0          333          110         110        99          100            100   \n",
      "1          333          110         110        99          100            100   \n",
      "2          333          110         110        99          100            100   \n",
      "3          333          110         110        99          100            100   \n",
      "4          333          110         110        99          100            100   \n",
      "\n",
      "   Hit from  Hit to  Score       E value  \n",
      "0         1     110    215  9.000000e-70  \n",
      "1         1     110    215  9.000000e-70  \n",
      "2         1     110    215  9.000000e-70  \n",
      "3         1     110    215  9.000000e-70  \n",
      "4         1     110    215  9.000000e-70  \n",
      "                PATRIC ID                                          Sequences\n",
      "0   fig|1034943.3.peg.479  MRLIKIISLPLLLAFAGNLAAETDKTSSDSATKAKQANRMTCEEFL...\n",
      "1   fig|1034943.4.peg.480  MRLIKIISLPLLLAFAGNLAAETDKTSSDSATKAKQANRMTCEEFL...\n",
      "2  fig|1002368.3.peg.2678  MKKVTGLILGSLLLIPALSQAAETQKPVNNWTCEDFLALDSSFQPT...\n",
      "3  fig|1088868.3.peg.1583  MKKAMLLFSACLFSISTMAAANAAEKTQAQKPINQWTCQDFLMLDE...\n",
      "4  fig|1111728.3.peg.4346  MNKLIILATVCLIQFIAQSAEQYKEGVKPIVQWTCEDFLLVDESFQ...\n"
     ]
    }
   ],
   "source": [
    "#Read your blast results csv in\n",
    "df = pd.read_csv(\"C:\\\\Users\\\\cmgro\\\\Downloads\\\\hdeB_blast.csv\")\n",
    "#Show the first  rows\n",
    "print(df.head())\n",
    "#Temp lists to attatch5 variables \n",
    "ids = []\n",
    "seqs = []\n",
    "#Seq.IO.parse is. an easy way to read through every gene/prot in a fasta file \n",
    "for record in SeqIO.parse(\"C:\\\\Users\\\\cmgro\\\\Downloads\\\\hdeB_genome_feature (8).fasta\", \"fasta\"):\n",
    "    # So the fasta ID line is fig|1240239.3.peg.2328|XFF4834R_chr22840|VBIXanFus78442_2328|\n",
    "    # but we only need the first two elements (\"fig and 1240239.3.peg.2328\") to make fig|1240239.3.peg.2328\n",
    "    # We then use this ID to merge back onto the original dataframe (basically we say if this row has this ID, add the sequence to that row)\n",
    "    \n",
    "    #Fancy way of extracting the ID\n",
    "    ids.append(\"|\".join(record.id.split(\"|\")[0:2]))\n",
    "    #Fancy way of extracting the sequence \n",
    "    seqs.append(str(record.seq))\n",
    "#making a new dataframe from this info \n",
    "seq_df = pd.DataFrame.from_dict({\"PATRIC ID\": ids, \"Sequences\":seqs})\n",
    "print(seq_df.head())\n",
    "#Mergine back and saving \n",
    "df = df.merge(seq_df, on=\"PATRIC ID\")\n",
    "df.to_csv(\"/Users/cmgro/Downloads/merged_hdeB.csv\")"
   ]
  },
  {
   "cell_type": "code",
   "execution_count": 3,
   "metadata": {},
   "outputs": [
    {
     "name": "stdout",
     "output_type": "stream",
     "text": [
      "<class 'pandas.core.frame.DataFrame'>\n",
      "Int64Index: 35 entries, 0 to 53\n",
      "Data columns (total 18 columns):\n",
      " #   Column            Non-Null Count  Dtype  \n",
      "---  ------            --------------  -----  \n",
      " 0   Unnamed: 0        35 non-null     int64  \n",
      " 1   Genome            35 non-null     object \n",
      " 2   Genome ID         35 non-null     float64\n",
      " 3   PATRIC ID         35 non-null     object \n",
      " 4   RefSeq Locus Tag  27 non-null     object \n",
      " 5   Gene              12 non-null     object \n",
      " 6   Product           35 non-null     object \n",
      " 7   Length (NT)       35 non-null     int64  \n",
      " 8   Length (AA)       35 non-null     int64  \n",
      " 9   ALN Length        35 non-null     int64  \n",
      " 10  Identity          35 non-null     int64  \n",
      " 11  Query cover       35 non-null     int64  \n",
      " 12  Subject cover     35 non-null     int64  \n",
      " 13  Hit from          35 non-null     int64  \n",
      " 14  Hit to            35 non-null     int64  \n",
      " 15  Score             35 non-null     int64  \n",
      " 16  E value           35 non-null     float64\n",
      " 17  Sequences         35 non-null     object \n",
      "dtypes: float64(2), int64(10), object(6)\n",
      "memory usage: 5.2+ KB\n",
      "None\n",
      "{'Chaperone HdeA': 31, 'hypothetical protein': 17, 'hns-dependent expression protein A (HdeA)': 8, 'Hns-dependent expression protein A (HdeA)(acid-resistance protein)': 15}\n",
      "{'Chaperone HdeA': 27, 'hypothetical protein': 7, 'hns-dependent expression protein A (HdeA)': 1}\n"
     ]
    }
   ],
   "source": [
    "# reads blast results\n",
    "df = pd.read_csv(\"C:\\\\Users\\\\cmgro\\\\Downloads\\\\merged_hdeB.csv\")\n",
    "\n",
    "#print(df.info()) - counted 71 entries\n",
    "\n",
    "# filters out entries with query cover and identity values less than 50%\n",
    "df_filtered = df.loc[(df['Query cover']>=50) & (df['Identity']>=50)]\n",
    "\n",
    "# prints info on the new dataframe \n",
    "print(df_filtered.info())\n",
    "\n",
    "def count_types(types):\n",
    "    types_counts = {}\n",
    "    for i in types:\n",
    "        if i in types_counts.keys():\n",
    "            types_counts[i] += 1\n",
    "        else: \n",
    "            types_counts[i] = 1\n",
    "    return types_counts\n",
    "print(count_types(df[\"Product\"]))\n",
    "print(count_types(df_filtered[\"Product\"]))"
   ]
  },
  {
   "cell_type": "code",
   "execution_count": null,
   "metadata": {},
   "outputs": [],
   "source": []
  }
 ],
 "metadata": {
  "kernelspec": {
   "display_name": "Python 3",
   "language": "python",
   "name": "python3"
  },
  "language_info": {
   "codemirror_mode": {
    "name": "ipython",
    "version": 3
   },
   "file_extension": ".py",
   "mimetype": "text/x-python",
   "name": "python",
   "nbconvert_exporter": "python",
   "pygments_lexer": "ipython3",
   "version": "3.8.3"
  }
 },
 "nbformat": 4,
 "nbformat_minor": 4
}
