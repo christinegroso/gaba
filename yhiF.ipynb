{
 "cells": [
  {
   "cell_type": "code",
   "execution_count": 1,
   "metadata": {},
   "outputs": [],
   "source": [
    "import pandas as pd\n",
    "from Bio import SeqIO"
   ]
  },
  {
   "cell_type": "code",
   "execution_count": 4,
   "metadata": {},
   "outputs": [
    {
     "name": "stdout",
     "output_type": "stream",
     "text": [
      "                                      Genome    Genome ID  \\\n",
      "0  Escherichia coli str. K-12 substr. MG1655   511145.120   \n",
      "1   Escherichia coli O104:H4 str. 2011C-3493  1133852.300   \n",
      "2        Escherichia coli O157:H7 str. Sakai   386585.900   \n",
      "3          Shigella sonnei strain H140920393      624.361   \n",
      "4      Escherichia coli O83:H1 str. NRG 857C   685038.300   \n",
      "\n",
      "                PATRIC ID RefSeq Locus Tag  Gene  \\\n",
      "0  fig|511145.12.peg.3614            b3507  dctR   \n",
      "1   fig|1133852.3.peg.282        O3K_01375   NaN   \n",
      "2   fig|386585.9.peg.4574          ECs4378   NaN   \n",
      "3    fig|624.361.peg.3665  ERS432308_03577  dctR   \n",
      "4   fig|685038.3.peg.3548     NRG857_17380   NaN   \n",
      "\n",
      "                                       Product  Length (NT)  Length (AA)  \\\n",
      "0  Transcriptional regulator DctR, LuxR family          531          176   \n",
      "1  Transcriptional regulator DctR, LuxR family          531          176   \n",
      "2  Transcriptional regulator DctR, LuxR family          531          176   \n",
      "3  Transcriptional regulator DctR, LuxR family          531          176   \n",
      "4  Transcriptional regulator DctR, LuxR family          531          176   \n",
      "\n",
      "   ALN Length  Identity  Query cover  Subject cover  Hit from  Hit to  Score  \\\n",
      "0         176        99          100            100         1     176    350   \n",
      "1         176        99          100            100         1     176    350   \n",
      "2         176        98          100            100         1     176    347   \n",
      "3         176        98          100            100         1     176    347   \n",
      "4         176        97          100            100         1     176    343   \n",
      "\n",
      "         E value  \n",
      "0  7.000000e-121  \n",
      "1  7.000000e-121  \n",
      "2  1.000000e-119  \n",
      "3  1.000000e-119  \n",
      "4  3.000000e-118  \n",
      "                PATRIC ID                                          Sequences\n",
      "0  fig|1121006.3.peg.3509  MIIEGLESMLKLETEISVINSFTHKANCYDFFEKETPDVLLLDINL...\n",
      "1   fig|1133852.3.peg.277  MIFLMTKDSFLLQGFWQLKDNHEMIKINSLSEIKKVGNKPFKVIID...\n",
      "2  fig|1002368.3.peg.2680  MILMVTKDEFLFQGVTHLLNNEKVIRAEGLSDIGKQIADPASKVII...\n",
      "3  fig|1131935.3.peg.1967  MEQTVMTVFLVDDHEMVRMGLKTYLMLDPEIEVIGEAGGGLEAIQS...\n",
      "4   fig|1133852.3.peg.282  MFLIITRDTMFFTAMKNILSKGNVVHIQNEEEIDVMLHQNAFVIID...\n"
     ]
    }
   ],
   "source": [
    "#Read your blast results csv in\n",
    "df = pd.read_csv(\"C:\\\\Users\\\\cmgro\\\\Downloads\\\\yhiF_blast.csv\")\n",
    "#Show the first  rows\n",
    "print(df.head())\n",
    "#Temp lists to attatch5 variables \n",
    "ids = []\n",
    "seqs = []\n",
    "#Seq.IO.parse is. an easy way to read through every gene/prot in a fasta file \n",
    "for record in SeqIO.parse(\"C:\\\\Users\\\\cmgro\\\\Downloads\\\\yhiF_genome_feature.fasta\", \"fasta\"):\n",
    "    # So the fasta ID line is fig|1240239.3.peg.2328|XFF4834R_chr22840|VBIXanFus78442_2328|\n",
    "    # but we only need the first two elements (\"fig and 1240239.3.peg.2328\") to make fig|1240239.3.peg.2328\n",
    "    # We then use this ID to merge back onto the original dataframe (basically we say if this row has this ID, add the sequence to that row)\n",
    "    \n",
    "    #Fancy way of extracting the ID\n",
    "    ids.append(\"|\".join(record.id.split(\"|\")[0:2]))\n",
    "    #Fancy way of extracting the sequence \n",
    "    seqs.append(str(record.seq))\n",
    "#making a new dataframe from this info \n",
    "seq_df = pd.DataFrame.from_dict({\"PATRIC ID\": ids, \"Sequences\":seqs})\n",
    "print(seq_df.head())\n",
    "#Mergine back and saving \n",
    "df = df.merge(seq_df, on=\"PATRIC ID\")\n",
    "df.to_csv(\"/Users/cmgro/Downloads/merged_yhiF.csv\")"
   ]
  },
  {
   "cell_type": "code",
   "execution_count": 5,
   "metadata": {},
   "outputs": [
    {
     "name": "stdout",
     "output_type": "stream",
     "text": [
      "<class 'pandas.core.frame.DataFrame'>\n",
      "Int64Index: 16 entries, 0 to 15\n",
      "Data columns (total 18 columns):\n",
      " #   Column            Non-Null Count  Dtype  \n",
      "---  ------            --------------  -----  \n",
      " 0   Unnamed: 0        16 non-null     int64  \n",
      " 1   Genome            16 non-null     object \n",
      " 2   Genome ID         16 non-null     float64\n",
      " 3   PATRIC ID         16 non-null     object \n",
      " 4   RefSeq Locus Tag  16 non-null     object \n",
      " 5   Gene              11 non-null     object \n",
      " 6   Product           16 non-null     object \n",
      " 7   Length (NT)       16 non-null     int64  \n",
      " 8   Length (AA)       16 non-null     int64  \n",
      " 9   ALN Length        16 non-null     int64  \n",
      " 10  Identity          16 non-null     int64  \n",
      " 11  Query cover       16 non-null     int64  \n",
      " 12  Subject cover     16 non-null     int64  \n",
      " 13  Hit from          16 non-null     int64  \n",
      " 14  Hit to            16 non-null     int64  \n",
      " 15  Score             16 non-null     int64  \n",
      " 16  E value           16 non-null     float64\n",
      " 17  Sequences         16 non-null     object \n",
      "dtypes: float64(2), int64(10), object(6)\n",
      "memory usage: 2.4+ KB\n",
      "None\n",
      "{'Transcriptional regulator DctR, LuxR family': 16, 'Transcriptional activator GadE': 17, 'hypothetical protein': 3, 'Two-component transcriptional response regulator, NarL/FixJ family': 3, 'Two-component transcriptional response regulator, LuxR family': 3, 'Cell envelope stress response system LiaFSR, response regulator LiaR(VraR)': 3}\n",
      "{'Transcriptional regulator DctR, LuxR family': 16}\n"
     ]
    }
   ],
   "source": [
    "# reads blast results\n",
    "df = pd.read_csv(\"C:\\\\Users\\\\cmgro\\\\Downloads\\\\merged_yhiF.csv\")\n",
    "\n",
    "#print(df.info()) - counted 45 entries\n",
    "\n",
    "# filters out entries with query cover and identity values less than 50%\n",
    "df_filtered = df.loc[(df['Query cover']>=50) & (df['Identity']>=50)]\n",
    "\n",
    "# prints info on the new dataframe \n",
    "print(df_filtered.info())\n",
    "\n",
    "def count_types(types):\n",
    "    types_counts = {}\n",
    "    for i in types:\n",
    "        if i in types_counts.keys():\n",
    "            types_counts[i] += 1\n",
    "        else: \n",
    "            types_counts[i] = 1\n",
    "    return types_counts\n",
    "print(count_types(df[\"Product\"]))\n",
    "print(count_types(df_filtered[\"Product\"]))"
   ]
  }
 ],
 "metadata": {
  "kernelspec": {
   "display_name": "Python 3",
   "language": "python",
   "name": "python3"
  },
  "language_info": {
   "codemirror_mode": {
    "name": "ipython",
    "version": 3
   },
   "file_extension": ".py",
   "mimetype": "text/x-python",
   "name": "python",
   "nbconvert_exporter": "python",
   "pygments_lexer": "ipython3",
   "version": "3.8.3"
  }
 },
 "nbformat": 4,
 "nbformat_minor": 4
}
