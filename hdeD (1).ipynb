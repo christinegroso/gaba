{
 "cells": [
  {
   "cell_type": "code",
   "execution_count": 1,
   "metadata": {},
   "outputs": [],
   "source": [
    "import pandas as pd\n",
    "from Bio import SeqIO"
   ]
  },
  {
   "cell_type": "code",
   "execution_count": 2,
   "metadata": {},
   "outputs": [
    {
     "name": "stdout",
     "output_type": "stream",
     "text": [
      "                                      Genome    Genome ID  \\\n",
      "0          Shigella sonnei strain H140920393      624.361   \n",
      "1  Escherichia coli str. K-12 substr. MG1655   511145.120   \n",
      "2        Escherichia coli O157:H7 str. Sakai   386585.900   \n",
      "3   Escherichia coli O104:H4 str. 2011C-3493  1133852.300   \n",
      "4                    Escherichia coli UMN026   585056.700   \n",
      "\n",
      "                PATRIC ID RefSeq Locus Tag  Gene  \\\n",
      "0    fig|624.361.peg.3669  ERS432308_03581  hdeD   \n",
      "1  fig|511145.12.peg.3618            b3511  hdeD   \n",
      "2   fig|386585.9.peg.4588          ECs4391   NaN   \n",
      "3   fig|1133852.3.peg.278        O3K_01355   NaN   \n",
      "4   fig|585056.7.peg.4184       ECUMN_4011  hdeD   \n",
      "\n",
      "                                     Product  Length (NT)  Length (AA)  \\\n",
      "0  Membrane transporter HdeD, H-NS repressed          573          190   \n",
      "1  Membrane transporter HdeD, H-NS repressed          573          190   \n",
      "2  Membrane transporter HdeD, H-NS repressed          573          190   \n",
      "3  Membrane transporter HdeD, H-NS repressed          573          190   \n",
      "4  Membrane transporter HdeD, H-NS repressed          573          190   \n",
      "\n",
      "   ALN Length  Identity  Query cover  Subject cover  Hit from  Hit to  Score  \\\n",
      "0         190        98          100            100         1     190    356   \n",
      "1         190        98          100            100         1     190    356   \n",
      "2         190        98          100            100         1     190    356   \n",
      "3         190        98          100            100         1     190    356   \n",
      "4         190        98          100            100         1     190    356   \n",
      "\n",
      "         E value  \n",
      "0  6.000000e-123  \n",
      "1  6.000000e-123  \n",
      "2  6.000000e-123  \n",
      "3  6.000000e-123  \n",
      "4  6.000000e-123  \n",
      "                PATRIC ID                                          Sequences\n",
      "0  fig|1002368.3.peg.2679  MLNINQSIISKLDVKVLEKQKNLLRLIAALMLIAGVLFIAFPFISG...\n",
      "1  fig|1038867.3.peg.2509  MTSPEEFSRLQSAMSQAVKAHWKAFLFEGILLAVLGIAALILPPLA...\n",
      "2  fig|1037409.3.peg.5438  MHIRLSTRLSIWSLPMTSREDFSRLQSAMSQTVKAHWKAFLFEGIL...\n",
      "3   fig|1038859.3.peg.922  MTQDIPPDIGKLQSEMNAAVKAHWKAFLFEGIVLALLGLAAMIVPP...\n",
      "4    fig|1076.23.peg.3234  MTLPDHTVSPGDTAKIQAQLETAIQGHWKAFLFEGIMLVIFGLAAI...\n"
     ]
    }
   ],
   "source": [
    "#Read your blast results csv in\n",
    "df = pd.read_csv(\"C:\\\\Users\\\\cmgro\\\\Downloads\\\\hdeD_blast.csv\")\n",
    "#Show the first  rows\n",
    "print(df.head())\n",
    "#Temp lists to attatch5 variables \n",
    "ids = []\n",
    "seqs = []\n",
    "#Seq.IO.parse is. an easy way to read through every gene/prot in a fasta file \n",
    "for record in SeqIO.parse(\"C:\\\\Users\\\\cmgro\\\\Downloads\\\\hdeD_genome_feature (9).fasta\", \"fasta\"):\n",
    "    # So the fasta ID line is fig|1240239.3.peg.2328|XFF4834R_chr22840|VBIXanFus78442_2328|\n",
    "    # but we only need the first two elements (\"fig and 1240239.3.peg.2328\") to make fig|1240239.3.peg.2328\n",
    "    # We then use this ID to merge back onto the original dataframe (basically we say if this row has this ID, add the sequence to that row)\n",
    "    \n",
    "    #Fancy way of extracting the ID\n",
    "    ids.append(\"|\".join(record.id.split(\"|\")[0:2]))\n",
    "    #Fancy way of extracting the sequence \n",
    "    seqs.append(str(record.seq))\n",
    "#making a new dataframe from this info \n",
    "seq_df = pd.DataFrame.from_dict({\"PATRIC ID\": ids, \"Sequences\":seqs})\n",
    "print(seq_df.head())\n",
    "#Mergine back and saving \n",
    "df = df.merge(seq_df, on=\"PATRIC ID\")\n",
    "df.to_csv(\"/Users/cmgro/Downloads/merged_hdeD.csv\")"
   ]
  },
  {
   "cell_type": "code",
   "execution_count": 3,
   "metadata": {},
   "outputs": [
    {
     "name": "stdout",
     "output_type": "stream",
     "text": [
      "<class 'pandas.core.frame.DataFrame'>\n",
      "Int64Index: 19 entries, 0 to 18\n",
      "Data columns (total 18 columns):\n",
      " #   Column            Non-Null Count  Dtype  \n",
      "---  ------            --------------  -----  \n",
      " 0   Unnamed: 0        19 non-null     int64  \n",
      " 1   Genome            19 non-null     object \n",
      " 2   Genome ID         19 non-null     float64\n",
      " 3   PATRIC ID         19 non-null     object \n",
      " 4   RefSeq Locus Tag  18 non-null     object \n",
      " 5   Gene              11 non-null     object \n",
      " 6   Product           19 non-null     object \n",
      " 7   Length (NT)       19 non-null     int64  \n",
      " 8   Length (AA)       19 non-null     int64  \n",
      " 9   ALN Length        19 non-null     int64  \n",
      " 10  Identity          19 non-null     int64  \n",
      " 11  Query cover       19 non-null     int64  \n",
      " 12  Subject cover     19 non-null     int64  \n",
      " 13  Hit from          19 non-null     int64  \n",
      " 14  Hit to            19 non-null     int64  \n",
      " 15  Score             19 non-null     int64  \n",
      " 16  E value           19 non-null     float64\n",
      " 17  Sequences         19 non-null     object \n",
      "dtypes: float64(2), int64(10), object(6)\n",
      "memory usage: 2.8+ KB\n",
      "None\n",
      "{'Membrane transporter HdeD, H-NS repressed': 18, 'hypothetical protein': 93, 'putative membrane protein': 19, 'HdeD protein': 6, 'Bll4390 protein': 4, 'COGs COG3247': 3, 'HDED PROTEIN': 9, 'Mll8244 protein': 3}\n",
      "{'Membrane transporter HdeD, H-NS repressed': 17, 'hypothetical protein': 2}\n"
     ]
    }
   ],
   "source": [
    "# reads blast results\n",
    "df = pd.read_csv(\"C:\\\\Users\\\\cmgro\\\\Downloads\\\\merged_hdeD.csv\")\n",
    "\n",
    "#print(df.info()) - counted 155 entries\n",
    "\n",
    "# filters out entries with query cover and identity values less than 50%\n",
    "df_filtered = df[(df[\"Identity\"] > 50) &(df[\"Query cover\"] > 50)]\n",
    "\n",
    "# prints info on the new dataframe \n",
    "print(df_filtered.info())\n",
    "\n",
    "def count_types(types):\n",
    "    types_counts = {}\n",
    "    for i in types:\n",
    "        if i in types_counts.keys():\n",
    "            types_counts[i] += 1\n",
    "        else: \n",
    "            types_counts[i] = 1\n",
    "    return types_counts\n",
    "print(count_types(df[\"Product\"]))\n",
    "print(count_types(df_filtered[\"Product\"]))"
   ]
  }
 ],
 "metadata": {
  "kernelspec": {
   "display_name": "Python 3",
   "language": "python",
   "name": "python3"
  },
  "language_info": {
   "codemirror_mode": {
    "name": "ipython",
    "version": 3
   },
   "file_extension": ".py",
   "mimetype": "text/x-python",
   "name": "python",
   "nbconvert_exporter": "python",
   "pygments_lexer": "ipython3",
   "version": "3.8.3"
  }
 },
 "nbformat": 4,
 "nbformat_minor": 4
}
